{
 "cells": [
  {
   "cell_type": "markdown",
   "metadata": {},
   "source": [
    "\n",
    "<a id='getting-started'></a>\n",
    "How to read this lecture…\n",
    "\n",
    "- If using QuantEcon lectures for the first time on a computer, execute `] add InstantiateFromURL` inside of a notebook or the REPL  \n",
    "- For some notebooks, enable content with “Trust” on the command tab of Jupyter lab  \n",
    "- Code should execute sequentially if run in a Jupyter notebook  \n",
    "- Please direct feedback to [contact@quantecon.org](mailto:contact@quantecon.org\") or [discourse forum](http://discourse.quantecon.org/)  "
   ]
  },
  {
   "cell_type": "markdown",
   "metadata": {},
   "source": [
    "# Setting up Your Julia Environment"
   ]
  },
  {
   "cell_type": "markdown",
   "metadata": {},
   "source": [
    "## Contents\n",
    "\n",
    "- [Setting up Your Julia Environment](#Setting-up-Your-Julia-Environment)  \n",
    "  - [Overview](#Overview)  \n",
    "  - [Jupyter](#Jupyter)  \n",
    "  - [Installing a Pre-built Jupyter Image](#Installing-a-Pre-built-Jupyter-Image)  \n",
    "  - [Installing Julia and Dependencies Manually](#Installing-Julia-and-Dependencies-Manually)  \n",
    "  - [Using Jupyter](#Using-Jupyter)  "
   ]
  },
  {
   "cell_type": "markdown",
   "metadata": {},
   "source": [
    "## Overview\n",
    "\n",
    "In this lecture we will cover how to get up and running with Julia\n",
    "\n",
    "Topics:\n",
    "\n",
    "1. Jupyter  \n",
    "1. Choosing from different options  \n",
    "1. Installation of libraries, including the Julia code that underpins these lectures  "
   ]
  },
  {
   "cell_type": "markdown",
   "metadata": {},
   "source": [
    "## Jupyter\n",
    "\n",
    "Like Python, and unlike Matlab and Stata, there is a looser connection between Julia as a programming language and Julia as a development environment\n",
    "\n",
    "Because of this, you will have different options for editing code on your local computer or in the cloud\n",
    "\n",
    "Several of the options rely on [Jupyter](http://jupyter.org/)  which provides a browser-based interface to access computational kernels for different languages (e.g. Julia, Python, R, etc.)\n",
    "\n",
    "While you will eventually use other editors, there are some advantages of starting with Jupyter while learning the language\n",
    "\n",
    "- It requires no installation if you used a cloud-based solution  \n",
    "- Nicely formatted output in the browser, including tables, figures, animation, video, etc.  \n",
    "- The ability to mix in formatted text and mathematical expressions between cells  \n",
    "- Functions to generate PDF slides, static HTML, etc.  \n",
    "\n",
    "\n",
    "Whether you end up using Jupyter as your primary work environment or not, you’ll find learning about it an excellent investment"
   ]
  },
  {
   "cell_type": "markdown",
   "metadata": {},
   "source": [
    "### Recommended Options\n",
    "\n",
    "In order of priority, for those just getting started, we suggest\n",
    "\n",
    "1. Use [Jupyter on the cloud or department server](jl_jupyterhub) if it is available  \n",
    "1. Install the pre-built [docker-based Jupyter](jl_jupyterdocker) from QuantEcon  \n",
    "1. Install [Anaconda and Julia locally](jl_jupyterlocal) otherwise and manually install QuantEcon based packages  \n",
    "\n",
    "\n",
    "Eventually, you will both want to do a [local installation](jl_jupyterlocal) and move from just using jupyter to using other [tools and editors](tools_editors) such as [Atom/Juno](http://junolab.org/), but don’t let the environment get in the way of learning the language\n",
    "\n",
    "\n",
    "<a id='jl-jupyterhub'></a>"
   ]
  },
  {
   "cell_type": "markdown",
   "metadata": {},
   "source": [
    "### Using Jupyter Online\n",
    "\n",
    "If you have access to a cloud based solution for Jupyter, then that is typically the easiest solution\n",
    "\n",
    "- Students: ask your department if these resources are available  \n",
    "- Universities and workgroups: email [contact@quantecon.org](mailto:contact@quantecon.org\") for help on setting up a shared Jupyterhub instance with precompiled packages ready for these lecture notes  \n",
    "\n",
    "\n",
    "If you have are given an online Jupyter installation for a class, you may not need to do anything to begin using these notebooks\n",
    "\n",
    "Otherwise, if there are errors when you attempt to use an online Jupyterhub, you will need to go open a Jupyter notebook and type"
   ]
  },
  {
   "cell_type": "markdown",
   "metadata": {},
   "source": [
    "```none\n",
    "] add InstantiateFromURL\n",
    "```\n"
   ]
  },
  {
   "cell_type": "markdown",
   "metadata": {},
   "source": [
    "\n",
    "<a id='jl-jupyterdocker'></a>"
   ]
  },
  {
   "cell_type": "markdown",
   "metadata": {},
   "source": [
    "## Installing a Pre-built Jupyter Image\n",
    "\n",
    "[Docker](https://www.docker.com/) is a technology that you to host a “[virtual](https://en.wikipedia.org/wiki/Operating-system-level_virtualization) ” version of a minimal, self-contained operating system on another computer\n",
    "\n",
    "While it is largely used for running code in the cloud and in distributed computing, it is also convenient for using on local computers\n",
    "\n",
    "In essence, it allows people to share a consistent and reproducible environment with no setup or tinkering required\n",
    "\n",
    "QuantEcon has constructed a pre-built [docker image](https://hub.docker.com/u/quantecon/)"
   ]
  },
  {
   "cell_type": "markdown",
   "metadata": {},
   "source": [
    "### Setup\n",
    "\n",
    "- Create an account for [Docker Hub](https://hub.docker.com/) and create a docker id  \n",
    "\n",
    "\n",
    "Download and install\n",
    "\n",
    "- [Mac](https://store.docker.com/editions/community/docker-ce-desktop-mac)  \n",
    "- [Windows](https://store.docker.com/editions/community/docker-ce-desktop-windows). **Do not** choose to use Windows containers  \n",
    "\n",
    "\n",
    "Open a terminal on OS/X and Linux, or a “Windows PowerShell” terminal on Windows\n",
    "\n",
    "Download the QuantEcon Docker image by running the following in your terminal (this may some time depending on your internet connection)"
   ]
  },
  {
   "cell_type": "markdown",
   "metadata": {},
   "source": [
    "```none\n",
    "docker pull quantecon/base\n",
    "```\n"
   ]
  },
  {
   "cell_type": "markdown",
   "metadata": {},
   "source": [
    "After this is finished, first clear any existing volumes and then create a persistent storage volume (ignoring any warnings from the `rm` step)"
   ]
  },
  {
   "cell_type": "markdown",
   "metadata": {},
   "source": [
    "```none\n",
    "docker volume rm quantecon\n",
    "docker volume create quantecon\n",
    "```\n"
   ]
  },
  {
   "cell_type": "markdown",
   "metadata": {},
   "source": [
    "### Running in a Local Folder\n",
    "\n",
    "The Docker image has can exchange files locally (and recursively below in the tree) to where it is run\n",
    "\n",
    "Open a terminal and `cd` to the directory you are interested in storing local files\n",
    "\n",
    "To run an image local to those files, type the following in the terminal (on Linux and OSX)"
   ]
  },
  {
   "cell_type": "markdown",
   "metadata": {},
   "source": [
    "```none\n",
    "docker run --rm -p 8888:8888 -v quantecon:/home/jovyan/.julia -v \"$(pwd)\":/home/jovyan/local quantecon/base\n",
    "```\n"
   ]
  },
  {
   "cell_type": "markdown",
   "metadata": {},
   "source": [
    "And on Powershell on Window"
   ]
  },
  {
   "cell_type": "markdown",
   "metadata": {},
   "source": [
    "```none\n",
    "docker run --rm -p 8888:8888 -v quantecon:/home/jovyan/.julia -v ${PWD}:/home/jovyan/local quantecon/base\n",
    "```\n"
   ]
  },
  {
   "cell_type": "markdown",
   "metadata": {},
   "source": [
    "**Remark:** When you call this command, Docker may require you to give it permissions to access the drive and the network.  If you do not see the output within 20 or so seconds, then look for confirmation windows which may be hidden behind the terminal/etc.\n",
    "\n",
    "In the output, you should see some text near that bottom that looks like"
   ]
  },
  {
   "cell_type": "markdown",
   "metadata": {},
   "source": [
    "```none\n",
    "127.0.0.1):8888/?token=7c8f37bf32b1d7f0b633596204ee7361c1213926a6f0a44b\n",
    "```\n"
   ]
  },
  {
   "cell_type": "markdown",
   "metadata": {},
   "source": [
    "Copy the text after `?token=` (e.g. `7c8f37bf32b1d7f0b633596204ee7361c1213926a6f0a44b`)\n",
    "\n",
    "In a browser, go to a URL like the following"
   ]
  },
  {
   "cell_type": "markdown",
   "metadata": {},
   "source": [
    "```none\n",
    "http://127.0.0.1:8888/lab\n",
    "```\n"
   ]
  },
  {
   "cell_type": "markdown",
   "metadata": {},
   "source": [
    "**Note**: `Ctrl+C` is also the keyboard shortcut you use to kill the container. So be sure to copy using the mouse.\n",
    "\n",
    "Paste the text into `Password or token:` and choose `Log in`\n",
    "\n",
    "Ensure you save any important files to the local notebooks in the `local` directory, which stores in the local filesystem where you ran the docker command\n",
    "\n",
    "A few useful maintenance features\n",
    "\n",
    "- If you forget your token number, you may need to stop and restart the container  \n",
    "- To stop the container, use Ctrl-C or type `docker stop $(docker ps -aq)` in a different terminal  \n",
    "- To reset your Docker volume completely, redo the `docker volume rm quantecon` and `docker volume create quantecon` steps  \n",
    "- To clean unnecessary Docker assets from your system, run `docker system prune`  "
   ]
  },
  {
   "cell_type": "markdown",
   "metadata": {},
   "source": [
    "### Creating a Shortcut\n",
    "\n",
    "For convenience, consider creating a shortcut to run when\n",
    "\n",
    "For Windows:\n",
    "* Right click on the desktop or some other location and choose New/Shortcut\n",
    "* For the location of the item copy in"
   ]
  },
  {
   "cell_type": "markdown",
   "metadata": {},
   "source": [
    "```none\n",
    "docker run --rm -p 8888:8888 -v quantecon:/home/jovyan/.julia -v ${PWD}:/home/jovyan/local quantecon/base``\n",
    "```\n"
   ]
  },
  {
   "cell_type": "markdown",
   "metadata": {},
   "source": [
    "- Name and finish the creation of the shortcut  \n",
    "- Right-click on the new shortcut, choose Properties, and then change the `Start in` to be the directory below which you may wish to store files (e.g. `C:\\Users\\YOURNAME\\Documents` )  \n",
    "\n",
    "\n",
    "\n",
    "<a id='jl-jupyterlocal'></a>"
   ]
  },
  {
   "cell_type": "markdown",
   "metadata": {},
   "source": [
    "## Installing Julia and Dependencies Manually\n",
    "\n",
    "While using the Docker instance is convenient and error-proof, you may eventually want to install things locally\n",
    "\n",
    "The easiest way to do that is to install Anaconda for a full Python and Jupyter environment,\n",
    "\n",
    "Install Anaconda by: [downloading the binary](https://www.anaconda.com/download/) (3.7 version) and install\n",
    "\n",
    "- Make sure you click yes to “add Anaconda to my PATH.” If you’d rather do that later, see: [Anaconda for Windows](http://docs.anaconda.com/anaconda/install/windows/) and [Mac/Linux](https://conda.io/docs/user-guide/install/macos.html).  \n",
    "\n",
    "\n",
    "Download and install Julia, from [download page](http://julialang.org/downloads/) , accepting all default options.\n",
    "\n",
    "Assuming there were no problems, you should now be able to start Julia either by\n",
    "\n",
    "- Navigating to Julia through your menus or desktop icons (Windows, OSX), or  \n",
    "- Opening a terminal and typing `julia` (Linux, + OSX/git bash if you configure it)  \n",
    "\n",
    "\n",
    "Either way you should now be looking at something like this (modulo your operating system — this is a Linux machine)\n",
    "\n",
    "<img src=\"_static/figures/julia_term_1.png\" style=\"width:75%;height:75%\">\n",
    "\n",
    "  \n",
    "In that `julia` terminal, type the following"
   ]
  },
  {
   "cell_type": "code",
   "execution_count": null,
   "metadata": {},
   "outputs": [],
   "source": [
    "] add IJulia InstantiateFromURL"
   ]
  },
  {
   "cell_type": "markdown",
   "metadata": {},
   "source": [
    "Then, install and precompile all of the key packages for these lecture notes (which may take 10-20 minutes),"
   ]
  },
  {
   "cell_type": "code",
   "execution_count": null,
   "metadata": {},
   "outputs": [],
   "source": [
    "using InstantiateFromURL\n",
    "activate_github(\"QuantEcon/QuantEconLecturePackages\", tag = \"v0.3.1\") # activate the QuantEcon environment\n",
    "\n",
    "using LinearAlgebra, Statistics, Compat # load common packages"
   ]
  },
  {
   "cell_type": "markdown",
   "metadata": {},
   "source": [
    "To run Jupyter, in a terminal `cd` to the location you wish to modify local files in and type"
   ]
  },
  {
   "cell_type": "markdown",
   "metadata": {},
   "source": [
    "```none\n",
    "jupyter lab\n",
    "```\n"
   ]
  },
  {
   "cell_type": "markdown",
   "metadata": {},
   "source": [
    "\n",
    "<a id='jl-jupyter'></a>"
   ]
  },
  {
   "cell_type": "markdown",
   "metadata": {},
   "source": [
    "## Using Jupyter\n",
    "\n",
    "\n",
    "<a id='ipython-notebook'></a>"
   ]
  },
  {
   "cell_type": "markdown",
   "metadata": {},
   "source": [
    "### Getting Started\n",
    "\n",
    "After you have started Jupyter (either on the cloud, the docker, or locally installed on your computer)\n",
    "\n",
    "You should see something (not exactly) like this\n",
    "\n",
    "<img src=\"_static/figures/starting_nb_julia.png\" style=\"width:70%;height:70%\">\n",
    "\n",
    "  \n",
    "The page you are looking at is called the “dashboard”\n",
    "\n",
    "The address `localhost:8888/tree` you see in the image indicates that the browser is communicating with a Julia session via port 8888 of the local machine\n",
    "\n",
    "If you click on “New” you should have the option to start a Julia notebook\n",
    "\n",
    "<img src=\"_static/figures/starting_nb_julia_options.png\" style=\"width:70%;height:70%\">\n",
    "\n",
    "  \n",
    "Here’s what your Julia notebook should look like\n",
    "\n",
    "<img src=\"_static/figures/nb2_julia.png\" style=\"width:70%;height:70%\">\n",
    "\n",
    "  \n",
    "The notebook displays an *active cell*, into which you can type Julia commands"
   ]
  },
  {
   "cell_type": "markdown",
   "metadata": {},
   "source": [
    "### Notebook Basics\n",
    "\n",
    "Notice that in the previous figure the cell is surrounded by a green border\n",
    "\n",
    "This means that the cell is in *edit mode*\n",
    "\n",
    "As a result, you can type in Julia code and it will appear in the cell\n",
    "\n",
    "When you’re ready to execute these commands, hit `Shift-Enter` instead of the usual `Enter`\n",
    "\n",
    "<img src=\"_static/figures/nb3_julia.png\" style=\"width:70%;height:70%\">"
   ]
  },
  {
   "cell_type": "markdown",
   "metadata": {},
   "source": [
    "#### Modal Editing\n",
    "\n",
    "The next thing to understand about the Jupyter notebook is that it uses a *modal* editing system\n",
    "\n",
    "This means that the effect of typing at the keyboard **depends on which mode you are in**\n",
    "\n",
    "The two modes are\n",
    "\n",
    "1. Edit mode  \n",
    "  \n",
    "  - Indicated by a green border around one cell, as in the pictures above  \n",
    "  - Whatever you type appears as is in that cell  \n",
    "  \n",
    "1. Command mode  \n",
    "  \n",
    "  - The green border is replaced by a blue border  \n",
    "  - Key strokes are interpreted as commands — for example, typing b adds a new cell below  the current one  \n",
    "  \n",
    "\n",
    "\n",
    "(To learn about other commands available in command mode, go to “Keyboard Shortcuts” in the “Help” menu)"
   ]
  },
  {
   "cell_type": "markdown",
   "metadata": {},
   "source": [
    "#### Switching modes\n",
    "\n",
    "- To switch to command mode from edit mode, hit the `Esc` key  \n",
    "- To switch to edit mode from command mode, hit `Enter` or click in a cell  \n",
    "\n",
    "\n",
    "The modal behavior of the Jupyter notebook is a little tricky at first but very efficient when you get used to it"
   ]
  },
  {
   "cell_type": "markdown",
   "metadata": {},
   "source": [
    "#### Working with Files\n",
    "\n",
    "To run an existing Julia file using the notebook you can copy and paste the contents into a cell in the notebook\n",
    "\n",
    "If it’s a long file, however, you have the alternative of\n",
    "\n",
    "1. Saving the file in your **present working directory**  \n",
    "1. Executing `include(\"filename\")` in a cell  \n",
    "\n",
    "\n",
    "The present working directory can be found by executing the command `pwd()`"
   ]
  },
  {
   "cell_type": "markdown",
   "metadata": {},
   "source": [
    "#### Plots\n",
    "\n",
    "Let’s generate some plots\n",
    "\n",
    "First, ensure that you have activated a set of packages with"
   ]
  },
  {
   "cell_type": "code",
   "execution_count": null,
   "metadata": {},
   "outputs": [],
   "source": [
    "using InstantiateFromURL\n",
    "activate_github(\"QuantEcon/QuantEconLecturePackages\", tag = \"v0.3.1\") # activate the QuantEcon environment\n",
    "\n",
    "using LinearAlgebra, Statistics, Compat # load common packages"
   ]
  },
  {
   "cell_type": "markdown",
   "metadata": {},
   "source": [
    "Now try copying the following into a notebook cell and hit `Shift-Enter`"
   ]
  },
  {
   "cell_type": "code",
   "execution_count": null,
   "metadata": {},
   "outputs": [],
   "source": [
    "using Plots\n",
    "gr(fmt=:png)\n",
    "plot(sin, -2pi, pi, label=\"sine function\")"
   ]
  },
  {
   "cell_type": "markdown",
   "metadata": {},
   "source": [
    "You’ll see something like this (although the style of plot depends on your\n",
    "installation — more on this later)\n",
    "\n",
    "<img src=\"_static/figures/nb4_julia.png\" style=\"width:70%;height:70%\">"
   ]
  },
  {
   "cell_type": "markdown",
   "metadata": {},
   "source": [
    "### Working with the Notebook\n",
    "\n",
    "Let’s go over some more Jupyter notebook features — enough so that we can press ahead with programming"
   ]
  },
  {
   "cell_type": "markdown",
   "metadata": {},
   "source": [
    "#### Tab Completion\n",
    "\n",
    "A simple but useful feature of IJulia is tab completion\n",
    "\n",
    "For example if you type `rep` and hit the tab key you’ll get a list of all\n",
    "commands that start with `rep`\n",
    "\n",
    "<img src=\"_static/figures/nb5_julia.png\" style=\"width:70%;height:70%\">\n",
    "\n",
    "  \n",
    "IJulia offers up the possible completions\n",
    "\n",
    "This helps remind you of what’s available and saves a bit of typing\n",
    "\n",
    "\n",
    "<a id='gs-help'></a>"
   ]
  },
  {
   "cell_type": "markdown",
   "metadata": {},
   "source": [
    "#### Online Help\n",
    "\n",
    "To get help on the Julia function such as `repmat`, enter `?repmat`\n",
    "\n",
    "Documentation should now appear in the browser"
   ]
  },
  {
   "cell_type": "markdown",
   "metadata": {},
   "source": [
    "#### Other Content\n",
    "\n",
    "In addition to executing code, the Jupyter notebook allows you to embed text, equations, figures and even videos in the page\n",
    "\n",
    "For example, here we enter a mixture of plain text and LaTeX instead of code\n",
    "\n",
    "<img src=\"_static/figures/nb6_julia.png\" style=\"width:70%;height:70%\">\n",
    "\n",
    "  \n",
    "Next we `Esc` to enter command mode and then type `m` to indicate that we\n",
    "are writing [Markdown](http://daringfireball.net/projects/markdown/), a mark-up language similar to (but simpler than) LaTeX\n",
    "\n",
    "(You can also use your mouse to select `Markdown` from the `Code` drop-down box just below the list of menu items)\n",
    "\n",
    "Now we `Shift + Enter` to produce this\n",
    "\n",
    "<img src=\"_static/figures/nb7_julia.png\" style=\"width:70%;height:70%\">"
   ]
  },
  {
   "cell_type": "markdown",
   "metadata": {},
   "source": [
    "#### Inserting unicode (e.g., Greek letters)\n",
    "\n",
    "Julia supports the use of [unicode characters](https://docs.julialang.org/en/release-0.4/manual/unicode-input/)\n",
    "such as α and β in your code\n",
    "\n",
    "Unicode characters can be typed quickly in Jupyter using the tab key\n",
    "\n",
    "Try creating a new code cell and typing \\alpha, then hitting the tab key on your keyboard"
   ]
  },
  {
   "cell_type": "markdown",
   "metadata": {},
   "source": [
    "#### Shell Commands\n",
    "\n",
    "You can execute shell commands (system commands) in IJulia by prepending a semicolon\n",
    "\n",
    "For example, `;ls` will execute the UNIX style shell command `ls`, which — at least for UNIX style operating systems — lists the contents of the current working directory\n",
    "\n",
    "These shell commands are handled by your default system shell and hence are platform specific"
   ]
  },
  {
   "cell_type": "markdown",
   "metadata": {},
   "source": [
    "#### Package Manager\n",
    "\n",
    "You can enter the package manager  prepending a `]`\n",
    "\n",
    "For example, `] st` will give the the current status of installed pacakges in the current environment"
   ]
  },
  {
   "cell_type": "markdown",
   "metadata": {},
   "source": [
    "### Sharing Notebooks\n",
    "\n",
    "Notebook files are just text files structured in [JSON](https://en.wikipedia.org/wiki/JSON) and typically end with `.ipynb`\n",
    "\n",
    "A notebook can easily be saved and shared between users — you just need to\n",
    "pass around the `ipynb` file\n",
    "\n",
    "To open an existing `ipynb` file, import it from the dashboard (the first browser page that opens when you start Jupyter notebook) and run the cells or edit as discussed above\n",
    "\n",
    "The Jupyter organization has a site for sharing notebooks called [nbviewer](http://nbviewer.jupyter.org/) which provides a static HTML representations of notebooks\n",
    "\n",
    "However, each notebook can be downloaded as an `ipynb` file by clicking on the download icon at the top right of its page"
   ]
  },
  {
   "cell_type": "markdown",
   "metadata": {},
   "source": [
    "### The REPL\n",
    "\n",
    "While we have not emphasized it, on any JupyterHub or locally installed Jupyter installation you will also have access to the Julia REPL\n",
    "\n",
    "This is a Julia specific terminal disconnected from the graphical interface of Jupyter, and becomes increasingly important as you learn Julia\n",
    "\n",
    "To start the REPL on a typical jupyterlab environment\n",
    "\n",
    "1. Choose “New Launcher”  \n",
    "1. Choose a `Julia 1.0` Console  \n",
    "\n",
    "\n",
    "Otherwise, if you  have a local installation, then\n",
    "\n",
    "- Navigating to Julia through your menus or desktop icons (Windows, OSX), or  \n",
    "- Opening a terminal and typing `julia` (Linux)  \n",
    "\n",
    "\n",
    "The REPL is one of the best places to add and remove packages, so a good test is to see the current status of the package manager"
   ]
  },
  {
   "cell_type": "code",
   "execution_count": null,
   "metadata": {},
   "outputs": [],
   "source": [
    "] st"
   ]
  }
 ],
 "metadata": {
  "filename": "getting_started.rst",
  "kernelspec": {
   "display_name": "Julia 1.0.0",
   "language": "julia",
   "name": "julia-1.0"
  },
  "title": "Setting up Your Julia Environment"
 },
 "nbformat": 4,
 "nbformat_minor": 2
}