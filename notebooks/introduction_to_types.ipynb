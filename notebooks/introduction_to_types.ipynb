{
 "cells": [
  {
   "cell_type": "markdown",
   "metadata": {},
   "source": [
    "\n",
    "<a id='introduction-to-types'></a>\n",
    "How to read this lecture…\n",
    "\n",
    "- If using QuantEcon lectures for the first time on a computer, execute `] add InstantiateFromURL` inside of a notebook or the REPL  \n",
    "- For some notebooks, enable content with “Trust” on the command tab of Jupyter lab  \n",
    "- Code should execute sequentially if run in a Jupyter notebook  \n",
    "- Please direct feedback to [contact@quantecon.org](mailto:contact@quantecon.org\") or [discourse forum](http://discourse.quantecon.org/)  "
   ]
  },
  {
   "cell_type": "markdown",
   "metadata": {},
   "source": [
    "# Introduction to Types and Generic Programming"
   ]
  },
  {
   "cell_type": "markdown",
   "metadata": {},
   "source": [
    "## Contents\n",
    "\n",
    "- [Introduction to Types and Generic Programming](#Introduction-to-Types-and-Generic-Programming)  \n",
    "  - [Overview](#Overview)  \n",
    "  - [Finding and Interpreting Types](#Finding-and-Interpreting-Types)  \n",
    "  - [The Type Hierarchy](#The-Type-Hierarchy)  \n",
    "  - [Deducing and Declaring Types](#Deducing-and-Declaring-Types)  \n",
    "  - [Creating New Types](#Creating-New-Types)  \n",
    "  - [Introduction to Multiple Dispatch](#Introduction-to-Multiple-Dispatch)  \n",
    "  - [Exercises](#Exercises)  "
   ]
  },
  {
   "cell_type": "markdown",
   "metadata": {},
   "source": [
    "## Overview\n",
    "\n",
    "In Julia, arrays and tuples are the most important data type for working with numerical data\n",
    "\n",
    "In this lecture we give more details on\n",
    "\n",
    "- declaring types  \n",
    "- abstract types  \n",
    "- motivation for generic programming  \n",
    "- multiple-dispatch  \n",
    "- building user-defined types  "
   ]
  },
  {
   "cell_type": "markdown",
   "metadata": {},
   "source": [
    "### Setup"
   ]
  },
  {
   "cell_type": "code",
   "execution_count": 1,
   "metadata": {},
   "outputs": [
    {
     "name": "stderr",
     "output_type": "stream",
     "text": [
      "┌ Warning: On Windows, creating file symlinks requires Administrator privileges\n",
      "└ @ Base.Filesystem file.jl:789\n"
     ]
    }
   ],
   "source": [
    "using InstantiateFromURL\n",
    "activate_github(\"QuantEcon/QuantEconLecturePackages\", tag = \"v0.3.1\") # activate the QuantEcon environment\n",
    "\n",
    "using LinearAlgebra, Statistics, Compat # load common packages"
   ]
  },
  {
   "cell_type": "markdown",
   "metadata": {},
   "source": [
    "## Finding and Interpreting Types"
   ]
  },
  {
   "cell_type": "markdown",
   "metadata": {},
   "source": [
    "### Finding The Type\n",
    "\n",
    "As we have seen in the previous lectures, in Julia all values have a type, which can be queried using the `typeof` function"
   ]
  },
  {
   "cell_type": "code",
   "execution_count": 2,
   "metadata": {},
   "outputs": [
    {
     "name": "stdout",
     "output_type": "stream",
     "text": [
      "typeof(1) = Int64\n",
      "typeof(1.0) = Float64\n"
     ]
    }
   ],
   "source": [
    "@show typeof(1)\n",
    "@show typeof(1.0);"
   ]
  },
  {
   "cell_type": "markdown",
   "metadata": {},
   "source": [
    "The harcoded values `1` and `1.0` are called literals in a programming language, and the compiler will deduce their types (`Int64` and `Float64` respectively in the example above)\n",
    "\n",
    "You can also query the type of a value"
   ]
  },
  {
   "cell_type": "code",
   "execution_count": 3,
   "metadata": {},
   "outputs": [
    {
     "data": {
      "text/plain": [
       "Int64"
      ]
     },
     "execution_count": 3,
     "metadata": {},
     "output_type": "execute_result"
    }
   ],
   "source": [
    "x = 1\n",
    "typeof(x)"
   ]
  },
  {
   "cell_type": "markdown",
   "metadata": {},
   "source": [
    "Where the name `x` binds to the value `1`, created as a literal"
   ]
  },
  {
   "cell_type": "markdown",
   "metadata": {},
   "source": [
    "### Parametric Types\n",
    "\n",
    "(See [parametric types documentation](https://docs.julialang.org/en/v1/manual/types/#Parametric-Types-1))\n",
    "\n",
    "The next two types use curly bracket notation to express the fact that they are *parametric*"
   ]
  },
  {
   "cell_type": "code",
   "execution_count": 4,
   "metadata": {},
   "outputs": [
    {
     "name": "stdout",
     "output_type": "stream",
     "text": [
      "typeof(1.0 + 1im) = Complex{Float64}\n",
      "typeof(ones(2, 2)) = Array{Float64,2}\n"
     ]
    }
   ],
   "source": [
    "@show typeof(1.0 + 1im)\n",
    "@show typeof(ones(2,2));"
   ]
  },
  {
   "cell_type": "markdown",
   "metadata": {},
   "source": [
    "We will learn more details about [generic programming](generic_programming.html#) later, but the key is to interpret the curly brackets as swappable parameters for a given type\n",
    "\n",
    "For example, `Array{Float64, 2}` can be read as\n",
    "\n",
    "1. `Array` is a parametric type representing a dense array, where the first parameter is the type stored, and the 2nd is the number of dimensions  \n",
    "1. `Float64` is a concrete type declaring that the data stored will be a particular size of floating point  \n",
    "1. `2` is the number of dimensions of that array  \n",
    "\n",
    "\n",
    "A concrete type is one which where values can be created by the compiler\n",
    "\n",
    "Values of a **parametric type** cannot be concretely constructed unless all of the parameters are given (themselves with concrete types)\n",
    "\n",
    "In the case of `Complex{Float64}`\n",
    "\n",
    "1. `Complex` is an abstract complex number type  \n",
    "1. `Float64` is a concrete type declaring what the type of the real and imaginary parts of the value should store  \n",
    "\n",
    "\n",
    "Another type to consider is the `Tuple` and `Named Tuple`"
   ]
  },
  {
   "cell_type": "code",
   "execution_count": 5,
   "metadata": {},
   "outputs": [
    {
     "name": "stdout",
     "output_type": "stream",
     "text": [
      "typeof(x) = Tuple{Int64,Float64,String}\n"
     ]
    },
    {
     "data": {
      "text/plain": [
       "Tuple{Int64,Float64,String}"
      ]
     },
     "execution_count": 5,
     "metadata": {},
     "output_type": "execute_result"
    }
   ],
   "source": [
    "x = (1, 2.0, \"test\")\n",
    "@show typeof(x)"
   ]
  },
  {
   "cell_type": "markdown",
   "metadata": {},
   "source": [
    "In that case, the `Tuple` is the parametric type, and the 3 parameters are a list of the types of each value stored in `x`\n",
    "\n",
    "For a named tuple"
   ]
  },
  {
   "cell_type": "code",
   "execution_count": 6,
   "metadata": {},
   "outputs": [
    {
     "name": "stdout",
     "output_type": "stream",
     "text": [
      "typeof(x) = NamedTuple{(:a, :b, :c),Tuple{Int64,Float64,String}}\n"
     ]
    },
    {
     "data": {
      "text/plain": [
       "NamedTuple{(:a, :b, :c),Tuple{Int64,Float64,String}}"
      ]
     },
     "execution_count": 6,
     "metadata": {},
     "output_type": "execute_result"
    }
   ],
   "source": [
    "x = (a = 1, b = 2.0, c = \"test\")\n",
    "@show typeof(x)"
   ]
  },
  {
   "cell_type": "markdown",
   "metadata": {},
   "source": [
    "The parametric `NamedTuple` type contains 2 parameters: first a list of names for each field of the tuple, and second the underlying `Tuple` type to store the values\n",
    "\n",
    "Anytime a value is prefixed by a colon, as in the `:a` above, the type is `Symbol`–a special kind of string used by the compiler"
   ]
  },
  {
   "cell_type": "code",
   "execution_count": 7,
   "metadata": {},
   "outputs": [
    {
     "data": {
      "text/plain": [
       "Symbol"
      ]
     },
     "execution_count": 7,
     "metadata": {},
     "output_type": "execute_result"
    }
   ],
   "source": [
    "typeof(:a)"
   ]
  },
  {
   "cell_type": "markdown",
   "metadata": {},
   "source": [
    "**Remark:** Note that, by convention, type names use CamelCase —  `Array`, `AbstractArray`, etc.\n",
    "\n",
    "(See [parametric types documentation](https://docs.julialang.org/en/v1/manual/types/#Parametric-Types-1))\n",
    "\n",
    "**Remark:** Note that, by convention, type names use CamelCase —  `FloatingPoint`, `Array`, `AbstractArray`, etc."
   ]
  },
  {
   "cell_type": "markdown",
   "metadata": {},
   "source": [
    "### Variables, Types, and Values\n",
    "\n",
    "Since variables and functions are denoted in lower case, this can be used to easily identify types when reading code and output\n",
    "\n",
    "After assigning a variable name to an value, we can query the type of the\n",
    "value via the name"
   ]
  },
  {
   "cell_type": "code",
   "execution_count": 8,
   "metadata": {},
   "outputs": [
    {
     "name": "stdout",
     "output_type": "stream",
     "text": [
      "typeof(x) = Int64\n"
     ]
    }
   ],
   "source": [
    "x = 42\n",
    "@show typeof(x);"
   ]
  },
  {
   "cell_type": "markdown",
   "metadata": {},
   "source": [
    "Thus, `x` is just a symbol bound to an value of type `Int64`\n",
    "\n",
    "Indeed, we can *rebind* the symbol `x` to any other value, of the same type or otherwise"
   ]
  },
  {
   "cell_type": "code",
   "execution_count": 9,
   "metadata": {},
   "outputs": [
    {
     "data": {
      "text/plain": [
       "42.0"
      ]
     },
     "execution_count": 9,
     "metadata": {},
     "output_type": "execute_result"
    }
   ],
   "source": [
    "x = 42.0"
   ]
  },
  {
   "cell_type": "markdown",
   "metadata": {},
   "source": [
    "Now `x` “points to” another value, of type `Float64`"
   ]
  },
  {
   "cell_type": "code",
   "execution_count": 10,
   "metadata": {},
   "outputs": [
    {
     "data": {
      "text/plain": [
       "Float64"
      ]
     },
     "execution_count": 10,
     "metadata": {},
     "output_type": "execute_result"
    }
   ],
   "source": [
    "typeof(x)"
   ]
  },
  {
   "cell_type": "markdown",
   "metadata": {},
   "source": [
    "However, outside of these sorts of examples and tests, it is usually a bad idea to change the type of a variable haphazardly\n",
    "\n",
    "Beyond a few notable exceptions for error handling (e.g. `nothing` used for [error handling](error_handling)), changing types is usually a symptom of poorly organized code–and it makes compiler [type inference](type_inference) more difficult"
   ]
  },
  {
   "cell_type": "markdown",
   "metadata": {},
   "source": [
    "## The Type Hierarchy\n",
    "\n",
    "Let’s discuss how types are organized in Julia"
   ]
  },
  {
   "cell_type": "markdown",
   "metadata": {},
   "source": [
    "### Abstract vs Concrete Types\n",
    "\n",
    "(See [abstract types documentation](https://docs.julialang.org/en/v1/manual/types/#Abstract-Types-1))\n",
    "\n",
    "In our example above, the Julia library code for `Array``and ``Complex` are written in a way such that it will work for any `Real` type–which `Float64` fulfills\n",
    "\n",
    "In this case, `Real` is an **abstract type**, and a value of type `Real` can never be created directly\n",
    "\n",
    "Instead, it provides a way to write [generic](generic_programming.html#) code for specific to any concrete types based on `Real`\n",
    "\n",
    "We saw above that `Float64` is the standard type for representing a 64 bit\n",
    "floating point number\n",
    "\n",
    "But we’ve also seen references to types such as `Real` and `AbstractFloat`\n",
    "\n",
    "The former (i.e., `Float64`) is an example of a **concrete type**, as is `Int64` or `Float32`\n",
    "\n",
    "The latter (i.e., `Real`, `AbstractFloat`) are examples of so-called **abstract types**\n",
    "\n",
    "Concrete types are types that we can *instantiate* — i.e., pair with data in memory\n",
    "\n",
    "On the other hand, abstract types help us organize and work with related concrete types"
   ]
  },
  {
   "cell_type": "markdown",
   "metadata": {},
   "source": [
    "### The Type Hierarchy\n",
    "\n",
    "How exactly do abstract types organize or relate different concrete types?\n",
    "\n",
    "The answer is that, in the Julia language specification, the types form a hierarchy\n",
    "\n",
    "You can check if a type is a subtype of another with the `<:` operator"
   ]
  },
  {
   "cell_type": "code",
   "execution_count": 11,
   "metadata": {},
   "outputs": [
    {
     "name": "stdout",
     "output_type": "stream",
     "text": [
      "Float64 <: Real = true\n",
      "Int64 <: Real = true\n",
      "Complex{Float64} <: Real = false\n",
      "Array <: Real = false\n"
     ]
    }
   ],
   "source": [
    "@show Float64 <: Real\n",
    "@show Int64 <: Real\n",
    "@show Complex{Float64} <: Real\n",
    "@show Array <: Real;"
   ]
  },
  {
   "cell_type": "markdown",
   "metadata": {},
   "source": [
    "In the above, both `Float64` and `Int64` are **subtypes** of `Real`, whereas the `Complex` numbers are not\n",
    "\n",
    "They are, however, all subtypes of `Number`"
   ]
  },
  {
   "cell_type": "code",
   "execution_count": 12,
   "metadata": {},
   "outputs": [
    {
     "name": "stdout",
     "output_type": "stream",
     "text": [
      "Real <: Number = true\n",
      "Float64 <: Number = true\n",
      "Int64 <: Number = true\n",
      "Complex{Float64} <: Number = true\n"
     ]
    }
   ],
   "source": [
    "@show Real <: Number\n",
    "@show Float64 <: Number\n",
    "@show Int64 <: Number\n",
    "@show Complex{Float64} <: Number;"
   ]
  },
  {
   "cell_type": "markdown",
   "metadata": {},
   "source": [
    "`Number` in turn is a subtype of `Any`, which is a parent of all types"
   ]
  },
  {
   "cell_type": "code",
   "execution_count": 13,
   "metadata": {},
   "outputs": [
    {
     "data": {
      "text/plain": [
       "true"
      ]
     },
     "execution_count": 13,
     "metadata": {},
     "output_type": "execute_result"
    }
   ],
   "source": [
    "Number <: Any"
   ]
  },
  {
   "cell_type": "markdown",
   "metadata": {},
   "source": [
    "In particular, the type tree is organized with `Any` at the top and the concrete types at the bottom\n",
    "\n",
    "We never actually see *instances* of abstract types (i.e., `typeof(x)` never returns an abstract type)\n",
    "\n",
    "The point of abstract types is to categorize the concrete types, as well as other abstract types that sit below them in the hierarchy\n",
    "\n",
    "\n",
    "<a id='id3'></a>"
   ]
  },
  {
   "cell_type": "markdown",
   "metadata": {},
   "source": [
    "## Deducing and Declaring Types\n",
    "\n",
    "We will discuss this in detail in [this lecture](generic_programming.html#), but much of its performance gains and generality of notation comes from Julia’s type system\n",
    "\n",
    "For example, with"
   ]
  },
  {
   "cell_type": "code",
   "execution_count": 14,
   "metadata": {},
   "outputs": [
    {
     "name": "stdout",
     "output_type": "stream",
     "text": [
      "typeof(x1) = Array{Int64,1}\n",
      "typeof(x2) = Array{Float64,1}\n"
     ]
    },
    {
     "data": {
      "text/plain": [
       "Array{Float64,1}"
      ]
     },
     "execution_count": 14,
     "metadata": {},
     "output_type": "execute_result"
    }
   ],
   "source": [
    "x1 = [1, 2, 3]\n",
    "x2 = [1.0, 2.0, 3.0]\n",
    "@show typeof(x1)\n",
    "@show typeof(x2)"
   ]
  },
  {
   "cell_type": "markdown",
   "metadata": {},
   "source": [
    "These return `Array{Int64,1}` and `Array{Float64,1}` respectively, which the compiler is able to infer from the right hand side of the expressions\n",
    "\n",
    "Given the information on the type, the compiler can work through the sequence of expressions to infer other types"
   ]
  },
  {
   "cell_type": "code",
   "execution_count": 15,
   "metadata": {},
   "outputs": [
    {
     "data": {
      "text/plain": [
       "3-element Array{Int64,1}:\n",
       " 2\n",
       " 4\n",
       " 6"
      ]
     },
     "execution_count": 15,
     "metadata": {},
     "output_type": "execute_result"
    }
   ],
   "source": [
    "# define some function\n",
    "f(y) = 2y\n",
    "\n",
    "# call with an integer array\n",
    "x = [1, 2, 3]\n",
    "z = f(x) # compiler deduces type"
   ]
  },
  {
   "cell_type": "markdown",
   "metadata": {},
   "source": [
    "### Good Practices for Functions and Variable Types\n",
    "\n",
    "In order to keep many of the benefits of Julia, you will sometimes want to help the compiler ensure that it can always deduce a single type from any function or expression\n",
    "\n",
    "As an example of bad practice, is to use an array to hold unrelated types"
   ]
  },
  {
   "cell_type": "code",
   "execution_count": 16,
   "metadata": {},
   "outputs": [
    {
     "data": {
      "text/plain": [
       "3-element Array{Any,1}:\n",
       " 1.0    \n",
       "  \"test\"\n",
       " 1      "
      ]
     },
     "execution_count": 16,
     "metadata": {},
     "output_type": "execute_result"
    }
   ],
   "source": [
    "x = [1.0, \"test\", 1] # typically poor style"
   ]
  },
  {
   "cell_type": "markdown",
   "metadata": {},
   "source": [
    "The type of this is `Array{Any,1}`, where the `Any` means the compiler has determined that any valid Julia types can be added to the array\n",
    "\n",
    "While occasionally useful, this is to be avoided whenever possible in performance sensitive code\n",
    "\n",
    "The other place this can come up is in the declaration of functions\n",
    "\n",
    "As an example, consider a function which returns different types depending on the arguments"
   ]
  },
  {
   "cell_type": "code",
   "execution_count": 17,
   "metadata": {},
   "outputs": [
    {
     "name": "stdout",
     "output_type": "stream",
     "text": [
      "f(1) = 1.0\n",
      "f(-1) = 0\n"
     ]
    }
   ],
   "source": [
    "function f(x)\n",
    "    if x > 0\n",
    "        return 1.0\n",
    "    else\n",
    "        return 0 # Probably meant 0.0\n",
    "    end\n",
    "end\n",
    "@show f(1)\n",
    "@show f(-1);"
   ]
  },
  {
   "cell_type": "markdown",
   "metadata": {},
   "source": [
    "The issue here is relatively subtle:  `1.0` is a floating point, while `0` is an integer\n",
    "\n",
    "Consequently, given the type of `x`, the compiler cannot in general determine what type the function will return\n",
    "\n",
    "This issue, called **type stability** is at the heart of most Julia performance considerations\n",
    "\n",
    "Luckily, the practice of trying to ensure that functions return the same types is also the most consistent with simple, clear code"
   ]
  },
  {
   "cell_type": "markdown",
   "metadata": {},
   "source": [
    "### Analyzing Function Return Types (Advanced)\n",
    "\n",
    "For the most part, time spent “optimizing” julia code to run faster is able ensuring the compiler can correctly deduce types for all functions\n",
    "\n",
    "We will discuss this in more detail in [this lecture](need_for_speed.html#), but the macro``@code_warntype`` gives us a hint"
   ]
  },
  {
   "cell_type": "code",
   "execution_count": 18,
   "metadata": {},
   "outputs": [
    {
     "name": "stdout",
     "output_type": "stream",
     "text": [
      "Body\u001b[36m::Array{Int64,1}\u001b[39m\n",
      "\u001b[90m\u001b[74G│╻ *\u001b[1G\u001b[39m\u001b[90m2 \u001b[39m1 ─ %1 = invoke Base.broadcast(Base.:*::typeof(*), 2::Int64, _2::Array{Int64,1})\u001b[36m::Array{Int64,1}\u001b[39m\n",
      "\u001b[90m\u001b[74G│ \u001b[1G\u001b[39m\u001b[90m  \u001b[39m└──      return %1\n"
     ]
    }
   ],
   "source": [
    "x = [1, 2, 3]\n",
    "f(x) = 2x\n",
    "@code_warntype f(x)"
   ]
  },
  {
   "cell_type": "markdown",
   "metadata": {},
   "source": [
    "The `@code_warntype` macro compiles the `f(x)` using the type of `x` as an example–i.e., the `[1, 2, 3]` is used as a prototype for analyzing the compilation, rather than simply calculating the value\n",
    "\n",
    "Here, the `Body::Array{Int64,1}` tells us the type of the return value of the function when called with types like `[1, 2, 3]` is always a vector of integers\n",
    "\n",
    "In contrast, consider a function potentially returning `nothing`, as in [this lecture](fundamental_types.html#)"
   ]
  },
  {
   "cell_type": "code",
   "execution_count": 19,
   "metadata": {},
   "outputs": [
    {
     "name": "stdout",
     "output_type": "stream",
     "text": [
      "Body\u001b[33m\u001b[1m::Union{Nothing, Int64}\u001b[22m\u001b[39m\n",
      "\u001b[90m\u001b[59G│╻╷╷ >\u001b[1G\u001b[39m\u001b[90m1 \u001b[39m1 ─ %1 = (Base.sitofp)(Float64, x)\u001b[36m::Float64\u001b[39m\n",
      "\u001b[90m\u001b[59G││╻   <\u001b[1G\u001b[39m\u001b[90m  \u001b[39m│   %2 = (Base.lt_float)(0.0, %1)\u001b[36m::Bool\u001b[39m\n",
      "\u001b[90m\u001b[59G│││╻   ==\u001b[1G\u001b[39m\u001b[90m  \u001b[39m│   %3 = (Base.eq_float)(0.0, %1)\u001b[36m::Bool\u001b[39m\n",
      "\u001b[90m\u001b[59G│││╻   <\u001b[1G\u001b[39m\u001b[90m  \u001b[39m│   %4 = (Base.lt_float)(%1, 9.223372036854776e18)\u001b[36m::Bool\u001b[39m\n",
      "\u001b[90m\u001b[59G│││╻   &\u001b[1G\u001b[39m\u001b[90m  \u001b[39m│   %5 = (Base.and_int)(%3, %4)\u001b[36m::Bool\u001b[39m\n",
      "\u001b[90m\u001b[59G│││╻   unsafe_trunc\u001b[1G\u001b[39m\u001b[90m  \u001b[39m│   %6 = (Base.fptosi)(Int64, %1)\u001b[36m::Int64\u001b[39m\n",
      "\u001b[90m\u001b[59G│││╻   <\u001b[1G\u001b[39m\u001b[90m  \u001b[39m│   %7 = (Base.slt_int)(%6, x)\u001b[36m::Bool\u001b[39m\n",
      "\u001b[90m\u001b[59G│││╻   &\u001b[1G\u001b[39m\u001b[90m  \u001b[39m│   %8 = (Base.and_int)(%5, %7)\u001b[36m::Bool\u001b[39m\n",
      "\u001b[90m\u001b[59G│││╻   |\u001b[1G\u001b[39m\u001b[90m  \u001b[39m│   %9 = (Base.or_int)(%2, %8)\u001b[36m::Bool\u001b[39m\n",
      "\u001b[90m\u001b[59G│   \u001b[1G\u001b[39m\u001b[90m  \u001b[39m└──      goto #3 if not %9\n",
      "\u001b[90m\u001b[59G│   \u001b[1G\u001b[39m\u001b[90m  \u001b[39m2 ─      return x\n",
      "\u001b[90m\u001b[59G│   \u001b[1G\u001b[39m\u001b[90m  \u001b[39m3 ─      return Main.nothing\n"
     ]
    }
   ],
   "source": [
    "f(x) = x > 0.0 ? x : nothing\n",
    "@code_warntype f(1)"
   ]
  },
  {
   "cell_type": "markdown",
   "metadata": {},
   "source": [
    "This states that the compiler determines the return type when called with an integer (like `1`) could be one of two different types, `Body::Union{Nothing, Int64}`\n",
    "\n",
    "A final example is a variation on the above, which returns the maximum of `x` and `0`"
   ]
  },
  {
   "cell_type": "code",
   "execution_count": 20,
   "metadata": {},
   "outputs": [
    {
     "name": "stdout",
     "output_type": "stream",
     "text": [
      "Body\u001b[91m\u001b[1m::Union{Float64, Int64}\u001b[22m\u001b[39m\n",
      "\u001b[90m\u001b[59G│╻╷╷ >\u001b[1G\u001b[39m\u001b[90m1 \u001b[39m1 ─ %1 = (Base.sitofp)(Float64, x)\u001b[36m::Float64\u001b[39m\n",
      "\u001b[90m\u001b[59G││╻   <\u001b[1G\u001b[39m\u001b[90m  \u001b[39m│   %2 = (Base.lt_float)(0.0, %1)\u001b[36m::Bool\u001b[39m\n",
      "\u001b[90m\u001b[59G│││╻   ==\u001b[1G\u001b[39m\u001b[90m  \u001b[39m│   %3 = (Base.eq_float)(0.0, %1)\u001b[36m::Bool\u001b[39m\n",
      "\u001b[90m\u001b[59G│││╻   <\u001b[1G\u001b[39m\u001b[90m  \u001b[39m│   %4 = (Base.lt_float)(%1, 9.223372036854776e18)\u001b[36m::Bool\u001b[39m\n",
      "\u001b[90m\u001b[59G│││╻   &\u001b[1G\u001b[39m\u001b[90m  \u001b[39m│   %5 = (Base.and_int)(%3, %4)\u001b[36m::Bool\u001b[39m\n",
      "\u001b[90m\u001b[59G│││╻   unsafe_trunc\u001b[1G\u001b[39m\u001b[90m  \u001b[39m│   %6 = (Base.fptosi)(Int64, %1)\u001b[36m::Int64\u001b[39m\n",
      "\u001b[90m\u001b[59G│││╻   <\u001b[1G\u001b[39m\u001b[90m  \u001b[39m│   %7 = (Base.slt_int)(%6, x)\u001b[36m::Bool\u001b[39m\n",
      "\u001b[90m\u001b[59G│││╻   &\u001b[1G\u001b[39m\u001b[90m  \u001b[39m│   %8 = (Base.and_int)(%5, %7)\u001b[36m::Bool\u001b[39m\n",
      "\u001b[90m\u001b[59G│││╻   |\u001b[1G\u001b[39m\u001b[90m  \u001b[39m│   %9 = (Base.or_int)(%2, %8)\u001b[36m::Bool\u001b[39m\n",
      "\u001b[90m\u001b[59G│   \u001b[1G\u001b[39m\u001b[90m  \u001b[39m└──      goto #3 if not %9\n",
      "\u001b[90m\u001b[59G│   \u001b[1G\u001b[39m\u001b[90m  \u001b[39m2 ─      return x\n",
      "\u001b[90m\u001b[59G│   \u001b[1G\u001b[39m\u001b[90m  \u001b[39m3 ─      return 0.0\n"
     ]
    }
   ],
   "source": [
    "f(x) = x > 0.0 ? x : 0.0\n",
    "@code_warntype f(1)"
   ]
  },
  {
   "cell_type": "markdown",
   "metadata": {},
   "source": [
    "Which shows that, when called with an integer, the type could be that integer or the floating point `0.0`\n",
    "\n",
    "On the other hand, if we use change the function to return `0` if x <= 0, it is type-unstable with  floating point"
   ]
  },
  {
   "cell_type": "code",
   "execution_count": 21,
   "metadata": {},
   "outputs": [
    {
     "name": "stdout",
     "output_type": "stream",
     "text": [
      "Body\u001b[91m\u001b[1m::Union{Float64, Int64}\u001b[22m\u001b[39m\n",
      "\u001b[90m\u001b[73G│╻╷ >\u001b[1G\u001b[39m\u001b[90m1 \u001b[39m1 ─ %1 = (Base.lt_float)(0.0, x)\u001b[36m::Bool\u001b[39m\n",
      "\u001b[90m\u001b[73G│  \u001b[1G\u001b[39m\u001b[90m  \u001b[39m└──      goto #3 if not %1\n",
      "\u001b[90m\u001b[73G│  \u001b[1G\u001b[39m\u001b[90m  \u001b[39m2 ─      return x\n",
      "\u001b[90m\u001b[73G│  \u001b[1G\u001b[39m\u001b[90m  \u001b[39m3 ─      return 0\n"
     ]
    }
   ],
   "source": [
    "f(x) = x > 0.0 ? x : 0\n",
    "@code_warntype f(1.0)"
   ]
  },
  {
   "cell_type": "markdown",
   "metadata": {},
   "source": [
    "The solution is to use the `zero(x)` function which returns the additive identity element of type `x`\n",
    "n the other hand, if we use change the function to return `0` if x <= 0, it is type-unstable with  floating point"
   ]
  },
  {
   "cell_type": "code",
   "execution_count": 22,
   "metadata": {},
   "outputs": [
    {
     "name": "stdout",
     "output_type": "stream",
     "text": [
      "zero(2.3) = 0.0\n",
      "zero(4) = 0\n",
      "zero(2.0 + 3im) = 0.0 + 0.0im\n",
      "Body\u001b[36m::Float64\u001b[39m\n",
      "\u001b[90m\u001b[73G│╻╷ >\u001b[1G\u001b[39m\u001b[90m5 \u001b[39m1 ─ %1 = (Base.lt_float)(0.0, x)\u001b[36m::Bool\u001b[39m\n",
      "\u001b[90m\u001b[73G│  \u001b[1G\u001b[39m\u001b[90m  \u001b[39m└──      goto #3 if not %1\n",
      "\u001b[90m\u001b[73G│  \u001b[1G\u001b[39m\u001b[90m  \u001b[39m2 ─      return x\n",
      "\u001b[90m\u001b[73G│  \u001b[1G\u001b[39m\u001b[90m  \u001b[39m3 ─      return 0.0\n"
     ]
    }
   ],
   "source": [
    "@show zero(2.3)\n",
    "@show zero(4)\n",
    "@show zero(2.0 + 3im)\n",
    "\n",
    "f(x) = x > 0.0 ? x : zero(x)\n",
    "@code_warntype f(1.0)"
   ]
  },
  {
   "cell_type": "markdown",
   "metadata": {},
   "source": [
    "### Manually Declaring Function and Variable Types\n",
    "\n",
    "(See [type declarations documentation](https://docs.julialang.org/en/v1/manual/types/#Type-Declarations-1))\n",
    "\n",
    "You will notice that in the lecture notes we have never directly declared any types\n",
    "\n",
    "This is intentional for exposition and for serious “user” code of packages, rather than the writing of those packages themselves\n",
    "\n",
    "It is also in contrast to some of the sample code you will see in other Julia sources, which you will need to be able to read\n",
    "\n",
    "To give an example of the declaration of types, the following are equivalent"
   ]
  },
  {
   "cell_type": "code",
   "execution_count": 23,
   "metadata": {},
   "outputs": [
    {
     "data": {
      "text/plain": [
       "2-element Array{Float64,1}:\n",
       "  9.1\n",
       " 14.3"
      ]
     },
     "execution_count": 23,
     "metadata": {},
     "output_type": "execute_result"
    }
   ],
   "source": [
    "function f(x, A)\n",
    "    b = [5.0, 6.0]\n",
    "    return A * x .+ b\n",
    "end\n",
    "val = f([0.1, 2.0], [1.0 2.0; 3.0 4.0])"
   ]
  },
  {
   "cell_type": "code",
   "execution_count": 24,
   "metadata": {},
   "outputs": [
    {
     "data": {
      "text/plain": [
       "2-element Array{Float64,1}:\n",
       "  9.1\n",
       " 14.3"
      ]
     },
     "execution_count": 24,
     "metadata": {},
     "output_type": "execute_result"
    }
   ],
   "source": [
    "function f2(x::Vector{Float64}, A::Matrix{Float64})::Vector{Float64} # argument and return types\n",
    "    b::Vector{Float64} = [5.0, 6.0]\n",
    "    return A * x .+ b\n",
    "end\n",
    "val = f2([0.1; 2.0], [1.0 2.0; 3.0 4.0])"
   ]
  },
  {
   "cell_type": "markdown",
   "metadata": {},
   "source": [
    "While declaring the types may be verbose, would it ever generate faster code?\n",
    "\n",
    "The answer is: almost never\n",
    "\n",
    "Furthermore, it can lead to confusion and inefficiencies since many things that behave like vectors and matrices are not `Matrix{Float64}` and `Vector{Float64}`\n",
    "\n",
    "To see a few examples where the first works and the second fails"
   ]
  },
  {
   "cell_type": "code",
   "execution_count": 25,
   "metadata": {},
   "outputs": [
    {
     "name": "stdout",
     "output_type": "stream",
     "text": [
      "f([0.1; 2.0], [1 2; 3 4]) = [9.1, 14.3]\n",
      "f([0.1; 2.0], Diagonal([1.0, 2.0])) = [5.1, 10.0]\n"
     ]
    },
    {
     "data": {
      "text/plain": [
       "2-element Array{Float64,1}:\n",
       "  5.1\n",
       " 10.0"
      ]
     },
     "execution_count": 25,
     "metadata": {},
     "output_type": "execute_result"
    }
   ],
   "source": [
    "@show f([0.1; 2.0], [1 2; 3 4])\n",
    "@show f([0.1; 2.0], Diagonal([1.0, 2.0]))\n",
    "\n",
    "#f2([0.1; 2.0], [1 2; 3 4]) # not a Float64\n",
    "#f2([0.1; 2.0], Diagonal([1.0, 2.0])) # not a Matrix{Float64}"
   ]
  },
  {
   "cell_type": "markdown",
   "metadata": {},
   "source": [
    "## Creating New Types\n",
    "\n",
    "(See [type declarations documentation](https://docs.julialang.org/en/v1/manual/types/#Type-Declarations-1))\n",
    "\n",
    "Up until now, we have used `NamedTuple` to collect sets of parameters for our models and examples\n",
    "\n",
    "There are many reasons to use that for the narrow purpose of maintaining values for model parameters, but you will eventually need to be able to read code that creates its own typse"
   ]
  },
  {
   "cell_type": "markdown",
   "metadata": {},
   "source": [
    "### Syntax for Creating Concrete Types\n",
    "\n",
    "(See [composite types documentation](https://docs.julialang.org/en/v1/manual/types/#Composite-Types-1))\n",
    "\n",
    "While other sorts of types exist, we almost always use the `struct` keyword, which is for creation of composite data types\n",
    "\n",
    "Notes:\n",
    "\n",
    "- “composite” refers to the fact that the data types in question can be used as collection of named fields  \n",
    "- the `struct` terminology is used in a number of programming languages to refer to composite data types  \n",
    "\n",
    "\n",
    "Let’s start with a trivial example where the `struct` we build has fields named `a, b, c`, are not typed"
   ]
  },
  {
   "cell_type": "code",
   "execution_count": 26,
   "metadata": {},
   "outputs": [],
   "source": [
    "struct FooNotTyped # immutable by default, use `mutable struct` otherwise\n",
    "    a # BAD! Not typed\n",
    "    b\n",
    "    c\n",
    "end"
   ]
  },
  {
   "cell_type": "markdown",
   "metadata": {},
   "source": [
    "And another where the types of the fields are chosen"
   ]
  },
  {
   "cell_type": "code",
   "execution_count": 27,
   "metadata": {},
   "outputs": [],
   "source": [
    "struct Foo\n",
    "    a::Float64 # or just `a` if not declaring type\n",
    "    b::Int64\n",
    "    c::Vector{Float64}\n",
    "end"
   ]
  },
  {
   "cell_type": "markdown",
   "metadata": {},
   "source": [
    "In either case, the compiler generates a function to create new values of the data type, called a “constructor”\n",
    "\n",
    "It has the same name as the data type but uses function call notion"
   ]
  },
  {
   "cell_type": "code",
   "execution_count": 28,
   "metadata": {},
   "outputs": [
    {
     "name": "stdout",
     "output_type": "stream",
     "text": [
      "typeof(foo) = Foo\n",
      "foo.a = 2.0\n",
      "foo.b = 3\n",
      "foo.c = [1.0, 2.0, 3.0]\n"
     ]
    }
   ],
   "source": [
    "foo_nt = FooNotTyped(2.0, 3, [1.0, 2.0, 3.0]) # new FooNotTyped\n",
    "foo = Foo(2.0, 3, [1.0, 2.0, 3.0])  # creates a new Foo\n",
    "@show typeof(foo)\n",
    "@show foo.a # get the value for a field\n",
    "@show foo.b\n",
    "@show foo.c;\n",
    "# foo.a = 2.0 # fails, since it is immutable"
   ]
  },
  {
   "cell_type": "markdown",
   "metadata": {},
   "source": [
    "You will notice two differences above for the creation of a `struct` compared to our use of `NamedTuple`\n",
    "\n",
    "- Types are declared for the fields, rather than inferred by the compiler  \n",
    "- The construction of a new instance, has no named parameters to prevent accidental misuse by choosing the wrong order  "
   ]
  },
  {
   "cell_type": "markdown",
   "metadata": {},
   "source": [
    "### Issues with Type Declarations\n",
    "\n",
    "Was it necessary to manually declare the types `a::Float64` in the above struct?\n",
    "\n",
    "The answer, in practice, is usually yes\n",
    "\n",
    "Without a declaration of the type, the compiler is unable to generate efficient code, and the use of a `struct` declared without types could drop performance by orders of magnitude\n",
    "\n",
    "Moreover, it is very easy to use the wrong type, or unnecessarily constrain the types\n",
    "\n",
    "The first example, which is usually just as low-performance as no declaration of types at all, is to accidentally declare it with an abstract type"
   ]
  },
  {
   "cell_type": "code",
   "execution_count": 29,
   "metadata": {},
   "outputs": [],
   "source": [
    "struct Foo2\n",
    "    a::Float64\n",
    "    b::Integer # BAD! Not a concrete type\n",
    "    c::Vector{Real} # BAD! Not a concrete type\n",
    "end"
   ]
  },
  {
   "cell_type": "markdown",
   "metadata": {},
   "source": [
    "The second issue is that by choosing a type (as in the `Foo` above), you may be constraining what is allowed more than is really necessary"
   ]
  },
  {
   "cell_type": "code",
   "execution_count": 30,
   "metadata": {},
   "outputs": [
    {
     "data": {
      "text/plain": [
       "FooNotTyped(2, 3, [1.0 2.0 3.0])"
      ]
     },
     "execution_count": 30,
     "metadata": {},
     "output_type": "execute_result"
    }
   ],
   "source": [
    "f(x) = x.a + x.b + sum(x.c) # use the type\n",
    "a = 2.0\n",
    "b = 3\n",
    "c = [1.0, 2.0, 3.0]\n",
    "foo = Foo(a, b, c)\n",
    "f(foo) # call with the foo, no problem\n",
    "\n",
    "# Some other typed for the values\n",
    "a = 2 # not a floating point, but f() would work\n",
    "b = 3\n",
    "c = [1.0, 2.0, 3.0]' # transpose is not a `Vector`. But f() would work\n",
    "# foo = Foo(a, b, c) # fails to compile\n",
    "\n",
    "# works with the NotTyped version, but low performance\n",
    "foo_nt = FooNotTyped(a, b, c)"
   ]
  },
  {
   "cell_type": "markdown",
   "metadata": {},
   "source": [
    "### Declaring Parametric Types (Advanced)\n",
    "\n",
    "(See [type parametric types documentation](https://docs.julialang.org/en/v1/manual/types/#Parametric-Types-1))\n",
    "\n",
    "Motivated by the above, we can create a type which can adapt to holding fields of different types"
   ]
  },
  {
   "cell_type": "code",
   "execution_count": 31,
   "metadata": {},
   "outputs": [
    {
     "data": {
      "text/plain": [
       "11.0"
      ]
     },
     "execution_count": 31,
     "metadata": {},
     "output_type": "execute_result"
    }
   ],
   "source": [
    "struct Foo3{T1, T2, T3}\n",
    "    a::T1 # could be any type\n",
    "    b::T2\n",
    "    c::T3\n",
    "end\n",
    "\n",
    "# Works fine\n",
    "a = 2\n",
    "b = 3\n",
    "c = [1.0, 2.0, 3.0]' # transpose is not a `Vector`. But f() would work\n",
    "foo = Foo3(a, b, c)\n",
    "f(foo)"
   ]
  },
  {
   "cell_type": "markdown",
   "metadata": {},
   "source": [
    "Of course, this is probably too flexible, and the `f` function might not work on an arbitrary set of `a, b, c`\n",
    "\n",
    "You could constrain the types based on the abstract parent type using the `<:` operator"
   ]
  },
  {
   "cell_type": "code",
   "execution_count": 32,
   "metadata": {},
   "outputs": [
    {
     "data": {
      "text/plain": [
       "Foo4{Int64,Int64,Adjoint{Float64,Array{Float64,1}}}(2, 3, [1.0 2.0 3.0])"
      ]
     },
     "execution_count": 32,
     "metadata": {},
     "output_type": "execute_result"
    }
   ],
   "source": [
    "struct Foo4{T1 <: Real, T2 <: Real, T3 <: AbstractVecOrMat{<:Real}}\n",
    "    a::T1\n",
    "    b::T2\n",
    "    c::T3 # should check dimensions as well\n",
    "end\n",
    "foo = Foo4(a, b, c) # no problem, and high performance"
   ]
  },
  {
   "cell_type": "markdown",
   "metadata": {},
   "source": [
    "This ensure that\n",
    "\n",
    "- `a` and `b` are a subtype of `Real`, which ensures that the `+` in the definition of `f` works  \n",
    "- `c` is a one dimensional abstract array of `Real` values  \n",
    "\n",
    "\n",
    "The code works, and is equivalent in performance to a `NamedTuple`, but is becoming verbose and error prone"
   ]
  },
  {
   "cell_type": "markdown",
   "metadata": {},
   "source": [
    "### Keyword Argument Constructors (Advanced)\n",
    "\n",
    "There is no way around the difficult creation of parametric types to achieve high performance code\n",
    "\n",
    "However, the other issue where constructor arguments are error-prone, can be remedied with the `Parameters.jl` library"
   ]
  },
  {
   "cell_type": "code",
   "execution_count": 33,
   "metadata": {},
   "outputs": [
    {
     "name": "stdout",
     "output_type": "stream",
     "text": [
      "foo = Foo5\n",
      "  a: Float64 0.1\n",
      "  b: Int64 2\n",
      "  c: Array{Float64}((3,)) [1.0, 2.0, 3.0]\n",
      "\n",
      "foo2 = Foo5\n",
      "  a: Float64 2.0\n",
      "  b: Int64 2\n",
      "  c: Array{Float64}((3,)) [1.0, 2.0, 3.0]\n",
      "\n"
     ]
    },
    {
     "data": {
      "text/plain": [
       "8.1"
      ]
     },
     "execution_count": 33,
     "metadata": {},
     "output_type": "execute_result"
    }
   ],
   "source": [
    "using Parameters\n",
    "@with_kw  struct Foo5\n",
    "    a::Float64 = 2.0 # adds default value\n",
    "    b::Int64\n",
    "    c::Vector{Float64}\n",
    "end\n",
    "foo = Foo5(a = 0.1, b = 2, c = [1.0, 2.0, 3.0])\n",
    "foo2 = Foo5(c = [1.0, 2.0, 3.0], b = 2) # rearrange order, uses default values\n",
    "@show foo\n",
    "@show foo2\n",
    "\n",
    "function f(x)\n",
    "    @unpack a, b, c = x # can use @unpack on any struct\n",
    "    return a + b + sum(c)\n",
    "end\n",
    "f(foo)"
   ]
  },
  {
   "cell_type": "markdown",
   "metadata": {},
   "source": [
    "## Introduction to Multiple Dispatch\n",
    "\n",
    "One of the defining features of Julia is **multiple dispatch**, whereby the same function name can do different things depending on the underlying types\n",
    "\n",
    "Without realizing it, in nearly every function call within packages or the standard library you have used this features\n",
    "\n",
    "To see this in action, consider the absolute value function `abs`"
   ]
  },
  {
   "cell_type": "code",
   "execution_count": 34,
   "metadata": {},
   "outputs": [
    {
     "name": "stdout",
     "output_type": "stream",
     "text": [
      "abs(-1) = 1\n",
      "abs(-1.0) = 1.0\n",
      "abs(0.0 - 1.0im) = 1.0\n"
     ]
    }
   ],
   "source": [
    "@show abs(-1) # Int64\n",
    "@show abs(-1.0) # Float64\n",
    "@show abs(0.0 - 1.0im); # Complex{Float64}"
   ]
  },
  {
   "cell_type": "markdown",
   "metadata": {},
   "source": [
    "In all of these cases, the `abs` function has specialized code depending on the type passed in\n",
    "\n",
    "To do this, you need to specify different **methods** of the function which operate on a particular set of types\n",
    "\n",
    "Unlike most cases we have seen before, this requires a type annotation\n",
    "\n",
    "To rewrite the `abs` function"
   ]
  },
  {
   "cell_type": "code",
   "execution_count": 35,
   "metadata": {},
   "outputs": [
    {
     "name": "stdout",
     "output_type": "stream",
     "text": [
      "ourabs(-1) = 1\n",
      "ourabs(-1.0) = 1.0\n",
      "ourabs(1.0 - 2.0im) = 2.23606797749979\n"
     ]
    }
   ],
   "source": [
    "function ourabs(x::Real)\n",
    "    if x > zero(x) # note, not 0!\n",
    "        return x\n",
    "    else\n",
    "        return -x\n",
    "    end\n",
    "end\n",
    "\n",
    "function ourabs(x::Complex)\n",
    "    sqrt(real(x)^2 + imag(x)^2)\n",
    "end\n",
    "\n",
    "@show ourabs(-1) # Int64\n",
    "@show ourabs(-1.0) # Float64\n",
    "@show ourabs(1.0 - 2.0im); # Complex{Float64}"
   ]
  },
  {
   "cell_type": "markdown",
   "metadata": {},
   "source": [
    "Note that in the above, `x` works for any type of `Real`, including `Int64`, `Float64`, and ones you may not have realized exist"
   ]
  },
  {
   "cell_type": "code",
   "execution_count": 36,
   "metadata": {},
   "outputs": [
    {
     "name": "stdout",
     "output_type": "stream",
     "text": [
      "typeof(x) = Rational{Int64}\n",
      "ourabs(x) = 2//3\n"
     ]
    },
    {
     "data": {
      "text/plain": [
       "2//3"
      ]
     },
     "execution_count": 36,
     "metadata": {},
     "output_type": "execute_result"
    }
   ],
   "source": [
    "x = -2//3 # a Rational number, -2/3\n",
    "@show typeof(x)\n",
    "@show ourabs(x)"
   ]
  },
  {
   "cell_type": "markdown",
   "metadata": {},
   "source": [
    "You will also note that we used an abstract type, `Real`, and an incomplete parametric type `Complex` when defining the above Functions\n",
    "\n",
    "Unlike the creation of `struct` fields, there is no penalty in using absract types when you define function parameters, as they are used purely to determine which version of a function to use"
   ]
  },
  {
   "cell_type": "markdown",
   "metadata": {},
   "source": [
    "### Multiple Dispatch in Algorithms (Advanced)\n",
    "\n",
    "If you want an algorithm to have specialized versions when given different input types, you need to declare the types for the function inputs\n",
    "\n",
    "As an example where this could come up, assume that we have some grid `x` of values, the results of a function `f` applied at those values, and want to calculate an approximate derivative using forward differences\n",
    "\n",
    "In that case, given $ x_n, x_{n+1}, f(x_n) $ and $ f(x_{n+1}) $, the forward-difference approximation of the derivative is\n",
    "\n",
    "$$\n",
    "f'(x_n) \\approx \\frac{f(x_{n+1}) - f(x_n)}{x_{n+1} - x_n}\n",
    "$$\n",
    "\n",
    "To implement this calculation for a vector of inputs, we notice that there is a specialized implementation if the grid is uniform\n",
    "\n",
    "The uniform grid can be implemented using a range, which we can analyze with `typeof` and `supertype`"
   ]
  },
  {
   "cell_type": "code",
   "execution_count": 37,
   "metadata": {},
   "outputs": [
    {
     "name": "stdout",
     "output_type": "stream",
     "text": [
      "typeof(x) = StepRangeLen{Float64,Base.TwicePrecision{Float64},Base.TwicePrecision{Float64}}\n",
      "typeof(x_2) = StepRange{Int64,Int64}\n",
      "supertype(typeof(x)) = AbstractRange{Float64}\n",
      "supertype(typeof(x_2)) = OrdinalRange{Int64,Int64}\n",
      "supertype(supertype(typeof(x_2))) = AbstractRange{Int64}\n",
      "typeof(x) <: AbstractRange = true\n",
      "typeof(x_2) <: AbstractRange = true\n"
     ]
    }
   ],
   "source": [
    "x = range(0.0, 1.0, length = 20)\n",
    "x_2 = 1:1:20 # if integers\n",
    "@show typeof(x)\n",
    "@show typeof(x_2)\n",
    "@show supertype(typeof(x))\n",
    "@show supertype(typeof(x_2))\n",
    "@show supertype(supertype(typeof(x_2))) # up tree!\n",
    "\n",
    "@show typeof(x) <: AbstractRange\n",
    "@show typeof(x_2) <: AbstractRange;"
   ]
  },
  {
   "cell_type": "markdown",
   "metadata": {},
   "source": [
    "The types of the range objects can be very complicated, but are both subtypes of `AbstractRange`\n",
    "\n",
    "While you may not know the exact concrete type, any `AbstractRange` has an informal set of operations that are available"
   ]
  },
  {
   "cell_type": "code",
   "execution_count": 38,
   "metadata": {},
   "outputs": [
    {
     "name": "stdout",
     "output_type": "stream",
     "text": [
      "minimum(x) = 0.0\n",
      "maximum(x) = 1.0\n",
      "length(x) = 20\n",
      "step(x) = 0.05263157894736842\n"
     ]
    }
   ],
   "source": [
    "@show minimum(x)\n",
    "@show maximum(x)\n",
    "@show length(x)\n",
    "@show step(x);"
   ]
  },
  {
   "cell_type": "markdown",
   "metadata": {},
   "source": [
    "Similarly, there are a number of operations available for any `AbstractVector`, such as `length`"
   ]
  },
  {
   "cell_type": "code",
   "execution_count": 39,
   "metadata": {},
   "outputs": [
    {
     "name": "stdout",
     "output_type": "stream",
     "text": [
      "typeof(f_x) = Array{Float64,1}\n",
      "supertype(typeof(f_x)) = DenseArray{Float64,1}\n",
      "supertype(supertype(typeof(f_x))) = AbstractArray{Float64,1}\n",
      "length(f_x) = 20\n"
     ]
    }
   ],
   "source": [
    "f(x) = x^2\n",
    "f_x = f.(x) # calculating at the range values\n",
    "@show typeof(f_x)\n",
    "@show supertype(typeof(f_x))\n",
    "@show supertype(supertype(typeof(f_x))) # walk up tree again!\n",
    "\n",
    "@show length(f_x); # and many more"
   ]
  },
  {
   "cell_type": "markdown",
   "metadata": {},
   "source": [
    "There are also many functions that can use any `AbstractArray`, such as"
   ]
  },
  {
   "cell_type": "code",
   "execution_count": 40,
   "metadata": {},
   "outputs": [
    {
     "name": "stdout",
     "output_type": "stream",
     "text": [
      "search: \u001b[0m\u001b[1md\u001b[22m\u001b[0m\u001b[1mi\u001b[22m\u001b[0m\u001b[1mf\u001b[22m\u001b[0m\u001b[1mf\u001b[22m sym\u001b[0m\u001b[1md\u001b[22m\u001b[0m\u001b[1mi\u001b[22m\u001b[0m\u001b[1mf\u001b[22m\u001b[0m\u001b[1mf\u001b[22m set\u001b[0m\u001b[1md\u001b[22m\u001b[0m\u001b[1mi\u001b[22m\u001b[0m\u001b[1mf\u001b[22m\u001b[0m\u001b[1mf\u001b[22m sym\u001b[0m\u001b[1md\u001b[22m\u001b[0m\u001b[1mi\u001b[22m\u001b[0m\u001b[1mf\u001b[22m\u001b[0m\u001b[1mf\u001b[22m! set\u001b[0m\u001b[1md\u001b[22m\u001b[0m\u001b[1mi\u001b[22m\u001b[0m\u001b[1mf\u001b[22m\u001b[0m\u001b[1mf\u001b[22m! Cptr\u001b[0m\u001b[1md\u001b[22m\u001b[0m\u001b[1mi\u001b[22m\u001b[0m\u001b[1mf\u001b[22m\u001b[0m\u001b[1mf\u001b[22m_t\n",
      "\n"
     ]
    },
    {
     "data": {
      "text/markdown": [
       "```\n",
       "diff(A::AbstractVector)\n",
       "diff(A::AbstractMatrix; dims::Integer)\n",
       "```\n",
       "\n",
       "Finite difference operator of matrix or vector `A`. If `A` is a matrix, specify the dimension over which to operate with the `dims` keyword argument.\n",
       "\n",
       "# Examples\n",
       "\n",
       "```jldoctest\n",
       "julia> a = [2 4; 6 16]\n",
       "2×2 Array{Int64,2}:\n",
       " 2   4\n",
       " 6  16\n",
       "\n",
       "julia> diff(a, dims=2)\n",
       "2×1 Array{Int64,2}:\n",
       "  2\n",
       " 10\n",
       "\n",
       "julia> diff(vec(a))\n",
       "3-element Array{Int64,1}:\n",
       "  4\n",
       " -2\n",
       " 12\n",
       "```\n"
      ],
      "text/plain": [
       "\u001b[36m  diff(A::AbstractVector)\u001b[39m\n",
       "\u001b[36m  diff(A::AbstractMatrix; dims::Integer)\u001b[39m\n",
       "\n",
       "  Finite difference operator of matrix or vector \u001b[36mA\u001b[39m. If \u001b[36mA\u001b[39m is a matrix, specify\n",
       "  the dimension over which to operate with the \u001b[36mdims\u001b[39m keyword argument.\n",
       "\n",
       "\u001b[1m  Examples\u001b[22m\n",
       "\u001b[1m  ≡≡≡≡≡≡≡≡≡≡\u001b[22m\n",
       "\n",
       "\u001b[36m  julia> a = [2 4; 6 16]\u001b[39m\n",
       "\u001b[36m  2×2 Array{Int64,2}:\u001b[39m\n",
       "\u001b[36m   2   4\u001b[39m\n",
       "\u001b[36m   6  16\u001b[39m\n",
       "\u001b[36m  \u001b[39m\n",
       "\u001b[36m  julia> diff(a, dims=2)\u001b[39m\n",
       "\u001b[36m  2×1 Array{Int64,2}:\u001b[39m\n",
       "\u001b[36m    2\u001b[39m\n",
       "\u001b[36m   10\u001b[39m\n",
       "\u001b[36m  \u001b[39m\n",
       "\u001b[36m  julia> diff(vec(a))\u001b[39m\n",
       "\u001b[36m  3-element Array{Int64,1}:\u001b[39m\n",
       "\u001b[36m    4\u001b[39m\n",
       "\u001b[36m   -2\u001b[39m\n",
       "\u001b[36m   12\u001b[39m"
      ]
     },
     "execution_count": 40,
     "metadata": {},
     "output_type": "execute_result"
    }
   ],
   "source": [
    "?diff # finds first differences"
   ]
  },
  {
   "cell_type": "markdown",
   "metadata": {},
   "source": [
    "Finally, we can make a high performance specialization for any `AbstractVector` and `AbstractRange`"
   ]
  },
  {
   "cell_type": "code",
   "execution_count": 41,
   "metadata": {},
   "outputs": [
    {
     "data": {
      "text/plain": [
       "derivatives (generic function with 1 method)"
      ]
     },
     "execution_count": 41,
     "metadata": {},
     "output_type": "execute_result"
    }
   ],
   "source": [
    "derivatives(f::AbstractVector, x::AbstractRange) = diff(f)/step(x)"
   ]
  },
  {
   "cell_type": "markdown",
   "metadata": {},
   "source": [
    "We can use auto-differentiation to compare the results"
   ]
  },
  {
   "cell_type": "code",
   "execution_count": 42,
   "metadata": {},
   "outputs": [
    {
     "data": {
      "image/svg+xml": [
       "<?xml version=\"1.0\" encoding=\"utf-8\"?>\n",
       "<svg xmlns=\"http://www.w3.org/2000/svg\" xmlns:xlink=\"http://www.w3.org/1999/xlink\" width=\"600\" height=\"400\" viewBox=\"0 0 2400 1600\">\n",
       "<defs>\n",
       "  <clipPath id=\"clip7700\">\n",
       "    <rect x=\"0\" y=\"0\" width=\"2000\" height=\"2000\"/>\n",
       "  </clipPath>\n",
       "</defs>\n",
       "<defs>\n",
       "  <clipPath id=\"clip7701\">\n",
       "    <rect x=\"0\" y=\"0\" width=\"2400\" height=\"1600\"/>\n",
       "  </clipPath>\n",
       "</defs>\n",
       "<polygon clip-path=\"url(#clip7701)\" points=\"\n",
       "0,1600 2400,1600 2400,0 0,0 \n",
       "  \" fill=\"#ffffff\" fill-opacity=\"1\"/>\n",
       "<defs>\n",
       "  <clipPath id=\"clip7702\">\n",
       "    <rect x=\"480\" y=\"0\" width=\"1681\" height=\"1600\"/>\n",
       "  </clipPath>\n",
       "</defs>\n",
       "<polygon clip-path=\"url(#clip7701)\" points=\"\n",
       "189.504,1503.47 2321.26,1503.47 2321.26,47.2441 189.504,47.2441 \n",
       "  \" fill=\"#ffffff\" fill-opacity=\"1\"/>\n",
       "<defs>\n",
       "  <clipPath id=\"clip7703\">\n",
       "    <rect x=\"189\" y=\"47\" width=\"2133\" height=\"1457\"/>\n",
       "  </clipPath>\n",
       "</defs>\n",
       "<polyline clip-path=\"url(#clip7703)\" style=\"stroke:#000000; stroke-width:2; stroke-opacity:0.1; fill:none\" points=\"\n",
       "  249.837,1503.47 249.837,47.2441 \n",
       "  \"/>\n",
       "<polyline clip-path=\"url(#clip7703)\" style=\"stroke:#000000; stroke-width:2; stroke-opacity:0.1; fill:none\" points=\"\n",
       "  765.501,1503.47 765.501,47.2441 \n",
       "  \"/>\n",
       "<polyline clip-path=\"url(#clip7703)\" style=\"stroke:#000000; stroke-width:2; stroke-opacity:0.1; fill:none\" points=\"\n",
       "  1281.17,1503.47 1281.17,47.2441 \n",
       "  \"/>\n",
       "<polyline clip-path=\"url(#clip7703)\" style=\"stroke:#000000; stroke-width:2; stroke-opacity:0.1; fill:none\" points=\"\n",
       "  1796.83,1503.47 1796.83,47.2441 \n",
       "  \"/>\n",
       "<polyline clip-path=\"url(#clip7703)\" style=\"stroke:#000000; stroke-width:2; stroke-opacity:0.1; fill:none\" points=\"\n",
       "  2312.49,1503.47 2312.49,47.2441 \n",
       "  \"/>\n",
       "<polyline clip-path=\"url(#clip7703)\" style=\"stroke:#000000; stroke-width:2; stroke-opacity:0.1; fill:none\" points=\"\n",
       "  189.504,1462.57 2321.26,1462.57 \n",
       "  \"/>\n",
       "<polyline clip-path=\"url(#clip7703)\" style=\"stroke:#000000; stroke-width:2; stroke-opacity:0.1; fill:none\" points=\"\n",
       "  189.504,1119.04 2321.26,1119.04 \n",
       "  \"/>\n",
       "<polyline clip-path=\"url(#clip7703)\" style=\"stroke:#000000; stroke-width:2; stroke-opacity:0.1; fill:none\" points=\"\n",
       "  189.504,775.515 2321.26,775.515 \n",
       "  \"/>\n",
       "<polyline clip-path=\"url(#clip7703)\" style=\"stroke:#000000; stroke-width:2; stroke-opacity:0.1; fill:none\" points=\"\n",
       "  189.504,431.986 2321.26,431.986 \n",
       "  \"/>\n",
       "<polyline clip-path=\"url(#clip7703)\" style=\"stroke:#000000; stroke-width:2; stroke-opacity:0.1; fill:none\" points=\"\n",
       "  189.504,88.4582 2321.26,88.4582 \n",
       "  \"/>\n",
       "<polyline clip-path=\"url(#clip7701)\" style=\"stroke:#000000; stroke-width:4; stroke-opacity:1; fill:none\" points=\"\n",
       "  189.504,1503.47 2321.26,1503.47 \n",
       "  \"/>\n",
       "<polyline clip-path=\"url(#clip7701)\" style=\"stroke:#000000; stroke-width:4; stroke-opacity:1; fill:none\" points=\"\n",
       "  189.504,1503.47 189.504,47.2441 \n",
       "  \"/>\n",
       "<polyline clip-path=\"url(#clip7701)\" style=\"stroke:#000000; stroke-width:4; stroke-opacity:1; fill:none\" points=\"\n",
       "  249.837,1503.47 249.837,1481.63 \n",
       "  \"/>\n",
       "<polyline clip-path=\"url(#clip7701)\" style=\"stroke:#000000; stroke-width:4; stroke-opacity:1; fill:none\" points=\"\n",
       "  765.501,1503.47 765.501,1481.63 \n",
       "  \"/>\n",
       "<polyline clip-path=\"url(#clip7701)\" style=\"stroke:#000000; stroke-width:4; stroke-opacity:1; fill:none\" points=\"\n",
       "  1281.17,1503.47 1281.17,1481.63 \n",
       "  \"/>\n",
       "<polyline clip-path=\"url(#clip7701)\" style=\"stroke:#000000; stroke-width:4; stroke-opacity:1; fill:none\" points=\"\n",
       "  1796.83,1503.47 1796.83,1481.63 \n",
       "  \"/>\n",
       "<polyline clip-path=\"url(#clip7701)\" style=\"stroke:#000000; stroke-width:4; stroke-opacity:1; fill:none\" points=\"\n",
       "  2312.49,1503.47 2312.49,1481.63 \n",
       "  \"/>\n",
       "<polyline clip-path=\"url(#clip7701)\" style=\"stroke:#000000; stroke-width:4; stroke-opacity:1; fill:none\" points=\"\n",
       "  189.504,1462.57 221.48,1462.57 \n",
       "  \"/>\n",
       "<polyline clip-path=\"url(#clip7701)\" style=\"stroke:#000000; stroke-width:4; stroke-opacity:1; fill:none\" points=\"\n",
       "  189.504,1119.04 221.48,1119.04 \n",
       "  \"/>\n",
       "<polyline clip-path=\"url(#clip7701)\" style=\"stroke:#000000; stroke-width:4; stroke-opacity:1; fill:none\" points=\"\n",
       "  189.504,775.515 221.48,775.515 \n",
       "  \"/>\n",
       "<polyline clip-path=\"url(#clip7701)\" style=\"stroke:#000000; stroke-width:4; stroke-opacity:1; fill:none\" points=\"\n",
       "  189.504,431.986 221.48,431.986 \n",
       "  \"/>\n",
       "<polyline clip-path=\"url(#clip7701)\" style=\"stroke:#000000; stroke-width:4; stroke-opacity:1; fill:none\" points=\"\n",
       "  189.504,88.4582 221.48,88.4582 \n",
       "  \"/>\n",
       "<g clip-path=\"url(#clip7701)\">\n",
       "<text style=\"fill:#000000; fill-opacity:1; font-family:Arial,Helvetica Neue,Helvetica,sans-serif; font-size:48; text-anchor:middle;\" transform=\"rotate(0, 249.837, 1557.47)\" x=\"249.837\" y=\"1557.47\">0</text>\n",
       "</g>\n",
       "<g clip-path=\"url(#clip7701)\">\n",
       "<text style=\"fill:#000000; fill-opacity:1; font-family:Arial,Helvetica Neue,Helvetica,sans-serif; font-size:48; text-anchor:middle;\" transform=\"rotate(0, 765.501, 1557.47)\" x=\"765.501\" y=\"1557.47\">1</text>\n",
       "</g>\n",
       "<g clip-path=\"url(#clip7701)\">\n",
       "<text style=\"fill:#000000; fill-opacity:1; font-family:Arial,Helvetica Neue,Helvetica,sans-serif; font-size:48; text-anchor:middle;\" transform=\"rotate(0, 1281.17, 1557.47)\" x=\"1281.17\" y=\"1557.47\">2</text>\n",
       "</g>\n",
       "<g clip-path=\"url(#clip7701)\">\n",
       "<text style=\"fill:#000000; fill-opacity:1; font-family:Arial,Helvetica Neue,Helvetica,sans-serif; font-size:48; text-anchor:middle;\" transform=\"rotate(0, 1796.83, 1557.47)\" x=\"1796.83\" y=\"1557.47\">3</text>\n",
       "</g>\n",
       "<g clip-path=\"url(#clip7701)\">\n",
       "<text style=\"fill:#000000; fill-opacity:1; font-family:Arial,Helvetica Neue,Helvetica,sans-serif; font-size:48; text-anchor:middle;\" transform=\"rotate(0, 2312.49, 1557.47)\" x=\"2312.49\" y=\"1557.47\">4</text>\n",
       "</g>\n",
       "<g clip-path=\"url(#clip7701)\">\n",
       "<text style=\"fill:#000000; fill-opacity:1; font-family:Arial,Helvetica Neue,Helvetica,sans-serif; font-size:48; text-anchor:end;\" transform=\"rotate(0, 165.504, 1480.07)\" x=\"165.504\" y=\"1480.07\">-1.0</text>\n",
       "</g>\n",
       "<g clip-path=\"url(#clip7701)\">\n",
       "<text style=\"fill:#000000; fill-opacity:1; font-family:Arial,Helvetica Neue,Helvetica,sans-serif; font-size:48; text-anchor:end;\" transform=\"rotate(0, 165.504, 1136.54)\" x=\"165.504\" y=\"1136.54\">-0.5</text>\n",
       "</g>\n",
       "<g clip-path=\"url(#clip7701)\">\n",
       "<text style=\"fill:#000000; fill-opacity:1; font-family:Arial,Helvetica Neue,Helvetica,sans-serif; font-size:48; text-anchor:end;\" transform=\"rotate(0, 165.504, 793.015)\" x=\"165.504\" y=\"793.015\">0.0</text>\n",
       "</g>\n",
       "<g clip-path=\"url(#clip7701)\">\n",
       "<text style=\"fill:#000000; fill-opacity:1; font-family:Arial,Helvetica Neue,Helvetica,sans-serif; font-size:48; text-anchor:end;\" transform=\"rotate(0, 165.504, 449.486)\" x=\"165.504\" y=\"449.486\">0.5</text>\n",
       "</g>\n",
       "<g clip-path=\"url(#clip7701)\">\n",
       "<text style=\"fill:#000000; fill-opacity:1; font-family:Arial,Helvetica Neue,Helvetica,sans-serif; font-size:48; text-anchor:end;\" transform=\"rotate(0, 165.504, 105.958)\" x=\"165.504\" y=\"105.958\">1.0</text>\n",
       "</g>\n",
       "<polyline clip-path=\"url(#clip7703)\" style=\"stroke:#009af9; stroke-width:4; stroke-opacity:1; fill:none\" points=\"\n",
       "  249.837,88.4582 301.403,91.8906 352.97,102.154 404.536,119.145 456.103,142.694 507.669,172.566 559.235,208.462 610.802,250.025 662.368,296.838 713.935,348.433 \n",
       "  765.501,404.296 817.067,463.869 868.634,526.554 920.2,591.728 971.767,658.738 1023.33,726.914 1074.9,795.576 1126.47,864.038 1178.03,931.615 1229.6,997.633 \n",
       "  1281.17,1061.43 1332.73,1122.37 1384.3,1179.85 1435.86,1233.28 1487.43,1282.15 1539,1325.95 1590.56,1364.25 1642.13,1396.66 1693.7,1422.87 1745.26,1442.62 \n",
       "  1796.83,1455.7 1848.4,1461.98 1899.96,1461.4 1951.53,1453.97 2003.1,1439.76 2054.66,1418.91 2106.23,1391.64 2157.79,1358.21 2209.36,1318.95 2260.93,1274.27 \n",
       "  \n",
       "  \"/>\n",
       "<polyline clip-path=\"url(#clip7703)\" style=\"stroke:#e26f46; stroke-width:4; stroke-opacity:1; fill:none\" points=\"\n",
       "  249.837,89.6027 301.403,96.4561 352.97,110.094 404.536,130.381 456.103,157.114 507.669,190.026 559.235,228.788 610.802,273.013 662.368,322.258 713.935,376.032 \n",
       "  765.501,433.798 817.067,494.978 868.634,558.961 920.2,625.107 971.767,692.757 1023.33,761.233 1074.9,829.853 1126.47,897.929 1178.03,964.782 1229.6,1029.74 \n",
       "  1281.17,1092.17 1332.73,1151.42 1384.3,1206.93 1435.86,1258.12 1487.43,1304.49 1539,1345.57 1590.56,1380.96 1642.13,1410.3 1693.7,1433.29 1745.26,1449.72 \n",
       "  1796.83,1459.41 1848.4,1462.26 1899.96,1458.25 1951.53,1447.42 2003.1,1429.88 2054.66,1405.8 2106.23,1375.42 2157.79,1339.05 2209.36,1297.05 2260.93,1249.83 \n",
       "  \n",
       "  \"/>\n",
       "<polygon clip-path=\"url(#clip7701)\" points=\"\n",
       "1805.99,312.204 2249.26,312.204 2249.26,130.764 1805.99,130.764 \n",
       "  \" fill=\"#ffffff\" fill-opacity=\"1\"/>\n",
       "<polyline clip-path=\"url(#clip7701)\" style=\"stroke:#000000; stroke-width:4; stroke-opacity:1; fill:none\" points=\"\n",
       "  1805.99,312.204 2249.26,312.204 2249.26,130.764 1805.99,130.764 1805.99,312.204 \n",
       "  \"/>\n",
       "<polyline clip-path=\"url(#clip7701)\" style=\"stroke:#009af9; stroke-width:4; stroke-opacity:1; fill:none\" points=\"\n",
       "  1829.99,191.244 1973.99,191.244 \n",
       "  \"/>\n",
       "<g clip-path=\"url(#clip7701)\">\n",
       "<text style=\"fill:#000000; fill-opacity:1; font-family:Arial,Helvetica Neue,Helvetica,sans-serif; font-size:48; text-anchor:start;\" transform=\"rotate(0, 1997.99, 208.744)\" x=\"1997.99\" y=\"208.744\">f&apos; with AD</text>\n",
       "</g>\n",
       "<polyline clip-path=\"url(#clip7701)\" style=\"stroke:#e26f46; stroke-width:4; stroke-opacity:1; fill:none\" points=\"\n",
       "  1829.99,251.724 1973.99,251.724 \n",
       "  \"/>\n",
       "<g clip-path=\"url(#clip7701)\">\n",
       "<text style=\"fill:#000000; fill-opacity:1; font-family:Arial,Helvetica Neue,Helvetica,sans-serif; font-size:48; text-anchor:start;\" transform=\"rotate(0, 1997.99, 269.224)\" x=\"1997.99\" y=\"269.224\">f&apos;</text>\n",
       "</g>\n",
       "</svg>\n"
      ]
     },
     "execution_count": 42,
     "metadata": {},
     "output_type": "execute_result"
    }
   ],
   "source": [
    "using Plots, ForwardDiff\n",
    "# operator to get the derivative of this function using AD\n",
    "D(f) = x -> ForwardDiff.derivative(f, x)\n",
    "\n",
    "\n",
    "f(x) = sin(x)\n",
    "x = 0.0:0.1:4.0\n",
    "f_x = f.(x)\n",
    "D_f_x = derivatives(f_x, x)\n",
    "\n",
    "plot(x[1:end-1], D(f).(x[1:end-1]), label = \"f' with AD\")\n",
    "plot!(x[1:end-1], D_f_x, label = \"f'\")"
   ]
  },
  {
   "cell_type": "markdown",
   "metadata": {},
   "source": [
    "What about if we pass in a function instead of an `AbstractArray`"
   ]
  },
  {
   "cell_type": "code",
   "execution_count": 43,
   "metadata": {},
   "outputs": [
    {
     "name": "stdout",
     "output_type": "stream",
     "text": [
      "typeof(f) <: Function = true\n",
      "d_f[1] = 0.9983341664682815\n"
     ]
    }
   ],
   "source": [
    "derivatives(f::Function, x::AbstractRange) = diff(f.(x))/step(x) # broadcast function\n",
    "\n",
    "@show typeof(f) <: Function\n",
    "d_f = derivatives(f, x)\n",
    "@show d_f[1];"
   ]
  },
  {
   "cell_type": "markdown",
   "metadata": {},
   "source": [
    "Finally, if `x` was an `AbstractArray` rather than an `AbstractRange` we can no longer use a uniform step"
   ]
  },
  {
   "cell_type": "code",
   "execution_count": 44,
   "metadata": {},
   "outputs": [
    {
     "name": "stdout",
     "output_type": "stream",
     "text": [
      "d_f[1] = 0.9983341664682815\n"
     ]
    }
   ],
   "source": [
    "derivatives(f::Function, x::AbstractArray) = diff(f.(x))./diff(x) # broadcasts over the diff\n",
    "\n",
    "d_f = derivatives(f, x)\n",
    "@show d_f[1];"
   ]
  },
  {
   "cell_type": "markdown",
   "metadata": {},
   "source": [
    "In the final example, we see that it is able to use specialized implementations over both the `f` and the `x` arguments\n",
    "\n",
    "This is the “multiple” in multiple-dispatch"
   ]
  },
  {
   "cell_type": "markdown",
   "metadata": {},
   "source": [
    "## Exercises"
   ]
  },
  {
   "cell_type": "markdown",
   "metadata": {},
   "source": [
    "### Exercise 1 (Advanced)\n",
    "\n",
    "The [trapezoidal rule](https://en.wikipedia.org/wiki/Trapezoidal_rule)  approximate an integral with\n",
    "\n",
    "$$\n",
    "\\int_\\underline{x}^\\bar{x} f(x) \\, dx \\approx \\sum_{n=1}^N \\frac{f(x_{n-1}) + f(x_n)}{2} \\Delta x_n\n",
    "$$\n",
    "\n",
    "where $ x_0 = \\underline{x},\\, x_N = \\bar{x} $, and $ \\Delta x_n \\equiv x_{n-1} - x_n $\n",
    "\n",
    "Given an `x` and a function `f`, implement a few variations of the trapezoidal rule using multiple-dispatch\n",
    "\n",
    "- `trapezoidal(f, x)` for any `typeof(x) = AbstractArray` and `typeof(f) == AbstractArray` where `length(x) = length(f)`  \n",
    "- `trapezoidal(f, x)` for any `typeof(x) = AbstractRange` and `typeof(f) == AbstractArray` where `length(x) = length(f)`\n",
    "  * exploit the fact that `AbstractRange` have constant step sizes to specialize the algorithm  \n",
    "- `trapezoidal(f, x̲, x̄, N)` where `typeof(f) = Function`, and the other arguments are `Real`\n",
    "  * for this, build a uniform grid with `N` points on `[x̲,x̄]`, call the `f` function at those grid points, and use the existing `trapezoidal(f, x)` from the implementation  \n",
    "\n",
    "\n",
    "With these,\n",
    "1. Test each variation of the function with $ f(x) = x^2 $ with $ \\underline{x}=0,\\, \\bar{x} = 1 $\n",
    "2. From the analytical solution of the function, plot the error of `trapezoidal(f, x̲, x̄, N)` relative to the analytical solution for a grid of different `N` values\n",
    "3. Consider trying different functions for $ f(x) $ and comparing the solutions for various `N`\n",
    "\n",
    "When trying different functions, instead of integrating by hand consider using a high-accuracy library for numerical integration such as [QuadGK.jl](https://juliamath.github.io/QuadGK.jl/latest/)"
   ]
  },
  {
   "cell_type": "code",
   "execution_count": 45,
   "metadata": {},
   "outputs": [
    {
     "data": {
      "text/plain": [
       "(0.3333333333333333, 5.551115123125783e-17)"
      ]
     },
     "execution_count": 45,
     "metadata": {},
     "output_type": "execute_result"
    }
   ],
   "source": [
    "using QuadGK\n",
    "f(x) = x^2\n",
    "value, accuracy = quadgk(f, 0.0, 1.0)"
   ]
  },
  {
   "cell_type": "code",
   "execution_count": null,
   "metadata": {},
   "outputs": [],
   "source": []
  }
 ],
 "metadata": {
  "filename": "introduction_to_types.rst",
  "kernelspec": {
   "display_name": "Julia 1.0.0",
   "language": "julia",
   "name": "julia-1.0"
  },
  "language_info": {
   "file_extension": ".jl",
   "mimetype": "application/julia",
   "name": "julia",
   "version": "1.0.0"
  },
  "title": "Introduction to Types and Generic Programming"
 },
 "nbformat": 4,
 "nbformat_minor": 2
}
