{
 "cells": [
  {
   "cell_type": "markdown",
   "metadata": {},
   "source": [
    "\n",
    "<a id='julia-by-example'></a>\n",
    "How to read this lecture…\n",
    "\n",
    "- For some notebooks, enable content with “Trust” on the command tab of Jupyter lab  \n",
    "- Code should execute sequentially if run in a Jupyter notebook  \n",
    "- Please direct feedback to [contact@quantecon.org](mailto:contact@quantecon.org\") or [discourse forum](http://discourse.quantecon.org/)  "
   ]
  },
  {
   "cell_type": "markdown",
   "metadata": {},
   "source": [
    "# Introductory Examples"
   ]
  },
  {
   "cell_type": "markdown",
   "metadata": {},
   "source": [
    "## Contents\n",
    "\n",
    "- [Introductory Examples](#Introductory-Examples)  \n",
    "  - [Overview](#Overview)  \n",
    "  - [Example: Plotting a White Noise Process](#Example:-Plotting-a-White-Noise-Process)  \n",
    "  - [Example: Variations on Fixed-Points](#Example:-Variations-on-Fixed-Points)  \n",
    "  - [Exercises](#Exercises)  \n",
    "  - [Solutions](#Solutions)  "
   ]
  },
  {
   "cell_type": "markdown",
   "metadata": {},
   "source": [
    "## Overview\n",
    "\n",
    "We’re now ready to start learning the Julia language itself"
   ]
  },
  {
   "cell_type": "markdown",
   "metadata": {},
   "source": [
    "### Level\n",
    "\n",
    "Our approach is aimed at those who already have at least some knowledge of programming — perhaps experience with Python, MATLAB, Fortran, C or similar\n",
    "\n",
    "In particular, we assume you have some familiarity with fundamental programming concepts such as\n",
    "\n",
    "- variables  \n",
    "- arrays or vectors  \n",
    "- loops  \n",
    "- conditionals (if/else)  "
   ]
  },
  {
   "cell_type": "markdown",
   "metadata": {},
   "source": [
    "### Approach\n",
    "\n",
    "In this lecture we will write and then pick apart small Julia programs\n",
    "\n",
    "At this stage the objective is to introduce you to basic syntax and data structures\n",
    "\n",
    "Deeper concepts—how things work—will be covered in later lectures\n",
    "\n",
    "Since we are looking for simplicity the examples are a little contrived\n",
    "\n",
    "In this lecture, we will often start with a direct MATLAB/FORTRAN approach which often is **poor coding style** in Julia, but then move towards more **elegant code** which is tightly connected to the mathematics"
   ]
  },
  {
   "cell_type": "markdown",
   "metadata": {},
   "source": [
    "### Set Up\n",
    "\n",
    "We assume that you’ve worked your way through [our getting started lecture](getting_started.ipynb#) already\n",
    "\n",
    "For this lecture, we recommend that you work in a Jupyter notebook, as described [here](getting_started.ipynb#jl-jupyter)"
   ]
  },
  {
   "cell_type": "markdown",
   "metadata": {},
   "source": [
    "### Other References\n",
    "\n",
    "The definitive reference is [Julia’s own documentation](https://docs.julialang.org/en/stable/)\n",
    "\n",
    "The manual is thoughtfully written but also quite dense (and somewhat evangelical)\n",
    "\n",
    "The presentation in this and our remaining lectures is more of a tutorial style based around examples"
   ]
  },
  {
   "cell_type": "markdown",
   "metadata": {},
   "source": [
    "## Example: Plotting a White Noise Process\n",
    "\n",
    "To begin, let’s suppose that we want to simulate and plot the white noise\n",
    "process $ \\epsilon_0, \\epsilon_1, \\ldots, \\epsilon_T $, where each draw $ \\epsilon_t $ is independent standard normal\n",
    "\n",
    "Fire up a [Jupyter notebook](getting_started.ipynb#jl-jupyter)"
   ]
  },
  {
   "cell_type": "markdown",
   "metadata": {},
   "source": [
    "### Introduction to Packages\n",
    "\n",
    "The first step is to activate a project environment\n",
    "\n",
    "Activate the project environment, ensuring that `Project.toml` and `Manifest.toml` are **in the same location** as your notebook"
   ]
  },
  {
   "cell_type": "code",
   "execution_count": 1,
   "metadata": {},
   "outputs": [],
   "source": [
    "using Pkg; Pkg.activate(@__DIR__); # activate environment in the notebook's location"
   ]
  },
  {
   "cell_type": "markdown",
   "metadata": {},
   "source": [
    "Julia code will often be created from a variety of packages, such as `Plots.jl` in this case\n",
    "\n",
    "A project is defined by a `Project.toml` and `Manifest.toml` file in the same directory as the notebook (i.e. from the `@__DIR__` argument)\n",
    "\n",
    "We will discuss it more in [Julia Packages](packages.ipynb#packages), but these files provide a listing of packages and versions used by the code\n",
    "\n",
    "This ensures that an environment for running code is **reproducible**, so that anyone can replicate the precise set of package and versions used in construction\n",
    "\n",
    "\n",
    "<a id='import'></a>"
   ]
  },
  {
   "cell_type": "markdown",
   "metadata": {},
   "source": [
    "### Using Functions from a Package\n",
    "\n",
    "Some functions are built into the base Julia, such as `randn`, which returns a single draw from a normal distibution mean 0 and variance 1 if given no parameters"
   ]
  },
  {
   "cell_type": "code",
   "execution_count": 2,
   "metadata": {},
   "outputs": [
    {
     "data": {
      "text/plain": [
       "-0.16357694586145377"
      ]
     },
     "execution_count": 2,
     "metadata": {},
     "output_type": "execute_result"
    }
   ],
   "source": [
    "randn()"
   ]
  },
  {
   "cell_type": "markdown",
   "metadata": {},
   "source": [
    "Other functions require importing all of the names from an external library"
   ]
  },
  {
   "cell_type": "code",
   "execution_count": 46,
   "metadata": {},
   "outputs": [
    {
     "data": {
      "image/svg+xml": [
       "<?xml version=\"1.0\" encoding=\"utf-8\"?>\n",
       "<svg xmlns=\"http://www.w3.org/2000/svg\" xmlns:xlink=\"http://www.w3.org/1999/xlink\" width=\"600\" height=\"400\" viewBox=\"0 0 2400 1600\">\n",
       "<defs>\n",
       "  <clipPath id=\"clip4900\">\n",
       "    <rect x=\"0\" y=\"0\" width=\"2000\" height=\"2000\"/>\n",
       "  </clipPath>\n",
       "</defs>\n",
       "<defs>\n",
       "  <clipPath id=\"clip4901\">\n",
       "    <rect x=\"0\" y=\"0\" width=\"2400\" height=\"1600\"/>\n",
       "  </clipPath>\n",
       "</defs>\n",
       "<polygon clip-path=\"url(#clip4901)\" points=\"\n",
       "0,1600 2400,1600 2400,0 0,0 \n",
       "  \" fill=\"#ffffff\" fill-opacity=\"1\"/>\n",
       "<defs>\n",
       "  <clipPath id=\"clip4902\">\n",
       "    <rect x=\"480\" y=\"0\" width=\"1681\" height=\"1600\"/>\n",
       "  </clipPath>\n",
       "</defs>\n",
       "<polygon clip-path=\"url(#clip4901)\" points=\"\n",
       "149.361,1503.47 2321.26,1503.47 2321.26,47.2441 149.361,47.2441 \n",
       "  \" fill=\"#ffffff\" fill-opacity=\"1\"/>\n",
       "<defs>\n",
       "  <clipPath id=\"clip4903\">\n",
       "    <rect x=\"149\" y=\"47\" width=\"2173\" height=\"1457\"/>\n",
       "  </clipPath>\n",
       "</defs>\n",
       "<polyline clip-path=\"url(#clip4903)\" style=\"stroke:#000000; stroke-width:2; stroke-opacity:0.1; fill:none\" points=\"\n",
       "  190.133,1503.47 190.133,47.2441 \n",
       "  \"/>\n",
       "<polyline clip-path=\"url(#clip4903)\" style=\"stroke:#000000; stroke-width:2; stroke-opacity:0.1; fill:none\" points=\"\n",
       "  707.547,1503.47 707.547,47.2441 \n",
       "  \"/>\n",
       "<polyline clip-path=\"url(#clip4903)\" style=\"stroke:#000000; stroke-width:2; stroke-opacity:0.1; fill:none\" points=\"\n",
       "  1224.96,1503.47 1224.96,47.2441 \n",
       "  \"/>\n",
       "<polyline clip-path=\"url(#clip4903)\" style=\"stroke:#000000; stroke-width:2; stroke-opacity:0.1; fill:none\" points=\"\n",
       "  1742.38,1503.47 1742.38,47.2441 \n",
       "  \"/>\n",
       "<polyline clip-path=\"url(#clip4903)\" style=\"stroke:#000000; stroke-width:2; stroke-opacity:0.1; fill:none\" points=\"\n",
       "  2259.79,1503.47 2259.79,47.2441 \n",
       "  \"/>\n",
       "<polyline clip-path=\"url(#clip4903)\" style=\"stroke:#000000; stroke-width:2; stroke-opacity:0.1; fill:none\" points=\"\n",
       "  149.361,1485.5 2321.26,1485.5 \n",
       "  \"/>\n",
       "<polyline clip-path=\"url(#clip4903)\" style=\"stroke:#000000; stroke-width:2; stroke-opacity:0.1; fill:none\" points=\"\n",
       "  149.361,1230.36 2321.26,1230.36 \n",
       "  \"/>\n",
       "<polyline clip-path=\"url(#clip4903)\" style=\"stroke:#000000; stroke-width:2; stroke-opacity:0.1; fill:none\" points=\"\n",
       "  149.361,975.224 2321.26,975.224 \n",
       "  \"/>\n",
       "<polyline clip-path=\"url(#clip4903)\" style=\"stroke:#000000; stroke-width:2; stroke-opacity:0.1; fill:none\" points=\"\n",
       "  149.361,720.086 2321.26,720.086 \n",
       "  \"/>\n",
       "<polyline clip-path=\"url(#clip4903)\" style=\"stroke:#000000; stroke-width:2; stroke-opacity:0.1; fill:none\" points=\"\n",
       "  149.361,464.948 2321.26,464.948 \n",
       "  \"/>\n",
       "<polyline clip-path=\"url(#clip4903)\" style=\"stroke:#000000; stroke-width:2; stroke-opacity:0.1; fill:none\" points=\"\n",
       "  149.361,209.81 2321.26,209.81 \n",
       "  \"/>\n",
       "<polyline clip-path=\"url(#clip4901)\" style=\"stroke:#000000; stroke-width:4; stroke-opacity:1; fill:none\" points=\"\n",
       "  149.361,1503.47 2321.26,1503.47 \n",
       "  \"/>\n",
       "<polyline clip-path=\"url(#clip4901)\" style=\"stroke:#000000; stroke-width:4; stroke-opacity:1; fill:none\" points=\"\n",
       "  149.361,1503.47 149.361,47.2441 \n",
       "  \"/>\n",
       "<polyline clip-path=\"url(#clip4901)\" style=\"stroke:#000000; stroke-width:4; stroke-opacity:1; fill:none\" points=\"\n",
       "  190.133,1503.47 190.133,1481.63 \n",
       "  \"/>\n",
       "<polyline clip-path=\"url(#clip4901)\" style=\"stroke:#000000; stroke-width:4; stroke-opacity:1; fill:none\" points=\"\n",
       "  707.547,1503.47 707.547,1481.63 \n",
       "  \"/>\n",
       "<polyline clip-path=\"url(#clip4901)\" style=\"stroke:#000000; stroke-width:4; stroke-opacity:1; fill:none\" points=\"\n",
       "  1224.96,1503.47 1224.96,1481.63 \n",
       "  \"/>\n",
       "<polyline clip-path=\"url(#clip4901)\" style=\"stroke:#000000; stroke-width:4; stroke-opacity:1; fill:none\" points=\"\n",
       "  1742.38,1503.47 1742.38,1481.63 \n",
       "  \"/>\n",
       "<polyline clip-path=\"url(#clip4901)\" style=\"stroke:#000000; stroke-width:4; stroke-opacity:1; fill:none\" points=\"\n",
       "  2259.79,1503.47 2259.79,1481.63 \n",
       "  \"/>\n",
       "<polyline clip-path=\"url(#clip4901)\" style=\"stroke:#000000; stroke-width:4; stroke-opacity:1; fill:none\" points=\"\n",
       "  149.361,1485.5 181.939,1485.5 \n",
       "  \"/>\n",
       "<polyline clip-path=\"url(#clip4901)\" style=\"stroke:#000000; stroke-width:4; stroke-opacity:1; fill:none\" points=\"\n",
       "  149.361,1230.36 181.939,1230.36 \n",
       "  \"/>\n",
       "<polyline clip-path=\"url(#clip4901)\" style=\"stroke:#000000; stroke-width:4; stroke-opacity:1; fill:none\" points=\"\n",
       "  149.361,975.224 181.939,975.224 \n",
       "  \"/>\n",
       "<polyline clip-path=\"url(#clip4901)\" style=\"stroke:#000000; stroke-width:4; stroke-opacity:1; fill:none\" points=\"\n",
       "  149.361,720.086 181.939,720.086 \n",
       "  \"/>\n",
       "<polyline clip-path=\"url(#clip4901)\" style=\"stroke:#000000; stroke-width:4; stroke-opacity:1; fill:none\" points=\"\n",
       "  149.361,464.948 181.939,464.948 \n",
       "  \"/>\n",
       "<polyline clip-path=\"url(#clip4901)\" style=\"stroke:#000000; stroke-width:4; stroke-opacity:1; fill:none\" points=\"\n",
       "  149.361,209.81 181.939,209.81 \n",
       "  \"/>\n",
       "<g clip-path=\"url(#clip4901)\">\n",
       "<text style=\"fill:#000000; fill-opacity:1; font-family:Arial,Helvetica Neue,Helvetica,sans-serif; font-size:48; text-anchor:middle;\" transform=\"rotate(0, 190.133, 1557.47)\" x=\"190.133\" y=\"1557.47\">0</text>\n",
       "</g>\n",
       "<g clip-path=\"url(#clip4901)\">\n",
       "<text style=\"fill:#000000; fill-opacity:1; font-family:Arial,Helvetica Neue,Helvetica,sans-serif; font-size:48; text-anchor:middle;\" transform=\"rotate(0, 707.547, 1557.47)\" x=\"707.547\" y=\"1557.47\">25</text>\n",
       "</g>\n",
       "<g clip-path=\"url(#clip4901)\">\n",
       "<text style=\"fill:#000000; fill-opacity:1; font-family:Arial,Helvetica Neue,Helvetica,sans-serif; font-size:48; text-anchor:middle;\" transform=\"rotate(0, 1224.96, 1557.47)\" x=\"1224.96\" y=\"1557.47\">50</text>\n",
       "</g>\n",
       "<g clip-path=\"url(#clip4901)\">\n",
       "<text style=\"fill:#000000; fill-opacity:1; font-family:Arial,Helvetica Neue,Helvetica,sans-serif; font-size:48; text-anchor:middle;\" transform=\"rotate(0, 1742.38, 1557.47)\" x=\"1742.38\" y=\"1557.47\">75</text>\n",
       "</g>\n",
       "<g clip-path=\"url(#clip4901)\">\n",
       "<text style=\"fill:#000000; fill-opacity:1; font-family:Arial,Helvetica Neue,Helvetica,sans-serif; font-size:48; text-anchor:middle;\" transform=\"rotate(0, 2259.79, 1557.47)\" x=\"2259.79\" y=\"1557.47\">100</text>\n",
       "</g>\n",
       "<g clip-path=\"url(#clip4901)\">\n",
       "<text style=\"fill:#000000; fill-opacity:1; font-family:Arial,Helvetica Neue,Helvetica,sans-serif; font-size:48; text-anchor:end;\" transform=\"rotate(0, 125.361, 1503)\" x=\"125.361\" y=\"1503\">-3</text>\n",
       "</g>\n",
       "<g clip-path=\"url(#clip4901)\">\n",
       "<text style=\"fill:#000000; fill-opacity:1; font-family:Arial,Helvetica Neue,Helvetica,sans-serif; font-size:48; text-anchor:end;\" transform=\"rotate(0, 125.361, 1247.86)\" x=\"125.361\" y=\"1247.86\">-2</text>\n",
       "</g>\n",
       "<g clip-path=\"url(#clip4901)\">\n",
       "<text style=\"fill:#000000; fill-opacity:1; font-family:Arial,Helvetica Neue,Helvetica,sans-serif; font-size:48; text-anchor:end;\" transform=\"rotate(0, 125.361, 992.724)\" x=\"125.361\" y=\"992.724\">-1</text>\n",
       "</g>\n",
       "<g clip-path=\"url(#clip4901)\">\n",
       "<text style=\"fill:#000000; fill-opacity:1; font-family:Arial,Helvetica Neue,Helvetica,sans-serif; font-size:48; text-anchor:end;\" transform=\"rotate(0, 125.361, 737.586)\" x=\"125.361\" y=\"737.586\">0</text>\n",
       "</g>\n",
       "<g clip-path=\"url(#clip4901)\">\n",
       "<text style=\"fill:#000000; fill-opacity:1; font-family:Arial,Helvetica Neue,Helvetica,sans-serif; font-size:48; text-anchor:end;\" transform=\"rotate(0, 125.361, 482.448)\" x=\"125.361\" y=\"482.448\">1</text>\n",
       "</g>\n",
       "<g clip-path=\"url(#clip4901)\">\n",
       "<text style=\"fill:#000000; fill-opacity:1; font-family:Arial,Helvetica Neue,Helvetica,sans-serif; font-size:48; text-anchor:end;\" transform=\"rotate(0, 125.361, 227.31)\" x=\"125.361\" y=\"227.31\">2</text>\n",
       "</g>\n",
       "<polyline clip-path=\"url(#clip4903)\" style=\"stroke:#009af9; stroke-width:4; stroke-opacity:1; fill:none\" points=\"\n",
       "  210.829,514.784 231.526,1000.81 252.223,243.15 272.919,492.89 293.616,1103.34 314.312,651.087 335.009,966.537 355.706,746.158 376.402,684.557 397.099,662.147 \n",
       "  417.795,1392.23 438.492,468.628 459.188,820.222 479.885,1014.69 500.582,760.779 521.278,564.725 541.975,708.529 562.671,285.465 583.368,954.513 604.065,567.9 \n",
       "  624.761,1133.64 645.458,869.934 666.154,723.363 686.851,768.787 707.547,798.132 728.244,211.219 748.941,836.548 769.637,947.293 790.334,871.12 811.03,484.494 \n",
       "  831.727,544.294 852.423,970.978 873.12,650.569 893.817,916.127 914.513,879.401 935.21,875.274 955.906,713.067 976.603,541.959 997.3,421.977 1018,590.214 \n",
       "  1038.69,682.461 1059.39,475.515 1080.09,379.971 1100.78,723.464 1121.48,877.423 1142.18,489.286 1162.87,269.759 1183.57,385.074 1204.27,358.418 1224.96,853.276 \n",
       "  1245.66,591.626 1266.36,639.656 1287.05,88.4582 1307.75,778.592 1328.44,462.576 1349.14,956.49 1369.84,338.668 1390.53,733.019 1411.23,386.103 1431.93,921.598 \n",
       "  1452.62,1118.31 1473.32,349.218 1494.02,426.645 1514.71,823.374 1535.41,788.373 1556.11,383.119 1576.8,839.502 1597.5,1125.62 1618.2,693.217 1638.89,711.816 \n",
       "  1659.59,996.04 1680.29,997.005 1700.98,434.053 1721.68,1462.26 1742.38,721.543 1763.07,1071.23 1783.77,1211.04 1804.47,433.7 1825.16,739.779 1845.86,912.299 \n",
       "  1866.56,716.25 1887.25,741.677 1907.95,853.227 1928.65,697.979 1949.34,539.534 1970.04,309.115 1990.74,681.04 2011.43,640.148 2032.13,547.492 2052.83,731.695 \n",
       "  2073.52,1041.16 2094.22,925.564 2114.91,361.102 2135.61,842.845 2156.31,797.468 2177,866.654 2197.7,1185.34 2218.4,556.638 2239.09,547.74 2259.79,912.478 \n",
       "  \n",
       "  \"/>\n",
       "<polygon clip-path=\"url(#clip4901)\" points=\"\n",
       "1958.43,251.724 2249.26,251.724 2249.26,130.764 1958.43,130.764 \n",
       "  \" fill=\"#ffffff\" fill-opacity=\"1\"/>\n",
       "<polyline clip-path=\"url(#clip4901)\" style=\"stroke:#000000; stroke-width:4; stroke-opacity:1; fill:none\" points=\"\n",
       "  1958.43,251.724 2249.26,251.724 2249.26,130.764 1958.43,130.764 1958.43,251.724 \n",
       "  \"/>\n",
       "<polyline clip-path=\"url(#clip4901)\" style=\"stroke:#009af9; stroke-width:4; stroke-opacity:1; fill:none\" points=\"\n",
       "  1982.43,191.244 2126.43,191.244 \n",
       "  \"/>\n",
       "<g clip-path=\"url(#clip4901)\">\n",
       "<text style=\"fill:#000000; fill-opacity:1; font-family:Arial,Helvetica Neue,Helvetica,sans-serif; font-size:48; text-anchor:start;\" transform=\"rotate(0, 2150.43, 208.744)\" x=\"2150.43\" y=\"208.744\">y1</text>\n",
       "</g>\n",
       "</svg>\n"
      ]
     },
     "execution_count": 46,
     "metadata": {},
     "output_type": "execute_result"
    }
   ],
   "source": [
    "using Plots, LinearAlgebra, Statistics\n",
    "\n",
    "n = 100\n",
    "ϵ = randn(n)\n",
    "plot(1:n, ϵ)"
   ]
  },
  {
   "cell_type": "markdown",
   "metadata": {},
   "source": [
    "Let’s break this down and see how it works\n",
    "\n",
    "The effect of the statement `using Plots` is to make all the names exported by the `Plots` module available\n",
    "\n",
    "Because we used `Pkg.activate` previously, it will use whatever version of `Plots.jl` that was specified in the `Project.toml` and `Manifest.toml` files\n",
    "\n",
    "The other packages `LinearAlgebra` and `Statistics` are base Julia libraries, but require an explicit using\n",
    "\n",
    "The arguments to `plot` are the numbers `1,2, ..., n` for the x-axis, a vector `ϵ` for the y-axis, and (optional) settings\n",
    "\n",
    "The function `randn(n)` returns a column vector `n` random draws from a normal distribution mean 0 and variance 1"
   ]
  },
  {
   "cell_type": "markdown",
   "metadata": {},
   "source": [
    "### Arrays\n",
    "\n",
    "As a language intended for mathematical and scientific computing, Julia has strong support for using symbols in the source code\n",
    "\n",
    "In the above case, the `ϵ` and many other symbols can be typed in most Julia editor by providing the LaTeX and `<TAB>`, i.e. `\\epsilon<TAB>`\n",
    "\n",
    "The return type is one of the most fundamental Julia data types: an array"
   ]
  },
  {
   "cell_type": "code",
   "execution_count": 4,
   "metadata": {},
   "outputs": [
    {
     "data": {
      "text/plain": [
       "Array{Float64,1}"
      ]
     },
     "execution_count": 4,
     "metadata": {},
     "output_type": "execute_result"
    }
   ],
   "source": [
    "typeof(ϵ)"
   ]
  },
  {
   "cell_type": "code",
   "execution_count": 5,
   "metadata": {},
   "outputs": [
    {
     "data": {
      "text/plain": [
       "5-element Array{Float64,1}:\n",
       "  1.0058109089187521 \n",
       "  0.9143212415246962 \n",
       "  0.15472991392016797\n",
       " -1.935698189310905  \n",
       " -0.5124943329137491 "
      ]
     },
     "execution_count": 5,
     "metadata": {},
     "output_type": "execute_result"
    }
   ],
   "source": [
    "ϵ[1:5]"
   ]
  },
  {
   "cell_type": "markdown",
   "metadata": {},
   "source": [
    "The information from `typeof()` tells us that `ϵ` is an array of 64 bit floating point values, of dimension 1\n",
    "\n",
    "In Julia, one-dimensional arrays are interpreted as column vectors for purposes of linear algebra\n",
    "\n",
    "The `ϵ[1:5]` returns an array of the first 5 elements of `ϵ`\n",
    "\n",
    "Notice from the above that\n",
    "\n",
    "- array indices start at 1 (like MATLAB and Fortran, but unlike Python and C)  \n",
    "- array elements are referenced using square brackets (unlike MATLAB and Fortran)  \n",
    "\n",
    "\n",
    "To get **help and examples** in Jupyter or other julia editor, use the `?` before a function name or syntax"
   ]
  },
  {
   "cell_type": "code",
   "execution_count": 6,
   "metadata": {},
   "outputs": [
    {
     "name": "stdout",
     "output_type": "stream",
     "text": [
      "search: \u001b[0m\u001b[1mt\u001b[22m\u001b[0m\u001b[1my\u001b[22m\u001b[0m\u001b[1mp\u001b[22m\u001b[0m\u001b[1me\u001b[22m\u001b[0m\u001b[1mo\u001b[22m\u001b[0m\u001b[1mf\u001b[22m \u001b[0m\u001b[1mt\u001b[22m\u001b[0m\u001b[1my\u001b[22m\u001b[0m\u001b[1mp\u001b[22m\u001b[0m\u001b[1me\u001b[22mj\u001b[0m\u001b[1mo\u001b[22min \u001b[0m\u001b[1mT\u001b[22m\u001b[0m\u001b[1my\u001b[22m\u001b[0m\u001b[1mp\u001b[22m\u001b[0m\u001b[1me\u001b[22mErr\u001b[0m\u001b[1mo\u001b[22mr\n",
      "\n"
     ]
    },
    {
     "data": {
      "text/markdown": [
       "```\n",
       "typeof(x)\n",
       "```\n",
       "\n",
       "Get the concrete type of `x`.\n",
       "\n",
       "# Examples\n",
       "\n",
       "```jldoctest\n",
       "julia> a = 1//2;\n",
       "\n",
       "julia> typeof(a)\n",
       "Rational{Int64}\n",
       "\n",
       "julia> M = [1 2; 3.5 4];\n",
       "\n",
       "julia> typeof(M)\n",
       "Array{Float64,2}\n",
       "```\n"
      ],
      "text/plain": [
       "\u001b[36m  typeof(x)\u001b[39m\n",
       "\n",
       "  Get the concrete type of \u001b[36mx\u001b[39m.\n",
       "\n",
       "\u001b[1m  Examples\u001b[22m\n",
       "\u001b[1m  ≡≡≡≡≡≡≡≡≡≡\u001b[22m\n",
       "\n",
       "\u001b[36m  julia> a = 1//2;\u001b[39m\n",
       "\u001b[36m  \u001b[39m\n",
       "\u001b[36m  julia> typeof(a)\u001b[39m\n",
       "\u001b[36m  Rational{Int64}\u001b[39m\n",
       "\u001b[36m  \u001b[39m\n",
       "\u001b[36m  julia> M = [1 2; 3.5 4];\u001b[39m\n",
       "\u001b[36m  \u001b[39m\n",
       "\u001b[36m  julia> typeof(M)\u001b[39m\n",
       "\u001b[36m  Array{Float64,2}\u001b[39m"
      ]
     },
     "execution_count": 6,
     "metadata": {},
     "output_type": "execute_result"
    }
   ],
   "source": [
    "?typeof"
   ]
  },
  {
   "cell_type": "markdown",
   "metadata": {},
   "source": [
    "### For Loops\n",
    "\n",
    "Although there’s no need in terms of what we wanted to achieve with our\n",
    "program, for the sake of learning syntax let’s rewrite our program to use a\n",
    "`for` loop for generating the data\n",
    "\n",
    ">**Note**\n",
    ">\n",
    ">In the current version of Julia v1.0, the rules for variables accessed in `for` and `while` loops can be sensitive to how they are used (and variables can sometimes require a `global` as part of the declaration).  We strongly advise you to avoid top level (i.e. in the REPL or outside of functions) `for` and `while` loops outside of Jupyter notebooks.  This issue does not apply when used within functions\n",
    "\n",
    "Starting with the most direct version, and pretending we are in a world where randn can only return a single value"
   ]
  },
  {
   "cell_type": "code",
   "execution_count": 7,
   "metadata": {},
   "outputs": [],
   "source": [
    "# poor style\n",
    "n = 100\n",
    "ϵ = zeros(n)\n",
    "for i in 1:n\n",
    "    ϵ[i] = randn()\n",
    "end"
   ]
  },
  {
   "cell_type": "markdown",
   "metadata": {},
   "source": [
    "Here we first declared `ϵ` to be a vector of `n` numbers, initialized by the floating point `0.0`\n",
    "\n",
    "The `for` loop then populates this array by successive calls to `randn()`\n",
    "\n",
    "Like all code blocks in Julia, the end of the `for` loop code block (which is just one line here) is indicated by the keyword `end`\n",
    "\n",
    "The word `in` from the `for` loop can be replaced by etiher `∈` or `=`\n",
    "\n",
    "The index variable is looped over for all integers from `1:n`–but this does not actually create a vector of those indices\n",
    "\n",
    "Instead, it creates an **iterator** that is looped over — in this case the **range** of integers from `1` to `n`\n",
    "\n",
    "While this example successfully fills in `ϵ` with the correct values, it is very indirect as the connection between the index `i` and the `ϵ` vector is unclear.\n",
    "\n",
    "To fix this, use `eachindex`"
   ]
  },
  {
   "cell_type": "code",
   "execution_count": 8,
   "metadata": {},
   "outputs": [],
   "source": [
    "# better style\n",
    "n = 100\n",
    "ϵ = zeros(n)\n",
    "for i in eachindex(ϵ)\n",
    "    ϵ[i] = randn()\n",
    "end"
   ]
  },
  {
   "cell_type": "markdown",
   "metadata": {},
   "source": [
    "Here, `eachindex(ϵ)` returns an interator of indices which can be used to access `ϵ`\n",
    "\n",
    "While iterators are memory efficient because the elements are generated on the fly rather than stored in memory, the main benefit is (1) it can lead to code which is clearer and less prone to typos; and (2) it allows the compiler flexibility to creatively generate fast code\n",
    "\n",
    "In Julia you can also loop directly over arrays themselves, like so"
   ]
  },
  {
   "cell_type": "code",
   "execution_count": 9,
   "metadata": {},
   "outputs": [
    {
     "data": {
      "text/plain": [
       "-0.30008051166410665"
      ]
     },
     "execution_count": 9,
     "metadata": {},
     "output_type": "execute_result"
    }
   ],
   "source": [
    "ϵ_sum = 0.0 # careful to use 0.0 here, instead of 0!\n",
    "m = 5\n",
    "for ϵ_val in ϵ[1:m]\n",
    "    ϵ_sum = ϵ_sum + ϵ_val\n",
    "end\n",
    "ϵ_mean = ϵ_sum / m"
   ]
  },
  {
   "cell_type": "markdown",
   "metadata": {},
   "source": [
    "where `ϵ[1:m]` returns the elements of the vector at indices `1` to `m`\n",
    "\n",
    "Of course, in Julia there are built in functions to perform this calculation which we can compare against"
   ]
  },
  {
   "cell_type": "code",
   "execution_count": 10,
   "metadata": {},
   "outputs": [
    {
     "data": {
      "text/plain": [
       "true"
      ]
     },
     "execution_count": 10,
     "metadata": {},
     "output_type": "execute_result"
    }
   ],
   "source": [
    "ϵ_mean ≈ mean(ϵ[1:m])\n",
    "ϵ_mean ≈ sum(ϵ[1:m])/m"
   ]
  },
  {
   "cell_type": "markdown",
   "metadata": {},
   "source": [
    "In these examples, note the use of `≈` to test equality, rather than `==`, which is appropriate for integers and other types\n",
    "\n",
    "Approximately equal, typed with `\\approx<TAB>`, is the appropriate way to compare any floating point numbers due to the standard issues of [floating point math](https://floating-point-gui.de/)\n",
    "\n",
    "\n",
    "<a id='user-defined-functions'></a>"
   ]
  },
  {
   "cell_type": "markdown",
   "metadata": {},
   "source": [
    "### User-Defined Functions\n",
    "\n",
    "For the sake of the exercise, let’s define  go back to the `for` loop but restructure our program so that generation of random variables takes place within a user-defined function\n",
    "\n",
    "To make things more interesting, instead of directly plotting the draws from the distribution, lets plot the square of the draws"
   ]
  },
  {
   "cell_type": "code",
   "execution_count": 11,
   "metadata": {},
   "outputs": [
    {
     "data": {
      "image/svg+xml": [
       "<?xml version=\"1.0\" encoding=\"utf-8\"?>\n",
       "<svg xmlns=\"http://www.w3.org/2000/svg\" xmlns:xlink=\"http://www.w3.org/1999/xlink\" width=\"600\" height=\"400\" viewBox=\"0 0 2400 1600\">\n",
       "<defs>\n",
       "  <clipPath id=\"clip3900\">\n",
       "    <rect x=\"0\" y=\"0\" width=\"2000\" height=\"2000\"/>\n",
       "  </clipPath>\n",
       "</defs>\n",
       "<defs>\n",
       "  <clipPath id=\"clip3901\">\n",
       "    <rect x=\"0\" y=\"0\" width=\"2400\" height=\"1600\"/>\n",
       "  </clipPath>\n",
       "</defs>\n",
       "<polygon clip-path=\"url(#clip3901)\" points=\"\n",
       "0,1600 2400,1600 2400,0 0,0 \n",
       "  \" fill=\"#ffffff\" fill-opacity=\"1\"/>\n",
       "<defs>\n",
       "  <clipPath id=\"clip3902\">\n",
       "    <rect x=\"480\" y=\"0\" width=\"1681\" height=\"1600\"/>\n",
       "  </clipPath>\n",
       "</defs>\n",
       "<polygon clip-path=\"url(#clip3901)\" points=\"\n",
       "121.251,1503.47 2321.26,1503.47 2321.26,47.2441 121.251,47.2441 \n",
       "  \" fill=\"#ffffff\" fill-opacity=\"1\"/>\n",
       "<defs>\n",
       "  <clipPath id=\"clip3903\">\n",
       "    <rect x=\"121\" y=\"47\" width=\"2201\" height=\"1457\"/>\n",
       "  </clipPath>\n",
       "</defs>\n",
       "<polyline clip-path=\"url(#clip3903)\" style=\"stroke:#000000; stroke-width:2; stroke-opacity:0.1; fill:none\" points=\"\n",
       "  414.124,1503.47 414.124,47.2441 \n",
       "  \"/>\n",
       "<polyline clip-path=\"url(#clip3903)\" style=\"stroke:#000000; stroke-width:2; stroke-opacity:0.1; fill:none\" points=\"\n",
       "  875.342,1503.47 875.342,47.2441 \n",
       "  \"/>\n",
       "<polyline clip-path=\"url(#clip3903)\" style=\"stroke:#000000; stroke-width:2; stroke-opacity:0.1; fill:none\" points=\"\n",
       "  1336.56,1503.47 1336.56,47.2441 \n",
       "  \"/>\n",
       "<polyline clip-path=\"url(#clip3903)\" style=\"stroke:#000000; stroke-width:2; stroke-opacity:0.1; fill:none\" points=\"\n",
       "  1797.78,1503.47 1797.78,47.2441 \n",
       "  \"/>\n",
       "<polyline clip-path=\"url(#clip3903)\" style=\"stroke:#000000; stroke-width:2; stroke-opacity:0.1; fill:none\" points=\"\n",
       "  2259,1503.47 2259,47.2441 \n",
       "  \"/>\n",
       "<polyline clip-path=\"url(#clip3903)\" style=\"stroke:#000000; stroke-width:2; stroke-opacity:0.1; fill:none\" points=\"\n",
       "  121.251,1470.3 2321.26,1470.3 \n",
       "  \"/>\n",
       "<polyline clip-path=\"url(#clip3903)\" style=\"stroke:#000000; stroke-width:2; stroke-opacity:0.1; fill:none\" points=\"\n",
       "  121.251,1019.91 2321.26,1019.91 \n",
       "  \"/>\n",
       "<polyline clip-path=\"url(#clip3903)\" style=\"stroke:#000000; stroke-width:2; stroke-opacity:0.1; fill:none\" points=\"\n",
       "  121.251,569.524 2321.26,569.524 \n",
       "  \"/>\n",
       "<polyline clip-path=\"url(#clip3903)\" style=\"stroke:#000000; stroke-width:2; stroke-opacity:0.1; fill:none\" points=\"\n",
       "  121.251,119.137 2321.26,119.137 \n",
       "  \"/>\n",
       "<polyline clip-path=\"url(#clip3901)\" style=\"stroke:#000000; stroke-width:4; stroke-opacity:1; fill:none\" points=\"\n",
       "  121.251,1503.47 2321.26,1503.47 \n",
       "  \"/>\n",
       "<polyline clip-path=\"url(#clip3901)\" style=\"stroke:#000000; stroke-width:4; stroke-opacity:1; fill:none\" points=\"\n",
       "  121.251,1503.47 121.251,47.2441 \n",
       "  \"/>\n",
       "<polyline clip-path=\"url(#clip3901)\" style=\"stroke:#000000; stroke-width:4; stroke-opacity:1; fill:none\" points=\"\n",
       "  414.124,1503.47 414.124,1481.63 \n",
       "  \"/>\n",
       "<polyline clip-path=\"url(#clip3901)\" style=\"stroke:#000000; stroke-width:4; stroke-opacity:1; fill:none\" points=\"\n",
       "  875.342,1503.47 875.342,1481.63 \n",
       "  \"/>\n",
       "<polyline clip-path=\"url(#clip3901)\" style=\"stroke:#000000; stroke-width:4; stroke-opacity:1; fill:none\" points=\"\n",
       "  1336.56,1503.47 1336.56,1481.63 \n",
       "  \"/>\n",
       "<polyline clip-path=\"url(#clip3901)\" style=\"stroke:#000000; stroke-width:4; stroke-opacity:1; fill:none\" points=\"\n",
       "  1797.78,1503.47 1797.78,1481.63 \n",
       "  \"/>\n",
       "<polyline clip-path=\"url(#clip3901)\" style=\"stroke:#000000; stroke-width:4; stroke-opacity:1; fill:none\" points=\"\n",
       "  2259,1503.47 2259,1481.63 \n",
       "  \"/>\n",
       "<polyline clip-path=\"url(#clip3901)\" style=\"stroke:#000000; stroke-width:4; stroke-opacity:1; fill:none\" points=\"\n",
       "  121.251,1470.3 154.251,1470.3 \n",
       "  \"/>\n",
       "<polyline clip-path=\"url(#clip3901)\" style=\"stroke:#000000; stroke-width:4; stroke-opacity:1; fill:none\" points=\"\n",
       "  121.251,1019.91 154.251,1019.91 \n",
       "  \"/>\n",
       "<polyline clip-path=\"url(#clip3901)\" style=\"stroke:#000000; stroke-width:4; stroke-opacity:1; fill:none\" points=\"\n",
       "  121.251,569.524 154.251,569.524 \n",
       "  \"/>\n",
       "<polyline clip-path=\"url(#clip3901)\" style=\"stroke:#000000; stroke-width:4; stroke-opacity:1; fill:none\" points=\"\n",
       "  121.251,119.137 154.251,119.137 \n",
       "  \"/>\n",
       "<g clip-path=\"url(#clip3901)\">\n",
       "<text style=\"fill:#000000; fill-opacity:1; font-family:Arial,Helvetica Neue,Helvetica,sans-serif; font-size:48; text-anchor:middle;\" transform=\"rotate(0, 414.124, 1557.47)\" x=\"414.124\" y=\"1557.47\">2</text>\n",
       "</g>\n",
       "<g clip-path=\"url(#clip3901)\">\n",
       "<text style=\"fill:#000000; fill-opacity:1; font-family:Arial,Helvetica Neue,Helvetica,sans-serif; font-size:48; text-anchor:middle;\" transform=\"rotate(0, 875.342, 1557.47)\" x=\"875.342\" y=\"1557.47\">4</text>\n",
       "</g>\n",
       "<g clip-path=\"url(#clip3901)\">\n",
       "<text style=\"fill:#000000; fill-opacity:1; font-family:Arial,Helvetica Neue,Helvetica,sans-serif; font-size:48; text-anchor:middle;\" transform=\"rotate(0, 1336.56, 1557.47)\" x=\"1336.56\" y=\"1557.47\">6</text>\n",
       "</g>\n",
       "<g clip-path=\"url(#clip3901)\">\n",
       "<text style=\"fill:#000000; fill-opacity:1; font-family:Arial,Helvetica Neue,Helvetica,sans-serif; font-size:48; text-anchor:middle;\" transform=\"rotate(0, 1797.78, 1557.47)\" x=\"1797.78\" y=\"1557.47\">8</text>\n",
       "</g>\n",
       "<g clip-path=\"url(#clip3901)\">\n",
       "<text style=\"fill:#000000; fill-opacity:1; font-family:Arial,Helvetica Neue,Helvetica,sans-serif; font-size:48; text-anchor:middle;\" transform=\"rotate(0, 2259, 1557.47)\" x=\"2259\" y=\"1557.47\">10</text>\n",
       "</g>\n",
       "<g clip-path=\"url(#clip3901)\">\n",
       "<text style=\"fill:#000000; fill-opacity:1; font-family:Arial,Helvetica Neue,Helvetica,sans-serif; font-size:48; text-anchor:end;\" transform=\"rotate(0, 97.2505, 1487.8)\" x=\"97.2505\" y=\"1487.8\">0</text>\n",
       "</g>\n",
       "<g clip-path=\"url(#clip3901)\">\n",
       "<text style=\"fill:#000000; fill-opacity:1; font-family:Arial,Helvetica Neue,Helvetica,sans-serif; font-size:48; text-anchor:end;\" transform=\"rotate(0, 97.2505, 1037.41)\" x=\"97.2505\" y=\"1037.41\">1</text>\n",
       "</g>\n",
       "<g clip-path=\"url(#clip3901)\">\n",
       "<text style=\"fill:#000000; fill-opacity:1; font-family:Arial,Helvetica Neue,Helvetica,sans-serif; font-size:48; text-anchor:end;\" transform=\"rotate(0, 97.2505, 587.024)\" x=\"97.2505\" y=\"587.024\">2</text>\n",
       "</g>\n",
       "<g clip-path=\"url(#clip3901)\">\n",
       "<text style=\"fill:#000000; fill-opacity:1; font-family:Arial,Helvetica Neue,Helvetica,sans-serif; font-size:48; text-anchor:end;\" transform=\"rotate(0, 97.2505, 136.637)\" x=\"97.2505\" y=\"136.637\">3</text>\n",
       "</g>\n",
       "<polyline clip-path=\"url(#clip3903)\" style=\"stroke:#009af9; stroke-width:4; stroke-opacity:1; fill:none\" points=\"\n",
       "  183.515,88.4582 414.124,895.37 644.733,268.315 875.342,1445.37 1105.95,1413.28 1336.56,151.915 1567.17,1003 1797.78,767.28 2028.39,1452.17 2259,1462.26 \n",
       "  \n",
       "  \"/>\n",
       "<polygon clip-path=\"url(#clip3901)\" points=\"\n",
       "1958.43,251.724 2249.26,251.724 2249.26,130.764 1958.43,130.764 \n",
       "  \" fill=\"#ffffff\" fill-opacity=\"1\"/>\n",
       "<polyline clip-path=\"url(#clip3901)\" style=\"stroke:#000000; stroke-width:4; stroke-opacity:1; fill:none\" points=\"\n",
       "  1958.43,251.724 2249.26,251.724 2249.26,130.764 1958.43,130.764 1958.43,251.724 \n",
       "  \"/>\n",
       "<polyline clip-path=\"url(#clip3901)\" style=\"stroke:#009af9; stroke-width:4; stroke-opacity:1; fill:none\" points=\"\n",
       "  1982.43,191.244 2126.43,191.244 \n",
       "  \"/>\n",
       "<g clip-path=\"url(#clip3901)\">\n",
       "<text style=\"fill:#000000; fill-opacity:1; font-family:Arial,Helvetica Neue,Helvetica,sans-serif; font-size:48; text-anchor:start;\" transform=\"rotate(0, 2150.43, 208.744)\" x=\"2150.43\" y=\"208.744\">y1</text>\n",
       "</g>\n",
       "</svg>\n"
      ]
     },
     "execution_count": 11,
     "metadata": {},
     "output_type": "execute_result"
    }
   ],
   "source": [
    "# poor style\n",
    "function generatedata(n)\n",
    "    ϵ = zeros(n)\n",
    "    for i in eachindex(ϵ)\n",
    "        ϵ[i] = (randn())^2 # squaring the result\n",
    "    end\n",
    "    return ϵ\n",
    "end\n",
    "\n",
    "data = generatedata(10)\n",
    "plot(data)"
   ]
  },
  {
   "cell_type": "markdown",
   "metadata": {},
   "source": [
    "Here\n",
    "\n",
    "- `function` is a Julia keyword that indicates the start of a function definition  \n",
    "- `generatedata` is an arbitrary name for the function  \n",
    "- `return` is a keyword indicating the return value, as is often unnecessary  \n",
    "\n",
    "\n",
    "Let us make this example slightly better by “remembering” that `randn` can return a vectors"
   ]
  },
  {
   "cell_type": "code",
   "execution_count": 12,
   "metadata": {},
   "outputs": [
    {
     "data": {
      "text/plain": [
       "5-element Array{Float64,1}:\n",
       " 3.9400702581536766   \n",
       " 0.12367995343633431  \n",
       " 1.1343162945440788   \n",
       " 0.17057175780053493  \n",
       " 0.0054260868857191604"
      ]
     },
     "execution_count": 12,
     "metadata": {},
     "output_type": "execute_result"
    }
   ],
   "source": [
    "# still poor style\n",
    "function generatedata(n)\n",
    "    ϵ = randn(n) # use built in function\n",
    "\n",
    "    for i in eachindex(ϵ)\n",
    "        ϵ[i] = ϵ[i]^2 # squaring the result\n",
    "    end\n",
    "\n",
    "    return ϵ\n",
    "end\n",
    "data = generatedata(5)"
   ]
  },
  {
   "cell_type": "markdown",
   "metadata": {},
   "source": [
    "While better, the looping over the i index to square the results is difficult to read\n",
    "\n",
    "Instead of looping, we can instead **broadcast** the `^2` square function over a vector using a `.`\n",
    "\n",
    "To be clear, unlike Python, R, and Matlab (to a lesser extent), the reason to drop the `for` is **not** for performance reasons, but rather because of code clarity\n",
    "\n",
    "Loops of this sort are at least as efficient than vectorized approach in compiled languages like Julia, so use a for loop if you think it makes the code more clear\n",
    "\n",
    "Furthermore, we can just drop the `return` because functions return the last calculation by default, which leads to"
   ]
  },
  {
   "cell_type": "code",
   "execution_count": 13,
   "metadata": {},
   "outputs": [
    {
     "data": {
      "text/plain": [
       "5-element Array{Float64,1}:\n",
       " 0.9798657151588173  \n",
       " 0.7802911412194732  \n",
       " 0.011314841351187257\n",
       " 2.3379381197075877  \n",
       " 1.439761105159401   "
      ]
     },
     "execution_count": 13,
     "metadata": {},
     "output_type": "execute_result"
    }
   ],
   "source": [
    "# better style\n",
    "function generatedata(n)\n",
    "    ϵ = randn(n) # use built in function\n",
    "    return ϵ.^2\n",
    " end\n",
    "data = generatedata(5)"
   ]
  },
  {
   "cell_type": "markdown",
   "metadata": {},
   "source": [
    "We can even drop the `function` if we define it on a single line"
   ]
  },
  {
   "cell_type": "code",
   "execution_count": 14,
   "metadata": {},
   "outputs": [
    {
     "data": {
      "text/plain": [
       "5-element Array{Float64,1}:\n",
       " 0.10445978614738942\n",
       " 0.4183716155748961 \n",
       " 0.09670390249150497\n",
       " 0.9269015007962986 \n",
       " 0.18841677608996177"
      ]
     },
     "execution_count": 14,
     "metadata": {},
     "output_type": "execute_result"
    }
   ],
   "source": [
    "# good style\n",
    "generatedata(n) = randn(n).^2\n",
    "data = generatedata(5)"
   ]
  },
  {
   "cell_type": "markdown",
   "metadata": {},
   "source": [
    "Finally, we can broadcast any function, where squaring is only a special case"
   ]
  },
  {
   "cell_type": "code",
   "execution_count": 15,
   "metadata": {},
   "outputs": [
    {
     "data": {
      "text/plain": [
       "5-element Array{Float64,1}:\n",
       " 0.006643095451935238\n",
       " 0.1379393826738082  \n",
       " 1.1578405938962972  \n",
       " 1.6286538080075204  \n",
       " 0.09561737489366955 "
      ]
     },
     "execution_count": 15,
     "metadata": {},
     "output_type": "execute_result"
    }
   ],
   "source": [
    "# good style\n",
    "f(x) = x^2 # simple square function\n",
    "generatedata(n) = f.(randn(n)) # uses broadcast for some function `f`\n",
    "data = generatedata(5)"
   ]
  },
  {
   "cell_type": "markdown",
   "metadata": {},
   "source": [
    "As a final–abstract–approach, we can make the `generatedata` function able to generically apply a function"
   ]
  },
  {
   "cell_type": "code",
   "execution_count": 16,
   "metadata": {},
   "outputs": [
    {
     "data": {
      "text/plain": [
       "5-element Array{Float64,1}:\n",
       " 3.8177577020177584 \n",
       " 0.09059702047590902\n",
       " 0.9537454750814328 \n",
       " 0.976080087372125  \n",
       " 0.6670922697671822 "
      ]
     },
     "execution_count": 16,
     "metadata": {},
     "output_type": "execute_result"
    }
   ],
   "source": [
    "# too abstract?\n",
    "generatedata(n, gen) = gen.(randn(n)) # Uses broadcast for some function `gen`\n",
    "\n",
    "f(x) = x^2 # simple square function\n",
    "data = generatedata(5, f) # applies f"
   ]
  },
  {
   "cell_type": "markdown",
   "metadata": {},
   "source": [
    "Whether this example is better or worse than the previous version depends on how it is used\n",
    "\n",
    "High degrees of abstraction and generality, e.g. passing in a function `f` in this case, can make code either clearer or confusing, but Julia enables you to use these techniques **with no performance overhead**\n",
    "\n",
    "For this particular case, the clearest and most general solution is probably the simplest"
   ]
  },
  {
   "cell_type": "code",
   "execution_count": 17,
   "metadata": {},
   "outputs": [
    {
     "data": {
      "image/svg+xml": [
       "<?xml version=\"1.0\" encoding=\"utf-8\"?>\n",
       "<svg xmlns=\"http://www.w3.org/2000/svg\" xmlns:xlink=\"http://www.w3.org/1999/xlink\" width=\"600\" height=\"400\" viewBox=\"0 0 2400 1600\">\n",
       "<defs>\n",
       "  <clipPath id=\"clip4100\">\n",
       "    <rect x=\"0\" y=\"0\" width=\"2000\" height=\"2000\"/>\n",
       "  </clipPath>\n",
       "</defs>\n",
       "<defs>\n",
       "  <clipPath id=\"clip4101\">\n",
       "    <rect x=\"0\" y=\"0\" width=\"2400\" height=\"1600\"/>\n",
       "  </clipPath>\n",
       "</defs>\n",
       "<polygon clip-path=\"url(#clip4101)\" points=\"\n",
       "0,1600 2400,1600 2400,0 0,0 \n",
       "  \" fill=\"#ffffff\" fill-opacity=\"1\"/>\n",
       "<defs>\n",
       "  <clipPath id=\"clip4102\">\n",
       "    <rect x=\"480\" y=\"0\" width=\"1681\" height=\"1600\"/>\n",
       "  </clipPath>\n",
       "</defs>\n",
       "<polygon clip-path=\"url(#clip4101)\" points=\"\n",
       "161.394,1503.47 2321.26,1503.47 2321.26,47.2441 161.394,47.2441 \n",
       "  \" fill=\"#ffffff\" fill-opacity=\"1\"/>\n",
       "<defs>\n",
       "  <clipPath id=\"clip4103\">\n",
       "    <rect x=\"161\" y=\"47\" width=\"2161\" height=\"1457\"/>\n",
       "  </clipPath>\n",
       "</defs>\n",
       "<polyline clip-path=\"url(#clip4103)\" style=\"stroke:#000000; stroke-width:2; stroke-opacity:0.1; fill:none\" points=\"\n",
       "  201.94,1503.47 201.94,47.2441 \n",
       "  \"/>\n",
       "<polyline clip-path=\"url(#clip4103)\" style=\"stroke:#000000; stroke-width:2; stroke-opacity:0.1; fill:none\" points=\"\n",
       "  716.488,1503.47 716.488,47.2441 \n",
       "  \"/>\n",
       "<polyline clip-path=\"url(#clip4103)\" style=\"stroke:#000000; stroke-width:2; stroke-opacity:0.1; fill:none\" points=\"\n",
       "  1231.04,1503.47 1231.04,47.2441 \n",
       "  \"/>\n",
       "<polyline clip-path=\"url(#clip4103)\" style=\"stroke:#000000; stroke-width:2; stroke-opacity:0.1; fill:none\" points=\"\n",
       "  1745.58,1503.47 1745.58,47.2441 \n",
       "  \"/>\n",
       "<polyline clip-path=\"url(#clip4103)\" style=\"stroke:#000000; stroke-width:2; stroke-opacity:0.1; fill:none\" points=\"\n",
       "  2260.13,1503.47 2260.13,47.2441 \n",
       "  \"/>\n",
       "<polyline clip-path=\"url(#clip4103)\" style=\"stroke:#000000; stroke-width:2; stroke-opacity:0.1; fill:none\" points=\"\n",
       "  161.394,1216.52 2321.26,1216.52 \n",
       "  \"/>\n",
       "<polyline clip-path=\"url(#clip4103)\" style=\"stroke:#000000; stroke-width:2; stroke-opacity:0.1; fill:none\" points=\"\n",
       "  161.394,877.033 2321.26,877.033 \n",
       "  \"/>\n",
       "<polyline clip-path=\"url(#clip4103)\" style=\"stroke:#000000; stroke-width:2; stroke-opacity:0.1; fill:none\" points=\"\n",
       "  161.394,537.542 2321.26,537.542 \n",
       "  \"/>\n",
       "<polyline clip-path=\"url(#clip4103)\" style=\"stroke:#000000; stroke-width:2; stroke-opacity:0.1; fill:none\" points=\"\n",
       "  161.394,198.051 2321.26,198.051 \n",
       "  \"/>\n",
       "<polyline clip-path=\"url(#clip4101)\" style=\"stroke:#000000; stroke-width:4; stroke-opacity:1; fill:none\" points=\"\n",
       "  161.394,1503.47 2321.26,1503.47 \n",
       "  \"/>\n",
       "<polyline clip-path=\"url(#clip4101)\" style=\"stroke:#000000; stroke-width:4; stroke-opacity:1; fill:none\" points=\"\n",
       "  161.394,1503.47 161.394,47.2441 \n",
       "  \"/>\n",
       "<polyline clip-path=\"url(#clip4101)\" style=\"stroke:#000000; stroke-width:4; stroke-opacity:1; fill:none\" points=\"\n",
       "  201.94,1503.47 201.94,1481.63 \n",
       "  \"/>\n",
       "<polyline clip-path=\"url(#clip4101)\" style=\"stroke:#000000; stroke-width:4; stroke-opacity:1; fill:none\" points=\"\n",
       "  716.488,1503.47 716.488,1481.63 \n",
       "  \"/>\n",
       "<polyline clip-path=\"url(#clip4101)\" style=\"stroke:#000000; stroke-width:4; stroke-opacity:1; fill:none\" points=\"\n",
       "  1231.04,1503.47 1231.04,1481.63 \n",
       "  \"/>\n",
       "<polyline clip-path=\"url(#clip4101)\" style=\"stroke:#000000; stroke-width:4; stroke-opacity:1; fill:none\" points=\"\n",
       "  1745.58,1503.47 1745.58,1481.63 \n",
       "  \"/>\n",
       "<polyline clip-path=\"url(#clip4101)\" style=\"stroke:#000000; stroke-width:4; stroke-opacity:1; fill:none\" points=\"\n",
       "  2260.13,1503.47 2260.13,1481.63 \n",
       "  \"/>\n",
       "<polyline clip-path=\"url(#clip4101)\" style=\"stroke:#000000; stroke-width:4; stroke-opacity:1; fill:none\" points=\"\n",
       "  161.394,1216.52 193.792,1216.52 \n",
       "  \"/>\n",
       "<polyline clip-path=\"url(#clip4101)\" style=\"stroke:#000000; stroke-width:4; stroke-opacity:1; fill:none\" points=\"\n",
       "  161.394,877.033 193.792,877.033 \n",
       "  \"/>\n",
       "<polyline clip-path=\"url(#clip4101)\" style=\"stroke:#000000; stroke-width:4; stroke-opacity:1; fill:none\" points=\"\n",
       "  161.394,537.542 193.792,537.542 \n",
       "  \"/>\n",
       "<polyline clip-path=\"url(#clip4101)\" style=\"stroke:#000000; stroke-width:4; stroke-opacity:1; fill:none\" points=\"\n",
       "  161.394,198.051 193.792,198.051 \n",
       "  \"/>\n",
       "<g clip-path=\"url(#clip4101)\">\n",
       "<text style=\"fill:#000000; fill-opacity:1; font-family:Arial,Helvetica Neue,Helvetica,sans-serif; font-size:48; text-anchor:middle;\" transform=\"rotate(0, 201.94, 1557.47)\" x=\"201.94\" y=\"1557.47\">0</text>\n",
       "</g>\n",
       "<g clip-path=\"url(#clip4101)\">\n",
       "<text style=\"fill:#000000; fill-opacity:1; font-family:Arial,Helvetica Neue,Helvetica,sans-serif; font-size:48; text-anchor:middle;\" transform=\"rotate(0, 716.488, 1557.47)\" x=\"716.488\" y=\"1557.47\">25</text>\n",
       "</g>\n",
       "<g clip-path=\"url(#clip4101)\">\n",
       "<text style=\"fill:#000000; fill-opacity:1; font-family:Arial,Helvetica Neue,Helvetica,sans-serif; font-size:48; text-anchor:middle;\" transform=\"rotate(0, 1231.04, 1557.47)\" x=\"1231.04\" y=\"1557.47\">50</text>\n",
       "</g>\n",
       "<g clip-path=\"url(#clip4101)\">\n",
       "<text style=\"fill:#000000; fill-opacity:1; font-family:Arial,Helvetica Neue,Helvetica,sans-serif; font-size:48; text-anchor:middle;\" transform=\"rotate(0, 1745.58, 1557.47)\" x=\"1745.58\" y=\"1557.47\">75</text>\n",
       "</g>\n",
       "<g clip-path=\"url(#clip4101)\">\n",
       "<text style=\"fill:#000000; fill-opacity:1; font-family:Arial,Helvetica Neue,Helvetica,sans-serif; font-size:48; text-anchor:middle;\" transform=\"rotate(0, 2260.13, 1557.47)\" x=\"2260.13\" y=\"1557.47\">100</text>\n",
       "</g>\n",
       "<g clip-path=\"url(#clip4101)\">\n",
       "<text style=\"fill:#000000; fill-opacity:1; font-family:Arial,Helvetica Neue,Helvetica,sans-serif; font-size:48; text-anchor:end;\" transform=\"rotate(0, 137.394, 1234.02)\" x=\"137.394\" y=\"1234.02\">0.0</text>\n",
       "</g>\n",
       "<g clip-path=\"url(#clip4101)\">\n",
       "<text style=\"fill:#000000; fill-opacity:1; font-family:Arial,Helvetica Neue,Helvetica,sans-serif; font-size:48; text-anchor:end;\" transform=\"rotate(0, 137.394, 894.533)\" x=\"137.394\" y=\"894.533\">2.5</text>\n",
       "</g>\n",
       "<g clip-path=\"url(#clip4101)\">\n",
       "<text style=\"fill:#000000; fill-opacity:1; font-family:Arial,Helvetica Neue,Helvetica,sans-serif; font-size:48; text-anchor:end;\" transform=\"rotate(0, 137.394, 555.042)\" x=\"137.394\" y=\"555.042\">5.0</text>\n",
       "</g>\n",
       "<g clip-path=\"url(#clip4101)\">\n",
       "<text style=\"fill:#000000; fill-opacity:1; font-family:Arial,Helvetica Neue,Helvetica,sans-serif; font-size:48; text-anchor:end;\" transform=\"rotate(0, 137.394, 215.551)\" x=\"137.394\" y=\"215.551\">7.5</text>\n",
       "</g>\n",
       "<polyline clip-path=\"url(#clip4103)\" style=\"stroke:#009af9; stroke-width:4; stroke-opacity:1; fill:none\" points=\"\n",
       "  222.522,1152.55 243.104,1186.27 263.686,1013.77 284.268,1175.04 304.85,1120.39 325.432,1203.59 346.014,1203.21 366.596,1212.75 387.178,1020.54 407.76,1215.64 \n",
       "  428.341,1184.54 448.923,993.851 469.505,1023.12 490.087,1213.02 510.669,1161.61 531.251,1211.91 551.833,1210.24 572.415,1216.39 592.997,771.84 613.579,1064.09 \n",
       "  634.161,1187.09 654.742,1169.26 675.324,1037.24 695.906,1122.71 716.488,1156.09 737.07,1201.23 757.652,1199.82 778.234,1194.83 798.816,1214.87 819.398,389.353 \n",
       "  839.98,1150.84 860.562,1204.4 881.143,1210.6 901.725,1103.66 922.307,1149.75 942.889,1038.47 963.471,1204.4 984.053,1209.32 1004.63,1187.32 1025.22,1161.7 \n",
       "  1045.8,1155.29 1066.38,1207.88 1086.96,1203.77 1107.54,1178.53 1128.13,972.622 1148.71,1017.2 1169.29,1181.32 1189.87,1161.29 1210.45,1200.75 1231.04,1138.15 \n",
       "  1251.62,1204.67 1272.2,1187.8 1292.78,1207.43 1313.36,1215.81 1333.95,1099.56 1354.53,1149.65 1375.11,1106.57 1395.69,1216.48 1416.27,1082.63 1436.86,1056.41 \n",
       "  1457.44,1013.57 1478.02,1141.74 1498.6,1174.65 1519.18,1206.37 1539.76,811.276 1560.35,1209.99 1580.93,1209.89 1601.51,1112.84 1622.09,1216.27 1642.67,1200.32 \n",
       "  1663.26,1101.54 1683.84,1215.46 1704.42,1213.45 1725,1075.35 1745.58,872.546 1766.17,1036.91 1786.75,1208.24 1807.33,856.739 1827.91,1103.35 1848.49,964.692 \n",
       "  1869.08,1156.16 1889.66,1182.34 1910.24,796.084 1930.82,1051.2 1951.4,1215.53 1971.98,1191.65 1992.57,1214.64 2013.15,88.4582 2033.73,1002.7 2054.31,1014.93 \n",
       "  2074.89,1153.21 2095.48,1113.01 2116.06,1168.56 2136.64,98.9148 2157.22,1202.53 2177.8,979.292 2198.39,961.112 2218.97,1188.47 2239.55,827.237 2260.13,1065.13 \n",
       "  \n",
       "  \"/>\n",
       "<polyline clip-path=\"url(#clip4103)\" style=\"stroke:#e26f46; stroke-width:4; stroke-opacity:1; fill:none\" points=\"\n",
       "  222.522,1123.32 243.104,1152.43 263.686,1050.59 284.268,1141.47 304.85,1102.27 325.432,1258.43 346.014,1174 366.596,1193.9 387.178,1053.39 407.76,1227.5 \n",
       "  428.341,1150.62 448.923,1390.42 469.505,1054.47 490.087,1194.7 510.669,1130.17 531.251,1191.5 551.833,1245.73 572.415,1220.73 592.997,1462.26 613.579,1072.65 \n",
       "  634.161,1279.75 654.742,1136.41 675.324,1372.55 695.906,1103.66 716.488,1125.93 737.07,1262.1 757.652,1168.9 778.234,1162.25 798.816,1201.53 819.398,881.372 \n",
       "  839.98,1310.97 860.562,1175.94 881.143,1188.16 901.725,1092.72 922.307,1311.74 942.889,1372.02 963.471,1257.1 984.053,1247.81 1004.63,1279.5 1025.22,1302.81 \n",
       "  1045.8,1307.71 1066.38,1182.26 1086.96,1174.9 1107.54,1144.69 1128.13,1034.53 1148.71,1381.05 1169.29,1147.38 1189.87,1129.92 1210.45,1262.8 1231.04,1319.69 \n",
       "  1251.62,1256.64 1272.2,1154.07 1292.78,1181.38 1313.36,1206.68 1333.95,1342.55 1354.53,1121.23 1375.11,1094.33 1395.69,1213.98 1416.27,1351.37 1436.86,1363.98 \n",
       "  1457.44,1382.54 1478.02,1317.3 1498.6,1291.93 1519.18,1253.66 1539.76,981.937 1560.35,1186.74 1580.93,1246.54 1601.51,1097.86 1622.09,1210.62 1642.67,1263.43 \n",
       "  1663.26,1091.56 1683.84,1204.48 1704.42,1196.09 1725,1078.06 1745.58,1432.65 1766.17,1372.7 1786.75,1250.06 1807.33,995.487 1827.91,1340.49 1848.49,1031.6 \n",
       "  1869.08,1125.98 1889.66,1284.66 1910.24,977.58 1930.82,1366.36 1951.4,1228.13 1971.98,1158.41 1992.57,1232.51 2013.15,825.132 2033.73,1386.93 2054.31,1051.07 \n",
       "  2074.89,1123.8 2095.48,1335.08 2116.06,1297.23 2136.64,826.951 2157.22,1172.92 2177.8,1396.01 2198.39,1402.76 2218.97,1154.81 2239.55,1446.45 2260.13,1073.14 \n",
       "  \n",
       "  \"/>\n",
       "<polygon clip-path=\"url(#clip4101)\" points=\"\n",
       "1935.86,312.204 2249.26,312.204 2249.26,130.764 1935.86,130.764 \n",
       "  \" fill=\"#ffffff\" fill-opacity=\"1\"/>\n",
       "<polyline clip-path=\"url(#clip4101)\" style=\"stroke:#000000; stroke-width:4; stroke-opacity:1; fill:none\" points=\"\n",
       "  1935.86,312.204 2249.26,312.204 2249.26,130.764 1935.86,130.764 1935.86,312.204 \n",
       "  \"/>\n",
       "<polyline clip-path=\"url(#clip4101)\" style=\"stroke:#009af9; stroke-width:4; stroke-opacity:1; fill:none\" points=\"\n",
       "  1959.86,191.244 2103.86,191.244 \n",
       "  \"/>\n",
       "<g clip-path=\"url(#clip4101)\">\n",
       "<text style=\"fill:#000000; fill-opacity:1; font-family:Arial,Helvetica Neue,Helvetica,sans-serif; font-size:48; text-anchor:start;\" transform=\"rotate(0, 2127.86, 208.744)\" x=\"2127.86\" y=\"208.744\">x^2</text>\n",
       "</g>\n",
       "<polyline clip-path=\"url(#clip4101)\" style=\"stroke:#e26f46; stroke-width:4; stroke-opacity:1; fill:none\" points=\"\n",
       "  1959.86,251.724 2103.86,251.724 \n",
       "  \"/>\n",
       "<g clip-path=\"url(#clip4101)\">\n",
       "<text style=\"fill:#000000; fill-opacity:1; font-family:Arial,Helvetica Neue,Helvetica,sans-serif; font-size:48; text-anchor:start;\" transform=\"rotate(0, 2127.86, 269.224)\" x=\"2127.86\" y=\"269.224\">x</text>\n",
       "</g>\n",
       "</svg>\n"
      ]
     },
     "execution_count": 17,
     "metadata": {},
     "output_type": "execute_result"
    }
   ],
   "source": [
    "# direct solution with broadcasting, and small user-defined function\n",
    "n = 100\n",
    "f(x) = x^2\n",
    "\n",
    "x = randn(n)\n",
    "plot(f.(x), label = \"x^2\")\n",
    "plot!(x, label = \"x\") # layer on the same plot"
   ]
  },
  {
   "cell_type": "markdown",
   "metadata": {},
   "source": [
    "While broadcasting above superficially looks like vectorizing functions in Matlab, or Python ufuncs, it is much richer and built on core foundations of the language\n",
    "\n",
    "The other additional function `plot!` adds a graph to the existing plot\n",
    "\n",
    "This follows a general convention in Julia, where an function which modifies the arguments or a global state has a `!` at the end of it the name"
   ]
  },
  {
   "cell_type": "markdown",
   "metadata": {},
   "source": [
    "#### A Slightly More Useful Function\n",
    "\n",
    "Let’s make a slightly more useful function\n",
    "\n",
    "This function will be passed a choice of probability distribution and respond by plotting a histogram of observations\n",
    "\n",
    "In doing so we’ll make use of the Distributions package, which we assume was instantiated above with the project\n",
    "\n",
    "Here’s the code"
   ]
  },
  {
   "cell_type": "code",
   "execution_count": 18,
   "metadata": {},
   "outputs": [
    {
     "data": {
      "image/svg+xml": [
       "<?xml version=\"1.0\" encoding=\"utf-8\"?>\n",
       "<svg xmlns=\"http://www.w3.org/2000/svg\" xmlns:xlink=\"http://www.w3.org/1999/xlink\" width=\"600\" height=\"400\" viewBox=\"0 0 2400 1600\">\n",
       "<defs>\n",
       "  <clipPath id=\"clip4300\">\n",
       "    <rect x=\"0\" y=\"0\" width=\"2000\" height=\"2000\"/>\n",
       "  </clipPath>\n",
       "</defs>\n",
       "<defs>\n",
       "  <clipPath id=\"clip4301\">\n",
       "    <rect x=\"0\" y=\"0\" width=\"2400\" height=\"1600\"/>\n",
       "  </clipPath>\n",
       "</defs>\n",
       "<polygon clip-path=\"url(#clip4301)\" points=\"\n",
       "0,1600 2400,1600 2400,0 0,0 \n",
       "  \" fill=\"#ffffff\" fill-opacity=\"1\"/>\n",
       "<defs>\n",
       "  <clipPath id=\"clip4302\">\n",
       "    <rect x=\"480\" y=\"0\" width=\"1681\" height=\"1600\"/>\n",
       "  </clipPath>\n",
       "</defs>\n",
       "<polygon clip-path=\"url(#clip4301)\" points=\"\n",
       "148.013,1503.47 2321.26,1503.47 2321.26,47.2441 148.013,47.2441 \n",
       "  \" fill=\"#ffffff\" fill-opacity=\"1\"/>\n",
       "<defs>\n",
       "  <clipPath id=\"clip4303\">\n",
       "    <rect x=\"148\" y=\"47\" width=\"2174\" height=\"1457\"/>\n",
       "  </clipPath>\n",
       "</defs>\n",
       "<polyline clip-path=\"url(#clip4303)\" style=\"stroke:#000000; stroke-width:2; stroke-opacity:0.1; fill:none\" points=\"\n",
       "  509.318,1503.47 509.318,47.2441 \n",
       "  \"/>\n",
       "<polyline clip-path=\"url(#clip4303)\" style=\"stroke:#000000; stroke-width:2; stroke-opacity:0.1; fill:none\" points=\"\n",
       "  912.273,1503.47 912.273,47.2441 \n",
       "  \"/>\n",
       "<polyline clip-path=\"url(#clip4303)\" style=\"stroke:#000000; stroke-width:2; stroke-opacity:0.1; fill:none\" points=\"\n",
       "  1315.23,1503.47 1315.23,47.2441 \n",
       "  \"/>\n",
       "<polyline clip-path=\"url(#clip4303)\" style=\"stroke:#000000; stroke-width:2; stroke-opacity:0.1; fill:none\" points=\"\n",
       "  1718.18,1503.47 1718.18,47.2441 \n",
       "  \"/>\n",
       "<polyline clip-path=\"url(#clip4303)\" style=\"stroke:#000000; stroke-width:2; stroke-opacity:0.1; fill:none\" points=\"\n",
       "  2121.14,1503.47 2121.14,47.2441 \n",
       "  \"/>\n",
       "<polyline clip-path=\"url(#clip4303)\" style=\"stroke:#000000; stroke-width:2; stroke-opacity:0.1; fill:none\" points=\"\n",
       "  148.013,1462.26 2321.26,1462.26 \n",
       "  \"/>\n",
       "<polyline clip-path=\"url(#clip4303)\" style=\"stroke:#000000; stroke-width:2; stroke-opacity:0.1; fill:none\" points=\"\n",
       "  148.013,1176.05 2321.26,1176.05 \n",
       "  \"/>\n",
       "<polyline clip-path=\"url(#clip4303)\" style=\"stroke:#000000; stroke-width:2; stroke-opacity:0.1; fill:none\" points=\"\n",
       "  148.013,889.843 2321.26,889.843 \n",
       "  \"/>\n",
       "<polyline clip-path=\"url(#clip4303)\" style=\"stroke:#000000; stroke-width:2; stroke-opacity:0.1; fill:none\" points=\"\n",
       "  148.013,603.634 2321.26,603.634 \n",
       "  \"/>\n",
       "<polyline clip-path=\"url(#clip4303)\" style=\"stroke:#000000; stroke-width:2; stroke-opacity:0.1; fill:none\" points=\"\n",
       "  148.013,317.425 2321.26,317.425 \n",
       "  \"/>\n",
       "<polyline clip-path=\"url(#clip4301)\" style=\"stroke:#000000; stroke-width:4; stroke-opacity:1; fill:none\" points=\"\n",
       "  148.013,1503.47 2321.26,1503.47 \n",
       "  \"/>\n",
       "<polyline clip-path=\"url(#clip4301)\" style=\"stroke:#000000; stroke-width:4; stroke-opacity:1; fill:none\" points=\"\n",
       "  148.013,1503.47 148.013,47.2441 \n",
       "  \"/>\n",
       "<polyline clip-path=\"url(#clip4301)\" style=\"stroke:#000000; stroke-width:4; stroke-opacity:1; fill:none\" points=\"\n",
       "  509.318,1503.47 509.318,1481.63 \n",
       "  \"/>\n",
       "<polyline clip-path=\"url(#clip4301)\" style=\"stroke:#000000; stroke-width:4; stroke-opacity:1; fill:none\" points=\"\n",
       "  912.273,1503.47 912.273,1481.63 \n",
       "  \"/>\n",
       "<polyline clip-path=\"url(#clip4301)\" style=\"stroke:#000000; stroke-width:4; stroke-opacity:1; fill:none\" points=\"\n",
       "  1315.23,1503.47 1315.23,1481.63 \n",
       "  \"/>\n",
       "<polyline clip-path=\"url(#clip4301)\" style=\"stroke:#000000; stroke-width:4; stroke-opacity:1; fill:none\" points=\"\n",
       "  1718.18,1503.47 1718.18,1481.63 \n",
       "  \"/>\n",
       "<polyline clip-path=\"url(#clip4301)\" style=\"stroke:#000000; stroke-width:4; stroke-opacity:1; fill:none\" points=\"\n",
       "  2121.14,1503.47 2121.14,1481.63 \n",
       "  \"/>\n",
       "<polyline clip-path=\"url(#clip4301)\" style=\"stroke:#000000; stroke-width:4; stroke-opacity:1; fill:none\" points=\"\n",
       "  148.013,1462.26 180.612,1462.26 \n",
       "  \"/>\n",
       "<polyline clip-path=\"url(#clip4301)\" style=\"stroke:#000000; stroke-width:4; stroke-opacity:1; fill:none\" points=\"\n",
       "  148.013,1176.05 180.612,1176.05 \n",
       "  \"/>\n",
       "<polyline clip-path=\"url(#clip4301)\" style=\"stroke:#000000; stroke-width:4; stroke-opacity:1; fill:none\" points=\"\n",
       "  148.013,889.843 180.612,889.843 \n",
       "  \"/>\n",
       "<polyline clip-path=\"url(#clip4301)\" style=\"stroke:#000000; stroke-width:4; stroke-opacity:1; fill:none\" points=\"\n",
       "  148.013,603.634 180.612,603.634 \n",
       "  \"/>\n",
       "<polyline clip-path=\"url(#clip4301)\" style=\"stroke:#000000; stroke-width:4; stroke-opacity:1; fill:none\" points=\"\n",
       "  148.013,317.425 180.612,317.425 \n",
       "  \"/>\n",
       "<g clip-path=\"url(#clip4301)\">\n",
       "<text style=\"fill:#000000; fill-opacity:1; font-family:Arial,Helvetica Neue,Helvetica,sans-serif; font-size:48; text-anchor:middle;\" transform=\"rotate(0, 509.318, 1557.47)\" x=\"509.318\" y=\"1557.47\">-5.0</text>\n",
       "</g>\n",
       "<g clip-path=\"url(#clip4301)\">\n",
       "<text style=\"fill:#000000; fill-opacity:1; font-family:Arial,Helvetica Neue,Helvetica,sans-serif; font-size:48; text-anchor:middle;\" transform=\"rotate(0, 912.273, 1557.47)\" x=\"912.273\" y=\"1557.47\">-2.5</text>\n",
       "</g>\n",
       "<g clip-path=\"url(#clip4301)\">\n",
       "<text style=\"fill:#000000; fill-opacity:1; font-family:Arial,Helvetica Neue,Helvetica,sans-serif; font-size:48; text-anchor:middle;\" transform=\"rotate(0, 1315.23, 1557.47)\" x=\"1315.23\" y=\"1557.47\">0.0</text>\n",
       "</g>\n",
       "<g clip-path=\"url(#clip4301)\">\n",
       "<text style=\"fill:#000000; fill-opacity:1; font-family:Arial,Helvetica Neue,Helvetica,sans-serif; font-size:48; text-anchor:middle;\" transform=\"rotate(0, 1718.18, 1557.47)\" x=\"1718.18\" y=\"1557.47\">2.5</text>\n",
       "</g>\n",
       "<g clip-path=\"url(#clip4301)\">\n",
       "<text style=\"fill:#000000; fill-opacity:1; font-family:Arial,Helvetica Neue,Helvetica,sans-serif; font-size:48; text-anchor:middle;\" transform=\"rotate(0, 2121.14, 1557.47)\" x=\"2121.14\" y=\"1557.47\">5.0</text>\n",
       "</g>\n",
       "<g clip-path=\"url(#clip4301)\">\n",
       "<text style=\"fill:#000000; fill-opacity:1; font-family:Arial,Helvetica Neue,Helvetica,sans-serif; font-size:48; text-anchor:end;\" transform=\"rotate(0, 124.013, 1479.76)\" x=\"124.013\" y=\"1479.76\">0</text>\n",
       "</g>\n",
       "<g clip-path=\"url(#clip4301)\">\n",
       "<text style=\"fill:#000000; fill-opacity:1; font-family:Arial,Helvetica Neue,Helvetica,sans-serif; font-size:48; text-anchor:end;\" transform=\"rotate(0, 124.013, 1193.55)\" x=\"124.013\" y=\"1193.55\">20</text>\n",
       "</g>\n",
       "<g clip-path=\"url(#clip4301)\">\n",
       "<text style=\"fill:#000000; fill-opacity:1; font-family:Arial,Helvetica Neue,Helvetica,sans-serif; font-size:48; text-anchor:end;\" transform=\"rotate(0, 124.013, 907.343)\" x=\"124.013\" y=\"907.343\">40</text>\n",
       "</g>\n",
       "<g clip-path=\"url(#clip4301)\">\n",
       "<text style=\"fill:#000000; fill-opacity:1; font-family:Arial,Helvetica Neue,Helvetica,sans-serif; font-size:48; text-anchor:end;\" transform=\"rotate(0, 124.013, 621.134)\" x=\"124.013\" y=\"621.134\">60</text>\n",
       "</g>\n",
       "<g clip-path=\"url(#clip4301)\">\n",
       "<text style=\"fill:#000000; fill-opacity:1; font-family:Arial,Helvetica Neue,Helvetica,sans-serif; font-size:48; text-anchor:end;\" transform=\"rotate(0, 124.013, 334.925)\" x=\"124.013\" y=\"334.925\">80</text>\n",
       "</g>\n",
       "<polygon clip-path=\"url(#clip4303)\" points=\"\n",
       "267.545,1447.95 267.545,1462.26 348.136,1462.26 348.136,1447.95 267.545,1447.95 267.545,1447.95 \n",
       "  \" fill=\"#009af9\" fill-opacity=\"1\"/>\n",
       "<polyline clip-path=\"url(#clip4303)\" style=\"stroke:#000000; stroke-width:4; stroke-opacity:1; fill:none\" points=\"\n",
       "  267.545,1447.95 267.545,1462.26 348.136,1462.26 348.136,1447.95 267.545,1447.95 \n",
       "  \"/>\n",
       "<polygon clip-path=\"url(#clip4303)\" points=\"\n",
       "348.136,1462.26 348.136,1462.26 428.727,1462.26 428.727,1462.26 348.136,1462.26 348.136,1462.26 \n",
       "  \" fill=\"#009af9\" fill-opacity=\"1\"/>\n",
       "<polyline clip-path=\"url(#clip4303)\" style=\"stroke:#000000; stroke-width:4; stroke-opacity:1; fill:none\" points=\"\n",
       "  348.136,1462.26 348.136,1462.26 428.727,1462.26 348.136,1462.26 \n",
       "  \"/>\n",
       "<polygon clip-path=\"url(#clip4303)\" points=\"\n",
       "428.727,1462.26 428.727,1462.26 509.318,1462.26 509.318,1462.26 428.727,1462.26 428.727,1462.26 \n",
       "  \" fill=\"#009af9\" fill-opacity=\"1\"/>\n",
       "<polyline clip-path=\"url(#clip4303)\" style=\"stroke:#000000; stroke-width:4; stroke-opacity:1; fill:none\" points=\"\n",
       "  428.727,1462.26 428.727,1462.26 509.318,1462.26 428.727,1462.26 \n",
       "  \"/>\n",
       "<polygon clip-path=\"url(#clip4303)\" points=\"\n",
       "509.318,1447.95 509.318,1462.26 589.909,1462.26 589.909,1447.95 509.318,1447.95 509.318,1447.95 \n",
       "  \" fill=\"#009af9\" fill-opacity=\"1\"/>\n",
       "<polyline clip-path=\"url(#clip4303)\" style=\"stroke:#000000; stroke-width:4; stroke-opacity:1; fill:none\" points=\"\n",
       "  509.318,1447.95 509.318,1462.26 589.909,1462.26 589.909,1447.95 509.318,1447.95 \n",
       "  \"/>\n",
       "<polygon clip-path=\"url(#clip4303)\" points=\"\n",
       "589.909,1447.95 589.909,1462.26 670.5,1462.26 670.5,1447.95 589.909,1447.95 589.909,1447.95 \n",
       "  \" fill=\"#009af9\" fill-opacity=\"1\"/>\n",
       "<polyline clip-path=\"url(#clip4303)\" style=\"stroke:#000000; stroke-width:4; stroke-opacity:1; fill:none\" points=\"\n",
       "  589.909,1447.95 589.909,1462.26 670.5,1462.26 670.5,1447.95 589.909,1447.95 \n",
       "  \"/>\n",
       "<polygon clip-path=\"url(#clip4303)\" points=\"\n",
       "670.5,1447.95 670.5,1462.26 751.091,1462.26 751.091,1447.95 670.5,1447.95 670.5,1447.95 \n",
       "  \" fill=\"#009af9\" fill-opacity=\"1\"/>\n",
       "<polyline clip-path=\"url(#clip4303)\" style=\"stroke:#000000; stroke-width:4; stroke-opacity:1; fill:none\" points=\"\n",
       "  670.5,1447.95 670.5,1462.26 751.091,1462.26 751.091,1447.95 670.5,1447.95 \n",
       "  \"/>\n",
       "<polygon clip-path=\"url(#clip4303)\" points=\"\n",
       "751.091,1333.47 751.091,1462.26 831.682,1462.26 831.682,1333.47 751.091,1333.47 751.091,1333.47 \n",
       "  \" fill=\"#009af9\" fill-opacity=\"1\"/>\n",
       "<polyline clip-path=\"url(#clip4303)\" style=\"stroke:#000000; stroke-width:4; stroke-opacity:1; fill:none\" points=\"\n",
       "  751.091,1333.47 751.091,1462.26 831.682,1462.26 831.682,1333.47 751.091,1333.47 \n",
       "  \"/>\n",
       "<polygon clip-path=\"url(#clip4303)\" points=\"\n",
       "831.682,1247.6 831.682,1462.26 912.273,1462.26 912.273,1247.6 831.682,1247.6 831.682,1247.6 \n",
       "  \" fill=\"#009af9\" fill-opacity=\"1\"/>\n",
       "<polyline clip-path=\"url(#clip4303)\" style=\"stroke:#000000; stroke-width:4; stroke-opacity:1; fill:none\" points=\"\n",
       "  831.682,1247.6 831.682,1462.26 912.273,1462.26 912.273,1247.6 831.682,1247.6 \n",
       "  \"/>\n",
       "<polygon clip-path=\"url(#clip4303)\" points=\"\n",
       "912.273,1319.16 912.273,1462.26 992.864,1462.26 992.864,1319.16 912.273,1319.16 912.273,1319.16 \n",
       "  \" fill=\"#009af9\" fill-opacity=\"1\"/>\n",
       "<polyline clip-path=\"url(#clip4303)\" style=\"stroke:#000000; stroke-width:4; stroke-opacity:1; fill:none\" points=\"\n",
       "  912.273,1319.16 912.273,1462.26 992.864,1462.26 992.864,1319.16 912.273,1319.16 \n",
       "  \"/>\n",
       "<polygon clip-path=\"url(#clip4303)\" points=\"\n",
       "992.864,1118.81 992.864,1462.26 1073.45,1462.26 1073.45,1118.81 992.864,1118.81 992.864,1118.81 \n",
       "  \" fill=\"#009af9\" fill-opacity=\"1\"/>\n",
       "<polyline clip-path=\"url(#clip4303)\" style=\"stroke:#000000; stroke-width:4; stroke-opacity:1; fill:none\" points=\"\n",
       "  992.864,1118.81 992.864,1462.26 1073.45,1462.26 1073.45,1118.81 992.864,1118.81 \n",
       "  \"/>\n",
       "<polygon clip-path=\"url(#clip4303)\" points=\"\n",
       "1073.45,1018.64 1073.45,1462.26 1154.05,1462.26 1154.05,1018.64 1073.45,1018.64 1073.45,1018.64 \n",
       "  \" fill=\"#009af9\" fill-opacity=\"1\"/>\n",
       "<polyline clip-path=\"url(#clip4303)\" style=\"stroke:#000000; stroke-width:4; stroke-opacity:1; fill:none\" points=\"\n",
       "  1073.45,1018.64 1073.45,1462.26 1154.05,1462.26 1154.05,1018.64 1073.45,1018.64 \n",
       "  \"/>\n",
       "<polygon clip-path=\"url(#clip4303)\" points=\"\n",
       "1154.05,474.84 1154.05,1462.26 1234.64,1462.26 1234.64,474.84 1154.05,474.84 1154.05,474.84 \n",
       "  \" fill=\"#009af9\" fill-opacity=\"1\"/>\n",
       "<polyline clip-path=\"url(#clip4303)\" style=\"stroke:#000000; stroke-width:4; stroke-opacity:1; fill:none\" points=\"\n",
       "  1154.05,474.84 1154.05,1462.26 1234.64,1462.26 1234.64,474.84 1154.05,474.84 \n",
       "  \"/>\n",
       "<polygon clip-path=\"url(#clip4303)\" points=\"\n",
       "1234.64,88.4582 1234.64,1462.26 1315.23,1462.26 1315.23,88.4582 1234.64,88.4582 1234.64,88.4582 \n",
       "  \" fill=\"#009af9\" fill-opacity=\"1\"/>\n",
       "<polyline clip-path=\"url(#clip4303)\" style=\"stroke:#000000; stroke-width:4; stroke-opacity:1; fill:none\" points=\"\n",
       "  1234.64,88.4582 1234.64,1462.26 1315.23,1462.26 1315.23,88.4582 1234.64,88.4582 \n",
       "  \"/>\n",
       "<polygon clip-path=\"url(#clip4303)\" points=\"\n",
       "1315.23,245.873 1315.23,1462.26 1395.82,1462.26 1395.82,245.873 1315.23,245.873 1315.23,245.873 \n",
       "  \" fill=\"#009af9\" fill-opacity=\"1\"/>\n",
       "<polyline clip-path=\"url(#clip4303)\" style=\"stroke:#000000; stroke-width:4; stroke-opacity:1; fill:none\" points=\"\n",
       "  1315.23,245.873 1315.23,1462.26 1395.82,1462.26 1395.82,245.873 1315.23,245.873 \n",
       "  \"/>\n",
       "<polygon clip-path=\"url(#clip4303)\" points=\"\n",
       "1395.82,503.461 1395.82,1462.26 1476.41,1462.26 1476.41,503.461 1395.82,503.461 1395.82,503.461 \n",
       "  \" fill=\"#009af9\" fill-opacity=\"1\"/>\n",
       "<polyline clip-path=\"url(#clip4303)\" style=\"stroke:#000000; stroke-width:4; stroke-opacity:1; fill:none\" points=\"\n",
       "  1395.82,503.461 1395.82,1462.26 1476.41,1462.26 1476.41,503.461 1395.82,503.461 \n",
       "  \"/>\n",
       "<polygon clip-path=\"url(#clip4303)\" points=\"\n",
       "1476.41,1018.64 1476.41,1462.26 1557,1462.26 1557,1018.64 1476.41,1018.64 1476.41,1018.64 \n",
       "  \" fill=\"#009af9\" fill-opacity=\"1\"/>\n",
       "<polyline clip-path=\"url(#clip4303)\" style=\"stroke:#000000; stroke-width:4; stroke-opacity:1; fill:none\" points=\"\n",
       "  1476.41,1018.64 1476.41,1462.26 1557,1462.26 1557,1018.64 1476.41,1018.64 \n",
       "  \"/>\n",
       "<polygon clip-path=\"url(#clip4303)\" points=\"\n",
       "1557,1147.43 1557,1462.26 1637.59,1462.26 1637.59,1147.43 1557,1147.43 1557,1147.43 \n",
       "  \" fill=\"#009af9\" fill-opacity=\"1\"/>\n",
       "<polyline clip-path=\"url(#clip4303)\" style=\"stroke:#000000; stroke-width:4; stroke-opacity:1; fill:none\" points=\"\n",
       "  1557,1147.43 1557,1462.26 1637.59,1462.26 1637.59,1147.43 1557,1147.43 \n",
       "  \"/>\n",
       "<polygon clip-path=\"url(#clip4303)\" points=\"\n",
       "1637.59,1218.98 1637.59,1462.26 1718.18,1462.26 1718.18,1218.98 1637.59,1218.98 1637.59,1218.98 \n",
       "  \" fill=\"#009af9\" fill-opacity=\"1\"/>\n",
       "<polyline clip-path=\"url(#clip4303)\" style=\"stroke:#000000; stroke-width:4; stroke-opacity:1; fill:none\" points=\"\n",
       "  1637.59,1218.98 1637.59,1462.26 1718.18,1462.26 1718.18,1218.98 1637.59,1218.98 \n",
       "  \"/>\n",
       "<polygon clip-path=\"url(#clip4303)\" points=\"\n",
       "1718.18,1290.54 1718.18,1462.26 1798.77,1462.26 1798.77,1290.54 1718.18,1290.54 1718.18,1290.54 \n",
       "  \" fill=\"#009af9\" fill-opacity=\"1\"/>\n",
       "<polyline clip-path=\"url(#clip4303)\" style=\"stroke:#000000; stroke-width:4; stroke-opacity:1; fill:none\" points=\"\n",
       "  1718.18,1290.54 1718.18,1462.26 1798.77,1462.26 1798.77,1290.54 1718.18,1290.54 \n",
       "  \"/>\n",
       "<polygon clip-path=\"url(#clip4303)\" points=\"\n",
       "1798.77,1433.64 1798.77,1462.26 1879.36,1462.26 1879.36,1433.64 1798.77,1433.64 1798.77,1433.64 \n",
       "  \" fill=\"#009af9\" fill-opacity=\"1\"/>\n",
       "<polyline clip-path=\"url(#clip4303)\" style=\"stroke:#000000; stroke-width:4; stroke-opacity:1; fill:none\" points=\"\n",
       "  1798.77,1433.64 1798.77,1462.26 1879.36,1462.26 1879.36,1433.64 1798.77,1433.64 \n",
       "  \"/>\n",
       "<polygon clip-path=\"url(#clip4303)\" points=\"\n",
       "1879.36,1433.64 1879.36,1462.26 1959.95,1462.26 1959.95,1433.64 1879.36,1433.64 1879.36,1433.64 \n",
       "  \" fill=\"#009af9\" fill-opacity=\"1\"/>\n",
       "<polyline clip-path=\"url(#clip4303)\" style=\"stroke:#000000; stroke-width:4; stroke-opacity:1; fill:none\" points=\"\n",
       "  1879.36,1433.64 1879.36,1462.26 1959.95,1462.26 1959.95,1433.64 1879.36,1433.64 \n",
       "  \"/>\n",
       "<polygon clip-path=\"url(#clip4303)\" points=\"\n",
       "1959.95,1419.33 1959.95,1462.26 2040.55,1462.26 2040.55,1419.33 1959.95,1419.33 1959.95,1419.33 \n",
       "  \" fill=\"#009af9\" fill-opacity=\"1\"/>\n",
       "<polyline clip-path=\"url(#clip4303)\" style=\"stroke:#000000; stroke-width:4; stroke-opacity:1; fill:none\" points=\"\n",
       "  1959.95,1419.33 1959.95,1462.26 2040.55,1462.26 2040.55,1419.33 1959.95,1419.33 \n",
       "  \"/>\n",
       "<polygon clip-path=\"url(#clip4303)\" points=\"\n",
       "2040.55,1462.26 2040.55,1462.26 2121.14,1462.26 2121.14,1462.26 2040.55,1462.26 2040.55,1462.26 \n",
       "  \" fill=\"#009af9\" fill-opacity=\"1\"/>\n",
       "<polyline clip-path=\"url(#clip4303)\" style=\"stroke:#000000; stroke-width:4; stroke-opacity:1; fill:none\" points=\"\n",
       "  2040.55,1462.26 2040.55,1462.26 2121.14,1462.26 2040.55,1462.26 \n",
       "  \"/>\n",
       "<polygon clip-path=\"url(#clip4303)\" points=\"\n",
       "2121.14,1447.95 2121.14,1462.26 2201.73,1462.26 2201.73,1447.95 2121.14,1447.95 2121.14,1447.95 \n",
       "  \" fill=\"#009af9\" fill-opacity=\"1\"/>\n",
       "<polyline clip-path=\"url(#clip4303)\" style=\"stroke:#000000; stroke-width:4; stroke-opacity:1; fill:none\" points=\"\n",
       "  2121.14,1447.95 2121.14,1462.26 2201.73,1462.26 2201.73,1447.95 2121.14,1447.95 \n",
       "  \"/>\n",
       "<polygon clip-path=\"url(#clip4301)\" points=\"\n",
       "1958.43,251.724 2249.26,251.724 2249.26,130.764 1958.43,130.764 \n",
       "  \" fill=\"#ffffff\" fill-opacity=\"1\"/>\n",
       "<polyline clip-path=\"url(#clip4301)\" style=\"stroke:#000000; stroke-width:4; stroke-opacity:1; fill:none\" points=\"\n",
       "  1958.43,251.724 2249.26,251.724 2249.26,130.764 1958.43,130.764 1958.43,251.724 \n",
       "  \"/>\n",
       "<polygon clip-path=\"url(#clip4301)\" points=\"\n",
       "1982.43,215.436 2126.43,215.436 2126.43,167.052 1982.43,167.052 1982.43,215.436 \n",
       "  \" fill=\"#009af9\" fill-opacity=\"1\"/>\n",
       "<polyline clip-path=\"url(#clip4301)\" style=\"stroke:#000000; stroke-width:4; stroke-opacity:1; fill:none\" points=\"\n",
       "  1982.43,215.436 2126.43,215.436 2126.43,167.052 1982.43,167.052 1982.43,215.436 \n",
       "  \"/>\n",
       "<g clip-path=\"url(#clip4301)\">\n",
       "<text style=\"fill:#000000; fill-opacity:1; font-family:Arial,Helvetica Neue,Helvetica,sans-serif; font-size:48; text-anchor:start;\" transform=\"rotate(0, 2150.43, 208.744)\" x=\"2150.43\" y=\"208.744\">y1</text>\n",
       "</g>\n",
       "</svg>\n"
      ]
     },
     "execution_count": 18,
     "metadata": {},
     "output_type": "execute_result"
    }
   ],
   "source": [
    "using Distributions\n",
    "\n",
    "function plothistogram(distribution, n)\n",
    "    ϵ = rand(distribution, n)  # n draws from distribution\n",
    "    histogram(ϵ)\n",
    "end\n",
    "\n",
    "lp = Laplace()\n",
    "plothistogram(lp, 500)"
   ]
  },
  {
   "cell_type": "markdown",
   "metadata": {},
   "source": [
    "Let’s have a casual discussion of how all this works while leaving technical details for later in the lectures\n",
    "\n",
    "First, `lp = Laplace()` creates an instance of a data type defined\n",
    "in the Distributions module that represents the Laplace distribution\n",
    "\n",
    "The name `lp` is bound to this object\n",
    "\n",
    "When we make the function call `plothistogram(lp, 500)` the code in the body\n",
    "of the function `plothistogram` is run with\n",
    "\n",
    "- the name `distribution` bound to the same object as `lp`  \n",
    "- the name `n` bound to the integer `500`  "
   ]
  },
  {
   "cell_type": "markdown",
   "metadata": {},
   "source": [
    "#### A Mystery\n",
    "\n",
    "Now consider the function call `rand(distribution, n)`\n",
    "\n",
    "This looks like something of a mystery\n",
    "\n",
    "The function `rand()` is defined in the base library such that `rand(n)` returns `n` uniform random variables on $ [0, 1) $"
   ]
  },
  {
   "cell_type": "code",
   "execution_count": 19,
   "metadata": {},
   "outputs": [
    {
     "data": {
      "text/plain": [
       "3-element Array{Float64,1}:\n",
       " 0.15214534779396827\n",
       " 0.993195494218619  \n",
       " 0.8650116590350121 "
      ]
     },
     "execution_count": 19,
     "metadata": {},
     "output_type": "execute_result"
    }
   ],
   "source": [
    "rand(3)"
   ]
  },
  {
   "cell_type": "markdown",
   "metadata": {},
   "source": [
    "On the other hand, `distribution` points to a data type representing the Laplace distribution that has been defined in a third party package\n",
    "\n",
    "So how can it be that `rand()` is able to take this kind of object as an\n",
    "argument and return the output that we want?\n",
    "\n",
    "The answer in a nutshell is **multiple dispatch**, which Julia uses to implement **generic programming**\n",
    "\n",
    "This refers to the idea that functions in Julia can have different behavior\n",
    "depending on the particular arguments that they’re passed\n",
    "\n",
    "Hence in Julia we can take an existing function and give it a new behavior by defining how it acts on a new type of object\n",
    "\n",
    "The compiler knows which function definition to apply in a given setting by looking at the types of the objects the function is called on\n",
    "\n",
    "In Julia these alternative versions of a function are called **methods**"
   ]
  },
  {
   "cell_type": "markdown",
   "metadata": {},
   "source": [
    "## Example: Variations on Fixed-Points\n",
    "\n",
    "For our second example, we will start with a simple example of solving a fixed-points\n",
    "\n",
    "The goal is to start with code in a matlab style, and move towards a more **Julian** style with high mathematical clarity"
   ]
  },
  {
   "cell_type": "markdown",
   "metadata": {},
   "source": [
    "### Fixed-Point Maps\n",
    "\n",
    "Consider the simple equation, where the scalars $ p,\\beta $ are given, and  $ v $ is the scalar we wish to solve for\n",
    "\n",
    "$$\n",
    "v = p + \\beta v\n",
    "$$\n",
    "\n",
    "Of course, in this simple example, with parameter restrictions this can be solved as $ v = p/(1 - \\beta) $\n",
    "\n",
    "Rearrange the equation in terms of a map $ f(x) : \\mathbb R \\to \\mathbb R $\n",
    "\n",
    "\n",
    "<a id='equation-fixed-point-map'></a>\n",
    "<table width=100%><tr style='background-color: #FFFFFF !important;'>\n",
    "<td width=10%></td>\n",
    "<td width=80%>\n",
    "$$\n",
    "v = f(v)\\quad\n",
    "$$\n",
    "</td><td width=10% style='text-align:center !important;'>\n",
    "(1)\n",
    "</td></tr></table>\n",
    "\n",
    "where\n",
    "\n",
    "$$\n",
    "f(v) := p + \\beta v\\quad\n",
    "$$\n",
    "\n",
    "Therefore, a fixed point $ v^* $ of $ f(\\cdot) $ is a solution to the above problem"
   ]
  },
  {
   "cell_type": "markdown",
   "metadata": {},
   "source": [
    "### While Loops\n",
    "\n",
    "One approach to finding a fixed point of [(1)](#equation-fixed-point-map) is to start with an initial value, and iterate the map\n",
    "\n",
    "\n",
    "<a id='equation-fixed-point-naive'></a>\n",
    "<table width=100%><tr style='background-color: #FFFFFF !important;'>\n",
    "<td width=10%></td>\n",
    "<td width=80%>\n",
    "$$\n",
    "v^{n+1} = f(v^n)\\quad\n",
    "$$\n",
    "</td><td width=10% style='text-align:center !important;'>\n",
    "(2)\n",
    "</td></tr></table>\n",
    "\n",
    "For this exact `f` function,  we can see the convergence to $ v = p/(1-\\beta) $ when $ |\\beta| < 1 $ by iterating backwards and taking $ n\\to\\infty $\n",
    "\n",
    "$$\n",
    "v^{n+1} = p + \\beta v^n = p + \\beta p + \\beta^2 v^{n-1} = p \\sum_{i=0}^{n-1} \\beta^i + \\beta^n v_0\n",
    "$$\n",
    "\n",
    "To implement the iteration in [(2)](#equation-fixed-point-naive), we start by solving this problem with a `while` loop\n",
    "\n",
    "The syntax for the while loop contains no surprises, and looks nearly identical to a Matlab implementation"
   ]
  },
  {
   "cell_type": "code",
   "execution_count": 20,
   "metadata": {},
   "outputs": [
    {
     "name": "stdout",
     "output_type": "stream",
     "text": [
      "Fixed point = 9.999999173706609, and |f(x) - x| = 9.181037796679448e-8 in 155 iterations\n"
     ]
    }
   ],
   "source": [
    "# poor style\n",
    "p = 1.0 # note 1.0 rather than 1\n",
    "β = 0.9\n",
    "maxiter = 1000\n",
    "tolerance = 1.0E-7\n",
    "v_iv = 0.8 # initial condition\n",
    "\n",
    "# setup the algorithm\n",
    "v_old = v_iv\n",
    "normdiff = Inf\n",
    "iter = 1\n",
    "while normdiff > tolerance && iter <= maxiter\n",
    "    v_new = p + β * v_old # the f(v) map\n",
    "    normdiff = norm(v_new - v_old)\n",
    "\n",
    "    # replace and continue\n",
    "    v_old = v_new\n",
    "    iter = iter + 1\n",
    "end\n",
    "println(\"Fixed point = $v_old, and |f(x) - x| = $normdiff in $iter iterations\")"
   ]
  },
  {
   "cell_type": "markdown",
   "metadata": {},
   "source": [
    "The `while` loop, like the `for` loop should only be used directly in Jupyter or inside of a function\n",
    "\n",
    "Here, we have used the `norm` function (from the `LinearAlgebra` base library) to compare the values\n",
    "\n",
    "The other new function is the `println` with the string interpolation, which splices a value of an expression or variable prefixed by `$` into a string\n",
    "\n",
    "An alternative approach is to use a `for` loop, and checking for convergence in each iteration"
   ]
  },
  {
   "cell_type": "code",
   "execution_count": 21,
   "metadata": {},
   "outputs": [
    {
     "name": "stdout",
     "output_type": "stream",
     "text": [
      "Fixed point = 9.999999081896231, and |f(x) - x| = 9.181037796679448e-8 in 154 iterations\n"
     ]
    }
   ],
   "source": [
    "# setup the algorithm\n",
    "v_old = v_iv\n",
    "normdiff = Inf\n",
    "iter = 1\n",
    "for i in 1:maxiter\n",
    "    v_new = p + β * v_old # the f(v) map\n",
    "    normdiff = norm(v_new - v_old)\n",
    "    if normdiff < tolerance # check convergence\n",
    "        iter = i\n",
    "        break # converged, exit loop\n",
    "    end\n",
    "    # replace and continue\n",
    "    v_old = v_new\n",
    "end\n",
    "println(\"Fixed point = $v_old, and |f(x) - x| = $normdiff in $iter iterations\")"
   ]
  },
  {
   "cell_type": "markdown",
   "metadata": {},
   "source": [
    "The new feature there is `break` , which leaves a `for` or `while` loop"
   ]
  },
  {
   "cell_type": "markdown",
   "metadata": {},
   "source": [
    "### Using a Function\n",
    "\n",
    "The first problem with this setup is that it depends on being sequently run–which can be easily remedied with a function"
   ]
  },
  {
   "cell_type": "code",
   "execution_count": 22,
   "metadata": {},
   "outputs": [
    {
     "name": "stdout",
     "output_type": "stream",
     "text": [
      "Fixed point = 9.999999173706609, and |f(x) - x| = 9.181037796679448e-8 in 155 iterations\n"
     ]
    }
   ],
   "source": [
    "# better, but still poor style\n",
    "function v_fp(β, ρ, v_iv, tolerance, maxiter)\n",
    "    # setup the algorithm\n",
    "    v_old = v_iv\n",
    "    normdiff = Inf\n",
    "    iter = 1\n",
    "    while normdiff > tolerance && iter <= maxiter\n",
    "        v_new = p + β * v_old # the f(v) map\n",
    "        normdiff = norm(v_new - v_old)\n",
    "\n",
    "        #Replace and continue\n",
    "        v_old = v_new\n",
    "        iter = iter + 1\n",
    "    end\n",
    "    return (v_old, normdiff, iter) # returns a tuple\n",
    "end\n",
    "\n",
    "# some values\n",
    "p = 1.0 # note 1.0 rather than 1\n",
    "β = 0.9\n",
    "maxiter = 1000\n",
    "tolerance = 1.0E-7\n",
    "v_initial = 0.8 # initial condition\n",
    "\n",
    "v_star, normdiff, iter = v_fp(β, p, v_initial, tolerance, maxiter)\n",
    "println(\"Fixed point = $v_star, and |f(x) - x| = $normdiff in $iter iterations\")"
   ]
  },
  {
   "cell_type": "markdown",
   "metadata": {},
   "source": [
    "While better, there are still improvements"
   ]
  },
  {
   "cell_type": "markdown",
   "metadata": {},
   "source": [
    "### Passing a Function\n",
    "\n",
    "The chief issue is that the algorithm (finding a fixed point) is reusable and generic, while the function we calculate `p + β * v` is specific to our problem\n",
    "\n",
    "A key feature of languages like Julia, is the ability to efficiently handle functions passed to other functions"
   ]
  },
  {
   "cell_type": "code",
   "execution_count": 23,
   "metadata": {},
   "outputs": [
    {
     "name": "stdout",
     "output_type": "stream",
     "text": [
      "Fixed point = 9.999999173706609, and |f(x) - x| = 9.181037796679448e-8 in 155 iterations\n"
     ]
    }
   ],
   "source": [
    "# better style\n",
    "function fixedpointmap(f, iv, tolerance, maxiter)\n",
    "    # setup the algorithm\n",
    "    x_old = iv\n",
    "    normdiff = Inf\n",
    "    iter = 1\n",
    "    while normdiff > tolerance && iter <= maxiter\n",
    "        x_new = f(x_old) # use the passed in map\n",
    "        normdiff = norm(x_new - x_old)\n",
    "        x_old = x_new\n",
    "        iter = iter + 1\n",
    "    end\n",
    "    return (x_old, normdiff, iter)\n",
    "end\n",
    "\n",
    "# define a map and parameters\n",
    "p = 1.0\n",
    "β = 0.9\n",
    "f(v) = p + β * v # note that p and β are used in the function!\n",
    "\n",
    "maxiter = 1000\n",
    "tolerance = 1.0E-7\n",
    "v_initial = 0.8 # initial condition\n",
    "\n",
    "v_star, normdiff, iter = fixedpointmap(f, v_initial, tolerance, maxiter)\n",
    "println(\"Fixed point = $v_star, and |f(x) - x| = $normdiff in $iter iterations\")"
   ]
  },
  {
   "cell_type": "markdown",
   "metadata": {},
   "source": [
    "Much closer, but there are still hidden bugs if the user orders the settings or return types wrong"
   ]
  },
  {
   "cell_type": "markdown",
   "metadata": {},
   "source": [
    "### Named Arguments and Return Values\n",
    "\n",
    "To enable this, Julia has two features:  named function parameters, and named tuples"
   ]
  },
  {
   "cell_type": "code",
   "execution_count": 24,
   "metadata": {},
   "outputs": [
    {
     "name": "stdout",
     "output_type": "stream",
     "text": [
      "Fixed point = 9.999999918629035, and |f(x) - x| = 9.041219328764782e-9 in 177 iterations\n"
     ]
    }
   ],
   "source": [
    " # good style\n",
    "function fixedpointmap(f; iv, tolerance = 1E-7, maxiter = 1000)\n",
    "    # setup the algorithm\n",
    "    x_old = iv\n",
    "    normdiff = Inf\n",
    "    iter = 1\n",
    "    while normdiff > tolerance && iter <= maxiter\n",
    "        x_new = f(x_old) # use the passed in map\n",
    "        normdiff = norm(x_new - x_old)\n",
    "        x_old = x_new\n",
    "        iter = iter + 1\n",
    "    end\n",
    "    return (value = x_old, normdiff = normdiff, iter = iter) # A named tuple\n",
    "end\n",
    "\n",
    "# define a map and parameters\n",
    "p = 1.0\n",
    "β = 0.9\n",
    "f(v) = p + β * v # note that p and β are used in the function!\n",
    "\n",
    "sol = fixedpointmap(f, iv = 0.8, tolerance = 1.0E-8) # don't need to pass\n",
    "println(\"Fixed point = $(sol.value), and |f(x) - x| = $(sol.normdiff) in $(sol.iter) iterations\")"
   ]
  },
  {
   "cell_type": "markdown",
   "metadata": {},
   "source": [
    "In this example, all function parameters after the `;` in the list, must be called by name\n",
    "\n",
    "Furthermore, a default value may be enabled–so the named parameter `iv` is required while `tolerance` and `maxiter` have default values\n",
    "\n",
    "The return type of the function also has named fields, `value, normdiff,` and `iter`–all accessed intuitively using `.`\n",
    "\n",
    "To show the flexibilty of this code, we can use it to find a fixed-point of the non-linear logistic equation, :math:`x = f(x)` where $ f(x) := r x (1-x) $"
   ]
  },
  {
   "cell_type": "code",
   "execution_count": 25,
   "metadata": {},
   "outputs": [
    {
     "name": "stdout",
     "output_type": "stream",
     "text": [
      "Fixed point = 0.4999999999999968, and |f(x) - x| = 3.979330237546819e-8 in 7 iterations\n"
     ]
    }
   ],
   "source": [
    "r = 2.0\n",
    "f(x) = r * x * (1 - x)\n",
    "\n",
    "sol = fixedpointmap(f, iv = 0.8)\n",
    "println(\"Fixed point = $(sol.value), and |f(x) - x| = $(sol.normdiff) in $(sol.iter) iterations\")"
   ]
  },
  {
   "cell_type": "markdown",
   "metadata": {},
   "source": [
    "### Using a Package\n",
    "\n",
    "But best of all is to avoid writing code altogether"
   ]
  },
  {
   "cell_type": "code",
   "execution_count": 26,
   "metadata": {},
   "outputs": [
    {
     "name": "stdout",
     "output_type": "stream",
     "text": [
      "Fixed point = [10.0], and |f(x) - x| = 9.041219328764782e-9 in 176 iterations\n"
     ]
    }
   ],
   "source": [
    "# best style\n",
    "using NLsolve\n",
    "\n",
    "p = 1.0\n",
    "β = 0.9\n",
    "f(v) = p .+ β * v # broadcast the +\n",
    "sol = fixedpoint(f, [0.8], inplace = false)\n",
    "println(\"Fixed point = $(sol.zero), and |f(x) - x| = $(norm(f(sol.zero) - sol.zero)) in $(sol.iterations) iterations\")"
   ]
  },
  {
   "cell_type": "markdown",
   "metadata": {},
   "source": [
    "The `fixedpoint` function from the `NLsolve.jl` library implements the simple fixed-point iteration scheme above\n",
    "\n",
    "Since the `NLsolve` library only accepts vector based inputs, we needed to make the `f(v)` function broadcast on the `+` sign, and pass in the initial condition as a vector of length 1 with `[0.8]]`\n",
    "\n",
    "While a key benefit of using a package is that the code is clearer, and the implementation is tested, by using an orthogonal library we also enable performance improvements\n",
    "\n",
    "In particular, we can use the `Anderson acceleration` with a memory of 5 iterations, by changing a setting"
   ]
  },
  {
   "cell_type": "code",
   "execution_count": 27,
   "metadata": {},
   "outputs": [
    {
     "name": "stdout",
     "output_type": "stream",
     "text": [
      "Fixed point = [10.0], and |f(x) - x| = 3.552713678800501e-15 in 3 iterations\n"
     ]
    }
   ],
   "source": [
    "# best style\n",
    "using NLsolve\n",
    "\n",
    "p = 1.0\n",
    "β = 0.9\n",
    "iv = [0.8]\n",
    "sol = fixedpoint(v -> p .+ β * v, iv, inplace = false, method = :anderson, m = 3)\n",
    "println(\"Fixed point = $(sol.zero), and |f(x) - x| = $(norm(f(sol.zero) - sol.zero)) in $(sol.iterations) iterations\")"
   ]
  },
  {
   "cell_type": "markdown",
   "metadata": {},
   "source": [
    "Note that this completes in `3` iterations vs `177` for the naive fixed point iteration algorithm\n",
    "\n",
    "Since Anderson iteration is doing more calculations in an iteration,  whether it is faster or not would depend on the complexity of the f function\n",
    "\n",
    "But this demonstrates the value of keeping the math separate from the algorithm, since by decoupling the mathematical definition of the fixed point from the implementation in [(2)](#equation-fixed-point-naive), we were able to exploit new algorithms for finding a fixed point\n",
    "\n",
    "The only other change in this function as the move from directly defining `f(v)` and using an **anonymous** function\n",
    "\n",
    "Similar to anonymous functions in Matlab, and lambda functions in Python, Julia enables the creation of small functions without any names\n",
    "\n",
    "The code `v -> p .+ β * v` defines a function of a dummy argument, `v` with the same body as our `f(x)`"
   ]
  },
  {
   "cell_type": "markdown",
   "metadata": {},
   "source": [
    "### Composing Packages\n",
    "\n",
    "A key benefit of using Julia is that you can compose various packages, types, and techniques, without making changes to your underlying source\n",
    "\n",
    "As an example, consider if we want to solve the model with a higher-precision, as floating points cannot be distinguished beyond the machine epsilon for that type,\n",
    "\n",
    "In Julia, this number can be calculated as"
   ]
  },
  {
   "cell_type": "code",
   "execution_count": 28,
   "metadata": {},
   "outputs": [
    {
     "data": {
      "text/plain": [
       "2.220446049250313e-16"
      ]
     },
     "execution_count": 28,
     "metadata": {},
     "output_type": "execute_result"
    }
   ],
   "source": [
    "eps()"
   ]
  },
  {
   "cell_type": "markdown",
   "metadata": {},
   "source": [
    "For many cases, this is sufficient precision–but consider that in iterative algorithms applied millions of times, those small differences can add up\n",
    "\n",
    "The only change we will need to our model in order to use a different floating point type is to call the function with an arbitrary precision floating point, `BigFloat`, for the initial value"
   ]
  },
  {
   "cell_type": "code",
   "execution_count": 29,
   "metadata": {},
   "outputs": [
    {
     "name": "stdout",
     "output_type": "stream",
     "text": [
      "Fixed point = BigFloat[1.0e+01], and |f(x) - x| = 0.0 in 3 iterations\n"
     ]
    }
   ],
   "source": [
    "# use arbitrary precision floating points\n",
    "p = 1.0\n",
    "β = 0.9\n",
    "iv = [BigFloat(0.8)] # higher precision\n",
    "\n",
    "# otherwise identical\n",
    "sol = fixedpoint(v -> p .+ β * v, iv, inplace = false, m = 3)\n",
    "println(\"Fixed point = $(sol.zero), and |f(x) - x| = $(norm(f(sol.zero) - sol.zero)) in $(sol.iterations) iterations\")"
   ]
  },
  {
   "cell_type": "markdown",
   "metadata": {},
   "source": [
    "Here, the literal BigFloat(0.8) takes the number 0.8 and changes it to an arbitrary precision number\n",
    "\n",
    "The result is that the residual is now **exactly** `0.0` since it is able to use arbitrary precision in the calculations, and the solution has a finite-precision solution with those parameters"
   ]
  },
  {
   "cell_type": "markdown",
   "metadata": {},
   "source": [
    "### Multivariate Fixed Point Maps\n",
    "\n",
    "The above example can be extended to multivariate maps without any modifications to the fixed point iteration code\n",
    "\n",
    "Using our own, homegrown iteration and simple passing in a bivariate map,"
   ]
  },
  {
   "cell_type": "code",
   "execution_count": 30,
   "metadata": {},
   "outputs": [
    {
     "name": "stdout",
     "output_type": "stream",
     "text": [
      "Fixed point = [10.0, 20.0], and |f(x) - x| = 9.501826248250528e-9 in 184 iterations\n"
     ]
    }
   ],
   "source": [
    "p = [1.0, 2.0]\n",
    "β = 0.9\n",
    "iv = [0.8, 2.0]\n",
    "f(v) = p .+ β * v # note that p and β are used in the function!\n",
    "\n",
    "sol = fixedpointmap(f, iv = iv, tolerance = 1.0E-8)\n",
    "println(\"Fixed point = $(sol.value), and |f(x) - x| = $(sol.normdiff) in $(sol.iter) iterations\")"
   ]
  },
  {
   "cell_type": "markdown",
   "metadata": {},
   "source": [
    "This also works without any modifications with the `fixedpoint` library function"
   ]
  },
  {
   "cell_type": "code",
   "execution_count": 31,
   "metadata": {},
   "outputs": [
    {
     "name": "stdout",
     "output_type": "stream",
     "text": [
      "Fixed point = [10.0, 20.0, 1.0], and |f(x) - x| = 0.0 in 3 iterations\n"
     ]
    }
   ],
   "source": [
    "using NLsolve\n",
    "\n",
    "p = [1.0, 2.0, 0.1]\n",
    "β = 0.9\n",
    "iv =[0.8, 2.0, 51.0]\n",
    "f(v) = p .+ β * v\n",
    "\n",
    "sol = fixedpoint(v -> p .+ β * v, iv, inplace = false, method = :anderson, m = 3)\n",
    "println(\"Fixed point = $(sol.zero), and |f(x) - x| = $(norm(f(sol.zero) - sol.zero)) in $(sol.iterations) iterations\")"
   ]
  },
  {
   "cell_type": "markdown",
   "metadata": {},
   "source": [
    "Finally, to demonstrate the importance of composing different libraries, use a `StaticArrays.jl` type, which provides an efficient implementation for small arrays and matrices"
   ]
  },
  {
   "cell_type": "code",
   "execution_count": 32,
   "metadata": {},
   "outputs": [
    {
     "name": "stdout",
     "output_type": "stream",
     "text": [
      "Fixed point = [10.0, 20.0, 1.0], and |f(x) - x| = 0.0 in 3 iterations\n"
     ]
    }
   ],
   "source": [
    "using NLsolve, StaticArrays\n",
    "p = @SVector [1.0, 2.0, 0.1]\n",
    "β = 0.9\n",
    "iv = @SVector  [0.8, 2.0, 51.0]\n",
    "f(v) = p .+ β * v\n",
    "\n",
    "sol = fixedpoint(v -> p .+ β * v, iv, inplace = false, method = :anderson, m = 3)\n",
    "println(\"Fixed point = $(sol.zero), and |f(x) - x| = $(norm(f(sol.zero) - sol.zero)) in $(sol.iterations) iterations\")"
   ]
  },
  {
   "cell_type": "markdown",
   "metadata": {},
   "source": [
    "The `@SVector` in front of the `[1.0, 2.0, 0.1]` is a macro for turning a vector literal into a static vector\n",
    "\n",
    "All macros in Julia are prefixed by `@` in the name, and manipulate the code prior to compilation\n",
    "\n",
    "We will see a variety of macros, and discuss the “metaprogramming” behind them in a later lecture"
   ]
  },
  {
   "cell_type": "markdown",
   "metadata": {},
   "source": [
    "## Exercises\n",
    "\n",
    "\n",
    "<a id='jbe-ex1'></a>"
   ]
  },
  {
   "cell_type": "markdown",
   "metadata": {},
   "source": [
    "### Exercise 1\n",
    "\n",
    "Recall that $ n! $ is read as “$ n $ factorial” and defined as\n",
    "$ n! = n \\times (n - 1) \\times \\cdots \\times 2 \\times 1 $\n",
    "\n",
    "In Julia you can compute this value with `factorial(n)`\n",
    "\n",
    "Write your own version of this function, called `factorial2`, using a `for` loop\n",
    "\n",
    "\n",
    "<a id='jbe-ex2'></a>"
   ]
  },
  {
   "cell_type": "markdown",
   "metadata": {},
   "source": [
    "### Exercise 2\n",
    "\n",
    "The [binomial random variable](https://en.wikipedia.org/wiki/Binomial_distribution) $ Y \\sim Bin(n, p) $ represents\n",
    "\n",
    "- number of successes in $ n $ binary trials  \n",
    "- each trial succeeds with probability $ p $  \n",
    "\n",
    "\n",
    "Using only `rand()` from the set of Julia’s built-in random number\n",
    "generators (not the Distributions package), write a function `binomial_rv` such that `binomial_rv(n, p)` generates one draw of $ Y $\n",
    "\n",
    "Hint: If $ U $ is uniform on $ (0, 1) $ and $ p \\in (0,1) $, then the expression `U < p` evaluates to `true` with probability $ p $\n",
    "\n",
    "\n",
    "<a id='jbe-ex3'></a>"
   ]
  },
  {
   "cell_type": "markdown",
   "metadata": {},
   "source": [
    "### Exercise 3\n",
    "\n",
    "Compute an approximation to $ \\pi $ using Monte Carlo\n",
    "\n",
    "For random number generation use only `rand()`\n",
    "\n",
    "Your hints are as follows:\n",
    "\n",
    "- If $ U $ is a bivariate uniform random variable on the unit square $ (0, 1)^2 $, then the probability that $ U $ lies in a subset $ B $ of $ (0,1)^2 $ is equal to the area of $ B $  \n",
    "- If $ U_1,\\ldots,U_n $ are iid copies of $ U $, then, as $ n $ gets large, the fraction that falls in $ B $ converges to the probability of landing in $ B $  \n",
    "- For a circle, area = π * radius^2  \n",
    "\n",
    "\n",
    "\n",
    "<a id='jbe-ex4'></a>"
   ]
  },
  {
   "cell_type": "markdown",
   "metadata": {},
   "source": [
    "### Exercise 4\n",
    "\n",
    "Write a program that prints one realization of the following random device:\n",
    "\n",
    "- Flip an unbiased coin 10 times  \n",
    "- If 3 consecutive heads occur one or more times within this sequence, pay one dollar  \n",
    "- If not, pay nothing  \n",
    "\n",
    "\n",
    "Once again use only `rand()` as your random number generator\n",
    "\n",
    "\n",
    "<a id='jbe-ex5'></a>"
   ]
  },
  {
   "cell_type": "markdown",
   "metadata": {},
   "source": [
    "### Exercise 5\n",
    "\n",
    "Simulate and plot the correlated time series\n",
    "\n",
    "$$\n",
    "x_{t+1} = \\alpha \\, x_t + \\epsilon_{t+1}\n",
    "\\quad \\text{where} \\quad\n",
    "x_0 = 0\n",
    "\\quad \\text{and} \\quad t = 0,\\ldots,n\n",
    "$$\n",
    "\n",
    "The sequence of shocks $ \\{\\epsilon_t\\} $ is assumed to be iid and standard normal\n",
    "\n",
    "Set $ n = 200 $ and $ \\alpha = 0.9 $\n",
    "\n",
    "\n",
    "<a id='jbe-ex6'></a>"
   ]
  },
  {
   "cell_type": "markdown",
   "metadata": {},
   "source": [
    "### Exercise 6\n",
    "\n",
    "Plot three simulated time series, one for each of the cases $ \\alpha = 0 $, $ \\alpha = 0.8 $ and $ \\alpha = 0.98 $\n",
    "\n",
    "(The figure will illustrate how time series with the same one-step-ahead conditional volatilities, as these three processes have, can have very different unconditional volatilities)\n",
    "\n",
    "\n",
    "<a id='jbe-ex7'></a>"
   ]
  },
  {
   "cell_type": "markdown",
   "metadata": {},
   "source": [
    "### Exercise 7\n",
    "\n",
    "This exercise is more challenging\n",
    "\n",
    "Take a random walk, starting from $ x_0 = 1 $\n",
    "\n",
    "$$\n",
    "x_{t+1} = \\, \\alpha \\, x_t + \\sigma\\, \\epsilon_{t+1}\n",
    "\\quad \\text{where} \\quad\n",
    "x_0 = 1\n",
    "\\quad \\text{and} \\quad t = 0,\\ldots,n\n",
    "$$\n",
    "\n",
    "The sequence of shocks $ \\{\\epsilon_t\\} $ is assumed to be iid and standard normal\n",
    "\n",
    "For a given path $ \\{x_t\\} $ define a **first-passage time** as $ T_a = \\min\\{t\\, |\\, x_t \\leq a\\} $\n",
    "\n",
    "Start $ \\sigma = 0.1, \\alpha = 1.0 $\n",
    "\n",
    "1. calculate the first-passage time, $ T_0 $, for 100 simulated random walks–to a $ t_{\\max} = 100 $ and plot a histogram  \n",
    "\n",
    "\n",
    "- since you will only be able to simulate a finite length, decide a reasonable convention (e.g. showing the first-passage distribution condition on passage, or choosing that all $ x_t $ go to $ 0 $ at $ t_{\\max} $  \n",
    "\n",
    "\n",
    "1. plot the sample mean of $ T_0 $ from the simulation for $ \\alpha \\in \\{-0.1, 0.0, 0.1, 0.2\\} $  "
   ]
  },
  {
   "cell_type": "markdown",
   "metadata": {},
   "source": [
    "### Exercise 8(a)\n",
    "\n",
    "This exercise is more challenging\n",
    "\n",
    "The root of a univariate function is $ f(\\cdot) $ is an $ x $ such that $ f(x) = 0 $\n",
    "\n",
    "One solution method to find local roots of smooth functions is called Newton’s method\n",
    "\n",
    "Starting with an $ x_0 $ guess, a function $ f(\\cdot) $ and the first-derivative $ f'(\\cdot) $, the algorithm is to repeat\n",
    "\n",
    "$$\n",
    "x^{n+1} = x^n - \\frac{f(x^n}{f'(x^n)}\n",
    "$$\n",
    "\n",
    "until $ | x^{n+1} - x^n| $ is below a tolerance\n",
    "\n",
    "1. Use a variation of the `fixedpointmap` code to implement Newton’s method, where the function would accept an `f, f_prime, x_0, tolerance, maxiter`  \n",
    "1. Test it with $ f(x) = (x-1)^3 $ and another function of your choice where you can analytically find the derivative  "
   ]
  },
  {
   "cell_type": "markdown",
   "metadata": {},
   "source": [
    "### Exercise 8(b)\n",
    "\n",
    "For those impatient to use more advanced features of Julia, implement a version where Exercise 8(a) where `f_prime` is calculated with auto-differentiation"
   ]
  },
  {
   "cell_type": "code",
   "execution_count": 33,
   "metadata": {},
   "outputs": [
    {
     "data": {
      "text/plain": [
       "(0.010000000000000002, 0.2)"
      ]
     },
     "execution_count": 33,
     "metadata": {},
     "output_type": "execute_result"
    }
   ],
   "source": [
    "using ForwardDiff\n",
    "\n",
    "# operator to get the derivative of this function using AD\n",
    "D(f) = x -> ForwardDiff.derivative(f, x)\n",
    "\n",
    "# example usage: create a function and get the derivative\n",
    "f(x) = x^2\n",
    "f_prime = D(f)\n",
    "\n",
    "f(0.1), f_prime(0.1)"
   ]
  },
  {
   "cell_type": "markdown",
   "metadata": {},
   "source": [
    "1. Using the `D(f)` operator definition above, implement a version of Newton’s method that does not require the user to provide an analytical derivative  \n",
    "1. Test the sorts of `f` functions which can be automatically integrated by `ForwardDff.jl`  "
   ]
  },
  {
   "cell_type": "markdown",
   "metadata": {},
   "source": [
    "## Solutions"
   ]
  },
  {
   "cell_type": "markdown",
   "metadata": {},
   "source": [
    "### Exercise 1"
   ]
  },
  {
   "cell_type": "code",
   "execution_count": 34,
   "metadata": {},
   "outputs": [
    {
     "data": {
      "text/plain": [
       "24"
      ]
     },
     "execution_count": 34,
     "metadata": {},
     "output_type": "execute_result"
    }
   ],
   "source": [
    "function factorial2(n)\n",
    "    k = 1\n",
    "    for i in 1:n\n",
    "        k *= i  # or k = k * i\n",
    "    end\n",
    "    return k\n",
    "end\n",
    "\n",
    "factorial2(4)"
   ]
  },
  {
   "cell_type": "code",
   "execution_count": 35,
   "metadata": {},
   "outputs": [
    {
     "data": {
      "text/plain": [
       "true"
      ]
     },
     "execution_count": 35,
     "metadata": {},
     "output_type": "execute_result"
    }
   ],
   "source": [
    "factorial2(4) == factorial(4) # built-in function"
   ]
  },
  {
   "cell_type": "markdown",
   "metadata": {},
   "source": [
    "### Exercise 2"
   ]
  },
  {
   "cell_type": "code",
   "execution_count": 36,
   "metadata": {},
   "outputs": [
    {
     "name": "stdout",
     "output_type": "stream",
     "text": [
      "3, 5, 5, 8, 6, 8, 3, 5, 4, 3, 4, 4, 7, 7, 6, 5, 4, 2, 6, 1, 5, 6, 6, 6, 5, "
     ]
    }
   ],
   "source": [
    "function binomial_rv(n, p)\n",
    "    count = 0\n",
    "    U = rand(n)\n",
    "    for i in 1:n\n",
    "        if U[i] < p\n",
    "            count += 1 # or count = count + 1\n",
    "        end\n",
    "    end\n",
    "    return count\n",
    "end\n",
    "\n",
    "for j in 1:25\n",
    "    b = binomial_rv(10, 0.5)\n",
    "    print(\"$b, \")\n",
    "end"
   ]
  },
  {
   "cell_type": "markdown",
   "metadata": {},
   "source": [
    "### Exercise 3\n",
    "\n",
    "Consider the circle of diameter 1 embedded in the unit square\n",
    "\n",
    "Let $ A $ be its area and let $ r = 1/2 $ be its radius\n",
    "\n",
    "If we know $ \\pi $ then we can compute $ A $ via\n",
    "$ A = \\pi r^2 $\n",
    "\n",
    "But here the point is to compute $ \\pi $, which we can do by\n",
    "$ \\pi = A / r^2 $\n",
    "\n",
    "Summary: If we can estimate the area of the unit circle, then dividing\n",
    "by $ r^2 = (1/2)^2 = 1/4 $ gives an estimate of $ \\pi $\n",
    "\n",
    "We estimate the area by sampling bivariate uniforms and looking at the\n",
    "fraction that fall into the unit circle"
   ]
  },
  {
   "cell_type": "code",
   "execution_count": 37,
   "metadata": {},
   "outputs": [
    {
     "name": "stdout",
     "output_type": "stream",
     "text": [
      "3.14192"
     ]
    }
   ],
   "source": [
    "n = 1000000\n",
    "count = 0\n",
    "for i in 1:n\n",
    "    u, v = rand(2)\n",
    "    d = sqrt((u - 0.5)^2 + (v - 0.5)^2)  # distance from middle of square\n",
    "    if d < 0.5\n",
    "        count += 1\n",
    "    end\n",
    "end\n",
    "\n",
    "area_estimate = count / n\n",
    "\n",
    "print(area_estimate * 4)  # dividing by radius**2"
   ]
  },
  {
   "cell_type": "markdown",
   "metadata": {},
   "source": [
    "### Exercise 4"
   ]
  },
  {
   "cell_type": "code",
   "execution_count": 38,
   "metadata": {},
   "outputs": [
    {
     "name": "stdout",
     "output_type": "stream",
     "text": [
      "Count = 1000123012\n",
      "payoff = 1\n"
     ]
    }
   ],
   "source": [
    "payoff = 0\n",
    "count = 0\n",
    "\n",
    "print(\"Count = \")\n",
    "\n",
    "for i in 1:10\n",
    "    U = rand()\n",
    "    if U < 0.5\n",
    "        count += 1\n",
    "    else\n",
    "        count = 0\n",
    "    end\n",
    "    print(count)\n",
    "    if count == 3\n",
    "        payoff = 1\n",
    "    end\n",
    "end\n",
    "println(\"\\npayoff = $payoff\")"
   ]
  },
  {
   "cell_type": "markdown",
   "metadata": {},
   "source": [
    "We can simplify this somewhat using the **ternary operator**. Here’s\n",
    "some examples"
   ]
  },
  {
   "cell_type": "code",
   "execution_count": 39,
   "metadata": {},
   "outputs": [
    {
     "data": {
      "text/plain": [
       "\"foo\""
      ]
     },
     "execution_count": 39,
     "metadata": {},
     "output_type": "execute_result"
    }
   ],
   "source": [
    "a = 1  < 2 ? \"foo\" : \"bar\""
   ]
  },
  {
   "cell_type": "code",
   "execution_count": 40,
   "metadata": {},
   "outputs": [
    {
     "data": {
      "text/plain": [
       "\"bar\""
      ]
     },
     "execution_count": 40,
     "metadata": {},
     "output_type": "execute_result"
    }
   ],
   "source": [
    "a = 1 > 2 ? \"foo\" : \"bar\""
   ]
  },
  {
   "cell_type": "markdown",
   "metadata": {},
   "source": [
    "Using this construction:"
   ]
  },
  {
   "cell_type": "code",
   "execution_count": 41,
   "metadata": {},
   "outputs": [
    {
     "name": "stdout",
     "output_type": "stream",
     "text": [
      "Count = 0100012000\n",
      "payoff = 0.0\n"
     ]
    }
   ],
   "source": [
    "payoff = 0.0\n",
    "count = 0.0\n",
    "\n",
    "print(\"Count = \")\n",
    "\n",
    "for i in 1:10\n",
    "    U = rand()\n",
    "    count = U < 0.5 ? count + 1 : 0\n",
    "    print(count)\n",
    "    if count == 3\n",
    "        payoff = 1\n",
    "    end\n",
    "end\n",
    "println(\"\\npayoff = $payoff\")"
   ]
  },
  {
   "cell_type": "markdown",
   "metadata": {},
   "source": [
    "### Exercise 5\n",
    "\n",
    "Here’s one solution"
   ]
  },
  {
   "cell_type": "code",
   "execution_count": 42,
   "metadata": {},
   "outputs": [
    {
     "data": {
      "image/svg+xml": [
       "<?xml version=\"1.0\" encoding=\"utf-8\"?>\n",
       "<svg xmlns=\"http://www.w3.org/2000/svg\" xmlns:xlink=\"http://www.w3.org/1999/xlink\" width=\"600\" height=\"400\" viewBox=\"0 0 2400 1600\">\n",
       "<defs>\n",
       "  <clipPath id=\"clip4500\">\n",
       "    <rect x=\"0\" y=\"0\" width=\"2000\" height=\"2000\"/>\n",
       "  </clipPath>\n",
       "</defs>\n",
       "<defs>\n",
       "  <clipPath id=\"clip4501\">\n",
       "    <rect x=\"0\" y=\"0\" width=\"2400\" height=\"1600\"/>\n",
       "  </clipPath>\n",
       "</defs>\n",
       "<polygon clip-path=\"url(#clip4501)\" points=\"\n",
       "0,1600 2400,1600 2400,0 0,0 \n",
       "  \" fill=\"#ffffff\" fill-opacity=\"1\"/>\n",
       "<defs>\n",
       "  <clipPath id=\"clip4502\">\n",
       "    <rect x=\"480\" y=\"0\" width=\"1681\" height=\"1600\"/>\n",
       "  </clipPath>\n",
       "</defs>\n",
       "<polygon clip-path=\"url(#clip4501)\" points=\"\n",
       "149.361,1503.47 2321.26,1503.47 2321.26,47.2441 149.361,47.2441 \n",
       "  \" fill=\"#ffffff\" fill-opacity=\"1\"/>\n",
       "<defs>\n",
       "  <clipPath id=\"clip4503\">\n",
       "    <rect x=\"149\" y=\"47\" width=\"2173\" height=\"1457\"/>\n",
       "  </clipPath>\n",
       "</defs>\n",
       "<polyline clip-path=\"url(#clip4503)\" style=\"stroke:#000000; stroke-width:2; stroke-opacity:0.1; fill:none\" points=\"\n",
       "  200.585,1503.47 200.585,47.2441 \n",
       "  \"/>\n",
       "<polyline clip-path=\"url(#clip4503)\" style=\"stroke:#000000; stroke-width:2; stroke-opacity:0.1; fill:none\" points=\"\n",
       "  712.825,1503.47 712.825,47.2441 \n",
       "  \"/>\n",
       "<polyline clip-path=\"url(#clip4503)\" style=\"stroke:#000000; stroke-width:2; stroke-opacity:0.1; fill:none\" points=\"\n",
       "  1225.07,1503.47 1225.07,47.2441 \n",
       "  \"/>\n",
       "<polyline clip-path=\"url(#clip4503)\" style=\"stroke:#000000; stroke-width:2; stroke-opacity:0.1; fill:none\" points=\"\n",
       "  1737.31,1503.47 1737.31,47.2441 \n",
       "  \"/>\n",
       "<polyline clip-path=\"url(#clip4503)\" style=\"stroke:#000000; stroke-width:2; stroke-opacity:0.1; fill:none\" points=\"\n",
       "  2249.55,1503.47 2249.55,47.2441 \n",
       "  \"/>\n",
       "<polyline clip-path=\"url(#clip4503)\" style=\"stroke:#000000; stroke-width:2; stroke-opacity:0.1; fill:none\" points=\"\n",
       "  149.361,1365.99 2321.26,1365.99 \n",
       "  \"/>\n",
       "<polyline clip-path=\"url(#clip4503)\" style=\"stroke:#000000; stroke-width:2; stroke-opacity:0.1; fill:none\" points=\"\n",
       "  149.361,1090 2321.26,1090 \n",
       "  \"/>\n",
       "<polyline clip-path=\"url(#clip4503)\" style=\"stroke:#000000; stroke-width:2; stroke-opacity:0.1; fill:none\" points=\"\n",
       "  149.361,813.999 2321.26,813.999 \n",
       "  \"/>\n",
       "<polyline clip-path=\"url(#clip4503)\" style=\"stroke:#000000; stroke-width:2; stroke-opacity:0.1; fill:none\" points=\"\n",
       "  149.361,538.001 2321.26,538.001 \n",
       "  \"/>\n",
       "<polyline clip-path=\"url(#clip4503)\" style=\"stroke:#000000; stroke-width:2; stroke-opacity:0.1; fill:none\" points=\"\n",
       "  149.361,262.004 2321.26,262.004 \n",
       "  \"/>\n",
       "<polyline clip-path=\"url(#clip4501)\" style=\"stroke:#000000; stroke-width:4; stroke-opacity:1; fill:none\" points=\"\n",
       "  149.361,1503.47 2321.26,1503.47 \n",
       "  \"/>\n",
       "<polyline clip-path=\"url(#clip4501)\" style=\"stroke:#000000; stroke-width:4; stroke-opacity:1; fill:none\" points=\"\n",
       "  149.361,1503.47 149.361,47.2441 \n",
       "  \"/>\n",
       "<polyline clip-path=\"url(#clip4501)\" style=\"stroke:#000000; stroke-width:4; stroke-opacity:1; fill:none\" points=\"\n",
       "  200.585,1503.47 200.585,1481.63 \n",
       "  \"/>\n",
       "<polyline clip-path=\"url(#clip4501)\" style=\"stroke:#000000; stroke-width:4; stroke-opacity:1; fill:none\" points=\"\n",
       "  712.825,1503.47 712.825,1481.63 \n",
       "  \"/>\n",
       "<polyline clip-path=\"url(#clip4501)\" style=\"stroke:#000000; stroke-width:4; stroke-opacity:1; fill:none\" points=\"\n",
       "  1225.07,1503.47 1225.07,1481.63 \n",
       "  \"/>\n",
       "<polyline clip-path=\"url(#clip4501)\" style=\"stroke:#000000; stroke-width:4; stroke-opacity:1; fill:none\" points=\"\n",
       "  1737.31,1503.47 1737.31,1481.63 \n",
       "  \"/>\n",
       "<polyline clip-path=\"url(#clip4501)\" style=\"stroke:#000000; stroke-width:4; stroke-opacity:1; fill:none\" points=\"\n",
       "  2249.55,1503.47 2249.55,1481.63 \n",
       "  \"/>\n",
       "<polyline clip-path=\"url(#clip4501)\" style=\"stroke:#000000; stroke-width:4; stroke-opacity:1; fill:none\" points=\"\n",
       "  149.361,1365.99 181.939,1365.99 \n",
       "  \"/>\n",
       "<polyline clip-path=\"url(#clip4501)\" style=\"stroke:#000000; stroke-width:4; stroke-opacity:1; fill:none\" points=\"\n",
       "  149.361,1090 181.939,1090 \n",
       "  \"/>\n",
       "<polyline clip-path=\"url(#clip4501)\" style=\"stroke:#000000; stroke-width:4; stroke-opacity:1; fill:none\" points=\"\n",
       "  149.361,813.999 181.939,813.999 \n",
       "  \"/>\n",
       "<polyline clip-path=\"url(#clip4501)\" style=\"stroke:#000000; stroke-width:4; stroke-opacity:1; fill:none\" points=\"\n",
       "  149.361,538.001 181.939,538.001 \n",
       "  \"/>\n",
       "<polyline clip-path=\"url(#clip4501)\" style=\"stroke:#000000; stroke-width:4; stroke-opacity:1; fill:none\" points=\"\n",
       "  149.361,262.004 181.939,262.004 \n",
       "  \"/>\n",
       "<g clip-path=\"url(#clip4501)\">\n",
       "<text style=\"fill:#000000; fill-opacity:1; font-family:Arial,Helvetica Neue,Helvetica,sans-serif; font-size:48; text-anchor:middle;\" transform=\"rotate(0, 200.585, 1557.47)\" x=\"200.585\" y=\"1557.47\">0</text>\n",
       "</g>\n",
       "<g clip-path=\"url(#clip4501)\">\n",
       "<text style=\"fill:#000000; fill-opacity:1; font-family:Arial,Helvetica Neue,Helvetica,sans-serif; font-size:48; text-anchor:middle;\" transform=\"rotate(0, 712.825, 1557.47)\" x=\"712.825\" y=\"1557.47\">50</text>\n",
       "</g>\n",
       "<g clip-path=\"url(#clip4501)\">\n",
       "<text style=\"fill:#000000; fill-opacity:1; font-family:Arial,Helvetica Neue,Helvetica,sans-serif; font-size:48; text-anchor:middle;\" transform=\"rotate(0, 1225.07, 1557.47)\" x=\"1225.07\" y=\"1557.47\">100</text>\n",
       "</g>\n",
       "<g clip-path=\"url(#clip4501)\">\n",
       "<text style=\"fill:#000000; fill-opacity:1; font-family:Arial,Helvetica Neue,Helvetica,sans-serif; font-size:48; text-anchor:middle;\" transform=\"rotate(0, 1737.31, 1557.47)\" x=\"1737.31\" y=\"1557.47\">150</text>\n",
       "</g>\n",
       "<g clip-path=\"url(#clip4501)\">\n",
       "<text style=\"fill:#000000; fill-opacity:1; font-family:Arial,Helvetica Neue,Helvetica,sans-serif; font-size:48; text-anchor:middle;\" transform=\"rotate(0, 2249.55, 1557.47)\" x=\"2249.55\" y=\"1557.47\">200</text>\n",
       "</g>\n",
       "<g clip-path=\"url(#clip4501)\">\n",
       "<text style=\"fill:#000000; fill-opacity:1; font-family:Arial,Helvetica Neue,Helvetica,sans-serif; font-size:48; text-anchor:end;\" transform=\"rotate(0, 125.361, 1383.49)\" x=\"125.361\" y=\"1383.49\">-4</text>\n",
       "</g>\n",
       "<g clip-path=\"url(#clip4501)\">\n",
       "<text style=\"fill:#000000; fill-opacity:1; font-family:Arial,Helvetica Neue,Helvetica,sans-serif; font-size:48; text-anchor:end;\" transform=\"rotate(0, 125.361, 1107.5)\" x=\"125.361\" y=\"1107.5\">-2</text>\n",
       "</g>\n",
       "<g clip-path=\"url(#clip4501)\">\n",
       "<text style=\"fill:#000000; fill-opacity:1; font-family:Arial,Helvetica Neue,Helvetica,sans-serif; font-size:48; text-anchor:end;\" transform=\"rotate(0, 125.361, 831.499)\" x=\"125.361\" y=\"831.499\">0</text>\n",
       "</g>\n",
       "<g clip-path=\"url(#clip4501)\">\n",
       "<text style=\"fill:#000000; fill-opacity:1; font-family:Arial,Helvetica Neue,Helvetica,sans-serif; font-size:48; text-anchor:end;\" transform=\"rotate(0, 125.361, 555.501)\" x=\"125.361\" y=\"555.501\">2</text>\n",
       "</g>\n",
       "<g clip-path=\"url(#clip4501)\">\n",
       "<text style=\"fill:#000000; fill-opacity:1; font-family:Arial,Helvetica Neue,Helvetica,sans-serif; font-size:48; text-anchor:end;\" transform=\"rotate(0, 125.361, 279.504)\" x=\"125.361\" y=\"279.504\">4</text>\n",
       "</g>\n",
       "<polyline clip-path=\"url(#clip4503)\" style=\"stroke:#009af9; stroke-width:4; stroke-opacity:1; fill:none\" points=\"\n",
       "  210.829,813.999 221.074,816.666 231.319,895.993 241.564,1252.11 251.809,1356.14 262.053,996.845 272.298,1046.82 282.543,982.391 292.788,951.355 303.033,1057.76 \n",
       "  313.278,1137.27 323.522,1105.89 333.767,1303.8 344.012,1462.26 354.257,1220.32 364.502,1051.74 374.746,918.814 384.991,1026.3 395.236,1002.26 405.481,893.128 \n",
       "  415.726,978.952 425.97,739.332 436.215,688.899 446.46,756.805 456.705,721.204 466.95,659.86 477.194,865.758 487.439,980.297 497.684,1150.94 507.929,868.802 \n",
       "  518.174,803.944 528.418,724.706 538.663,553.978 548.908,494.703 559.153,620.106 569.398,645.665 579.643,613.693 589.887,775.285 600.132,1143.34 610.377,1420.74 \n",
       "  620.622,1291.17 630.867,1121.61 641.111,1173.47 651.356,1040.37 661.601,866.268 671.846,1008.13 682.091,990.701 692.335,962.126 702.58,926.471 712.825,978.514 \n",
       "  723.07,998.581 733.315,1000.71 743.559,825.374 753.804,800.703 764.049,719.579 774.294,818.82 784.539,805.587 794.783,922.533 805.028,631.333 815.273,601.759 \n",
       "  825.518,414.627 835.763,487.113 846.008,547.681 856.252,500.562 866.497,533.143 876.742,442.402 886.987,570.087 897.232,482.526 907.476,407.976 917.721,386.078 \n",
       "  927.966,512.65 938.211,428.622 948.456,395.215 958.7,342.963 968.945,561.909 979.19,541.27 989.435,425.108 999.68,405.422 1009.92,332.493 1020.17,322.898 \n",
       "  1030.41,263.969 1040.66,375.161 1050.9,377.239 1061.15,534.417 1071.39,448.484 1081.64,477.191 1091.88,517.778 1102.13,590.255 1112.37,460.674 1122.62,681.469 \n",
       "  1132.86,686.543 1143.11,816.035 1153.35,627.161 1163.6,553.823 1173.84,819.894 1184.09,524.453 1194.33,513.753 1204.58,521.824 1214.82,702.15 1225.07,700.845 \n",
       "  1235.31,842.238 1245.56,577.816 1255.8,895.368 1266.04,672.233 1276.29,548.244 1286.53,412.248 1296.78,630.033 1307.02,697.412 1317.27,518.517 1327.51,662.677 \n",
       "  1337.76,646.145 1348,818.499 1358.25,1009.5 1368.49,1079.44 1378.74,1197.9 1388.98,989.067 1399.23,972.775 1409.47,1180.91 1419.72,1236.2 1429.96,1300.81 \n",
       "  1440.21,1247.67 1450.45,1452.72 1460.7,1171.2 1470.94,1173.62 1481.19,1192.93 1491.43,1313.44 1501.68,1294.02 1511.92,1311.24 1522.16,1125.03 1532.41,1173.75 \n",
       "  1542.65,1389.76 1552.9,1314.01 1563.14,1123.98 1573.39,1026.55 1583.63,946.277 1593.88,830.753 1604.12,671.518 1614.37,427.315 1624.61,597.157 1634.86,450.701 \n",
       "  1645.1,582.404 1655.35,863.437 1665.59,858.689 1675.84,768.864 1686.08,856.341 1696.33,1018.56 1706.57,953.031 1716.82,1127.19 1727.06,1322.02 1737.31,1152.71 \n",
       "  1747.55,937.539 1757.8,848.828 1768.04,987.324 1778.29,793.152 1788.53,588.303 1798.77,483.337 1809.02,294.697 1819.26,88.4582 1829.51,335.539 1839.75,445.735 \n",
       "  1850,506.695 1860.24,477.202 1870.49,552.35 1880.73,457.772 1890.98,560.047 1901.22,729.915 1911.47,795.182 1921.71,883.469 1931.96,889.108 1942.2,667.517 \n",
       "  1952.45,470.382 1962.69,442.302 1972.94,443.178 1983.18,455.907 1993.43,693.322 2003.67,783.896 2013.92,542.691 2024.16,521.576 2034.41,624.762 2044.65,798.661 \n",
       "  2054.89,675.155 2065.14,562.001 2075.38,652.18 2085.63,540.721 2095.87,564.191 2106.12,661.733 2116.36,582.316 2126.61,639.419 2136.85,618.137 2147.1,468.443 \n",
       "  2157.34,431.999 2167.59,412.937 2177.83,443.117 2188.08,453.649 2198.32,350.684 2208.57,268.644 2218.81,273.17 2229.06,358.957 2239.3,310.954 2249.55,469.009 \n",
       "  2259.79,507.607 \n",
       "  \"/>\n",
       "<polygon clip-path=\"url(#clip4501)\" points=\"\n",
       "1958.43,251.724 2249.26,251.724 2249.26,130.764 1958.43,130.764 \n",
       "  \" fill=\"#ffffff\" fill-opacity=\"1\"/>\n",
       "<polyline clip-path=\"url(#clip4501)\" style=\"stroke:#000000; stroke-width:4; stroke-opacity:1; fill:none\" points=\"\n",
       "  1958.43,251.724 2249.26,251.724 2249.26,130.764 1958.43,130.764 1958.43,251.724 \n",
       "  \"/>\n",
       "<polyline clip-path=\"url(#clip4501)\" style=\"stroke:#009af9; stroke-width:4; stroke-opacity:1; fill:none\" points=\"\n",
       "  1982.43,191.244 2126.43,191.244 \n",
       "  \"/>\n",
       "<g clip-path=\"url(#clip4501)\">\n",
       "<text style=\"fill:#000000; fill-opacity:1; font-family:Arial,Helvetica Neue,Helvetica,sans-serif; font-size:48; text-anchor:start;\" transform=\"rotate(0, 2150.43, 208.744)\" x=\"2150.43\" y=\"208.744\">y1</text>\n",
       "</g>\n",
       "</svg>\n"
      ]
     },
     "execution_count": 42,
     "metadata": {},
     "output_type": "execute_result"
    }
   ],
   "source": [
    "α = 0.9\n",
    "n = 200\n",
    "x = zeros(n + 1)\n",
    "\n",
    "for t in 1:n\n",
    "    x[t+1] = α * x[t] + randn()\n",
    "end\n",
    "plot(x)"
   ]
  },
  {
   "cell_type": "markdown",
   "metadata": {},
   "source": [
    "### Exercise 6"
   ]
  },
  {
   "cell_type": "code",
   "execution_count": 43,
   "metadata": {},
   "outputs": [
    {
     "data": {
      "image/svg+xml": [
       "<?xml version=\"1.0\" encoding=\"utf-8\"?>\n",
       "<svg xmlns=\"http://www.w3.org/2000/svg\" xmlns:xlink=\"http://www.w3.org/1999/xlink\" width=\"600\" height=\"400\" viewBox=\"0 0 2400 1600\">\n",
       "<defs>\n",
       "  <clipPath id=\"clip4700\">\n",
       "    <rect x=\"0\" y=\"0\" width=\"2000\" height=\"2000\"/>\n",
       "  </clipPath>\n",
       "</defs>\n",
       "<defs>\n",
       "  <clipPath id=\"clip4701\">\n",
       "    <rect x=\"0\" y=\"0\" width=\"2400\" height=\"1600\"/>\n",
       "  </clipPath>\n",
       "</defs>\n",
       "<polygon clip-path=\"url(#clip4701)\" points=\"\n",
       "0,1600 2400,1600 2400,0 0,0 \n",
       "  \" fill=\"#ffffff\" fill-opacity=\"1\"/>\n",
       "<defs>\n",
       "  <clipPath id=\"clip4702\">\n",
       "    <rect x=\"480\" y=\"0\" width=\"1681\" height=\"1600\"/>\n",
       "  </clipPath>\n",
       "</defs>\n",
       "<polygon clip-path=\"url(#clip4701)\" points=\"\n",
       "149.361,1503.47 2321.26,1503.47 2321.26,47.2441 149.361,47.2441 \n",
       "  \" fill=\"#ffffff\" fill-opacity=\"1\"/>\n",
       "<defs>\n",
       "  <clipPath id=\"clip4703\">\n",
       "    <rect x=\"149\" y=\"47\" width=\"2173\" height=\"1457\"/>\n",
       "  </clipPath>\n",
       "</defs>\n",
       "<polyline clip-path=\"url(#clip4703)\" style=\"stroke:#000000; stroke-width:2; stroke-opacity:0.1; fill:none\" points=\"\n",
       "  200.585,1503.47 200.585,47.2441 \n",
       "  \"/>\n",
       "<polyline clip-path=\"url(#clip4703)\" style=\"stroke:#000000; stroke-width:2; stroke-opacity:0.1; fill:none\" points=\"\n",
       "  712.825,1503.47 712.825,47.2441 \n",
       "  \"/>\n",
       "<polyline clip-path=\"url(#clip4703)\" style=\"stroke:#000000; stroke-width:2; stroke-opacity:0.1; fill:none\" points=\"\n",
       "  1225.07,1503.47 1225.07,47.2441 \n",
       "  \"/>\n",
       "<polyline clip-path=\"url(#clip4703)\" style=\"stroke:#000000; stroke-width:2; stroke-opacity:0.1; fill:none\" points=\"\n",
       "  1737.31,1503.47 1737.31,47.2441 \n",
       "  \"/>\n",
       "<polyline clip-path=\"url(#clip4703)\" style=\"stroke:#000000; stroke-width:2; stroke-opacity:0.1; fill:none\" points=\"\n",
       "  2249.55,1503.47 2249.55,47.2441 \n",
       "  \"/>\n",
       "<polyline clip-path=\"url(#clip4703)\" style=\"stroke:#000000; stroke-width:2; stroke-opacity:0.1; fill:none\" points=\"\n",
       "  149.361,1364.82 2321.26,1364.82 \n",
       "  \"/>\n",
       "<polyline clip-path=\"url(#clip4703)\" style=\"stroke:#000000; stroke-width:2; stroke-opacity:0.1; fill:none\" points=\"\n",
       "  149.361,1083.1 2321.26,1083.1 \n",
       "  \"/>\n",
       "<polyline clip-path=\"url(#clip4703)\" style=\"stroke:#000000; stroke-width:2; stroke-opacity:0.1; fill:none\" points=\"\n",
       "  149.361,801.373 2321.26,801.373 \n",
       "  \"/>\n",
       "<polyline clip-path=\"url(#clip4703)\" style=\"stroke:#000000; stroke-width:2; stroke-opacity:0.1; fill:none\" points=\"\n",
       "  149.361,519.649 2321.26,519.649 \n",
       "  \"/>\n",
       "<polyline clip-path=\"url(#clip4703)\" style=\"stroke:#000000; stroke-width:2; stroke-opacity:0.1; fill:none\" points=\"\n",
       "  149.361,237.925 2321.26,237.925 \n",
       "  \"/>\n",
       "<polyline clip-path=\"url(#clip4701)\" style=\"stroke:#000000; stroke-width:4; stroke-opacity:1; fill:none\" points=\"\n",
       "  149.361,1503.47 2321.26,1503.47 \n",
       "  \"/>\n",
       "<polyline clip-path=\"url(#clip4701)\" style=\"stroke:#000000; stroke-width:4; stroke-opacity:1; fill:none\" points=\"\n",
       "  149.361,1503.47 149.361,47.2441 \n",
       "  \"/>\n",
       "<polyline clip-path=\"url(#clip4701)\" style=\"stroke:#000000; stroke-width:4; stroke-opacity:1; fill:none\" points=\"\n",
       "  200.585,1503.47 200.585,1481.63 \n",
       "  \"/>\n",
       "<polyline clip-path=\"url(#clip4701)\" style=\"stroke:#000000; stroke-width:4; stroke-opacity:1; fill:none\" points=\"\n",
       "  712.825,1503.47 712.825,1481.63 \n",
       "  \"/>\n",
       "<polyline clip-path=\"url(#clip4701)\" style=\"stroke:#000000; stroke-width:4; stroke-opacity:1; fill:none\" points=\"\n",
       "  1225.07,1503.47 1225.07,1481.63 \n",
       "  \"/>\n",
       "<polyline clip-path=\"url(#clip4701)\" style=\"stroke:#000000; stroke-width:4; stroke-opacity:1; fill:none\" points=\"\n",
       "  1737.31,1503.47 1737.31,1481.63 \n",
       "  \"/>\n",
       "<polyline clip-path=\"url(#clip4701)\" style=\"stroke:#000000; stroke-width:4; stroke-opacity:1; fill:none\" points=\"\n",
       "  2249.55,1503.47 2249.55,1481.63 \n",
       "  \"/>\n",
       "<polyline clip-path=\"url(#clip4701)\" style=\"stroke:#000000; stroke-width:4; stroke-opacity:1; fill:none\" points=\"\n",
       "  149.361,1364.82 181.939,1364.82 \n",
       "  \"/>\n",
       "<polyline clip-path=\"url(#clip4701)\" style=\"stroke:#000000; stroke-width:4; stroke-opacity:1; fill:none\" points=\"\n",
       "  149.361,1083.1 181.939,1083.1 \n",
       "  \"/>\n",
       "<polyline clip-path=\"url(#clip4701)\" style=\"stroke:#000000; stroke-width:4; stroke-opacity:1; fill:none\" points=\"\n",
       "  149.361,801.373 181.939,801.373 \n",
       "  \"/>\n",
       "<polyline clip-path=\"url(#clip4701)\" style=\"stroke:#000000; stroke-width:4; stroke-opacity:1; fill:none\" points=\"\n",
       "  149.361,519.649 181.939,519.649 \n",
       "  \"/>\n",
       "<polyline clip-path=\"url(#clip4701)\" style=\"stroke:#000000; stroke-width:4; stroke-opacity:1; fill:none\" points=\"\n",
       "  149.361,237.925 181.939,237.925 \n",
       "  \"/>\n",
       "<g clip-path=\"url(#clip4701)\">\n",
       "<text style=\"fill:#000000; fill-opacity:1; font-family:Arial,Helvetica Neue,Helvetica,sans-serif; font-size:48; text-anchor:middle;\" transform=\"rotate(0, 200.585, 1557.47)\" x=\"200.585\" y=\"1557.47\">0</text>\n",
       "</g>\n",
       "<g clip-path=\"url(#clip4701)\">\n",
       "<text style=\"fill:#000000; fill-opacity:1; font-family:Arial,Helvetica Neue,Helvetica,sans-serif; font-size:48; text-anchor:middle;\" transform=\"rotate(0, 712.825, 1557.47)\" x=\"712.825\" y=\"1557.47\">50</text>\n",
       "</g>\n",
       "<g clip-path=\"url(#clip4701)\">\n",
       "<text style=\"fill:#000000; fill-opacity:1; font-family:Arial,Helvetica Neue,Helvetica,sans-serif; font-size:48; text-anchor:middle;\" transform=\"rotate(0, 1225.07, 1557.47)\" x=\"1225.07\" y=\"1557.47\">100</text>\n",
       "</g>\n",
       "<g clip-path=\"url(#clip4701)\">\n",
       "<text style=\"fill:#000000; fill-opacity:1; font-family:Arial,Helvetica Neue,Helvetica,sans-serif; font-size:48; text-anchor:middle;\" transform=\"rotate(0, 1737.31, 1557.47)\" x=\"1737.31\" y=\"1557.47\">150</text>\n",
       "</g>\n",
       "<g clip-path=\"url(#clip4701)\">\n",
       "<text style=\"fill:#000000; fill-opacity:1; font-family:Arial,Helvetica Neue,Helvetica,sans-serif; font-size:48; text-anchor:middle;\" transform=\"rotate(0, 2249.55, 1557.47)\" x=\"2249.55\" y=\"1557.47\">200</text>\n",
       "</g>\n",
       "<g clip-path=\"url(#clip4701)\">\n",
       "<text style=\"fill:#000000; fill-opacity:1; font-family:Arial,Helvetica Neue,Helvetica,sans-serif; font-size:48; text-anchor:end;\" transform=\"rotate(0, 125.361, 1382.32)\" x=\"125.361\" y=\"1382.32\">-6</text>\n",
       "</g>\n",
       "<g clip-path=\"url(#clip4701)\">\n",
       "<text style=\"fill:#000000; fill-opacity:1; font-family:Arial,Helvetica Neue,Helvetica,sans-serif; font-size:48; text-anchor:end;\" transform=\"rotate(0, 125.361, 1100.6)\" x=\"125.361\" y=\"1100.6\">-3</text>\n",
       "</g>\n",
       "<g clip-path=\"url(#clip4701)\">\n",
       "<text style=\"fill:#000000; fill-opacity:1; font-family:Arial,Helvetica Neue,Helvetica,sans-serif; font-size:48; text-anchor:end;\" transform=\"rotate(0, 125.361, 818.873)\" x=\"125.361\" y=\"818.873\">0</text>\n",
       "</g>\n",
       "<g clip-path=\"url(#clip4701)\">\n",
       "<text style=\"fill:#000000; fill-opacity:1; font-family:Arial,Helvetica Neue,Helvetica,sans-serif; font-size:48; text-anchor:end;\" transform=\"rotate(0, 125.361, 537.149)\" x=\"125.361\" y=\"537.149\">3</text>\n",
       "</g>\n",
       "<g clip-path=\"url(#clip4701)\">\n",
       "<text style=\"fill:#000000; fill-opacity:1; font-family:Arial,Helvetica Neue,Helvetica,sans-serif; font-size:48; text-anchor:end;\" transform=\"rotate(0, 125.361, 255.425)\" x=\"125.361\" y=\"255.425\">6</text>\n",
       "</g>\n",
       "<polyline clip-path=\"url(#clip4703)\" style=\"stroke:#009af9; stroke-width:4; stroke-opacity:1; fill:none\" points=\"\n",
       "  210.829,801.373 221.074,805.177 231.319,595.253 241.564,932.63 251.809,710.656 262.053,677.753 272.298,832.617 282.543,769.757 292.788,731.552 303.033,714.926 \n",
       "  313.278,784.662 323.522,705.261 333.767,840.176 344.012,904.853 354.257,832.22 364.502,721.466 374.746,833.681 384.991,849.321 395.236,702.879 405.481,692.254 \n",
       "  415.726,722.577 425.97,715.189 436.215,730.59 446.46,914.095 456.705,515.759 466.95,671.51 477.194,745.346 487.439,779.978 497.684,759.61 507.929,798.089 \n",
       "  518.174,786.614 528.418,753.626 538.663,776.044 548.908,833.027 559.153,701.586 569.398,895.216 579.643,880.192 589.887,855.09 600.132,836.209 610.377,697.565 \n",
       "  620.622,999.03 630.867,699.289 641.111,759.929 651.356,604.851 661.601,905.768 671.846,758.909 682.091,998.726 692.335,830.991 702.58,927.955 712.825,834.06 \n",
       "  723.07,927.549 733.315,757.913 743.559,837.867 753.804,662.397 764.049,852.448 774.294,686.418 784.539,767.589 794.783,885.348 805.028,857.726 815.273,778.404 \n",
       "  825.518,711.326 835.763,833.705 846.008,672.402 856.252,811.125 866.497,877.919 876.742,745.931 886.987,802.659 897.232,792.144 907.476,649.374 917.721,1012.93 \n",
       "  927.966,859.012 938.211,958.11 948.456,874.077 958.7,563.43 968.945,775.328 979.19,623.583 989.435,634.278 999.68,862.423 1009.92,856.204 1020.17,790.757 \n",
       "  1030.41,1112.33 1040.66,840.82 1050.9,797.903 1061.15,877.06 1071.39,926.502 1081.64,673.12 1091.88,859.659 1102.13,741.405 1112.37,742.699 1122.62,703.694 \n",
       "  1132.86,709.904 1143.11,812.774 1153.35,883.03 1163.6,836.125 1173.84,943.164 1184.09,824.06 1194.33,714.998 1204.58,712.003 1214.82,781.709 1225.07,876.751 \n",
       "  1235.31,593.324 1245.56,844.08 1255.8,744.195 1266.04,897.03 1276.29,523.922 1286.53,711.253 1296.78,916.758 1307.02,909.148 1317.27,1012.73 1327.51,787.018 \n",
       "  1337.76,887.307 1348,671.239 1358.25,749.189 1368.49,762.817 1378.74,819.273 1388.98,782.739 1399.23,796.895 1409.47,863.124 1419.72,799.835 1429.96,653.873 \n",
       "  1440.21,683.5 1450.45,821.447 1460.7,878.346 1470.94,787.182 1481.19,917.865 1491.43,714.627 1501.68,803.023 1511.92,787.424 1522.16,909.533 1532.41,775.276 \n",
       "  1542.65,801.701 1552.9,984.604 1563.14,868.056 1573.39,845.374 1583.63,765.832 1593.88,943.811 1604.12,767.654 1614.37,893.463 1624.61,840.028 1634.86,727.973 \n",
       "  1645.1,802.47 1655.35,810.634 1665.59,839.015 1675.84,951.589 1686.08,872.185 1696.33,726.994 1706.57,842.302 1716.82,732.942 1727.06,883.076 1737.31,910.83 \n",
       "  1747.55,660.134 1757.8,749.359 1768.04,709.224 1778.29,822.071 1788.53,692.425 1798.77,720.42 1809.02,816.688 1819.26,729.329 1829.51,793.198 1839.75,896.864 \n",
       "  1850,842.236 1860.24,809.259 1870.49,770.045 1880.73,795.434 1890.98,800.123 1901.22,856.994 1911.47,840.032 1921.71,825.724 1931.96,817.828 1942.2,712.59 \n",
       "  1952.45,718.27 1962.69,756.278 1972.94,933.503 1983.18,837.085 1993.43,789.044 2003.67,625.59 2013.92,818.783 2024.16,679.684 2034.41,972.463 2044.65,744.195 \n",
       "  2054.89,705.88 2065.14,760.855 2075.38,769.967 2085.63,694.656 2095.87,803.487 2106.12,920.534 2116.36,966.948 2126.61,723.604 2136.85,932.359 2147.1,657.683 \n",
       "  2157.34,701.914 2167.59,868.88 2177.83,631.68 2188.08,939.992 2198.32,910.143 2208.57,865.858 2218.81,870.736 2229.06,896.11 2239.3,718.344 2249.55,914.051 \n",
       "  2259.79,792.483 \n",
       "  \"/>\n",
       "<polyline clip-path=\"url(#clip4703)\" style=\"stroke:#e26f46; stroke-width:4; stroke-opacity:1; fill:none\" points=\"\n",
       "  210.829,801.373 221.074,812.284 231.319,700.153 241.564,755.978 251.809,792.482 262.053,781.711 272.298,677.147 282.543,694.116 292.788,685.789 303.033,588.251 \n",
       "  313.278,520.134 323.522,556.19 333.767,659.722 344.012,534.958 354.257,652.511 364.502,613.441 374.746,742.709 384.991,774.058 395.236,827.031 405.481,733.061 \n",
       "  415.726,801.114 425.97,804.159 436.215,748.609 446.46,732.397 456.705,733.849 466.95,732.267 477.194,780.116 487.439,911.834 497.684,786.792 507.929,679.207 \n",
       "  518.174,822.958 528.418,925.4 538.663,869.083 548.908,789.589 559.153,777.858 569.398,883.878 579.643,805.607 589.887,738.33 600.132,580.977 610.377,634.762 \n",
       "  620.622,675.568 630.867,565.134 641.111,426.076 651.356,461.673 661.601,539.753 671.846,722.67 682.091,773.076 692.335,766.847 702.58,768.721 712.825,932.109 \n",
       "  723.07,818.999 733.315,846.573 743.559,899.428 753.804,866.622 764.049,835.277 774.294,867.499 784.539,969.937 794.783,1034.98 805.028,1045.04 815.273,941.893 \n",
       "  825.518,799.755 835.763,877.879 846.008,846.02 856.252,819.1 866.497,880.155 876.742,868.978 886.987,884.555 897.232,817.457 907.476,824.24 917.721,827.142 \n",
       "  927.966,790.063 938.211,756.908 948.456,566.434 958.7,770.894 968.945,708.632 979.19,661.943 989.435,746.079 999.68,707.253 1009.92,743.436 1020.17,599.185 \n",
       "  1030.41,684.249 1040.66,547.417 1050.9,576.617 1061.15,593.025 1071.39,701.701 1081.64,912.087 1091.88,831.719 1102.13,971.15 1112.37,1025.67 1122.62,1062.9 \n",
       "  1132.86,1045.57 1143.11,911.064 1153.35,753.041 1163.6,826.554 1173.84,829.773 1184.09,759.578 1194.33,816.599 1204.58,895.046 1214.82,932.183 1225.07,840.958 \n",
       "  1235.31,691.974 1245.56,706.691 1255.8,739.95 1266.04,643.11 1276.29,526.195 1286.53,481.647 1296.78,437.42 1307.02,417.437 1317.27,455.32 1327.51,532.928 \n",
       "  1337.76,589.716 1348,682.652 1358.25,724.968 1368.49,747.857 1378.74,684.281 1388.98,582.503 1399.23,574.262 1409.47,636.153 1419.72,625.622 1429.96,681.293 \n",
       "  1440.21,761.852 1450.45,818.576 1460.7,675.951 1470.94,629.464 1481.19,818.585 1491.43,779.79 1501.68,681.414 1511.92,648.246 1522.16,736.076 1532.41,653.328 \n",
       "  1542.65,550.668 1552.9,571.439 1563.14,573.319 1573.39,691.395 1583.63,605.232 1593.88,513.157 1604.12,466.149 1614.37,575.299 1624.61,609.512 1634.86,551.691 \n",
       "  1645.1,382.756 1655.35,533.198 1665.59,498.92 1675.84,674.802 1686.08,804.164 1696.33,823.541 1706.57,788.56 1716.82,680.71 1727.06,626.473 1737.31,686.017 \n",
       "  1747.55,748.857 1757.8,770.375 1768.04,759.36 1778.29,761.287 1788.53,819.367 1798.77,815.263 1809.02,931.345 1819.26,930.05 1829.51,970.143 1839.75,921.02 \n",
       "  1850,860.831 1860.24,903.658 1870.49,887.996 1880.73,1016.09 1890.98,936.947 1901.22,906.652 1911.47,1033.61 1921.71,1121.46 1931.96,1022.61 1942.2,1025.92 \n",
       "  1952.45,1040.01 1962.69,1069.55 1972.94,1050.8 1983.18,895.263 1993.43,956.235 2003.67,749.851 2013.92,879.659 2024.16,909.49 2034.41,808.753 2044.65,715.458 \n",
       "  2054.89,667.801 2065.14,754.226 2075.38,750.047 2085.63,754.801 2095.87,720.069 2106.12,699.037 2116.36,531.496 2126.61,559.521 2136.85,527.09 2147.1,660.576 \n",
       "  2157.34,624.9 2167.59,674.134 2177.83,604.119 2188.08,674.261 2198.32,561.8 2208.57,578.571 2218.81,685.562 2229.06,625.111 2239.3,696.379 2249.55,554.017 \n",
       "  2259.79,537.514 \n",
       "  \"/>\n",
       "<polyline clip-path=\"url(#clip4703)\" style=\"stroke:#3da44d; stroke-width:4; stroke-opacity:1; fill:none\" points=\"\n",
       "  210.829,801.373 221.074,714.708 231.319,609.566 241.564,533.178 251.809,473.563 262.053,448.125 272.298,356.616 282.543,389.626 292.788,475.957 303.033,559.91 \n",
       "  313.278,729.204 323.522,748.977 333.767,577.218 344.012,608.037 354.257,659.727 364.502,545.331 374.746,642.092 384.991,785.731 395.236,819.284 405.481,693.538 \n",
       "  415.726,737.201 425.97,731.591 436.215,700.807 446.46,496.508 456.705,434.391 466.95,447.194 477.194,411.513 487.439,518.294 497.684,508.979 507.929,518.9 \n",
       "  518.174,395.657 528.418,474.636 538.663,498.085 548.908,554.711 559.153,622.339 569.398,726.806 579.643,617.895 589.887,567.173 600.132,662.137 610.377,682.597 \n",
       "  620.622,841.187 630.867,759.965 641.111,761.081 651.356,502.009 661.601,577.134 671.846,679.432 682.091,582.785 692.335,646.371 702.58,462.001 712.825,394.301 \n",
       "  723.07,453.086 733.315,480.937 743.559,499.631 753.804,577 764.049,556.366 774.294,493.397 784.539,509.569 794.783,611.594 805.028,556.769 815.273,632.565 \n",
       "  825.518,633.872 835.763,558.226 846.008,777.154 856.252,706.957 866.497,716.003 876.742,662.618 886.987,662.965 897.232,666.687 907.476,683.297 917.721,714.785 \n",
       "  927.966,673.342 938.211,723.18 948.456,631.612 958.7,682.334 968.945,726.149 979.19,850.617 989.435,797.123 999.68,828.287 1009.92,704.687 1020.17,757.803 \n",
       "  1030.41,961.279 1040.66,969.822 1050.9,941.828 1061.15,1061.61 1071.39,1034.25 1081.64,897.114 1091.88,875.729 1102.13,792.557 1112.37,729.949 1122.62,648.49 \n",
       "  1132.86,639.322 1143.11,701.301 1153.35,646.341 1163.6,614.593 1173.84,781.76 1184.09,978.863 1194.33,1133.03 1204.58,1256.24 1214.82,1331.52 1225.07,1249.48 \n",
       "  1235.31,1280.86 1245.56,1219.21 1255.8,1301.01 1266.04,1318.18 1276.29,1201.51 1286.53,1186.27 1296.78,1096.55 1307.02,1019.09 1317.27,1034.43 1327.51,1009.07 \n",
       "  1337.76,1069.14 1348,1095.87 1358.25,1128.85 1368.49,1292.7 1378.74,1301.7 1388.98,1189.62 1399.23,1015.25 1409.47,851.263 1419.72,814.654 1429.96,779.545 \n",
       "  1440.21,983.926 1450.45,1029.1 1460.7,995.765 1470.94,957.718 1481.19,1022.61 1491.43,1021.75 1501.68,1114.75 1511.92,1058.49 1522.16,1120.63 1532.41,918.721 \n",
       "  1542.65,932.329 1552.9,828.084 1563.14,862.751 1573.39,840.307 1583.63,857.704 1593.88,794.201 1604.12,894.626 1614.37,848.766 1624.61,650.263 1634.86,837.376 \n",
       "  1645.1,940.421 1655.35,1087.33 1665.59,1214.15 1675.84,1279.39 1686.08,1362.25 1696.33,1462.26 1706.57,1397.49 1716.82,1442.95 1727.06,1139.04 1737.31,1143.64 \n",
       "  1747.55,1164.85 1757.8,1159.61 1768.04,1130.83 1778.29,1074.64 1788.53,1047.75 1798.77,992.321 1809.02,1101.26 1819.26,1159.71 1829.51,1104.62 1839.75,1066.55 \n",
       "  1850,1027.69 1860.24,956.087 1870.49,890.152 1880.73,780.568 1890.98,690.079 1901.22,577.099 1911.47,574.353 1921.71,605.636 1931.96,595.619 1942.2,603.71 \n",
       "  1952.45,489.068 1962.69,432.233 1972.94,446.09 1983.18,466.32 1993.43,307.281 2003.67,231.073 2013.92,305.551 2024.16,324.359 2034.41,347.5 2044.65,312.887 \n",
       "  2054.89,221.198 2065.14,340.281 2075.38,260.7 2085.63,196.202 2095.87,124.187 2106.12,139.389 2116.36,220.665 2126.61,206.977 2136.85,307.484 2147.1,290.598 \n",
       "  2157.34,176.638 2167.59,88.4582 2177.83,145.527 2188.08,192.974 2198.32,188.264 2208.57,180.538 2218.81,242.8 2229.06,160.944 2239.3,203.515 2249.55,150.661 \n",
       "  2259.79,93.8272 \n",
       "  \"/>\n",
       "<polygon clip-path=\"url(#clip4701)\" points=\"\n",
       "1742.98,372.684 2249.26,372.684 2249.26,130.764 1742.98,130.764 \n",
       "  \" fill=\"#ffffff\" fill-opacity=\"1\"/>\n",
       "<polyline clip-path=\"url(#clip4701)\" style=\"stroke:#000000; stroke-width:4; stroke-opacity:1; fill:none\" points=\"\n",
       "  1742.98,372.684 2249.26,372.684 2249.26,130.764 1742.98,130.764 1742.98,372.684 \n",
       "  \"/>\n",
       "<polyline clip-path=\"url(#clip4701)\" style=\"stroke:#009af9; stroke-width:4; stroke-opacity:1; fill:none\" points=\"\n",
       "  1766.98,191.244 1910.98,191.244 \n",
       "  \"/>\n",
       "<g clip-path=\"url(#clip4701)\">\n",
       "<text style=\"fill:#000000; fill-opacity:1; font-family:Arial,Helvetica Neue,Helvetica,sans-serif; font-size:48; text-anchor:start;\" transform=\"rotate(0, 1934.98, 208.744)\" x=\"1934.98\" y=\"208.744\">alpha = 0.0</text>\n",
       "</g>\n",
       "<polyline clip-path=\"url(#clip4701)\" style=\"stroke:#e26f46; stroke-width:4; stroke-opacity:1; fill:none\" points=\"\n",
       "  1766.98,251.724 1910.98,251.724 \n",
       "  \"/>\n",
       "<g clip-path=\"url(#clip4701)\">\n",
       "<text style=\"fill:#000000; fill-opacity:1; font-family:Arial,Helvetica Neue,Helvetica,sans-serif; font-size:48; text-anchor:start;\" transform=\"rotate(0, 1934.98, 269.224)\" x=\"1934.98\" y=\"269.224\">alpha = 0.8</text>\n",
       "</g>\n",
       "<polyline clip-path=\"url(#clip4701)\" style=\"stroke:#3da44d; stroke-width:4; stroke-opacity:1; fill:none\" points=\"\n",
       "  1766.98,312.204 1910.98,312.204 \n",
       "  \"/>\n",
       "<g clip-path=\"url(#clip4701)\">\n",
       "<text style=\"fill:#000000; fill-opacity:1; font-family:Arial,Helvetica Neue,Helvetica,sans-serif; font-size:48; text-anchor:start;\" transform=\"rotate(0, 1934.98, 329.704)\" x=\"1934.98\" y=\"329.704\">alpha = 0.98</text>\n",
       "</g>\n",
       "</svg>\n"
      ]
     },
     "execution_count": 43,
     "metadata": {},
     "output_type": "execute_result"
    }
   ],
   "source": [
    "αs = [0.0, 0.8, 0.98]\n",
    "n = 200\n",
    "p = plot() #Naming a plot to add to\n",
    "\n",
    "for α in αs\n",
    "    x = zeros(n + 1)\n",
    "    x[1] = 0.0\n",
    "    for t in 1:n\n",
    "        x[t+1] = α * x[t] + randn()\n",
    "    end\n",
    "    plot!(p, x, label = \"alpha = $α\") # add to plot p\n",
    "end\n",
    "p # display plot"
   ]
  },
  {
   "cell_type": "markdown",
   "metadata": {},
   "source": [
    "### Exercise 7: Hint\n",
    "\n",
    "As a hint, notice the following pattern for finding the number of draws of a uniform random number until below a given threshold"
   ]
  },
  {
   "cell_type": "code",
   "execution_count": 44,
   "metadata": {},
   "outputs": [
    {
     "data": {
      "text/plain": [
       "1"
      ]
     },
     "execution_count": 44,
     "metadata": {},
     "output_type": "execute_result"
    }
   ],
   "source": [
    "function drawsuntilthreshold2(threshold; maxdraws=100)\n",
    "    for i in 1:maxdraws\n",
    "        val = rand()\n",
    "        if val < threshold # checks threshold\n",
    "            return i # leaves function, returning draw number\n",
    "        end\n",
    "    end\n",
    "    return Inf # if here, reached maxdraws\n",
    "end\n",
    "\n",
    "draws = drawsuntilthreshold2(0.2, maxdraws=100)"
   ]
  },
  {
   "cell_type": "markdown",
   "metadata": {},
   "source": [
    "Additionally, it is sometimes convenient to add to just push numbers onto an array without indexing it directly"
   ]
  },
  {
   "cell_type": "code",
   "execution_count": 45,
   "metadata": {},
   "outputs": [
    {
     "name": "stdout",
     "output_type": "stream",
     "text": [
      "There were 46 below 0.5\n"
     ]
    }
   ],
   "source": [
    "vals = zeros(0) # empty vector\n",
    "\n",
    "for i in 1:100\n",
    "    val = rand()\n",
    "    if val < 0.5\n",
    "        push!(vals, val)\n",
    "    end\n",
    "end\n",
    "println(\"There were $(length(vals)) below 0.5\")"
   ]
  }
 ],
 "metadata": {
  "filename": "julia_by_example.rst",
  "kernelspec": {
   "display_name": "Julia 1.0.0",
   "language": "julia",
   "name": "julia-1.0"
  },
  "language_info": {
   "file_extension": ".jl",
   "mimetype": "application/julia",
   "name": "julia",
   "version": "1.0.0"
  },
  "title": "Introductory Examples"
 },
 "nbformat": 4,
 "nbformat_minor": 2
}
