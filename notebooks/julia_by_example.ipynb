{
 "cells": [
  {
   "cell_type": "markdown",
   "metadata": {},
   "source": [
    "\n",
    "<a id='julia-by-example'></a>\n",
    "How to read this lecture…\n",
    "\n",
    "- For some notebooks, enable content with “Trust” on the command tab of Jupyter lab  \n",
    "- Code should execute sequentially if run in a Jupyter notebook  \n",
    "- Please direct feedback to [contact@quantecon.org](mailto:contact@quantecon.org\") or [discourse forum](http://discourse.quantecon.org/)  "
   ]
  },
  {
   "cell_type": "markdown",
   "metadata": {},
   "source": [
    "# Introductory Examples"
   ]
  },
  {
   "cell_type": "markdown",
   "metadata": {},
   "source": [
    "## Contents\n",
    "\n",
    "- [Introductory Examples](#Introductory-Examples)  \n",
    "  - [Overview](#Overview)  \n",
    "  - [Example: Plotting a White Noise Process](#Example:-Plotting-a-White-Noise-Process)  \n",
    "  - [Example: Variations on Fixed-Points](#Example:-Variations-on-Fixed-Points)  \n",
    "  - [Exercises](#Exercises)  \n",
    "  - [Solutions](#Solutions)  "
   ]
  },
  {
   "cell_type": "markdown",
   "metadata": {},
   "source": [
    "## Overview\n",
    "\n",
    "We’re now ready to start learning the Julia language itself"
   ]
  },
  {
   "cell_type": "markdown",
   "metadata": {},
   "source": [
    "### Level\n",
    "\n",
    "Our approach is aimed at those who already have at least some knowledge of programming — perhaps experience with Python, MATLAB, Fortran, C or similar\n",
    "\n",
    "In particular, we assume you have some familiarity with fundamental programming concepts such as\n",
    "\n",
    "- variables  \n",
    "- arrays or vectors  \n",
    "- loops  \n",
    "- conditionals (if/else)  "
   ]
  },
  {
   "cell_type": "markdown",
   "metadata": {},
   "source": [
    "### Approach\n",
    "\n",
    "In this lecture we will write and then pick apart small Julia programs\n",
    "\n",
    "At this stage the objective is to introduce you to basic syntax and data structures\n",
    "\n",
    "Deeper concepts—how things work—will be covered in later lectures\n",
    "\n",
    "Since we are looking for simplicity the examples are a little contrived\n",
    "\n",
    "In this lecture, we will often start with a direct approach which often is **poor coding style** in Julia, but then move towards more **elegant code** tightly connected to the mathematics"
   ]
  },
  {
   "cell_type": "markdown",
   "metadata": {},
   "source": [
    "### Set Up\n",
    "\n",
    "We assume that you’ve worked your way through [our getting started lecture](getting_started.ipynb#) already\n",
    "\n",
    "For this lecture, we recommend that you work in a Jupyter notebook, as described [here](getting_started.ipynb#jl-jupyter)"
   ]
  },
  {
   "cell_type": "markdown",
   "metadata": {},
   "source": [
    "### Other References\n",
    "\n",
    "The definitive reference is [Julia’s own documentation](https://docs.julialang.org/en/stable/)\n",
    "\n",
    "The manual is thoughtfully written but also quite dense (and somewhat evangelical)\n",
    "\n",
    "The presentation in this and our remaining lectures is more of a tutorial style based around examples"
   ]
  },
  {
   "cell_type": "markdown",
   "metadata": {},
   "source": [
    "## Example: Plotting a White Noise Process\n",
    "\n",
    "To begin, let’s suppose that we want to simulate and plot the white noise\n",
    "process $ \\epsilon_0, \\epsilon_1, \\ldots, \\epsilon_T $, where each draw $ \\epsilon_t $ is independent standard normal\n",
    "\n",
    "Fire up a [Jupyter notebook](getting_started.ipynb#jl-jupyter)"
   ]
  },
  {
   "cell_type": "markdown",
   "metadata": {},
   "source": [
    "### Introduction to Packages\n",
    "\n",
    "The first step is to activate a project environment\n",
    "\n",
    "Activate the project environment, ensuring that `Project.toml` and `Manifest.toml` are **in the same location** as your notebook"
   ]
  },
  {
   "cell_type": "code",
   "execution_count": 1,
   "metadata": {},
   "outputs": [],
   "source": [
    "using Pkg; Pkg.activate(@__DIR__); # activate environment in the notebook's location"
   ]
  },
  {
   "cell_type": "markdown",
   "metadata": {},
   "source": [
    "Julia code will often be created from a variety of packages, such as `Plots.jl` in this case\n",
    "\n",
    "A project is defined by a `Project.toml` and `Manifest.toml` file in the same directory as the notebook (i.e. from the `@__DIR__` argument)\n",
    "\n",
    "We will discuss it more in [Julia Packages](packages.ipynb#packages), but these files provide a listing of packages and versions used by the code\n",
    "\n",
    "This ensures that an environment for running code is **reproducible**, so that anyone can replicate the precise set of package and versions used in construction\n",
    "\n",
    "\n",
    "<a id='import'></a>"
   ]
  },
  {
   "cell_type": "markdown",
   "metadata": {},
   "source": [
    "### Using Functions from a Package\n",
    "\n",
    "Some functions are built into the base Julia, such as `randn`, which returns a single draw from a normal distibution mean 0 and variance 1 if given no parameters"
   ]
  },
  {
   "cell_type": "code",
   "execution_count": 2,
   "metadata": {},
   "outputs": [
    {
     "data": {
      "text/plain": [
       "-0.5505760293422843"
      ]
     },
     "execution_count": 2,
     "metadata": {},
     "output_type": "execute_result"
    }
   ],
   "source": [
    "randn()"
   ]
  },
  {
   "cell_type": "markdown",
   "metadata": {},
   "source": [
    "Other functions require importing all of the names from an external library"
   ]
  },
  {
   "cell_type": "code",
   "execution_count": 46,
   "metadata": {},
   "outputs": [
    {
     "data": {
      "image/svg+xml": [
       "<?xml version=\"1.0\" encoding=\"utf-8\"?>\n",
       "<svg xmlns=\"http://www.w3.org/2000/svg\" xmlns:xlink=\"http://www.w3.org/1999/xlink\" width=\"600\" height=\"400\" viewBox=\"0 0 2400 1600\">\n",
       "<defs>\n",
       "  <clipPath id=\"clip3300\">\n",
       "    <rect x=\"0\" y=\"0\" width=\"2000\" height=\"2000\"/>\n",
       "  </clipPath>\n",
       "</defs>\n",
       "<defs>\n",
       "  <clipPath id=\"clip3301\">\n",
       "    <rect x=\"0\" y=\"0\" width=\"2400\" height=\"1600\"/>\n",
       "  </clipPath>\n",
       "</defs>\n",
       "<polygon clip-path=\"url(#clip3301)\" points=\"\n",
       "0,1600 2400,1600 2400,0 0,0 \n",
       "  \" fill=\"#ffffff\" fill-opacity=\"1\"/>\n",
       "<defs>\n",
       "  <clipPath id=\"clip3302\">\n",
       "    <rect x=\"480\" y=\"0\" width=\"1681\" height=\"1600\"/>\n",
       "  </clipPath>\n",
       "</defs>\n",
       "<polygon clip-path=\"url(#clip3301)\" points=\"\n",
       "149.361,1503.47 2321.26,1503.47 2321.26,47.2441 149.361,47.2441 \n",
       "  \" fill=\"#ffffff\" fill-opacity=\"1\"/>\n",
       "<defs>\n",
       "  <clipPath id=\"clip3303\">\n",
       "    <rect x=\"149\" y=\"47\" width=\"2173\" height=\"1457\"/>\n",
       "  </clipPath>\n",
       "</defs>\n",
       "<polyline clip-path=\"url(#clip3303)\" style=\"stroke:#000000; stroke-width:2; stroke-opacity:0.1; fill:none\" points=\"\n",
       "  190.133,1503.47 190.133,47.2441 \n",
       "  \"/>\n",
       "<polyline clip-path=\"url(#clip3303)\" style=\"stroke:#000000; stroke-width:2; stroke-opacity:0.1; fill:none\" points=\"\n",
       "  707.547,1503.47 707.547,47.2441 \n",
       "  \"/>\n",
       "<polyline clip-path=\"url(#clip3303)\" style=\"stroke:#000000; stroke-width:2; stroke-opacity:0.1; fill:none\" points=\"\n",
       "  1224.96,1503.47 1224.96,47.2441 \n",
       "  \"/>\n",
       "<polyline clip-path=\"url(#clip3303)\" style=\"stroke:#000000; stroke-width:2; stroke-opacity:0.1; fill:none\" points=\"\n",
       "  1742.38,1503.47 1742.38,47.2441 \n",
       "  \"/>\n",
       "<polyline clip-path=\"url(#clip3303)\" style=\"stroke:#000000; stroke-width:2; stroke-opacity:0.1; fill:none\" points=\"\n",
       "  2259.79,1503.47 2259.79,47.2441 \n",
       "  \"/>\n",
       "<polyline clip-path=\"url(#clip3303)\" style=\"stroke:#000000; stroke-width:2; stroke-opacity:0.1; fill:none\" points=\"\n",
       "  149.361,1356.82 2321.26,1356.82 \n",
       "  \"/>\n",
       "<polyline clip-path=\"url(#clip3303)\" style=\"stroke:#000000; stroke-width:2; stroke-opacity:0.1; fill:none\" points=\"\n",
       "  149.361,1060.17 2321.26,1060.17 \n",
       "  \"/>\n",
       "<polyline clip-path=\"url(#clip3303)\" style=\"stroke:#000000; stroke-width:2; stroke-opacity:0.1; fill:none\" points=\"\n",
       "  149.361,763.517 2321.26,763.517 \n",
       "  \"/>\n",
       "<polyline clip-path=\"url(#clip3303)\" style=\"stroke:#000000; stroke-width:2; stroke-opacity:0.1; fill:none\" points=\"\n",
       "  149.361,466.862 2321.26,466.862 \n",
       "  \"/>\n",
       "<polyline clip-path=\"url(#clip3303)\" style=\"stroke:#000000; stroke-width:2; stroke-opacity:0.1; fill:none\" points=\"\n",
       "  149.361,170.208 2321.26,170.208 \n",
       "  \"/>\n",
       "<polyline clip-path=\"url(#clip3301)\" style=\"stroke:#000000; stroke-width:4; stroke-opacity:1; fill:none\" points=\"\n",
       "  149.361,1503.47 2321.26,1503.47 \n",
       "  \"/>\n",
       "<polyline clip-path=\"url(#clip3301)\" style=\"stroke:#000000; stroke-width:4; stroke-opacity:1; fill:none\" points=\"\n",
       "  149.361,1503.47 149.361,47.2441 \n",
       "  \"/>\n",
       "<polyline clip-path=\"url(#clip3301)\" style=\"stroke:#000000; stroke-width:4; stroke-opacity:1; fill:none\" points=\"\n",
       "  190.133,1503.47 190.133,1481.63 \n",
       "  \"/>\n",
       "<polyline clip-path=\"url(#clip3301)\" style=\"stroke:#000000; stroke-width:4; stroke-opacity:1; fill:none\" points=\"\n",
       "  707.547,1503.47 707.547,1481.63 \n",
       "  \"/>\n",
       "<polyline clip-path=\"url(#clip3301)\" style=\"stroke:#000000; stroke-width:4; stroke-opacity:1; fill:none\" points=\"\n",
       "  1224.96,1503.47 1224.96,1481.63 \n",
       "  \"/>\n",
       "<polyline clip-path=\"url(#clip3301)\" style=\"stroke:#000000; stroke-width:4; stroke-opacity:1; fill:none\" points=\"\n",
       "  1742.38,1503.47 1742.38,1481.63 \n",
       "  \"/>\n",
       "<polyline clip-path=\"url(#clip3301)\" style=\"stroke:#000000; stroke-width:4; stroke-opacity:1; fill:none\" points=\"\n",
       "  2259.79,1503.47 2259.79,1481.63 \n",
       "  \"/>\n",
       "<polyline clip-path=\"url(#clip3301)\" style=\"stroke:#000000; stroke-width:4; stroke-opacity:1; fill:none\" points=\"\n",
       "  149.361,1356.82 181.939,1356.82 \n",
       "  \"/>\n",
       "<polyline clip-path=\"url(#clip3301)\" style=\"stroke:#000000; stroke-width:4; stroke-opacity:1; fill:none\" points=\"\n",
       "  149.361,1060.17 181.939,1060.17 \n",
       "  \"/>\n",
       "<polyline clip-path=\"url(#clip3301)\" style=\"stroke:#000000; stroke-width:4; stroke-opacity:1; fill:none\" points=\"\n",
       "  149.361,763.517 181.939,763.517 \n",
       "  \"/>\n",
       "<polyline clip-path=\"url(#clip3301)\" style=\"stroke:#000000; stroke-width:4; stroke-opacity:1; fill:none\" points=\"\n",
       "  149.361,466.862 181.939,466.862 \n",
       "  \"/>\n",
       "<polyline clip-path=\"url(#clip3301)\" style=\"stroke:#000000; stroke-width:4; stroke-opacity:1; fill:none\" points=\"\n",
       "  149.361,170.208 181.939,170.208 \n",
       "  \"/>\n",
       "<g clip-path=\"url(#clip3301)\">\n",
       "<text style=\"fill:#000000; fill-opacity:1; font-family:Arial,Helvetica Neue,Helvetica,sans-serif; font-size:48; text-anchor:middle;\" transform=\"rotate(0, 190.133, 1557.47)\" x=\"190.133\" y=\"1557.47\">0</text>\n",
       "</g>\n",
       "<g clip-path=\"url(#clip3301)\">\n",
       "<text style=\"fill:#000000; fill-opacity:1; font-family:Arial,Helvetica Neue,Helvetica,sans-serif; font-size:48; text-anchor:middle;\" transform=\"rotate(0, 707.547, 1557.47)\" x=\"707.547\" y=\"1557.47\">25</text>\n",
       "</g>\n",
       "<g clip-path=\"url(#clip3301)\">\n",
       "<text style=\"fill:#000000; fill-opacity:1; font-family:Arial,Helvetica Neue,Helvetica,sans-serif; font-size:48; text-anchor:middle;\" transform=\"rotate(0, 1224.96, 1557.47)\" x=\"1224.96\" y=\"1557.47\">50</text>\n",
       "</g>\n",
       "<g clip-path=\"url(#clip3301)\">\n",
       "<text style=\"fill:#000000; fill-opacity:1; font-family:Arial,Helvetica Neue,Helvetica,sans-serif; font-size:48; text-anchor:middle;\" transform=\"rotate(0, 1742.38, 1557.47)\" x=\"1742.38\" y=\"1557.47\">75</text>\n",
       "</g>\n",
       "<g clip-path=\"url(#clip3301)\">\n",
       "<text style=\"fill:#000000; fill-opacity:1; font-family:Arial,Helvetica Neue,Helvetica,sans-serif; font-size:48; text-anchor:middle;\" transform=\"rotate(0, 2259.79, 1557.47)\" x=\"2259.79\" y=\"1557.47\">100</text>\n",
       "</g>\n",
       "<g clip-path=\"url(#clip3301)\">\n",
       "<text style=\"fill:#000000; fill-opacity:1; font-family:Arial,Helvetica Neue,Helvetica,sans-serif; font-size:48; text-anchor:end;\" transform=\"rotate(0, 125.361, 1374.32)\" x=\"125.361\" y=\"1374.32\">-2</text>\n",
       "</g>\n",
       "<g clip-path=\"url(#clip3301)\">\n",
       "<text style=\"fill:#000000; fill-opacity:1; font-family:Arial,Helvetica Neue,Helvetica,sans-serif; font-size:48; text-anchor:end;\" transform=\"rotate(0, 125.361, 1077.67)\" x=\"125.361\" y=\"1077.67\">-1</text>\n",
       "</g>\n",
       "<g clip-path=\"url(#clip3301)\">\n",
       "<text style=\"fill:#000000; fill-opacity:1; font-family:Arial,Helvetica Neue,Helvetica,sans-serif; font-size:48; text-anchor:end;\" transform=\"rotate(0, 125.361, 781.017)\" x=\"125.361\" y=\"781.017\">0</text>\n",
       "</g>\n",
       "<g clip-path=\"url(#clip3301)\">\n",
       "<text style=\"fill:#000000; fill-opacity:1; font-family:Arial,Helvetica Neue,Helvetica,sans-serif; font-size:48; text-anchor:end;\" transform=\"rotate(0, 125.361, 484.362)\" x=\"125.361\" y=\"484.362\">1</text>\n",
       "</g>\n",
       "<g clip-path=\"url(#clip3301)\">\n",
       "<text style=\"fill:#000000; fill-opacity:1; font-family:Arial,Helvetica Neue,Helvetica,sans-serif; font-size:48; text-anchor:end;\" transform=\"rotate(0, 125.361, 187.708)\" x=\"125.361\" y=\"187.708\">2</text>\n",
       "</g>\n",
       "<polyline clip-path=\"url(#clip3303)\" style=\"stroke:#009af9; stroke-width:4; stroke-opacity:1; fill:none\" points=\"\n",
       "  210.829,1020.01 231.526,857.356 252.223,820.072 272.919,569.348 293.616,907.178 314.312,559.692 335.009,726.195 355.706,374.945 376.402,529.905 397.099,597.46 \n",
       "  417.795,878.383 438.492,814.423 459.188,860.585 479.885,787.885 500.582,1163.48 521.278,678.395 541.975,967.483 562.671,1315.75 583.368,594.843 604.065,642.247 \n",
       "  624.761,760.621 645.458,804.774 666.154,1032.15 686.851,607.195 707.547,719.6 728.244,708.282 748.941,603.493 769.637,603.309 790.334,716.692 811.03,783.087 \n",
       "  831.727,895.092 852.423,410.974 873.12,951.093 893.817,602.715 914.513,882.387 935.21,1094.07 955.906,673.18 976.603,451.311 997.3,688.543 1018,590.968 \n",
       "  1038.69,514.745 1059.39,1204.49 1080.09,1054.78 1100.78,902.892 1121.48,396.573 1142.18,908.5 1162.87,460.305 1183.57,569.773 1204.27,259.096 1224.96,1397.23 \n",
       "  1245.66,1083.08 1266.36,983.693 1287.05,1041.17 1307.75,600.197 1328.44,411.908 1349.14,308.842 1369.84,786.063 1390.53,1148.47 1411.23,346.769 1431.93,480.384 \n",
       "  1452.62,541.75 1473.32,468.342 1494.02,333.069 1514.71,771.733 1535.41,829.27 1556.11,655.463 1576.8,365.147 1597.5,885.587 1618.2,684.421 1638.89,1112.75 \n",
       "  1659.59,1022.07 1680.29,817.211 1700.98,970.206 1721.68,822.496 1742.38,419.741 1763.07,638.295 1783.77,698.571 1804.47,1264.61 1825.16,818.434 1845.86,984.906 \n",
       "  1866.56,971.655 1887.25,720.498 1907.95,468.828 1928.65,88.4582 1949.34,675.937 1970.04,867.279 1990.74,835.254 2011.43,907.464 2032.13,1181.33 2052.83,527.385 \n",
       "  2073.52,657.555 2094.22,397.076 2114.91,393.807 2135.61,654.021 2156.31,361.435 2177,542.505 2197.7,767.028 2218.4,847.041 2239.09,793.635 2259.79,1462.26 \n",
       "  \n",
       "  \"/>\n",
       "<polygon clip-path=\"url(#clip3301)\" points=\"\n",
       "1958.43,251.724 2249.26,251.724 2249.26,130.764 1958.43,130.764 \n",
       "  \" fill=\"#ffffff\" fill-opacity=\"1\"/>\n",
       "<polyline clip-path=\"url(#clip3301)\" style=\"stroke:#000000; stroke-width:4; stroke-opacity:1; fill:none\" points=\"\n",
       "  1958.43,251.724 2249.26,251.724 2249.26,130.764 1958.43,130.764 1958.43,251.724 \n",
       "  \"/>\n",
       "<polyline clip-path=\"url(#clip3301)\" style=\"stroke:#009af9; stroke-width:4; stroke-opacity:1; fill:none\" points=\"\n",
       "  1982.43,191.244 2126.43,191.244 \n",
       "  \"/>\n",
       "<g clip-path=\"url(#clip3301)\">\n",
       "<text style=\"fill:#000000; fill-opacity:1; font-family:Arial,Helvetica Neue,Helvetica,sans-serif; font-size:48; text-anchor:start;\" transform=\"rotate(0, 2150.43, 208.744)\" x=\"2150.43\" y=\"208.744\">y1</text>\n",
       "</g>\n",
       "</svg>\n"
      ]
     },
     "execution_count": 46,
     "metadata": {},
     "output_type": "execute_result"
    }
   ],
   "source": [
    "using Plots, LinearAlgebra, Statistics\n",
    "\n",
    "n = 100\n",
    "ϵ = randn(n)\n",
    "plot(1:n, ϵ)"
   ]
  },
  {
   "cell_type": "markdown",
   "metadata": {},
   "source": [
    "Let’s break this down and see how it works\n",
    "\n",
    "The effect of the statement `using Plots` is to make all the names exported by the `Plots` module available\n",
    "\n",
    "Because we used `Pkg.activate` previously, it will use whatever version of `Plots.jl` that was specified in the `Project.toml` and `Manifest.toml` files\n",
    "\n",
    "The other packages `LinearAlgebra` and `Statistics` are base Julia libraries, but require an explicit using\n",
    "\n",
    "The arguments to `plot` are the numbers `1,2, ..., n` for the x-axis, a vector `ϵ` for the y-axis, and (optional) settings\n",
    "\n",
    "The function `randn(n)` returns a column vector `n` random draws from a normal distribution mean 0 and variance 1"
   ]
  },
  {
   "cell_type": "markdown",
   "metadata": {},
   "source": [
    "### Arrays\n",
    "\n",
    "As a language intended for mathematical and scientific computing, Julia has strong support for using symbols in the source code\n",
    "\n",
    "In the above case, the `ϵ` and many other symbols can be typed in most Julia editor by providing the LaTeX and `<TAB>`, i.e. `\\epsilon<TAB>`\n",
    "\n",
    "The return type is one of the most fundamental Julia data types: an array"
   ]
  },
  {
   "cell_type": "code",
   "execution_count": 4,
   "metadata": {},
   "outputs": [
    {
     "data": {
      "text/plain": [
       "Array{Float64,1}"
      ]
     },
     "execution_count": 4,
     "metadata": {},
     "output_type": "execute_result"
    }
   ],
   "source": [
    "typeof(ϵ)"
   ]
  },
  {
   "cell_type": "code",
   "execution_count": 5,
   "metadata": {},
   "outputs": [
    {
     "data": {
      "text/plain": [
       "5-element Array{Float64,1}:\n",
       "  0.12829588666696043\n",
       "  1.293375014072701  \n",
       " -0.3366661518665692 \n",
       " -0.8589056993493496 \n",
       " -0.3504382475971881 "
      ]
     },
     "execution_count": 5,
     "metadata": {},
     "output_type": "execute_result"
    }
   ],
   "source": [
    "ϵ[1:5]"
   ]
  },
  {
   "cell_type": "markdown",
   "metadata": {},
   "source": [
    "The information from `typeof()` tells us that `ϵ` is an array of 64 bit floating point values, of dimension 1\n",
    "\n",
    "In Julia, one-dimensional arrays are interpreted as column vectors for purposes of linear algebra\n",
    "\n",
    "The `ϵ[1:5]` returns an array of the first 5 elements of `ϵ`\n",
    "\n",
    "Notice from the above that\n",
    "\n",
    "- array indices start at 1 (like MATLAB and Fortran, but unlike Python and C)  \n",
    "- array elements are referenced using square brackets (unlike MATLAB and Fortran)  \n",
    "\n",
    "\n",
    "To get **help and examples** in Jupyter or other julia editor, use the `?` before a function name or syntax"
   ]
  },
  {
   "cell_type": "code",
   "execution_count": 6,
   "metadata": {},
   "outputs": [
    {
     "name": "stdout",
     "output_type": "stream",
     "text": [
      "search: \u001b[0m\u001b[1mt\u001b[22m\u001b[0m\u001b[1my\u001b[22m\u001b[0m\u001b[1mp\u001b[22m\u001b[0m\u001b[1me\u001b[22m\u001b[0m\u001b[1mo\u001b[22m\u001b[0m\u001b[1mf\u001b[22m \u001b[0m\u001b[1mt\u001b[22m\u001b[0m\u001b[1my\u001b[22m\u001b[0m\u001b[1mp\u001b[22m\u001b[0m\u001b[1me\u001b[22mj\u001b[0m\u001b[1mo\u001b[22min \u001b[0m\u001b[1mT\u001b[22m\u001b[0m\u001b[1my\u001b[22m\u001b[0m\u001b[1mp\u001b[22m\u001b[0m\u001b[1me\u001b[22mErr\u001b[0m\u001b[1mo\u001b[22mr\n",
      "\n"
     ]
    },
    {
     "data": {
      "text/markdown": [
       "```\n",
       "typeof(x)\n",
       "```\n",
       "\n",
       "Get the concrete type of `x`.\n",
       "\n",
       "# Examples\n",
       "\n",
       "```jldoctest\n",
       "julia> a = 1//2;\n",
       "\n",
       "julia> typeof(a)\n",
       "Rational{Int64}\n",
       "\n",
       "julia> M = [1 2; 3.5 4];\n",
       "\n",
       "julia> typeof(M)\n",
       "Array{Float64,2}\n",
       "```\n"
      ],
      "text/plain": [
       "\u001b[36m  typeof(x)\u001b[39m\n",
       "\n",
       "  Get the concrete type of \u001b[36mx\u001b[39m.\n",
       "\n",
       "\u001b[1m  Examples\u001b[22m\n",
       "\u001b[1m  ≡≡≡≡≡≡≡≡≡≡\u001b[22m\n",
       "\n",
       "\u001b[36m  julia> a = 1//2;\u001b[39m\n",
       "\u001b[36m  \u001b[39m\n",
       "\u001b[36m  julia> typeof(a)\u001b[39m\n",
       "\u001b[36m  Rational{Int64}\u001b[39m\n",
       "\u001b[36m  \u001b[39m\n",
       "\u001b[36m  julia> M = [1 2; 3.5 4];\u001b[39m\n",
       "\u001b[36m  \u001b[39m\n",
       "\u001b[36m  julia> typeof(M)\u001b[39m\n",
       "\u001b[36m  Array{Float64,2}\u001b[39m"
      ]
     },
     "execution_count": 6,
     "metadata": {},
     "output_type": "execute_result"
    }
   ],
   "source": [
    "?typeof"
   ]
  },
  {
   "cell_type": "markdown",
   "metadata": {},
   "source": [
    "### For Loops\n",
    "\n",
    "Although there’s no need in terms of what we wanted to achieve with our\n",
    "program, for the sake of learning syntax let’s rewrite our program to use a\n",
    "`for` loop for generating the data\n",
    "\n",
    ">**Note**\n",
    ">\n",
    ">In the current version of Julia v1.0, the rules for variables accessed in `for` and `while` loops can be sensitive to how they are used (and variables can sometimes require a `global` as part of the declaration).  We strongly advise you to avoid top level (i.e. in the REPL or outside of functions) `for` and `while` loops outside of Jupyter notebooks.  This issue does not apply when used within functions\n",
    "\n",
    "Starting with the most direct version, and pretending we are in a world where randn can only return a single value"
   ]
  },
  {
   "cell_type": "code",
   "execution_count": 7,
   "metadata": {},
   "outputs": [],
   "source": [
    "# poor style\n",
    "n = 100\n",
    "ϵ = zeros(n)\n",
    "for i in 1:n\n",
    "    ϵ[i] = randn()\n",
    "end"
   ]
  },
  {
   "cell_type": "markdown",
   "metadata": {},
   "source": [
    "Here we first declared `ϵ` to be a vector of `n` numbers, initialized by the floating point `0.0`\n",
    "\n",
    "The `for` loop then populates this array by successive calls to `randn()`\n",
    "\n",
    "Like all code blocks in Julia, the end of the `for` loop code block (which is just one line here) is indicated by the keyword `end`\n",
    "\n",
    "The word `in` from the `for` loop can be replaced by etiher `∈` or `=`\n",
    "\n",
    "The index variable is looped over for all integers from `1:n`–but this does not actually create a vector of those indices\n",
    "\n",
    "Instead, it creates an **iterator** that is looped over — in this case the **range** of integers from `1` to `n`\n",
    "\n",
    "While this example successfully fills in `ϵ` with the correct values, it is very indirect as the connection between the index `i` and the `ϵ` vector is unclear.\n",
    "\n",
    "To fix this, use `eachindex`"
   ]
  },
  {
   "cell_type": "code",
   "execution_count": 8,
   "metadata": {},
   "outputs": [],
   "source": [
    "# better style\n",
    "n = 100\n",
    "ϵ = zeros(n)\n",
    "for i in eachindex(ϵ)\n",
    "    ϵ[i] = randn()\n",
    "end"
   ]
  },
  {
   "cell_type": "markdown",
   "metadata": {},
   "source": [
    "Here, `eachindex(ϵ)` returns an interator of indices which can be used to access `ϵ`\n",
    "\n",
    "While iterators are memory efficient because the elements are generated on the fly rather than stored in memory, the main benefit is (1) it can lead to code which is clearer and less prone to typos; and (2) it allows the compiler flexibility to creatively generate fast code\n",
    "\n",
    "In Julia you can also loop directly over arrays themselves, like so"
   ]
  },
  {
   "cell_type": "code",
   "execution_count": 9,
   "metadata": {},
   "outputs": [
    {
     "data": {
      "text/plain": [
       "0.1627461452713844"
      ]
     },
     "execution_count": 9,
     "metadata": {},
     "output_type": "execute_result"
    }
   ],
   "source": [
    "ϵ_sum = 0.0 # careful to use 0.0 here, instead of 0!\n",
    "m = 5\n",
    "for ϵ_val in ϵ[1:m]\n",
    "    ϵ_sum = ϵ_sum + ϵ_val\n",
    "end\n",
    "ϵ_mean = ϵ_sum / m"
   ]
  },
  {
   "cell_type": "markdown",
   "metadata": {},
   "source": [
    "where `ϵ[1:m]` returns the elements of the vector at indices `1` to `m`\n",
    "\n",
    "Of course, in Julia there are built in functions to perform this calculation which we can compare against"
   ]
  },
  {
   "cell_type": "code",
   "execution_count": 10,
   "metadata": {},
   "outputs": [
    {
     "data": {
      "text/plain": [
       "true"
      ]
     },
     "execution_count": 10,
     "metadata": {},
     "output_type": "execute_result"
    }
   ],
   "source": [
    "ϵ_mean ≈ mean(ϵ[1:m])\n",
    "ϵ_mean ≈ sum(ϵ[1:m])/m"
   ]
  },
  {
   "cell_type": "markdown",
   "metadata": {},
   "source": [
    "In these examples, note the use of `≈` to test equality, rather than `==`, which is appropriate for integers and other types\n",
    "\n",
    "Approximately equal, typed with `\\approx<TAB>`, is the appropriate way to compare any floating point numbers due to the standard issues of [floating point math](https://floating-point-gui.de/)\n",
    "\n",
    "\n",
    "<a id='user-defined-functions'></a>"
   ]
  },
  {
   "cell_type": "markdown",
   "metadata": {},
   "source": [
    "### User-Defined Functions\n",
    "\n",
    "For the sake of the exercise, let’s define  go back to the `for` loop but restructure our program so that generation of random variables takes place within a user-defined function\n",
    "\n",
    "To make things more interesting, instead of directly plotting the draws from the distribution, lets plot the square of the draws"
   ]
  },
  {
   "cell_type": "code",
   "execution_count": 11,
   "metadata": {},
   "outputs": [
    {
     "data": {
      "image/svg+xml": [
       "<?xml version=\"1.0\" encoding=\"utf-8\"?>\n",
       "<svg xmlns=\"http://www.w3.org/2000/svg\" xmlns:xlink=\"http://www.w3.org/1999/xlink\" width=\"600\" height=\"400\" viewBox=\"0 0 2400 1600\">\n",
       "<defs>\n",
       "  <clipPath id=\"clip2300\">\n",
       "    <rect x=\"0\" y=\"0\" width=\"2000\" height=\"2000\"/>\n",
       "  </clipPath>\n",
       "</defs>\n",
       "<defs>\n",
       "  <clipPath id=\"clip2301\">\n",
       "    <rect x=\"0\" y=\"0\" width=\"2400\" height=\"1600\"/>\n",
       "  </clipPath>\n",
       "</defs>\n",
       "<polygon clip-path=\"url(#clip2301)\" points=\"\n",
       "0,1600 2400,1600 2400,0 0,0 \n",
       "  \" fill=\"#ffffff\" fill-opacity=\"1\"/>\n",
       "<defs>\n",
       "  <clipPath id=\"clip2302\">\n",
       "    <rect x=\"480\" y=\"0\" width=\"1681\" height=\"1600\"/>\n",
       "  </clipPath>\n",
       "</defs>\n",
       "<polygon clip-path=\"url(#clip2301)\" points=\"\n",
       "188.156,1503.47 2321.26,1503.47 2321.26,47.2441 188.156,47.2441 \n",
       "  \" fill=\"#ffffff\" fill-opacity=\"1\"/>\n",
       "<defs>\n",
       "  <clipPath id=\"clip2303\">\n",
       "    <rect x=\"188\" y=\"47\" width=\"2134\" height=\"1457\"/>\n",
       "  </clipPath>\n",
       "</defs>\n",
       "<polyline clip-path=\"url(#clip2303)\" style=\"stroke:#000000; stroke-width:2; stroke-opacity:0.1; fill:none\" points=\"\n",
       "  472.123,1503.47 472.123,47.2441 \n",
       "  \"/>\n",
       "<polyline clip-path=\"url(#clip2303)\" style=\"stroke:#000000; stroke-width:2; stroke-opacity:0.1; fill:none\" points=\"\n",
       "  919.314,1503.47 919.314,47.2441 \n",
       "  \"/>\n",
       "<polyline clip-path=\"url(#clip2303)\" style=\"stroke:#000000; stroke-width:2; stroke-opacity:0.1; fill:none\" points=\"\n",
       "  1366.51,1503.47 1366.51,47.2441 \n",
       "  \"/>\n",
       "<polyline clip-path=\"url(#clip2303)\" style=\"stroke:#000000; stroke-width:2; stroke-opacity:0.1; fill:none\" points=\"\n",
       "  1813.7,1503.47 1813.7,47.2441 \n",
       "  \"/>\n",
       "<polyline clip-path=\"url(#clip2303)\" style=\"stroke:#000000; stroke-width:2; stroke-opacity:0.1; fill:none\" points=\"\n",
       "  2260.89,1503.47 2260.89,47.2441 \n",
       "  \"/>\n",
       "<polyline clip-path=\"url(#clip2303)\" style=\"stroke:#000000; stroke-width:2; stroke-opacity:0.1; fill:none\" points=\"\n",
       "  188.156,1464.72 2321.26,1464.72 \n",
       "  \"/>\n",
       "<polyline clip-path=\"url(#clip2303)\" style=\"stroke:#000000; stroke-width:2; stroke-opacity:0.1; fill:none\" points=\"\n",
       "  188.156,1152.21 2321.26,1152.21 \n",
       "  \"/>\n",
       "<polyline clip-path=\"url(#clip2303)\" style=\"stroke:#000000; stroke-width:2; stroke-opacity:0.1; fill:none\" points=\"\n",
       "  188.156,839.688 2321.26,839.688 \n",
       "  \"/>\n",
       "<polyline clip-path=\"url(#clip2303)\" style=\"stroke:#000000; stroke-width:2; stroke-opacity:0.1; fill:none\" points=\"\n",
       "  188.156,527.169 2321.26,527.169 \n",
       "  \"/>\n",
       "<polyline clip-path=\"url(#clip2303)\" style=\"stroke:#000000; stroke-width:2; stroke-opacity:0.1; fill:none\" points=\"\n",
       "  188.156,214.65 2321.26,214.65 \n",
       "  \"/>\n",
       "<polyline clip-path=\"url(#clip2301)\" style=\"stroke:#000000; stroke-width:4; stroke-opacity:1; fill:none\" points=\"\n",
       "  188.156,1503.47 2321.26,1503.47 \n",
       "  \"/>\n",
       "<polyline clip-path=\"url(#clip2301)\" style=\"stroke:#000000; stroke-width:4; stroke-opacity:1; fill:none\" points=\"\n",
       "  188.156,1503.47 188.156,47.2441 \n",
       "  \"/>\n",
       "<polyline clip-path=\"url(#clip2301)\" style=\"stroke:#000000; stroke-width:4; stroke-opacity:1; fill:none\" points=\"\n",
       "  472.123,1503.47 472.123,1481.63 \n",
       "  \"/>\n",
       "<polyline clip-path=\"url(#clip2301)\" style=\"stroke:#000000; stroke-width:4; stroke-opacity:1; fill:none\" points=\"\n",
       "  919.314,1503.47 919.314,1481.63 \n",
       "  \"/>\n",
       "<polyline clip-path=\"url(#clip2301)\" style=\"stroke:#000000; stroke-width:4; stroke-opacity:1; fill:none\" points=\"\n",
       "  1366.51,1503.47 1366.51,1481.63 \n",
       "  \"/>\n",
       "<polyline clip-path=\"url(#clip2301)\" style=\"stroke:#000000; stroke-width:4; stroke-opacity:1; fill:none\" points=\"\n",
       "  1813.7,1503.47 1813.7,1481.63 \n",
       "  \"/>\n",
       "<polyline clip-path=\"url(#clip2301)\" style=\"stroke:#000000; stroke-width:4; stroke-opacity:1; fill:none\" points=\"\n",
       "  2260.89,1503.47 2260.89,1481.63 \n",
       "  \"/>\n",
       "<polyline clip-path=\"url(#clip2301)\" style=\"stroke:#000000; stroke-width:4; stroke-opacity:1; fill:none\" points=\"\n",
       "  188.156,1464.72 220.153,1464.72 \n",
       "  \"/>\n",
       "<polyline clip-path=\"url(#clip2301)\" style=\"stroke:#000000; stroke-width:4; stroke-opacity:1; fill:none\" points=\"\n",
       "  188.156,1152.21 220.153,1152.21 \n",
       "  \"/>\n",
       "<polyline clip-path=\"url(#clip2301)\" style=\"stroke:#000000; stroke-width:4; stroke-opacity:1; fill:none\" points=\"\n",
       "  188.156,839.688 220.153,839.688 \n",
       "  \"/>\n",
       "<polyline clip-path=\"url(#clip2301)\" style=\"stroke:#000000; stroke-width:4; stroke-opacity:1; fill:none\" points=\"\n",
       "  188.156,527.169 220.153,527.169 \n",
       "  \"/>\n",
       "<polyline clip-path=\"url(#clip2301)\" style=\"stroke:#000000; stroke-width:4; stroke-opacity:1; fill:none\" points=\"\n",
       "  188.156,214.65 220.153,214.65 \n",
       "  \"/>\n",
       "<g clip-path=\"url(#clip2301)\">\n",
       "<text style=\"fill:#000000; fill-opacity:1; font-family:Arial,Helvetica Neue,Helvetica,sans-serif; font-size:48; text-anchor:middle;\" transform=\"rotate(0, 472.123, 1557.47)\" x=\"472.123\" y=\"1557.47\">2</text>\n",
       "</g>\n",
       "<g clip-path=\"url(#clip2301)\">\n",
       "<text style=\"fill:#000000; fill-opacity:1; font-family:Arial,Helvetica Neue,Helvetica,sans-serif; font-size:48; text-anchor:middle;\" transform=\"rotate(0, 919.314, 1557.47)\" x=\"919.314\" y=\"1557.47\">4</text>\n",
       "</g>\n",
       "<g clip-path=\"url(#clip2301)\">\n",
       "<text style=\"fill:#000000; fill-opacity:1; font-family:Arial,Helvetica Neue,Helvetica,sans-serif; font-size:48; text-anchor:middle;\" transform=\"rotate(0, 1366.51, 1557.47)\" x=\"1366.51\" y=\"1557.47\">6</text>\n",
       "</g>\n",
       "<g clip-path=\"url(#clip2301)\">\n",
       "<text style=\"fill:#000000; fill-opacity:1; font-family:Arial,Helvetica Neue,Helvetica,sans-serif; font-size:48; text-anchor:middle;\" transform=\"rotate(0, 1813.7, 1557.47)\" x=\"1813.7\" y=\"1557.47\">8</text>\n",
       "</g>\n",
       "<g clip-path=\"url(#clip2301)\">\n",
       "<text style=\"fill:#000000; fill-opacity:1; font-family:Arial,Helvetica Neue,Helvetica,sans-serif; font-size:48; text-anchor:middle;\" transform=\"rotate(0, 2260.89, 1557.47)\" x=\"2260.89\" y=\"1557.47\">10</text>\n",
       "</g>\n",
       "<g clip-path=\"url(#clip2301)\">\n",
       "<text style=\"fill:#000000; fill-opacity:1; font-family:Arial,Helvetica Neue,Helvetica,sans-serif; font-size:48; text-anchor:end;\" transform=\"rotate(0, 164.156, 1482.22)\" x=\"164.156\" y=\"1482.22\">0.0</text>\n",
       "</g>\n",
       "<g clip-path=\"url(#clip2301)\">\n",
       "<text style=\"fill:#000000; fill-opacity:1; font-family:Arial,Helvetica Neue,Helvetica,sans-serif; font-size:48; text-anchor:end;\" transform=\"rotate(0, 164.156, 1169.71)\" x=\"164.156\" y=\"1169.71\">2.5</text>\n",
       "</g>\n",
       "<g clip-path=\"url(#clip2301)\">\n",
       "<text style=\"fill:#000000; fill-opacity:1; font-family:Arial,Helvetica Neue,Helvetica,sans-serif; font-size:48; text-anchor:end;\" transform=\"rotate(0, 164.156, 857.188)\" x=\"164.156\" y=\"857.188\">5.0</text>\n",
       "</g>\n",
       "<g clip-path=\"url(#clip2301)\">\n",
       "<text style=\"fill:#000000; fill-opacity:1; font-family:Arial,Helvetica Neue,Helvetica,sans-serif; font-size:48; text-anchor:end;\" transform=\"rotate(0, 164.156, 544.669)\" x=\"164.156\" y=\"544.669\">7.5</text>\n",
       "</g>\n",
       "<g clip-path=\"url(#clip2301)\">\n",
       "<text style=\"fill:#000000; fill-opacity:1; font-family:Arial,Helvetica Neue,Helvetica,sans-serif; font-size:48; text-anchor:end;\" transform=\"rotate(0, 164.156, 232.15)\" x=\"164.156\" y=\"232.15\">10.0</text>\n",
       "</g>\n",
       "<polyline clip-path=\"url(#clip2303)\" style=\"stroke:#009af9; stroke-width:4; stroke-opacity:1; fill:none\" points=\"\n",
       "  248.527,88.4582 472.123,1379.94 695.719,727.777 919.314,1317.79 1142.91,895.27 1366.51,1403.05 1590.1,1292.07 1813.7,1432.12 2037.29,1462.26 2260.89,1446.21 \n",
       "  \n",
       "  \"/>\n",
       "<polygon clip-path=\"url(#clip2301)\" points=\"\n",
       "1958.43,251.724 2249.26,251.724 2249.26,130.764 1958.43,130.764 \n",
       "  \" fill=\"#ffffff\" fill-opacity=\"1\"/>\n",
       "<polyline clip-path=\"url(#clip2301)\" style=\"stroke:#000000; stroke-width:4; stroke-opacity:1; fill:none\" points=\"\n",
       "  1958.43,251.724 2249.26,251.724 2249.26,130.764 1958.43,130.764 1958.43,251.724 \n",
       "  \"/>\n",
       "<polyline clip-path=\"url(#clip2301)\" style=\"stroke:#009af9; stroke-width:4; stroke-opacity:1; fill:none\" points=\"\n",
       "  1982.43,191.244 2126.43,191.244 \n",
       "  \"/>\n",
       "<g clip-path=\"url(#clip2301)\">\n",
       "<text style=\"fill:#000000; fill-opacity:1; font-family:Arial,Helvetica Neue,Helvetica,sans-serif; font-size:48; text-anchor:start;\" transform=\"rotate(0, 2150.43, 208.744)\" x=\"2150.43\" y=\"208.744\">y1</text>\n",
       "</g>\n",
       "</svg>\n"
      ]
     },
     "execution_count": 11,
     "metadata": {},
     "output_type": "execute_result"
    }
   ],
   "source": [
    "# poor style\n",
    "function generatedata(n)\n",
    "    ϵ = zeros(n)\n",
    "    for i in eachindex(ϵ)\n",
    "        ϵ[i] = (randn())^2 # squaring the result\n",
    "    end\n",
    "    return ϵ\n",
    "end\n",
    "\n",
    "data = generatedata(10)\n",
    "plot(data)"
   ]
  },
  {
   "cell_type": "markdown",
   "metadata": {},
   "source": [
    "Here\n",
    "\n",
    "- `function` is a Julia keyword that indicates the start of a function definition  \n",
    "- `generatedata` is an arbitrary name for the function  \n",
    "- `return` is a keyword indicating the return value, as is often unnecessary  \n",
    "\n",
    "\n",
    "Let us make this example slightly better by “remembering” that `randn` can return a vectors"
   ]
  },
  {
   "cell_type": "code",
   "execution_count": 12,
   "metadata": {},
   "outputs": [
    {
     "data": {
      "text/plain": [
       "5-element Array{Float64,1}:\n",
       " 0.07524818986539299\n",
       " 0.03332087435838433\n",
       " 0.1700859943683975 \n",
       " 0.43459310726089095\n",
       " 1.5367771775726038 "
      ]
     },
     "execution_count": 12,
     "metadata": {},
     "output_type": "execute_result"
    }
   ],
   "source": [
    "# still poor style\n",
    "function generatedata(n)\n",
    "    ϵ = randn(n) # use built in function\n",
    "\n",
    "    for i in eachindex(ϵ)\n",
    "        ϵ[i] = ϵ[i]^2 # squaring the result\n",
    "    end\n",
    "\n",
    "    return ϵ\n",
    "end\n",
    "data = generatedata(5)"
   ]
  },
  {
   "cell_type": "markdown",
   "metadata": {},
   "source": [
    "While better, the looping over the i index to square the results is difficult to read\n",
    "\n",
    "Instead of looping, we can instead **broadcast** the `^2` square function over a vector using a `.`\n",
    "\n",
    "To be clear, unlike Python, R, and Matlab (to a lesser extent), the reason to drop the `for` is **not** for performance reasons, but rather because of code clarity\n",
    "\n",
    "Loops of this sort are at least as efficient than vectorized approach in compiled languages like Julia, so use a for loop if you think it makes the code more clear\n",
    "\n",
    "Furthermore, we can just drop the `return` because functions return the last calculation by default, which leads to"
   ]
  },
  {
   "cell_type": "code",
   "execution_count": 13,
   "metadata": {},
   "outputs": [
    {
     "data": {
      "text/plain": [
       "5-element Array{Float64,1}:\n",
       " 0.45694545960874655\n",
       " 0.745624804730167  \n",
       " 0.6501122879681935 \n",
       " 0.440505507234857  \n",
       " 0.38067275079734   "
      ]
     },
     "execution_count": 13,
     "metadata": {},
     "output_type": "execute_result"
    }
   ],
   "source": [
    "# better style\n",
    "function generatedata(n)\n",
    "    ϵ = randn(n) # use built in function\n",
    "    return ϵ.^2\n",
    " end\n",
    "data = generatedata(5)"
   ]
  },
  {
   "cell_type": "markdown",
   "metadata": {},
   "source": [
    "We can even drop the `function` if we define it on a single line"
   ]
  },
  {
   "cell_type": "code",
   "execution_count": 14,
   "metadata": {},
   "outputs": [
    {
     "data": {
      "text/plain": [
       "5-element Array{Float64,1}:\n",
       " 0.0820166056598732 \n",
       " 0.5880724454922662 \n",
       " 0.5817366660037994 \n",
       " 0.05729981554319629\n",
       " 0.05783367873817457"
      ]
     },
     "execution_count": 14,
     "metadata": {},
     "output_type": "execute_result"
    }
   ],
   "source": [
    "# good style\n",
    "generatedata(n) = randn(n).^2\n",
    "data = generatedata(5)"
   ]
  },
  {
   "cell_type": "markdown",
   "metadata": {},
   "source": [
    "Finally, we can broadcast any function, where squaring is only a special case"
   ]
  },
  {
   "cell_type": "code",
   "execution_count": 15,
   "metadata": {},
   "outputs": [
    {
     "data": {
      "text/plain": [
       "5-element Array{Float64,1}:\n",
       " 0.24213834032054019 \n",
       " 0.005421185979969059\n",
       " 2.559663882975228   \n",
       " 3.594376009925028   \n",
       " 0.42907649171995904 "
      ]
     },
     "execution_count": 15,
     "metadata": {},
     "output_type": "execute_result"
    }
   ],
   "source": [
    "# good style\n",
    "f(x) = x^2 # simple square function\n",
    "generatedata(n) = f.(randn(n)) # uses broadcast for some function `f`\n",
    "data = generatedata(5)"
   ]
  },
  {
   "cell_type": "markdown",
   "metadata": {},
   "source": [
    "As a final–abstract–approach, we can make the `generatedata` function able to generically apply a function"
   ]
  },
  {
   "cell_type": "code",
   "execution_count": 16,
   "metadata": {},
   "outputs": [
    {
     "data": {
      "text/plain": [
       "5-element Array{Float64,1}:\n",
       " 0.5776676515243817  \n",
       " 0.19562073890867832 \n",
       " 0.6401854980900492  \n",
       " 0.28835759462341426 \n",
       " 0.003968360627987728"
      ]
     },
     "execution_count": 16,
     "metadata": {},
     "output_type": "execute_result"
    }
   ],
   "source": [
    "# too abstract?\n",
    "generatedata(n, gen) = gen.(randn(n)) # Uses broadcast for some function `gen`\n",
    "\n",
    "f(x) = x^2 # simple square function\n",
    "data = generatedata(5, f) # applies f"
   ]
  },
  {
   "cell_type": "markdown",
   "metadata": {},
   "source": [
    "Whether this example is better or worse than the previous version depends on how it is used\n",
    "\n",
    "High degrees of abstraction and generality, e.g. passing in a function `f` in this case, can make code either clearer or confusing, but Julia enables you to use these techniques **with no performance overhead**\n",
    "\n",
    "For this particular case, the clearest and most general solution is probably the simplest"
   ]
  },
  {
   "cell_type": "code",
   "execution_count": 17,
   "metadata": {},
   "outputs": [
    {
     "data": {
      "image/svg+xml": [
       "<?xml version=\"1.0\" encoding=\"utf-8\"?>\n",
       "<svg xmlns=\"http://www.w3.org/2000/svg\" xmlns:xlink=\"http://www.w3.org/1999/xlink\" width=\"600\" height=\"400\" viewBox=\"0 0 2400 1600\">\n",
       "<defs>\n",
       "  <clipPath id=\"clip2500\">\n",
       "    <rect x=\"0\" y=\"0\" width=\"2000\" height=\"2000\"/>\n",
       "  </clipPath>\n",
       "</defs>\n",
       "<defs>\n",
       "  <clipPath id=\"clip2501\">\n",
       "    <rect x=\"0\" y=\"0\" width=\"2400\" height=\"1600\"/>\n",
       "  </clipPath>\n",
       "</defs>\n",
       "<polygon clip-path=\"url(#clip2501)\" points=\"\n",
       "0,1600 2400,1600 2400,0 0,0 \n",
       "  \" fill=\"#ffffff\" fill-opacity=\"1\"/>\n",
       "<defs>\n",
       "  <clipPath id=\"clip2502\">\n",
       "    <rect x=\"480\" y=\"0\" width=\"1681\" height=\"1600\"/>\n",
       "  </clipPath>\n",
       "</defs>\n",
       "<polygon clip-path=\"url(#clip2501)\" points=\"\n",
       "149.361,1503.47 2321.26,1503.47 2321.26,47.2441 149.361,47.2441 \n",
       "  \" fill=\"#ffffff\" fill-opacity=\"1\"/>\n",
       "<defs>\n",
       "  <clipPath id=\"clip2503\">\n",
       "    <rect x=\"149\" y=\"47\" width=\"2173\" height=\"1457\"/>\n",
       "  </clipPath>\n",
       "</defs>\n",
       "<polyline clip-path=\"url(#clip2503)\" style=\"stroke:#000000; stroke-width:2; stroke-opacity:0.1; fill:none\" points=\"\n",
       "  190.133,1503.47 190.133,47.2441 \n",
       "  \"/>\n",
       "<polyline clip-path=\"url(#clip2503)\" style=\"stroke:#000000; stroke-width:2; stroke-opacity:0.1; fill:none\" points=\"\n",
       "  707.547,1503.47 707.547,47.2441 \n",
       "  \"/>\n",
       "<polyline clip-path=\"url(#clip2503)\" style=\"stroke:#000000; stroke-width:2; stroke-opacity:0.1; fill:none\" points=\"\n",
       "  1224.96,1503.47 1224.96,47.2441 \n",
       "  \"/>\n",
       "<polyline clip-path=\"url(#clip2503)\" style=\"stroke:#000000; stroke-width:2; stroke-opacity:0.1; fill:none\" points=\"\n",
       "  1742.38,1503.47 1742.38,47.2441 \n",
       "  \"/>\n",
       "<polyline clip-path=\"url(#clip2503)\" style=\"stroke:#000000; stroke-width:2; stroke-opacity:0.1; fill:none\" points=\"\n",
       "  2259.79,1503.47 2259.79,47.2441 \n",
       "  \"/>\n",
       "<polyline clip-path=\"url(#clip2503)\" style=\"stroke:#000000; stroke-width:2; stroke-opacity:0.1; fill:none\" points=\"\n",
       "  149.361,1325.12 2321.26,1325.12 \n",
       "  \"/>\n",
       "<polyline clip-path=\"url(#clip2503)\" style=\"stroke:#000000; stroke-width:2; stroke-opacity:0.1; fill:none\" points=\"\n",
       "  149.361,1063.62 2321.26,1063.62 \n",
       "  \"/>\n",
       "<polyline clip-path=\"url(#clip2503)\" style=\"stroke:#000000; stroke-width:2; stroke-opacity:0.1; fill:none\" points=\"\n",
       "  149.361,802.123 2321.26,802.123 \n",
       "  \"/>\n",
       "<polyline clip-path=\"url(#clip2503)\" style=\"stroke:#000000; stroke-width:2; stroke-opacity:0.1; fill:none\" points=\"\n",
       "  149.361,540.622 2321.26,540.622 \n",
       "  \"/>\n",
       "<polyline clip-path=\"url(#clip2503)\" style=\"stroke:#000000; stroke-width:2; stroke-opacity:0.1; fill:none\" points=\"\n",
       "  149.361,279.121 2321.26,279.121 \n",
       "  \"/>\n",
       "<polyline clip-path=\"url(#clip2501)\" style=\"stroke:#000000; stroke-width:4; stroke-opacity:1; fill:none\" points=\"\n",
       "  149.361,1503.47 2321.26,1503.47 \n",
       "  \"/>\n",
       "<polyline clip-path=\"url(#clip2501)\" style=\"stroke:#000000; stroke-width:4; stroke-opacity:1; fill:none\" points=\"\n",
       "  149.361,1503.47 149.361,47.2441 \n",
       "  \"/>\n",
       "<polyline clip-path=\"url(#clip2501)\" style=\"stroke:#000000; stroke-width:4; stroke-opacity:1; fill:none\" points=\"\n",
       "  190.133,1503.47 190.133,1481.63 \n",
       "  \"/>\n",
       "<polyline clip-path=\"url(#clip2501)\" style=\"stroke:#000000; stroke-width:4; stroke-opacity:1; fill:none\" points=\"\n",
       "  707.547,1503.47 707.547,1481.63 \n",
       "  \"/>\n",
       "<polyline clip-path=\"url(#clip2501)\" style=\"stroke:#000000; stroke-width:4; stroke-opacity:1; fill:none\" points=\"\n",
       "  1224.96,1503.47 1224.96,1481.63 \n",
       "  \"/>\n",
       "<polyline clip-path=\"url(#clip2501)\" style=\"stroke:#000000; stroke-width:4; stroke-opacity:1; fill:none\" points=\"\n",
       "  1742.38,1503.47 1742.38,1481.63 \n",
       "  \"/>\n",
       "<polyline clip-path=\"url(#clip2501)\" style=\"stroke:#000000; stroke-width:4; stroke-opacity:1; fill:none\" points=\"\n",
       "  2259.79,1503.47 2259.79,1481.63 \n",
       "  \"/>\n",
       "<polyline clip-path=\"url(#clip2501)\" style=\"stroke:#000000; stroke-width:4; stroke-opacity:1; fill:none\" points=\"\n",
       "  149.361,1325.12 181.939,1325.12 \n",
       "  \"/>\n",
       "<polyline clip-path=\"url(#clip2501)\" style=\"stroke:#000000; stroke-width:4; stroke-opacity:1; fill:none\" points=\"\n",
       "  149.361,1063.62 181.939,1063.62 \n",
       "  \"/>\n",
       "<polyline clip-path=\"url(#clip2501)\" style=\"stroke:#000000; stroke-width:4; stroke-opacity:1; fill:none\" points=\"\n",
       "  149.361,802.123 181.939,802.123 \n",
       "  \"/>\n",
       "<polyline clip-path=\"url(#clip2501)\" style=\"stroke:#000000; stroke-width:4; stroke-opacity:1; fill:none\" points=\"\n",
       "  149.361,540.622 181.939,540.622 \n",
       "  \"/>\n",
       "<polyline clip-path=\"url(#clip2501)\" style=\"stroke:#000000; stroke-width:4; stroke-opacity:1; fill:none\" points=\"\n",
       "  149.361,279.121 181.939,279.121 \n",
       "  \"/>\n",
       "<g clip-path=\"url(#clip2501)\">\n",
       "<text style=\"fill:#000000; fill-opacity:1; font-family:Arial,Helvetica Neue,Helvetica,sans-serif; font-size:48; text-anchor:middle;\" transform=\"rotate(0, 190.133, 1557.47)\" x=\"190.133\" y=\"1557.47\">0</text>\n",
       "</g>\n",
       "<g clip-path=\"url(#clip2501)\">\n",
       "<text style=\"fill:#000000; fill-opacity:1; font-family:Arial,Helvetica Neue,Helvetica,sans-serif; font-size:48; text-anchor:middle;\" transform=\"rotate(0, 707.547, 1557.47)\" x=\"707.547\" y=\"1557.47\">25</text>\n",
       "</g>\n",
       "<g clip-path=\"url(#clip2501)\">\n",
       "<text style=\"fill:#000000; fill-opacity:1; font-family:Arial,Helvetica Neue,Helvetica,sans-serif; font-size:48; text-anchor:middle;\" transform=\"rotate(0, 1224.96, 1557.47)\" x=\"1224.96\" y=\"1557.47\">50</text>\n",
       "</g>\n",
       "<g clip-path=\"url(#clip2501)\">\n",
       "<text style=\"fill:#000000; fill-opacity:1; font-family:Arial,Helvetica Neue,Helvetica,sans-serif; font-size:48; text-anchor:middle;\" transform=\"rotate(0, 1742.38, 1557.47)\" x=\"1742.38\" y=\"1557.47\">75</text>\n",
       "</g>\n",
       "<g clip-path=\"url(#clip2501)\">\n",
       "<text style=\"fill:#000000; fill-opacity:1; font-family:Arial,Helvetica Neue,Helvetica,sans-serif; font-size:48; text-anchor:middle;\" transform=\"rotate(0, 2259.79, 1557.47)\" x=\"2259.79\" y=\"1557.47\">100</text>\n",
       "</g>\n",
       "<g clip-path=\"url(#clip2501)\">\n",
       "<text style=\"fill:#000000; fill-opacity:1; font-family:Arial,Helvetica Neue,Helvetica,sans-serif; font-size:48; text-anchor:end;\" transform=\"rotate(0, 125.361, 1342.62)\" x=\"125.361\" y=\"1342.62\">-1</text>\n",
       "</g>\n",
       "<g clip-path=\"url(#clip2501)\">\n",
       "<text style=\"fill:#000000; fill-opacity:1; font-family:Arial,Helvetica Neue,Helvetica,sans-serif; font-size:48; text-anchor:end;\" transform=\"rotate(0, 125.361, 1081.12)\" x=\"125.361\" y=\"1081.12\">0</text>\n",
       "</g>\n",
       "<g clip-path=\"url(#clip2501)\">\n",
       "<text style=\"fill:#000000; fill-opacity:1; font-family:Arial,Helvetica Neue,Helvetica,sans-serif; font-size:48; text-anchor:end;\" transform=\"rotate(0, 125.361, 819.623)\" x=\"125.361\" y=\"819.623\">1</text>\n",
       "</g>\n",
       "<g clip-path=\"url(#clip2501)\">\n",
       "<text style=\"fill:#000000; fill-opacity:1; font-family:Arial,Helvetica Neue,Helvetica,sans-serif; font-size:48; text-anchor:end;\" transform=\"rotate(0, 125.361, 558.122)\" x=\"125.361\" y=\"558.122\">2</text>\n",
       "</g>\n",
       "<g clip-path=\"url(#clip2501)\">\n",
       "<text style=\"fill:#000000; fill-opacity:1; font-family:Arial,Helvetica Neue,Helvetica,sans-serif; font-size:48; text-anchor:end;\" transform=\"rotate(0, 125.361, 296.621)\" x=\"125.361\" y=\"296.621\">3</text>\n",
       "</g>\n",
       "<polyline clip-path=\"url(#clip2503)\" style=\"stroke:#009af9; stroke-width:4; stroke-opacity:1; fill:none\" points=\"\n",
       "  210.829,1025.88 231.526,1028.13 252.223,1049.06 272.919,1043.89 293.616,1046.27 314.312,544.677 335.009,1010.05 355.706,1033.76 376.402,180.935 397.099,989.361 \n",
       "  417.795,1058.12 438.492,1026.85 459.188,1026.12 479.885,1060.43 500.582,1062.6 521.278,842.277 541.975,841.382 562.671,967.552 583.368,1060.25 604.065,899.279 \n",
       "  624.761,946.141 645.458,1046.47 666.154,919.289 686.851,949.38 707.547,1056.59 728.244,1049.57 748.941,944.721 769.637,1062.68 790.334,934.277 811.03,632.398 \n",
       "  831.727,976.68 852.423,1022.81 873.12,476.051 893.817,714.434 914.513,933.974 935.21,979.444 955.906,1045.44 976.603,950.7 997.3,863.711 1018,742.095 \n",
       "  1038.69,88.4582 1059.39,842.665 1080.09,621.447 1100.78,1052.79 1121.48,840.702 1142.18,1059.53 1162.87,726.394 1183.57,957.881 1204.27,959.289 1224.96,942.164 \n",
       "  1245.66,491.538 1266.36,1020.08 1287.05,1063.62 1307.75,468.92 1328.44,922.579 1349.14,666.321 1369.84,1053.36 1390.53,931.031 1411.23,669.858 1431.93,455.935 \n",
       "  1452.62,1063.57 1473.32,1054.88 1494.02,1051.77 1514.71,1001.3 1535.41,998.296 1556.11,985.696 1576.8,1039.46 1597.5,768.716 1618.2,490.886 1638.89,754.075 \n",
       "  1659.59,1057.87 1680.29,780.577 1700.98,956.603 1721.68,1063.49 1742.38,1016.23 1763.07,1056.3 1783.77,1058.7 1804.47,1047.42 1825.16,832.383 1845.86,1062.19 \n",
       "  1866.56,1012.07 1887.25,1004 1907.95,927.192 1928.65,860.601 1949.34,1063.38 1970.04,459.386 1990.74,1022.71 2011.43,955.4 2032.13,1061.84 2052.83,582.611 \n",
       "  2073.52,1031.54 2094.22,1063.21 2114.91,878.056 2135.61,952.353 2156.31,842.919 2177,1062.92 2197.7,781.866 2218.4,1039.98 2239.09,633.464 2259.79,205.851 \n",
       "  \n",
       "  \"/>\n",
       "<polyline clip-path=\"url(#clip2503)\" style=\"stroke:#e26f46; stroke-width:4; stroke-opacity:1; fill:none\" points=\"\n",
       "  210.829,964.278 231.526,967.282 252.223,1001.92 272.919,1135.45 293.616,1130.98 314.312,1432.01 335.009,945.262 355.706,1151.99 376.402,583.182 397.099,924.269 \n",
       "  417.795,1101.57 438.492,965.558 459.188,964.592 479.885,1092.5 500.582,1079.95 521.278,823.036 541.975,1304.7 562.671,905.122 583.368,1033.93 604.065,1270.93 \n",
       "  624.761,888.347 645.458,996.654 666.154,869.347 686.851,890.78 707.547,1106.51 728.244,1124.25 748.941,887.291 769.637,1047.94 790.334,879.71 811.03,1399.43 \n",
       "  831.727,912.84 852.423,960.316 873.12,1455.61 893.817,761.443 914.513,1247.75 935.21,1211.99 955.906,1132.58 976.603,891.782 997.3,1292.27 1018,1353.59 \n",
       "  1038.69,558.642 1059.39,823.247 1080.09,1403.67 1100.78,1010.39 1121.48,1305.07 1142.18,1096.34 1162.87,1360.59 1183.57,897.336 1204.27,898.446 1224.96,885.405 \n",
       "  1245.66,676.841 1266.36,1170.33 1287.05,1063.4 1307.75,1457.98 1328.44,871.574 1349.14,741.296 1369.84,1011.81 1390.53,1249.83 1411.23,742.734 1431.93,1462.26 \n",
       "  1452.62,1067.51 1473.32,1015.81 1494.02,1007.94 1514.71,935.965 1535.41,1194.33 1556.11,1206.38 1576.8,984.129 1597.5,785.922 1618.2,1450.63 1638.89,1348.14 \n",
       "  1659.59,1102.42 1680.29,791.563 1700.98,1230.91 1721.68,1069.55 1742.38,952.296 1763.07,1107.4 1783.77,1099.51 1804.47,998.531 1825.16,1309.53 1845.86,1044.25 \n",
       "  1866.56,947.513 1887.25,938.759 1907.95,874.74 1928.65,1294.04 1949.34,1055.66 1970.04,666.121 1990.74,960.192 2011.43,895.396 2032.13,1042.04 2052.83,708.962 \n",
       "  2073.52,1155.22 2094.22,1053.16 2114.91,843.338 2135.61,1234.2 2156.31,823.385 2177,1077.2 2197.7,1335.06 2218.4,1142.26 2239.09,1399.02 2259.79,590.012 \n",
       "  \n",
       "  \"/>\n",
       "<polygon clip-path=\"url(#clip2501)\" points=\"\n",
       "1935.86,312.204 2249.26,312.204 2249.26,130.764 1935.86,130.764 \n",
       "  \" fill=\"#ffffff\" fill-opacity=\"1\"/>\n",
       "<polyline clip-path=\"url(#clip2501)\" style=\"stroke:#000000; stroke-width:4; stroke-opacity:1; fill:none\" points=\"\n",
       "  1935.86,312.204 2249.26,312.204 2249.26,130.764 1935.86,130.764 1935.86,312.204 \n",
       "  \"/>\n",
       "<polyline clip-path=\"url(#clip2501)\" style=\"stroke:#009af9; stroke-width:4; stroke-opacity:1; fill:none\" points=\"\n",
       "  1959.86,191.244 2103.86,191.244 \n",
       "  \"/>\n",
       "<g clip-path=\"url(#clip2501)\">\n",
       "<text style=\"fill:#000000; fill-opacity:1; font-family:Arial,Helvetica Neue,Helvetica,sans-serif; font-size:48; text-anchor:start;\" transform=\"rotate(0, 2127.86, 208.744)\" x=\"2127.86\" y=\"208.744\">x^2</text>\n",
       "</g>\n",
       "<polyline clip-path=\"url(#clip2501)\" style=\"stroke:#e26f46; stroke-width:4; stroke-opacity:1; fill:none\" points=\"\n",
       "  1959.86,251.724 2103.86,251.724 \n",
       "  \"/>\n",
       "<g clip-path=\"url(#clip2501)\">\n",
       "<text style=\"fill:#000000; fill-opacity:1; font-family:Arial,Helvetica Neue,Helvetica,sans-serif; font-size:48; text-anchor:start;\" transform=\"rotate(0, 2127.86, 269.224)\" x=\"2127.86\" y=\"269.224\">x</text>\n",
       "</g>\n",
       "</svg>\n"
      ]
     },
     "execution_count": 17,
     "metadata": {},
     "output_type": "execute_result"
    }
   ],
   "source": [
    "# direct solution with broadcasting, and small user-defined function\n",
    "n = 100\n",
    "f(x) = x^2\n",
    "\n",
    "x = randn(n)\n",
    "plot(f.(x), label = \"x^2\")\n",
    "plot!(x, label = \"x\") # layer on the same plot"
   ]
  },
  {
   "cell_type": "markdown",
   "metadata": {},
   "source": [
    "While broadcasting above superficially looks like vectorizing functions in Matlab, or Python ufuncs, it is much richer and built on core foundations of the language\n",
    "\n",
    "The other additional function `plot!` adds a graph to the existing plot\n",
    "\n",
    "This follows a general convention in Julia, where an function which modifies the arguments or a global state has a `!` at the end of it the name"
   ]
  },
  {
   "cell_type": "markdown",
   "metadata": {},
   "source": [
    "#### A Slightly More Useful Function\n",
    "\n",
    "Let’s make a slightly more useful function\n",
    "\n",
    "This function will be passed a choice of probability distribution and respond by plotting a histogram of observations\n",
    "\n",
    "In doing so we’ll make use of the Distributions package, which we assume was instantiated above with the project\n",
    "\n",
    "Here’s the code"
   ]
  },
  {
   "cell_type": "code",
   "execution_count": 18,
   "metadata": {},
   "outputs": [
    {
     "data": {
      "image/svg+xml": [
       "<?xml version=\"1.0\" encoding=\"utf-8\"?>\n",
       "<svg xmlns=\"http://www.w3.org/2000/svg\" xmlns:xlink=\"http://www.w3.org/1999/xlink\" width=\"600\" height=\"400\" viewBox=\"0 0 2400 1600\">\n",
       "<defs>\n",
       "  <clipPath id=\"clip2700\">\n",
       "    <rect x=\"0\" y=\"0\" width=\"2000\" height=\"2000\"/>\n",
       "  </clipPath>\n",
       "</defs>\n",
       "<defs>\n",
       "  <clipPath id=\"clip2701\">\n",
       "    <rect x=\"0\" y=\"0\" width=\"2400\" height=\"1600\"/>\n",
       "  </clipPath>\n",
       "</defs>\n",
       "<polygon clip-path=\"url(#clip2701)\" points=\"\n",
       "0,1600 2400,1600 2400,0 0,0 \n",
       "  \" fill=\"#ffffff\" fill-opacity=\"1\"/>\n",
       "<defs>\n",
       "  <clipPath id=\"clip2702\">\n",
       "    <rect x=\"480\" y=\"0\" width=\"1681\" height=\"1600\"/>\n",
       "  </clipPath>\n",
       "</defs>\n",
       "<polygon clip-path=\"url(#clip2701)\" points=\"\n",
       "174.775,1503.47 2321.26,1503.47 2321.26,47.2441 174.775,47.2441 \n",
       "  \" fill=\"#ffffff\" fill-opacity=\"1\"/>\n",
       "<defs>\n",
       "  <clipPath id=\"clip2703\">\n",
       "    <rect x=\"174\" y=\"47\" width=\"2147\" height=\"1457\"/>\n",
       "  </clipPath>\n",
       "</defs>\n",
       "<polyline clip-path=\"url(#clip2703)\" style=\"stroke:#000000; stroke-width:2; stroke-opacity:0.1; fill:none\" points=\"\n",
       "  366.311,1503.47 366.311,47.2441 \n",
       "  \"/>\n",
       "<polyline clip-path=\"url(#clip2703)\" style=\"stroke:#000000; stroke-width:2; stroke-opacity:0.1; fill:none\" points=\"\n",
       "  733.689,1503.47 733.689,47.2441 \n",
       "  \"/>\n",
       "<polyline clip-path=\"url(#clip2703)\" style=\"stroke:#000000; stroke-width:2; stroke-opacity:0.1; fill:none\" points=\"\n",
       "  1101.07,1503.47 1101.07,47.2441 \n",
       "  \"/>\n",
       "<polyline clip-path=\"url(#clip2703)\" style=\"stroke:#000000; stroke-width:2; stroke-opacity:0.1; fill:none\" points=\"\n",
       "  1468.44,1503.47 1468.44,47.2441 \n",
       "  \"/>\n",
       "<polyline clip-path=\"url(#clip2703)\" style=\"stroke:#000000; stroke-width:2; stroke-opacity:0.1; fill:none\" points=\"\n",
       "  1835.82,1503.47 1835.82,47.2441 \n",
       "  \"/>\n",
       "<polyline clip-path=\"url(#clip2703)\" style=\"stroke:#000000; stroke-width:2; stroke-opacity:0.1; fill:none\" points=\"\n",
       "  2203.2,1503.47 2203.2,47.2441 \n",
       "  \"/>\n",
       "<polyline clip-path=\"url(#clip2703)\" style=\"stroke:#000000; stroke-width:2; stroke-opacity:0.1; fill:none\" points=\"\n",
       "  174.775,1462.26 2321.26,1462.26 \n",
       "  \"/>\n",
       "<polyline clip-path=\"url(#clip2703)\" style=\"stroke:#000000; stroke-width:2; stroke-opacity:0.1; fill:none\" points=\"\n",
       "  174.775,1144.25 2321.26,1144.25 \n",
       "  \"/>\n",
       "<polyline clip-path=\"url(#clip2703)\" style=\"stroke:#000000; stroke-width:2; stroke-opacity:0.1; fill:none\" points=\"\n",
       "  174.775,826.241 2321.26,826.241 \n",
       "  \"/>\n",
       "<polyline clip-path=\"url(#clip2703)\" style=\"stroke:#000000; stroke-width:2; stroke-opacity:0.1; fill:none\" points=\"\n",
       "  174.775,508.231 2321.26,508.231 \n",
       "  \"/>\n",
       "<polyline clip-path=\"url(#clip2703)\" style=\"stroke:#000000; stroke-width:2; stroke-opacity:0.1; fill:none\" points=\"\n",
       "  174.775,190.221 2321.26,190.221 \n",
       "  \"/>\n",
       "<polyline clip-path=\"url(#clip2701)\" style=\"stroke:#000000; stroke-width:4; stroke-opacity:1; fill:none\" points=\"\n",
       "  174.775,1503.47 2321.26,1503.47 \n",
       "  \"/>\n",
       "<polyline clip-path=\"url(#clip2701)\" style=\"stroke:#000000; stroke-width:4; stroke-opacity:1; fill:none\" points=\"\n",
       "  174.775,1503.47 174.775,47.2441 \n",
       "  \"/>\n",
       "<polyline clip-path=\"url(#clip2701)\" style=\"stroke:#000000; stroke-width:4; stroke-opacity:1; fill:none\" points=\"\n",
       "  366.311,1503.47 366.311,1481.63 \n",
       "  \"/>\n",
       "<polyline clip-path=\"url(#clip2701)\" style=\"stroke:#000000; stroke-width:4; stroke-opacity:1; fill:none\" points=\"\n",
       "  733.689,1503.47 733.689,1481.63 \n",
       "  \"/>\n",
       "<polyline clip-path=\"url(#clip2701)\" style=\"stroke:#000000; stroke-width:4; stroke-opacity:1; fill:none\" points=\"\n",
       "  1101.07,1503.47 1101.07,1481.63 \n",
       "  \"/>\n",
       "<polyline clip-path=\"url(#clip2701)\" style=\"stroke:#000000; stroke-width:4; stroke-opacity:1; fill:none\" points=\"\n",
       "  1468.44,1503.47 1468.44,1481.63 \n",
       "  \"/>\n",
       "<polyline clip-path=\"url(#clip2701)\" style=\"stroke:#000000; stroke-width:4; stroke-opacity:1; fill:none\" points=\"\n",
       "  1835.82,1503.47 1835.82,1481.63 \n",
       "  \"/>\n",
       "<polyline clip-path=\"url(#clip2701)\" style=\"stroke:#000000; stroke-width:4; stroke-opacity:1; fill:none\" points=\"\n",
       "  2203.2,1503.47 2203.2,1481.63 \n",
       "  \"/>\n",
       "<polyline clip-path=\"url(#clip2701)\" style=\"stroke:#000000; stroke-width:4; stroke-opacity:1; fill:none\" points=\"\n",
       "  174.775,1462.26 206.972,1462.26 \n",
       "  \"/>\n",
       "<polyline clip-path=\"url(#clip2701)\" style=\"stroke:#000000; stroke-width:4; stroke-opacity:1; fill:none\" points=\"\n",
       "  174.775,1144.25 206.972,1144.25 \n",
       "  \"/>\n",
       "<polyline clip-path=\"url(#clip2701)\" style=\"stroke:#000000; stroke-width:4; stroke-opacity:1; fill:none\" points=\"\n",
       "  174.775,826.241 206.972,826.241 \n",
       "  \"/>\n",
       "<polyline clip-path=\"url(#clip2701)\" style=\"stroke:#000000; stroke-width:4; stroke-opacity:1; fill:none\" points=\"\n",
       "  174.775,508.231 206.972,508.231 \n",
       "  \"/>\n",
       "<polyline clip-path=\"url(#clip2701)\" style=\"stroke:#000000; stroke-width:4; stroke-opacity:1; fill:none\" points=\"\n",
       "  174.775,190.221 206.972,190.221 \n",
       "  \"/>\n",
       "<g clip-path=\"url(#clip2701)\">\n",
       "<text style=\"fill:#000000; fill-opacity:1; font-family:Arial,Helvetica Neue,Helvetica,sans-serif; font-size:48; text-anchor:middle;\" transform=\"rotate(0, 366.311, 1557.47)\" x=\"366.311\" y=\"1557.47\">-5.0</text>\n",
       "</g>\n",
       "<g clip-path=\"url(#clip2701)\">\n",
       "<text style=\"fill:#000000; fill-opacity:1; font-family:Arial,Helvetica Neue,Helvetica,sans-serif; font-size:48; text-anchor:middle;\" transform=\"rotate(0, 733.689, 1557.47)\" x=\"733.689\" y=\"1557.47\">-2.5</text>\n",
       "</g>\n",
       "<g clip-path=\"url(#clip2701)\">\n",
       "<text style=\"fill:#000000; fill-opacity:1; font-family:Arial,Helvetica Neue,Helvetica,sans-serif; font-size:48; text-anchor:middle;\" transform=\"rotate(0, 1101.07, 1557.47)\" x=\"1101.07\" y=\"1557.47\">0.0</text>\n",
       "</g>\n",
       "<g clip-path=\"url(#clip2701)\">\n",
       "<text style=\"fill:#000000; fill-opacity:1; font-family:Arial,Helvetica Neue,Helvetica,sans-serif; font-size:48; text-anchor:middle;\" transform=\"rotate(0, 1468.44, 1557.47)\" x=\"1468.44\" y=\"1557.47\">2.5</text>\n",
       "</g>\n",
       "<g clip-path=\"url(#clip2701)\">\n",
       "<text style=\"fill:#000000; fill-opacity:1; font-family:Arial,Helvetica Neue,Helvetica,sans-serif; font-size:48; text-anchor:middle;\" transform=\"rotate(0, 1835.82, 1557.47)\" x=\"1835.82\" y=\"1557.47\">5.0</text>\n",
       "</g>\n",
       "<g clip-path=\"url(#clip2701)\">\n",
       "<text style=\"fill:#000000; fill-opacity:1; font-family:Arial,Helvetica Neue,Helvetica,sans-serif; font-size:48; text-anchor:middle;\" transform=\"rotate(0, 2203.2, 1557.47)\" x=\"2203.2\" y=\"1557.47\">7.5</text>\n",
       "</g>\n",
       "<g clip-path=\"url(#clip2701)\">\n",
       "<text style=\"fill:#000000; fill-opacity:1; font-family:Arial,Helvetica Neue,Helvetica,sans-serif; font-size:48; text-anchor:end;\" transform=\"rotate(0, 150.775, 1479.76)\" x=\"150.775\" y=\"1479.76\">0</text>\n",
       "</g>\n",
       "<g clip-path=\"url(#clip2701)\">\n",
       "<text style=\"fill:#000000; fill-opacity:1; font-family:Arial,Helvetica Neue,Helvetica,sans-serif; font-size:48; text-anchor:end;\" transform=\"rotate(0, 150.775, 1161.75)\" x=\"150.775\" y=\"1161.75\">25</text>\n",
       "</g>\n",
       "<g clip-path=\"url(#clip2701)\">\n",
       "<text style=\"fill:#000000; fill-opacity:1; font-family:Arial,Helvetica Neue,Helvetica,sans-serif; font-size:48; text-anchor:end;\" transform=\"rotate(0, 150.775, 843.741)\" x=\"150.775\" y=\"843.741\">50</text>\n",
       "</g>\n",
       "<g clip-path=\"url(#clip2701)\">\n",
       "<text style=\"fill:#000000; fill-opacity:1; font-family:Arial,Helvetica Neue,Helvetica,sans-serif; font-size:48; text-anchor:end;\" transform=\"rotate(0, 150.775, 525.731)\" x=\"150.775\" y=\"525.731\">75</text>\n",
       "</g>\n",
       "<g clip-path=\"url(#clip2701)\">\n",
       "<text style=\"fill:#000000; fill-opacity:1; font-family:Arial,Helvetica Neue,Helvetica,sans-serif; font-size:48; text-anchor:end;\" transform=\"rotate(0, 150.775, 207.721)\" x=\"150.775\" y=\"207.721\">100</text>\n",
       "</g>\n",
       "<polygon clip-path=\"url(#clip2703)\" points=\"\n",
       "292.836,1449.54 292.836,1462.26 366.311,1462.26 366.311,1449.54 292.836,1449.54 292.836,1449.54 \n",
       "  \" fill=\"#009af9\" fill-opacity=\"1\"/>\n",
       "<polyline clip-path=\"url(#clip2703)\" style=\"stroke:#000000; stroke-width:4; stroke-opacity:1; fill:none\" points=\"\n",
       "  292.836,1449.54 292.836,1462.26 366.311,1462.26 366.311,1449.54 292.836,1449.54 \n",
       "  \"/>\n",
       "<polygon clip-path=\"url(#clip2703)\" points=\"\n",
       "366.311,1462.26 366.311,1462.26 439.787,1462.26 439.787,1462.26 366.311,1462.26 366.311,1462.26 \n",
       "  \" fill=\"#009af9\" fill-opacity=\"1\"/>\n",
       "<polyline clip-path=\"url(#clip2703)\" style=\"stroke:#000000; stroke-width:4; stroke-opacity:1; fill:none\" points=\"\n",
       "  366.311,1462.26 366.311,1462.26 439.787,1462.26 366.311,1462.26 \n",
       "  \"/>\n",
       "<polygon clip-path=\"url(#clip2703)\" points=\"\n",
       "439.787,1436.82 439.787,1462.26 513.262,1462.26 513.262,1436.82 439.787,1436.82 439.787,1436.82 \n",
       "  \" fill=\"#009af9\" fill-opacity=\"1\"/>\n",
       "<polyline clip-path=\"url(#clip2703)\" style=\"stroke:#000000; stroke-width:4; stroke-opacity:1; fill:none\" points=\"\n",
       "  439.787,1436.82 439.787,1462.26 513.262,1462.26 513.262,1436.82 439.787,1436.82 \n",
       "  \"/>\n",
       "<polygon clip-path=\"url(#clip2703)\" points=\"\n",
       "513.262,1411.38 513.262,1462.26 586.738,1462.26 586.738,1411.38 513.262,1411.38 513.262,1411.38 \n",
       "  \" fill=\"#009af9\" fill-opacity=\"1\"/>\n",
       "<polyline clip-path=\"url(#clip2703)\" style=\"stroke:#000000; stroke-width:4; stroke-opacity:1; fill:none\" points=\"\n",
       "  513.262,1411.38 513.262,1462.26 586.738,1462.26 586.738,1411.38 513.262,1411.38 \n",
       "  \"/>\n",
       "<polygon clip-path=\"url(#clip2703)\" points=\"\n",
       "586.738,1398.66 586.738,1462.26 660.213,1462.26 660.213,1398.66 586.738,1398.66 586.738,1398.66 \n",
       "  \" fill=\"#009af9\" fill-opacity=\"1\"/>\n",
       "<polyline clip-path=\"url(#clip2703)\" style=\"stroke:#000000; stroke-width:4; stroke-opacity:1; fill:none\" points=\"\n",
       "  586.738,1398.66 586.738,1462.26 660.213,1462.26 660.213,1398.66 586.738,1398.66 \n",
       "  \"/>\n",
       "<polygon clip-path=\"url(#clip2703)\" points=\"\n",
       "660.213,1385.94 660.213,1462.26 733.689,1462.26 733.689,1385.94 660.213,1385.94 660.213,1385.94 \n",
       "  \" fill=\"#009af9\" fill-opacity=\"1\"/>\n",
       "<polyline clip-path=\"url(#clip2703)\" style=\"stroke:#000000; stroke-width:4; stroke-opacity:1; fill:none\" points=\"\n",
       "  660.213,1385.94 660.213,1462.26 733.689,1462.26 733.689,1385.94 660.213,1385.94 \n",
       "  \"/>\n",
       "<polygon clip-path=\"url(#clip2703)\" points=\"\n",
       "733.689,1322.34 733.689,1462.26 807.164,1462.26 807.164,1322.34 733.689,1322.34 733.689,1322.34 \n",
       "  \" fill=\"#009af9\" fill-opacity=\"1\"/>\n",
       "<polyline clip-path=\"url(#clip2703)\" style=\"stroke:#000000; stroke-width:4; stroke-opacity:1; fill:none\" points=\"\n",
       "  733.689,1322.34 733.689,1462.26 807.164,1462.26 807.164,1322.34 733.689,1322.34 \n",
       "  \"/>\n",
       "<polygon clip-path=\"url(#clip2703)\" points=\"\n",
       "807.164,1182.41 807.164,1462.26 880.64,1462.26 880.64,1182.41 807.164,1182.41 807.164,1182.41 \n",
       "  \" fill=\"#009af9\" fill-opacity=\"1\"/>\n",
       "<polyline clip-path=\"url(#clip2703)\" style=\"stroke:#000000; stroke-width:4; stroke-opacity:1; fill:none\" points=\"\n",
       "  807.164,1182.41 807.164,1462.26 880.64,1462.26 880.64,1182.41 807.164,1182.41 \n",
       "  \"/>\n",
       "<polygon clip-path=\"url(#clip2703)\" points=\"\n",
       "880.64,1093.37 880.64,1462.26 954.115,1462.26 954.115,1093.37 880.64,1093.37 880.64,1093.37 \n",
       "  \" fill=\"#009af9\" fill-opacity=\"1\"/>\n",
       "<polyline clip-path=\"url(#clip2703)\" style=\"stroke:#000000; stroke-width:4; stroke-opacity:1; fill:none\" points=\"\n",
       "  880.64,1093.37 880.64,1462.26 954.115,1462.26 954.115,1093.37 880.64,1093.37 \n",
       "  \"/>\n",
       "<polygon clip-path=\"url(#clip2703)\" points=\"\n",
       "954.115,775.359 954.115,1462.26 1027.59,1462.26 1027.59,775.359 954.115,775.359 954.115,775.359 \n",
       "  \" fill=\"#009af9\" fill-opacity=\"1\"/>\n",
       "<polyline clip-path=\"url(#clip2703)\" style=\"stroke:#000000; stroke-width:4; stroke-opacity:1; fill:none\" points=\"\n",
       "  954.115,775.359 954.115,1462.26 1027.59,1462.26 1027.59,775.359 954.115,775.359 \n",
       "  \"/>\n",
       "<polygon clip-path=\"url(#clip2703)\" points=\"\n",
       "1027.59,139.34 1027.59,1462.26 1101.07,1462.26 1101.07,139.34 1027.59,139.34 1027.59,139.34 \n",
       "  \" fill=\"#009af9\" fill-opacity=\"1\"/>\n",
       "<polyline clip-path=\"url(#clip2703)\" style=\"stroke:#000000; stroke-width:4; stroke-opacity:1; fill:none\" points=\"\n",
       "  1027.59,139.34 1027.59,1462.26 1101.07,1462.26 1101.07,139.34 1027.59,139.34 \n",
       "  \"/>\n",
       "<polygon clip-path=\"url(#clip2703)\" points=\"\n",
       "1101.07,88.4582 1101.07,1462.26 1174.54,1462.26 1174.54,88.4582 1101.07,88.4582 1101.07,88.4582 \n",
       "  \" fill=\"#009af9\" fill-opacity=\"1\"/>\n",
       "<polyline clip-path=\"url(#clip2703)\" style=\"stroke:#000000; stroke-width:4; stroke-opacity:1; fill:none\" points=\"\n",
       "  1101.07,88.4582 1101.07,1462.26 1174.54,1462.26 1174.54,88.4582 1101.07,88.4582 \n",
       "  \"/>\n",
       "<polygon clip-path=\"url(#clip2703)\" points=\"\n",
       "1174.54,622.715 1174.54,1462.26 1248.02,1462.26 1248.02,622.715 1174.54,622.715 1174.54,622.715 \n",
       "  \" fill=\"#009af9\" fill-opacity=\"1\"/>\n",
       "<polyline clip-path=\"url(#clip2703)\" style=\"stroke:#000000; stroke-width:4; stroke-opacity:1; fill:none\" points=\"\n",
       "  1174.54,622.715 1174.54,1462.26 1248.02,1462.26 1248.02,622.715 1174.54,622.715 \n",
       "  \"/>\n",
       "<polygon clip-path=\"url(#clip2703)\" points=\"\n",
       "1248.02,1093.37 1248.02,1462.26 1321.49,1462.26 1321.49,1093.37 1248.02,1093.37 1248.02,1093.37 \n",
       "  \" fill=\"#009af9\" fill-opacity=\"1\"/>\n",
       "<polyline clip-path=\"url(#clip2703)\" style=\"stroke:#000000; stroke-width:4; stroke-opacity:1; fill:none\" points=\"\n",
       "  1248.02,1093.37 1248.02,1462.26 1321.49,1462.26 1321.49,1093.37 1248.02,1093.37 \n",
       "  \"/>\n",
       "<polygon clip-path=\"url(#clip2703)\" points=\"\n",
       "1321.49,1131.53 1321.49,1462.26 1394.97,1462.26 1394.97,1131.53 1321.49,1131.53 1321.49,1131.53 \n",
       "  \" fill=\"#009af9\" fill-opacity=\"1\"/>\n",
       "<polyline clip-path=\"url(#clip2703)\" style=\"stroke:#000000; stroke-width:4; stroke-opacity:1; fill:none\" points=\"\n",
       "  1321.49,1131.53 1321.49,1462.26 1394.97,1462.26 1394.97,1131.53 1321.49,1131.53 \n",
       "  \"/>\n",
       "<polygon clip-path=\"url(#clip2703)\" points=\"\n",
       "1394.97,1271.45 1394.97,1462.26 1468.44,1462.26 1468.44,1271.45 1394.97,1271.45 1394.97,1271.45 \n",
       "  \" fill=\"#009af9\" fill-opacity=\"1\"/>\n",
       "<polyline clip-path=\"url(#clip2703)\" style=\"stroke:#000000; stroke-width:4; stroke-opacity:1; fill:none\" points=\"\n",
       "  1394.97,1271.45 1394.97,1462.26 1468.44,1462.26 1468.44,1271.45 1394.97,1271.45 \n",
       "  \"/>\n",
       "<polygon clip-path=\"url(#clip2703)\" points=\"\n",
       "1468.44,1373.22 1468.44,1462.26 1541.92,1462.26 1541.92,1373.22 1468.44,1373.22 1468.44,1373.22 \n",
       "  \" fill=\"#009af9\" fill-opacity=\"1\"/>\n",
       "<polyline clip-path=\"url(#clip2703)\" style=\"stroke:#000000; stroke-width:4; stroke-opacity:1; fill:none\" points=\"\n",
       "  1468.44,1373.22 1468.44,1462.26 1541.92,1462.26 1541.92,1373.22 1468.44,1373.22 \n",
       "  \"/>\n",
       "<polygon clip-path=\"url(#clip2703)\" points=\"\n",
       "1541.92,1411.38 1541.92,1462.26 1615.4,1462.26 1615.4,1411.38 1541.92,1411.38 1541.92,1411.38 \n",
       "  \" fill=\"#009af9\" fill-opacity=\"1\"/>\n",
       "<polyline clip-path=\"url(#clip2703)\" style=\"stroke:#000000; stroke-width:4; stroke-opacity:1; fill:none\" points=\"\n",
       "  1541.92,1411.38 1541.92,1462.26 1615.4,1462.26 1615.4,1411.38 1541.92,1411.38 \n",
       "  \"/>\n",
       "<polygon clip-path=\"url(#clip2703)\" points=\"\n",
       "1615.4,1424.1 1615.4,1462.26 1688.87,1462.26 1688.87,1424.1 1615.4,1424.1 1615.4,1424.1 \n",
       "  \" fill=\"#009af9\" fill-opacity=\"1\"/>\n",
       "<polyline clip-path=\"url(#clip2703)\" style=\"stroke:#000000; stroke-width:4; stroke-opacity:1; fill:none\" points=\"\n",
       "  1615.4,1424.1 1615.4,1462.26 1688.87,1462.26 1688.87,1424.1 1615.4,1424.1 \n",
       "  \"/>\n",
       "<polygon clip-path=\"url(#clip2703)\" points=\"\n",
       "1688.87,1436.82 1688.87,1462.26 1762.35,1462.26 1762.35,1436.82 1688.87,1436.82 1688.87,1436.82 \n",
       "  \" fill=\"#009af9\" fill-opacity=\"1\"/>\n",
       "<polyline clip-path=\"url(#clip2703)\" style=\"stroke:#000000; stroke-width:4; stroke-opacity:1; fill:none\" points=\"\n",
       "  1688.87,1436.82 1688.87,1462.26 1762.35,1462.26 1762.35,1436.82 1688.87,1436.82 \n",
       "  \"/>\n",
       "<polygon clip-path=\"url(#clip2703)\" points=\"\n",
       "1762.35,1462.26 1762.35,1462.26 1835.82,1462.26 1835.82,1462.26 1762.35,1462.26 1762.35,1462.26 \n",
       "  \" fill=\"#009af9\" fill-opacity=\"1\"/>\n",
       "<polyline clip-path=\"url(#clip2703)\" style=\"stroke:#000000; stroke-width:4; stroke-opacity:1; fill:none\" points=\"\n",
       "  1762.35,1462.26 1762.35,1462.26 1835.82,1462.26 1762.35,1462.26 \n",
       "  \"/>\n",
       "<polygon clip-path=\"url(#clip2703)\" points=\"\n",
       "1835.82,1462.26 1835.82,1462.26 1909.3,1462.26 1909.3,1462.26 1835.82,1462.26 1835.82,1462.26 \n",
       "  \" fill=\"#009af9\" fill-opacity=\"1\"/>\n",
       "<polyline clip-path=\"url(#clip2703)\" style=\"stroke:#000000; stroke-width:4; stroke-opacity:1; fill:none\" points=\"\n",
       "  1835.82,1462.26 1835.82,1462.26 1909.3,1462.26 1835.82,1462.26 \n",
       "  \"/>\n",
       "<polygon clip-path=\"url(#clip2703)\" points=\"\n",
       "1909.3,1449.54 1909.3,1462.26 1982.77,1462.26 1982.77,1449.54 1909.3,1449.54 1909.3,1449.54 \n",
       "  \" fill=\"#009af9\" fill-opacity=\"1\"/>\n",
       "<polyline clip-path=\"url(#clip2703)\" style=\"stroke:#000000; stroke-width:4; stroke-opacity:1; fill:none\" points=\"\n",
       "  1909.3,1449.54 1909.3,1462.26 1982.77,1462.26 1982.77,1449.54 1909.3,1449.54 \n",
       "  \"/>\n",
       "<polygon clip-path=\"url(#clip2703)\" points=\"\n",
       "1982.77,1462.26 1982.77,1462.26 2056.25,1462.26 2056.25,1462.26 1982.77,1462.26 1982.77,1462.26 \n",
       "  \" fill=\"#009af9\" fill-opacity=\"1\"/>\n",
       "<polyline clip-path=\"url(#clip2703)\" style=\"stroke:#000000; stroke-width:4; stroke-opacity:1; fill:none\" points=\"\n",
       "  1982.77,1462.26 1982.77,1462.26 2056.25,1462.26 1982.77,1462.26 \n",
       "  \"/>\n",
       "<polygon clip-path=\"url(#clip2703)\" points=\"\n",
       "2056.25,1462.26 2056.25,1462.26 2129.72,1462.26 2129.72,1462.26 2056.25,1462.26 2056.25,1462.26 \n",
       "  \" fill=\"#009af9\" fill-opacity=\"1\"/>\n",
       "<polyline clip-path=\"url(#clip2703)\" style=\"stroke:#000000; stroke-width:4; stroke-opacity:1; fill:none\" points=\"\n",
       "  2056.25,1462.26 2056.25,1462.26 2129.72,1462.26 2056.25,1462.26 \n",
       "  \"/>\n",
       "<polygon clip-path=\"url(#clip2703)\" points=\"\n",
       "2129.72,1449.54 2129.72,1462.26 2203.2,1462.26 2203.2,1449.54 2129.72,1449.54 2129.72,1449.54 \n",
       "  \" fill=\"#009af9\" fill-opacity=\"1\"/>\n",
       "<polyline clip-path=\"url(#clip2703)\" style=\"stroke:#000000; stroke-width:4; stroke-opacity:1; fill:none\" points=\"\n",
       "  2129.72,1449.54 2129.72,1462.26 2203.2,1462.26 2203.2,1449.54 2129.72,1449.54 \n",
       "  \"/>\n",
       "<polygon clip-path=\"url(#clip2701)\" points=\"\n",
       "1958.43,251.724 2249.26,251.724 2249.26,130.764 1958.43,130.764 \n",
       "  \" fill=\"#ffffff\" fill-opacity=\"1\"/>\n",
       "<polyline clip-path=\"url(#clip2701)\" style=\"stroke:#000000; stroke-width:4; stroke-opacity:1; fill:none\" points=\"\n",
       "  1958.43,251.724 2249.26,251.724 2249.26,130.764 1958.43,130.764 1958.43,251.724 \n",
       "  \"/>\n",
       "<polygon clip-path=\"url(#clip2701)\" points=\"\n",
       "1982.43,215.436 2126.43,215.436 2126.43,167.052 1982.43,167.052 1982.43,215.436 \n",
       "  \" fill=\"#009af9\" fill-opacity=\"1\"/>\n",
       "<polyline clip-path=\"url(#clip2701)\" style=\"stroke:#000000; stroke-width:4; stroke-opacity:1; fill:none\" points=\"\n",
       "  1982.43,215.436 2126.43,215.436 2126.43,167.052 1982.43,167.052 1982.43,215.436 \n",
       "  \"/>\n",
       "<g clip-path=\"url(#clip2701)\">\n",
       "<text style=\"fill:#000000; fill-opacity:1; font-family:Arial,Helvetica Neue,Helvetica,sans-serif; font-size:48; text-anchor:start;\" transform=\"rotate(0, 2150.43, 208.744)\" x=\"2150.43\" y=\"208.744\">y1</text>\n",
       "</g>\n",
       "</svg>\n"
      ]
     },
     "execution_count": 18,
     "metadata": {},
     "output_type": "execute_result"
    }
   ],
   "source": [
    "using Distributions\n",
    "\n",
    "function plothistogram(distribution, n)\n",
    "    ϵ = rand(distribution, n)  # n draws from distribution\n",
    "    histogram(ϵ)\n",
    "end\n",
    "\n",
    "lp = Laplace()\n",
    "plothistogram(lp, 500)"
   ]
  },
  {
   "cell_type": "markdown",
   "metadata": {},
   "source": [
    "Let’s have a casual discussion of how all this works while leaving technical details for later in the lectures\n",
    "\n",
    "First, `lp = Laplace()` creates an instance of a data type defined\n",
    "in the Distributions module that represents the Laplace distribution\n",
    "\n",
    "The name `lp` is bound to this object\n",
    "\n",
    "When we make the function call `plothistogram(lp, 500)` the code in the body\n",
    "of the function `plothistogram` is run with\n",
    "\n",
    "- the name `distribution` bound to the same object as `lp`  \n",
    "- the name `n` bound to the integer `500`  "
   ]
  },
  {
   "cell_type": "markdown",
   "metadata": {},
   "source": [
    "#### A Mystery\n",
    "\n",
    "Now consider the function call `rand(distribution, n)`\n",
    "\n",
    "This looks like something of a mystery\n",
    "\n",
    "The function `rand()` is defined in the base library such that `rand(n)` returns `n` uniform random variables on $ [0, 1) $"
   ]
  },
  {
   "cell_type": "code",
   "execution_count": 19,
   "metadata": {},
   "outputs": [
    {
     "data": {
      "text/plain": [
       "3-element Array{Float64,1}:\n",
       " 0.3243845927610527 \n",
       " 0.6229763846967293 \n",
       " 0.06712195102171359"
      ]
     },
     "execution_count": 19,
     "metadata": {},
     "output_type": "execute_result"
    }
   ],
   "source": [
    "rand(3)"
   ]
  },
  {
   "cell_type": "markdown",
   "metadata": {},
   "source": [
    "On the other hand, `distribution` points to a data type representing the Laplace distribution that has been defined in a third party package\n",
    "\n",
    "So how can it be that `rand()` is able to take this kind of object as an\n",
    "argument and return the output that we want?\n",
    "\n",
    "The answer in a nutshell is **multiple dispatch**, which Julia uses to implement **generic programming**\n",
    "\n",
    "This refers to the idea that functions in Julia can have different behavior\n",
    "depending on the particular arguments that they’re passed\n",
    "\n",
    "Hence in Julia we can take an existing function and give it a new behavior by defining how it acts on a new type of object\n",
    "\n",
    "The compiler knows which function definition to apply in a given setting by looking at the types of the objects the function is called on\n",
    "\n",
    "In Julia these alternative versions of a function are called **methods**"
   ]
  },
  {
   "cell_type": "markdown",
   "metadata": {},
   "source": [
    "## Example: Variations on Fixed-Points\n",
    "\n",
    "For our second example, we will start with a simple example of solving a fixed-points\n",
    "\n",
    "The goal is to start with code in a matlab style, and move towards a more **Julian** style with high mathematical clarity"
   ]
  },
  {
   "cell_type": "markdown",
   "metadata": {},
   "source": [
    "### Fixed-Point Maps\n",
    "\n",
    "Consider the simple equation, where the scalars $ p,\\beta $ are given, and  $ v $ is the scalar we wish to solve for\n",
    "\n",
    "$$\n",
    "v = p + \\beta v\n",
    "$$\n",
    "\n",
    "Of course, in this simple example, with parameter restrictions this can be solved as $ v = p/(1 - \\beta) $\n",
    "\n",
    "Rearrange the equation in terms of a map $ f(x) : \\mathbb R \\to \\mathbb R $\n",
    "\n",
    "\n",
    "<a id='equation-fixed-point-map'></a>\n",
    "<table width=100%><tr style='background-color: #FFFFFF !important;'>\n",
    "<td width=10%></td>\n",
    "<td width=80%>\n",
    "$$\n",
    "v = f(v)\\quad\n",
    "$$\n",
    "</td><td width=10% style='text-align:center !important;'>\n",
    "(1)\n",
    "</td></tr></table>\n",
    "\n",
    "where\n",
    "\n",
    "$$\n",
    "f(v) := p + \\beta v\\quad\n",
    "$$\n",
    "\n",
    "Therefore, a fixed point $ v^* $ of $ f(\\cdot) $ is a solution to the above problem"
   ]
  },
  {
   "cell_type": "markdown",
   "metadata": {},
   "source": [
    "### While Loops\n",
    "\n",
    "One approach to finding a fixed point of [(1)](#equation-fixed-point-map) is to start with an initial value, and iterate the map\n",
    "\n",
    "\n",
    "<a id='equation-fixed-point-naive'></a>\n",
    "<table width=100%><tr style='background-color: #FFFFFF !important;'>\n",
    "<td width=10%></td>\n",
    "<td width=80%>\n",
    "$$\n",
    "v^{n+1} = f(v^n)\\quad\n",
    "$$\n",
    "</td><td width=10% style='text-align:center !important;'>\n",
    "(2)\n",
    "</td></tr></table>\n",
    "\n",
    "For this exact `f` function,  we can see the convergence to $ v = p/(1-\\beta) $ when $ |\\beta| < 1 $ by iterating backwards and taking $ n\\to\\infty $\n",
    "\n",
    "$$\n",
    "v^{n+1} = p + \\beta v^n = p + \\beta p + \\beta^2 v^{n-1} = p \\sum_{i=0}^{n-1} \\beta^i + \\beta^n v_0\n",
    "$$\n",
    "\n",
    "To implement the iteration in [(2)](#equation-fixed-point-naive), we start by solving this problem with a `while` loop\n",
    "\n",
    "The syntax for the while loop contains no surprises, and looks nearly identical to a Matlab implementation"
   ]
  },
  {
   "cell_type": "code",
   "execution_count": 20,
   "metadata": {},
   "outputs": [
    {
     "name": "stdout",
     "output_type": "stream",
     "text": [
      "Fixed point = 9.999999173706609, and |f(x) - x| = 9.181037796679448e-8 in 155 iterations\n"
     ]
    }
   ],
   "source": [
    "# poor style\n",
    "p = 1.0 # note 1.0 rather than 1\n",
    "β = 0.9\n",
    "maxiter = 1000\n",
    "tolerance = 1.0E-7\n",
    "v_iv = 0.8 # initial condition\n",
    "\n",
    "# setup the algorithm\n",
    "v_old = v_iv\n",
    "normdiff = Inf\n",
    "iter = 1\n",
    "while normdiff > tolerance && iter <= maxiter\n",
    "    v_new = p + β * v_old # the f(v) map\n",
    "    normdiff = norm(v_new - v_old)\n",
    "\n",
    "    # replace and continue\n",
    "    v_old = v_new\n",
    "    iter = iter + 1\n",
    "end\n",
    "println(\"Fixed point = $v_old, and |f(x) - x| = $normdiff in $iter iterations\")"
   ]
  },
  {
   "cell_type": "markdown",
   "metadata": {},
   "source": [
    "The `while` loop, like the `for` loop should only be used directly in Jupyter or inside of a function\n",
    "\n",
    "Here, we have used the `norm` function (from the `LinearAlgebra` base library) to compare the values\n",
    "\n",
    "The other new function is the `println` with the string interpolation, which splices a value of an expression or variable prefixed by `$` into a string\n",
    "\n",
    "An alternative approach is to use a `for` loop, and checking for convergence in each iteration"
   ]
  },
  {
   "cell_type": "code",
   "execution_count": 21,
   "metadata": {},
   "outputs": [
    {
     "name": "stdout",
     "output_type": "stream",
     "text": [
      "Fixed point = 9.999999081896231, and |f(x) - x| = 9.181037796679448e-8 in 154 iterations\n"
     ]
    }
   ],
   "source": [
    "# setup the algorithm\n",
    "v_old = v_iv\n",
    "normdiff = Inf\n",
    "iter = 1\n",
    "for i in 1:maxiter\n",
    "    v_new = p + β * v_old # the f(v) map\n",
    "    normdiff = norm(v_new - v_old)\n",
    "    if normdiff < tolerance # check convergence\n",
    "        iter = i\n",
    "        break # converged, exit loop\n",
    "    end\n",
    "    # replace and continue\n",
    "    v_old = v_new\n",
    "end\n",
    "println(\"Fixed point = $v_old, and |f(x) - x| = $normdiff in $iter iterations\")"
   ]
  },
  {
   "cell_type": "markdown",
   "metadata": {},
   "source": [
    "The new feature there is `break` , which leaves a `for` or `while` loop"
   ]
  },
  {
   "cell_type": "markdown",
   "metadata": {},
   "source": [
    "### Using a Function\n",
    "\n",
    "The first problem with this setup is that it depends on being sequently run–which can be easily remedied with a function"
   ]
  },
  {
   "cell_type": "code",
   "execution_count": 22,
   "metadata": {},
   "outputs": [
    {
     "name": "stdout",
     "output_type": "stream",
     "text": [
      "Fixed point = 9.999999173706609, and |f(x) - x| = 9.181037796679448e-8 in 155 iterations\n"
     ]
    }
   ],
   "source": [
    "# better, but still poor style\n",
    "function v_fp(β, ρ, v_iv, tolerance, maxiter)\n",
    "    # setup the algorithm\n",
    "    v_old = v_iv\n",
    "    normdiff = Inf\n",
    "    iter = 1\n",
    "    while normdiff > tolerance && iter <= maxiter\n",
    "        v_new = p + β * v_old # the f(v) map\n",
    "        normdiff = norm(v_new - v_old)\n",
    "\n",
    "        #Replace and continue\n",
    "        v_old = v_new\n",
    "        iter = iter + 1\n",
    "    end\n",
    "    return (v_old, normdiff, iter) # returns a tuple\n",
    "end\n",
    "\n",
    "# some values\n",
    "p = 1.0 # note 1.0 rather than 1\n",
    "β = 0.9\n",
    "maxiter = 1000\n",
    "tolerance = 1.0E-7\n",
    "v_initial = 0.8 # initial condition\n",
    "\n",
    "v_star, normdiff, iter = v_fp(β, p, v_initial, tolerance, maxiter)\n",
    "println(\"Fixed point = $v_star, and |f(x) - x| = $normdiff in $iter iterations\")"
   ]
  },
  {
   "cell_type": "markdown",
   "metadata": {},
   "source": [
    "While better, there are still improvements"
   ]
  },
  {
   "cell_type": "markdown",
   "metadata": {},
   "source": [
    "### Passing a Function\n",
    "\n",
    "The chief issue is that the algorithm (finding a fixed point) is reusable and generic, while the function we calculate `p + β * v` is specific to our problem\n",
    "\n",
    "A key feature of languages like Julia, is the ability to efficiently handle functions passed to other functions"
   ]
  },
  {
   "cell_type": "code",
   "execution_count": 23,
   "metadata": {},
   "outputs": [
    {
     "name": "stdout",
     "output_type": "stream",
     "text": [
      "Fixed point = 9.999999173706609, and |f(x) - x| = 9.181037796679448e-8 in 155 iterations\n"
     ]
    }
   ],
   "source": [
    "# better style\n",
    "function fixedpointmap(f, iv, tolerance, maxiter)\n",
    "    # setup the algorithm\n",
    "    x_old = iv\n",
    "    normdiff = Inf\n",
    "    iter = 1\n",
    "    while normdiff > tolerance && iter <= maxiter\n",
    "        x_new = f(x_old) # use the passed in map\n",
    "        normdiff = norm(x_new - x_old)\n",
    "        x_old = x_new\n",
    "        iter = iter + 1\n",
    "    end\n",
    "    return (x_old, normdiff, iter)\n",
    "end\n",
    "\n",
    "# define a map and parameters\n",
    "p = 1.0\n",
    "β = 0.9\n",
    "f(v) = p + β * v # note that p and β are used in the function!\n",
    "\n",
    "maxiter = 1000\n",
    "tolerance = 1.0E-7\n",
    "v_initial = 0.8 # initial condition\n",
    "\n",
    "v_star, normdiff, iter = fixedpointmap(f, v_initial, tolerance, maxiter)\n",
    "println(\"Fixed point = $v_star, and |f(x) - x| = $normdiff in $iter iterations\")"
   ]
  },
  {
   "cell_type": "markdown",
   "metadata": {},
   "source": [
    "Much closer, but there are still hidden bugs if the user orders the settings or return types wrong"
   ]
  },
  {
   "cell_type": "markdown",
   "metadata": {},
   "source": [
    "### Named Arguments and Return Values\n",
    "\n",
    "To enable this, Julia has two features:  named function parameters, and named tuples"
   ]
  },
  {
   "cell_type": "code",
   "execution_count": 24,
   "metadata": {},
   "outputs": [
    {
     "name": "stdout",
     "output_type": "stream",
     "text": [
      "Fixed point = 9.999999918629035, and |f(x) - x| = 9.041219328764782e-9 in 177 iterations\n"
     ]
    }
   ],
   "source": [
    " # good style\n",
    "function fixedpointmap(f; iv, tolerance = 1E-7, maxiter = 1000)\n",
    "    # setup the algorithm\n",
    "    x_old = iv\n",
    "    normdiff = Inf\n",
    "    iter = 1\n",
    "    while normdiff > tolerance && iter <= maxiter\n",
    "        x_new = f(x_old) # use the passed in map\n",
    "        normdiff = norm(x_new - x_old)\n",
    "        x_old = x_new\n",
    "        iter = iter + 1\n",
    "    end\n",
    "    return (value = x_old, normdiff = normdiff, iter = iter) # A named tuple\n",
    "end\n",
    "\n",
    "# define a map and parameters\n",
    "p = 1.0\n",
    "β = 0.9\n",
    "f(v) = p + β * v # note that p and β are used in the function!\n",
    "\n",
    "sol = fixedpointmap(f, iv = 0.8, tolerance = 1.0E-8) # don't need to pass\n",
    "println(\"Fixed point = $(sol.value), and |f(x) - x| = $(sol.normdiff) in $(sol.iter) iterations\")"
   ]
  },
  {
   "cell_type": "markdown",
   "metadata": {},
   "source": [
    "In this example, all function parameters after the `;` in the list, must be called by name\n",
    "\n",
    "Furthermore, a default value may be enabled–so the named parameter `iv` is required while `tolerance` and `maxiter` have default values\n",
    "\n",
    "The return type of the function also has named fields, `value, normdiff,` and `iter`–all accessed intuitively using `.`\n",
    "\n",
    "To show the flexibilty of this code, we can use it to find a fixed-point of the non-linear logistic equation, :math:`x = f(x)` where $ f(x) := r x (1-x) $"
   ]
  },
  {
   "cell_type": "code",
   "execution_count": 25,
   "metadata": {},
   "outputs": [
    {
     "name": "stdout",
     "output_type": "stream",
     "text": [
      "Fixed point = 0.4999999999999968, and |f(x) - x| = 3.979330237546819e-8 in 7 iterations\n"
     ]
    }
   ],
   "source": [
    "r = 2.0\n",
    "f(x) = r * x * (1 - x)\n",
    "\n",
    "sol = fixedpointmap(f, iv = 0.8)\n",
    "println(\"Fixed point = $(sol.value), and |f(x) - x| = $(sol.normdiff) in $(sol.iter) iterations\")"
   ]
  },
  {
   "cell_type": "markdown",
   "metadata": {},
   "source": [
    "### Using a Package\n",
    "\n",
    "But best of all is to avoid writing code altogether"
   ]
  },
  {
   "cell_type": "code",
   "execution_count": 26,
   "metadata": {},
   "outputs": [
    {
     "name": "stdout",
     "output_type": "stream",
     "text": [
      "Fixed point = [10.0], and |f(x) - x| = 9.041219328764782e-9 in 176 iterations\n"
     ]
    }
   ],
   "source": [
    "# best style\n",
    "using NLsolve\n",
    "\n",
    "p = 1.0\n",
    "β = 0.9\n",
    "f(v) = p .+ β * v # broadcast the +\n",
    "sol = fixedpoint(f, [0.8], inplace = false)\n",
    "println(\"Fixed point = $(sol.zero), and |f(x) - x| = $(norm(f(sol.zero) - sol.zero)) in $(sol.iterations) iterations\")"
   ]
  },
  {
   "cell_type": "markdown",
   "metadata": {},
   "source": [
    "The `fixedpoint` function from the `NLsolve.jl` library implements the simple fixed-point iteration scheme above\n",
    "\n",
    "Since the `NLsolve` library only accepts vector based inputs, we needed to make the `f(v)` function broadcast on the `+` sign, and pass in the initial condition as a vector of length 1 with `[0.8]]`\n",
    "\n",
    "While a key benefit of using a package is that the code is clearer, and the implementation is tested, by using an orthogonal library we also enable performance improvements\n",
    "\n",
    "In particular, we can use the `Anderson acceleration` with a memory of 5 iterations, by changing a setting"
   ]
  },
  {
   "cell_type": "code",
   "execution_count": 27,
   "metadata": {},
   "outputs": [
    {
     "name": "stdout",
     "output_type": "stream",
     "text": [
      "Fixed point = [10.0], and |f(x) - x| = 3.552713678800501e-15 in 3 iterations\n"
     ]
    }
   ],
   "source": [
    "# best style\n",
    "using NLsolve\n",
    "\n",
    "p = 1.0\n",
    "β = 0.9\n",
    "iv = [0.8]\n",
    "sol = fixedpoint(v -> p .+ β * v, iv, inplace = false, method = :anderson, m = 3)\n",
    "println(\"Fixed point = $(sol.zero), and |f(x) - x| = $(norm(f(sol.zero) - sol.zero)) in $(sol.iterations) iterations\")"
   ]
  },
  {
   "cell_type": "markdown",
   "metadata": {},
   "source": [
    "Note that this completes in `3` iterations vs `177` for the naive fixed point iteration algorithm\n",
    "\n",
    "Since Anderson iteration is doing more calculations in an iteration,  whether it is faster or not would depend on the complexity of the f function\n",
    "\n",
    "But this demonstrates the value of keeping the math separate from the algorithm, since by decoupling the mathematical definition of the fixed point from the implementation in [(2)](#equation-fixed-point-naive), we were able to exploit new algorithms for finding a fixed point\n",
    "\n",
    "The only other change in this function as the move from directly defining `f(v)` and using an **anonymous** function\n",
    "\n",
    "Similar to anonymous functions in Matlab, and lambda functions in Python, Julia enables the creation of small functions without any names\n",
    "\n",
    "The code `v -> p .+ β * v` defines a function of a dummy argument, `v` with the same body as our `f(x)`"
   ]
  },
  {
   "cell_type": "markdown",
   "metadata": {},
   "source": [
    "### Composing Packages\n",
    "\n",
    "A key benefit of using Julia is that you can compose various packages, types, and techniques, without making changes to your underlying source\n",
    "\n",
    "As an example, consider if we want to solve the model with a higher-precision, as floating points cannot be distinguished beyond the machine epsilon for that type,\n",
    "\n",
    "In Julia, this number can be calculated as"
   ]
  },
  {
   "cell_type": "code",
   "execution_count": 28,
   "metadata": {},
   "outputs": [
    {
     "data": {
      "text/plain": [
       "2.220446049250313e-16"
      ]
     },
     "execution_count": 28,
     "metadata": {},
     "output_type": "execute_result"
    }
   ],
   "source": [
    "eps()"
   ]
  },
  {
   "cell_type": "markdown",
   "metadata": {},
   "source": [
    "For many cases, this is sufficient precision–but consider that in iterative algorithms applied millions of times, those small differences can add up\n",
    "\n",
    "The only change we will need to our model in order to use a different floating point type is to call the function with an arbitrary precision floating point, `BigFloat`, for the initial value"
   ]
  },
  {
   "cell_type": "code",
   "execution_count": 29,
   "metadata": {},
   "outputs": [
    {
     "name": "stdout",
     "output_type": "stream",
     "text": [
      "Fixed point = BigFloat[1.0e+01], and |f(x) - x| = 0.0 in 3 iterations\n"
     ]
    }
   ],
   "source": [
    "# use arbitrary precision floating points\n",
    "p = 1.0\n",
    "β = 0.9\n",
    "iv = [BigFloat(0.8)] # higher precision\n",
    "\n",
    "# otherwise identical\n",
    "sol = fixedpoint(v -> p .+ β * v, iv, inplace = false, m = 3)\n",
    "println(\"Fixed point = $(sol.zero), and |f(x) - x| = $(norm(f(sol.zero) - sol.zero)) in $(sol.iterations) iterations\")"
   ]
  },
  {
   "cell_type": "markdown",
   "metadata": {},
   "source": [
    "Here, the literal BigFloat(0.8) takes the number 0.8 and changes it to an arbitrary precision number\n",
    "\n",
    "The result is that the residual is now **exactly** `0.0` since it is able to use arbitrary precision in the calculations, and the solution has a finite-precision solution with those parameters"
   ]
  },
  {
   "cell_type": "markdown",
   "metadata": {},
   "source": [
    "### Multivariate Fixed Point Maps\n",
    "\n",
    "The above example can be extended to multivariate maps without any modifications to the fixed point iteration code\n",
    "\n",
    "Using our own, homegrown iteration and simple passing in a bivariate map,"
   ]
  },
  {
   "cell_type": "code",
   "execution_count": 30,
   "metadata": {},
   "outputs": [
    {
     "name": "stdout",
     "output_type": "stream",
     "text": [
      "Fixed point = [10.0, 20.0], and |f(x) - x| = 9.501826248250528e-9 in 184 iterations\n"
     ]
    }
   ],
   "source": [
    "p = [1.0, 2.0]\n",
    "β = 0.9\n",
    "iv = [0.8, 2.0]\n",
    "f(v) = p .+ β * v # note that p and β are used in the function!\n",
    "\n",
    "sol = fixedpointmap(f, iv = iv, tolerance = 1.0E-8)\n",
    "println(\"Fixed point = $(sol.value), and |f(x) - x| = $(sol.normdiff) in $(sol.iter) iterations\")"
   ]
  },
  {
   "cell_type": "markdown",
   "metadata": {},
   "source": [
    "This also works without any modifications with the `fixedpoint` library function"
   ]
  },
  {
   "cell_type": "code",
   "execution_count": 31,
   "metadata": {},
   "outputs": [
    {
     "name": "stdout",
     "output_type": "stream",
     "text": [
      "Fixed point = [10.0, 20.0, 1.0], and |f(x) - x| = 0.0 in 3 iterations\n"
     ]
    }
   ],
   "source": [
    "using NLsolve\n",
    "\n",
    "p = [1.0, 2.0, 0.1]\n",
    "β = 0.9\n",
    "iv =[0.8, 2.0, 51.0]\n",
    "f(v) = p .+ β * v\n",
    "\n",
    "sol = fixedpoint(v -> p .+ β * v, iv, inplace = false, method = :anderson, m = 3)\n",
    "println(\"Fixed point = $(sol.zero), and |f(x) - x| = $(norm(f(sol.zero) - sol.zero)) in $(sol.iterations) iterations\")"
   ]
  },
  {
   "cell_type": "markdown",
   "metadata": {},
   "source": [
    "Finally, to demonstrate the importance of composing different libraries, use a `StaticArrays.jl` type, which provides an efficient implementation for small arrays and matrices"
   ]
  },
  {
   "cell_type": "code",
   "execution_count": 32,
   "metadata": {},
   "outputs": [
    {
     "name": "stdout",
     "output_type": "stream",
     "text": [
      "Fixed point = [10.0, 20.0, 1.0], and |f(x) - x| = 0.0 in 3 iterations\n"
     ]
    }
   ],
   "source": [
    "using NLsolve, StaticArrays\n",
    "p = @SVector [1.0, 2.0, 0.1]\n",
    "β = 0.9\n",
    "iv = @SVector  [0.8, 2.0, 51.0]\n",
    "f(v) = p .+ β * v\n",
    "\n",
    "sol = fixedpoint(v -> p .+ β * v, iv, inplace = false, method = :anderson, m = 3)\n",
    "println(\"Fixed point = $(sol.zero), and |f(x) - x| = $(norm(f(sol.zero) - sol.zero)) in $(sol.iterations) iterations\")"
   ]
  },
  {
   "cell_type": "markdown",
   "metadata": {},
   "source": [
    "The `@SVector` in front of the `[1.0, 2.0, 0.1]` is a macro for turning a vector literal into a static vector\n",
    "\n",
    "All macros in Julia are prefixed by `@` in the name, and manipulate the code prior to compilation\n",
    "\n",
    "We will see a variety of macros, and discuss the “metaprogramming” behind them in a later lecture"
   ]
  },
  {
   "cell_type": "markdown",
   "metadata": {},
   "source": [
    "## Exercises\n",
    "\n",
    "\n",
    "<a id='jbe-ex1'></a>"
   ]
  },
  {
   "cell_type": "markdown",
   "metadata": {},
   "source": [
    "### Exercise 1\n",
    "\n",
    "Recall that $ n! $ is read as “$ n $ factorial” and defined as\n",
    "$ n! = n \\times (n - 1) \\times \\cdots \\times 2 \\times 1 $\n",
    "\n",
    "In Julia you can compute this value with `factorial(n)`\n",
    "\n",
    "Write your own version of this function, called `factorial2`, using a `for` loop\n",
    "\n",
    "\n",
    "<a id='jbe-ex2'></a>"
   ]
  },
  {
   "cell_type": "markdown",
   "metadata": {},
   "source": [
    "### Exercise 2\n",
    "\n",
    "The [binomial random variable](https://en.wikipedia.org/wiki/Binomial_distribution) $ Y \\sim Bin(n, p) $ represents\n",
    "\n",
    "- number of successes in $ n $ binary trials  \n",
    "- each trial succeeds with probability $ p $  \n",
    "\n",
    "\n",
    "Using only `rand()` from the set of Julia’s built-in random number\n",
    "generators (not the Distributions package), write a function `binomial_rv` such that `binomial_rv(n, p)` generates one draw of $ Y $\n",
    "\n",
    "Hint: If $ U $ is uniform on $ (0, 1) $ and $ p \\in (0,1) $, then the expression `U < p` evaluates to `true` with probability $ p $\n",
    "\n",
    "\n",
    "<a id='jbe-ex3'></a>"
   ]
  },
  {
   "cell_type": "markdown",
   "metadata": {},
   "source": [
    "### Exercise 3\n",
    "\n",
    "Compute an approximation to $ \\pi $ using Monte Carlo\n",
    "\n",
    "For random number generation use only `rand()`\n",
    "\n",
    "Your hints are as follows:\n",
    "\n",
    "- If $ U $ is a bivariate uniform random variable on the unit square $ (0, 1)^2 $, then the probability that $ U $ lies in a subset $ B $ of $ (0,1)^2 $ is equal to the area of $ B $  \n",
    "- If $ U_1,\\ldots,U_n $ are iid copies of $ U $, then, as $ n $ gets large, the fraction that falls in $ B $ converges to the probability of landing in $ B $  \n",
    "- For a circle, area = π * radius^2  \n",
    "\n",
    "\n",
    "\n",
    "<a id='jbe-ex4'></a>"
   ]
  },
  {
   "cell_type": "markdown",
   "metadata": {},
   "source": [
    "### Exercise 4\n",
    "\n",
    "Write a program that prints one realization of the following random device:\n",
    "\n",
    "- Flip an unbiased coin 10 times  \n",
    "- If 3 consecutive heads occur one or more times within this sequence, pay one dollar  \n",
    "- If not, pay nothing  \n",
    "\n",
    "\n",
    "Once again use only `rand()` as your random number generator\n",
    "\n",
    "\n",
    "<a id='jbe-ex5'></a>"
   ]
  },
  {
   "cell_type": "markdown",
   "metadata": {},
   "source": [
    "### Exercise 5\n",
    "\n",
    "Simulate and plot the correlated time series\n",
    "\n",
    "$$\n",
    "x_{t+1} = \\alpha \\, x_t + \\epsilon_{t+1}\n",
    "\\quad \\text{where} \\quad\n",
    "x_0 = 0\n",
    "\\quad \\text{and} \\quad t = 0,\\ldots,n\n",
    "$$\n",
    "\n",
    "The sequence of shocks $ \\{\\epsilon_t\\} $ is assumed to be iid and standard normal\n",
    "\n",
    "Set $ n = 200 $ and $ \\alpha = 0.9 $\n",
    "\n",
    "\n",
    "<a id='jbe-ex6'></a>"
   ]
  },
  {
   "cell_type": "markdown",
   "metadata": {},
   "source": [
    "### Exercise 6\n",
    "\n",
    "Plot three simulated time series, one for each of the cases $ \\alpha = 0 $, $ \\alpha = 0.8 $ and $ \\alpha = 0.98 $\n",
    "\n",
    "(The figure will illustrate how time series with the same one-step-ahead conditional volatilities, as these three processes have, can have very different unconditional volatilities)\n",
    "\n",
    "\n",
    "<a id='jbe-ex7'></a>"
   ]
  },
  {
   "cell_type": "markdown",
   "metadata": {},
   "source": [
    "### Exercise 7\n",
    "\n",
    "This exercise is more challenging\n",
    "\n",
    "Take a random walk, starting from $ x_0 = 1 $\n",
    "\n",
    "$$\n",
    "x_{t+1} = \\, \\alpha \\, x_t + \\sigma\\, \\epsilon_{t+1}\n",
    "\\quad \\text{where} \\quad\n",
    "x_0 = 1\n",
    "\\quad \\text{and} \\quad t = 0,\\ldots,t_{\\max}\n",
    "$$\n",
    "\n",
    "- Furthermore, assume that the $ x_{t_{\\max}} = 0 $  (i.e. at $ t_{\\max} $, the value drops to zero, regardless of its current state)  \n",
    "- The sequence of shocks $ \\{\\epsilon_t\\} $ is assumed to be iid and standard normal  \n",
    "- For a given path $ \\{x_t\\} $ define a **first-passage time** as $ T_a = \\min\\{t\\, |\\, x_t \\leq a\\} $, where by the assumption of the process $ T_a \\leq t_{\\max} $  \n",
    "\n",
    "\n",
    "Start $ \\sigma = 0.2, \\alpha = 1.0 $\n",
    "\n",
    "1. calculate the first-passage time, $ T_0 $, for 100 simulated random walks–to a $ t_{\\max} = 200 $ and plot a histogram  \n",
    "1. plot the sample mean of $ T_0 $ from the simulation for $ \\alpha \\in \\{0.8, 1.0, 1.2\\} $  "
   ]
  },
  {
   "cell_type": "markdown",
   "metadata": {},
   "source": [
    "### Exercise 8(a)\n",
    "\n",
    "This exercise is more challenging\n",
    "\n",
    "The root of a univariate function is $ f(\\cdot) $ is an $ x $ such that $ f(x) = 0 $\n",
    "\n",
    "One solution method to find local roots of smooth functions is called Newton’s method\n",
    "\n",
    "Starting with an $ x_0 $ guess, a function $ f(\\cdot) $ and the first-derivative $ f'(\\cdot) $, the algorithm is to repeat\n",
    "\n",
    "$$\n",
    "x^{n+1} = x^n - \\frac{f(x^n}{f'(x^n)}\n",
    "$$\n",
    "\n",
    "until $ | x^{n+1} - x^n| $ is below a tolerance\n",
    "\n",
    "1. Use a variation of the `fixedpointmap` code to implement Newton’s method, where the function would accept an `f, f_prime, x_0, tolerance, maxiter`  \n",
    "1. Test it with $ f(x) = (x-1)^3 $ and another function of your choice where you can analytically find the derivative  "
   ]
  },
  {
   "cell_type": "markdown",
   "metadata": {},
   "source": [
    "### Exercise 8(b)\n",
    "\n",
    "For those impatient to use more advanced features of Julia, implement a version where Exercise 8(a) where `f_prime` is calculated with auto-differentiation"
   ]
  },
  {
   "cell_type": "code",
   "execution_count": 33,
   "metadata": {},
   "outputs": [
    {
     "data": {
      "text/plain": [
       "(0.010000000000000002, 0.2)"
      ]
     },
     "execution_count": 33,
     "metadata": {},
     "output_type": "execute_result"
    }
   ],
   "source": [
    "using ForwardDiff\n",
    "\n",
    "# operator to get the derivative of this function using AD\n",
    "D(f) = x -> ForwardDiff.derivative(f, x)\n",
    "\n",
    "# example usage: create a function and get the derivative\n",
    "f(x) = x^2\n",
    "f_prime = D(f)\n",
    "\n",
    "f(0.1), f_prime(0.1)"
   ]
  },
  {
   "cell_type": "markdown",
   "metadata": {},
   "source": [
    "1. Using the `D(f)` operator definition above, implement a version of Newton’s method that does not require the user to provide an analytical derivative  \n",
    "1. Test the sorts of `f` functions which can be automatically integrated by `ForwardDff.jl`  "
   ]
  },
  {
   "cell_type": "markdown",
   "metadata": {},
   "source": [
    "## Solutions"
   ]
  },
  {
   "cell_type": "markdown",
   "metadata": {},
   "source": [
    "### Exercise 1"
   ]
  },
  {
   "cell_type": "code",
   "execution_count": 34,
   "metadata": {},
   "outputs": [
    {
     "data": {
      "text/plain": [
       "24"
      ]
     },
     "execution_count": 34,
     "metadata": {},
     "output_type": "execute_result"
    }
   ],
   "source": [
    "function factorial2(n)\n",
    "    k = 1\n",
    "    for i in 1:n\n",
    "        k *= i  # or k = k * i\n",
    "    end\n",
    "    return k\n",
    "end\n",
    "\n",
    "factorial2(4)"
   ]
  },
  {
   "cell_type": "code",
   "execution_count": 35,
   "metadata": {},
   "outputs": [
    {
     "data": {
      "text/plain": [
       "true"
      ]
     },
     "execution_count": 35,
     "metadata": {},
     "output_type": "execute_result"
    }
   ],
   "source": [
    "factorial2(4) == factorial(4) # built-in function"
   ]
  },
  {
   "cell_type": "markdown",
   "metadata": {},
   "source": [
    "### Exercise 2"
   ]
  },
  {
   "cell_type": "code",
   "execution_count": 36,
   "metadata": {},
   "outputs": [
    {
     "name": "stdout",
     "output_type": "stream",
     "text": [
      "8, 6, 4, 5, 6, 5, 3, 5, 6, 4, 6, 5, 5, 7, 6, 4, 4, 5, 7, 5, 5, 8, 7, 2, 3, "
     ]
    }
   ],
   "source": [
    "function binomial_rv(n, p)\n",
    "    count = 0\n",
    "    U = rand(n)\n",
    "    for i in 1:n\n",
    "        if U[i] < p\n",
    "            count += 1 # or count = count + 1\n",
    "        end\n",
    "    end\n",
    "    return count\n",
    "end\n",
    "\n",
    "for j in 1:25\n",
    "    b = binomial_rv(10, 0.5)\n",
    "    print(\"$b, \")\n",
    "end"
   ]
  },
  {
   "cell_type": "markdown",
   "metadata": {},
   "source": [
    "### Exercise 3\n",
    "\n",
    "Consider the circle of diameter 1 embedded in the unit square\n",
    "\n",
    "Let $ A $ be its area and let $ r = 1/2 $ be its radius\n",
    "\n",
    "If we know $ \\pi $ then we can compute $ A $ via\n",
    "$ A = \\pi r^2 $\n",
    "\n",
    "But here the point is to compute $ \\pi $, which we can do by\n",
    "$ \\pi = A / r^2 $\n",
    "\n",
    "Summary: If we can estimate the area of the unit circle, then dividing\n",
    "by $ r^2 = (1/2)^2 = 1/4 $ gives an estimate of $ \\pi $\n",
    "\n",
    "We estimate the area by sampling bivariate uniforms and looking at the\n",
    "fraction that fall into the unit circle"
   ]
  },
  {
   "cell_type": "code",
   "execution_count": 37,
   "metadata": {},
   "outputs": [
    {
     "name": "stdout",
     "output_type": "stream",
     "text": [
      "3.141956"
     ]
    }
   ],
   "source": [
    "n = 1000000\n",
    "count = 0\n",
    "for i in 1:n\n",
    "    u, v = rand(2)\n",
    "    d = sqrt((u - 0.5)^2 + (v - 0.5)^2)  # distance from middle of square\n",
    "    if d < 0.5\n",
    "        count += 1\n",
    "    end\n",
    "end\n",
    "\n",
    "area_estimate = count / n\n",
    "\n",
    "print(area_estimate * 4)  # dividing by radius**2"
   ]
  },
  {
   "cell_type": "markdown",
   "metadata": {},
   "source": [
    "### Exercise 4"
   ]
  },
  {
   "cell_type": "code",
   "execution_count": 38,
   "metadata": {},
   "outputs": [
    {
     "name": "stdout",
     "output_type": "stream",
     "text": [
      "Count = 0001001230\n",
      "payoff = 1\n"
     ]
    }
   ],
   "source": [
    "payoff = 0\n",
    "count = 0\n",
    "\n",
    "print(\"Count = \")\n",
    "\n",
    "for i in 1:10\n",
    "    U = rand()\n",
    "    if U < 0.5\n",
    "        count += 1\n",
    "    else\n",
    "        count = 0\n",
    "    end\n",
    "    print(count)\n",
    "    if count == 3\n",
    "        payoff = 1\n",
    "    end\n",
    "end\n",
    "println(\"\\npayoff = $payoff\")"
   ]
  },
  {
   "cell_type": "markdown",
   "metadata": {},
   "source": [
    "We can simplify this somewhat using the **ternary operator**. Here’s\n",
    "some examples"
   ]
  },
  {
   "cell_type": "code",
   "execution_count": 39,
   "metadata": {},
   "outputs": [
    {
     "data": {
      "text/plain": [
       "\"foo\""
      ]
     },
     "execution_count": 39,
     "metadata": {},
     "output_type": "execute_result"
    }
   ],
   "source": [
    "a = 1  < 2 ? \"foo\" : \"bar\""
   ]
  },
  {
   "cell_type": "code",
   "execution_count": 40,
   "metadata": {},
   "outputs": [
    {
     "data": {
      "text/plain": [
       "\"bar\""
      ]
     },
     "execution_count": 40,
     "metadata": {},
     "output_type": "execute_result"
    }
   ],
   "source": [
    "a = 1 > 2 ? \"foo\" : \"bar\""
   ]
  },
  {
   "cell_type": "markdown",
   "metadata": {},
   "source": [
    "Using this construction:"
   ]
  },
  {
   "cell_type": "code",
   "execution_count": 41,
   "metadata": {},
   "outputs": [
    {
     "name": "stdout",
     "output_type": "stream",
     "text": [
      "Count = 0101230100\n",
      "payoff = 1\n"
     ]
    }
   ],
   "source": [
    "payoff = 0.0\n",
    "count = 0.0\n",
    "\n",
    "print(\"Count = \")\n",
    "\n",
    "for i in 1:10\n",
    "    U = rand()\n",
    "    count = U < 0.5 ? count + 1 : 0\n",
    "    print(count)\n",
    "    if count == 3\n",
    "        payoff = 1\n",
    "    end\n",
    "end\n",
    "println(\"\\npayoff = $payoff\")"
   ]
  },
  {
   "cell_type": "markdown",
   "metadata": {},
   "source": [
    "### Exercise 5\n",
    "\n",
    "Here’s one solution"
   ]
  },
  {
   "cell_type": "code",
   "execution_count": 42,
   "metadata": {},
   "outputs": [
    {
     "data": {
      "image/svg+xml": [
       "<?xml version=\"1.0\" encoding=\"utf-8\"?>\n",
       "<svg xmlns=\"http://www.w3.org/2000/svg\" xmlns:xlink=\"http://www.w3.org/1999/xlink\" width=\"600\" height=\"400\" viewBox=\"0 0 2400 1600\">\n",
       "<defs>\n",
       "  <clipPath id=\"clip2900\">\n",
       "    <rect x=\"0\" y=\"0\" width=\"2000\" height=\"2000\"/>\n",
       "  </clipPath>\n",
       "</defs>\n",
       "<defs>\n",
       "  <clipPath id=\"clip2901\">\n",
       "    <rect x=\"0\" y=\"0\" width=\"2400\" height=\"1600\"/>\n",
       "  </clipPath>\n",
       "</defs>\n",
       "<polygon clip-path=\"url(#clip2901)\" points=\"\n",
       "0,1600 2400,1600 2400,0 0,0 \n",
       "  \" fill=\"#ffffff\" fill-opacity=\"1\"/>\n",
       "<defs>\n",
       "  <clipPath id=\"clip2902\">\n",
       "    <rect x=\"480\" y=\"0\" width=\"1681\" height=\"1600\"/>\n",
       "  </clipPath>\n",
       "</defs>\n",
       "<polygon clip-path=\"url(#clip2901)\" points=\"\n",
       "149.361,1503.47 2321.26,1503.47 2321.26,47.2441 149.361,47.2441 \n",
       "  \" fill=\"#ffffff\" fill-opacity=\"1\"/>\n",
       "<defs>\n",
       "  <clipPath id=\"clip2903\">\n",
       "    <rect x=\"149\" y=\"47\" width=\"2173\" height=\"1457\"/>\n",
       "  </clipPath>\n",
       "</defs>\n",
       "<polyline clip-path=\"url(#clip2903)\" style=\"stroke:#000000; stroke-width:2; stroke-opacity:0.1; fill:none\" points=\"\n",
       "  200.585,1503.47 200.585,47.2441 \n",
       "  \"/>\n",
       "<polyline clip-path=\"url(#clip2903)\" style=\"stroke:#000000; stroke-width:2; stroke-opacity:0.1; fill:none\" points=\"\n",
       "  712.825,1503.47 712.825,47.2441 \n",
       "  \"/>\n",
       "<polyline clip-path=\"url(#clip2903)\" style=\"stroke:#000000; stroke-width:2; stroke-opacity:0.1; fill:none\" points=\"\n",
       "  1225.07,1503.47 1225.07,47.2441 \n",
       "  \"/>\n",
       "<polyline clip-path=\"url(#clip2903)\" style=\"stroke:#000000; stroke-width:2; stroke-opacity:0.1; fill:none\" points=\"\n",
       "  1737.31,1503.47 1737.31,47.2441 \n",
       "  \"/>\n",
       "<polyline clip-path=\"url(#clip2903)\" style=\"stroke:#000000; stroke-width:2; stroke-opacity:0.1; fill:none\" points=\"\n",
       "  2249.55,1503.47 2249.55,47.2441 \n",
       "  \"/>\n",
       "<polyline clip-path=\"url(#clip2903)\" style=\"stroke:#000000; stroke-width:2; stroke-opacity:0.1; fill:none\" points=\"\n",
       "  149.361,1344.31 2321.26,1344.31 \n",
       "  \"/>\n",
       "<polyline clip-path=\"url(#clip2903)\" style=\"stroke:#000000; stroke-width:2; stroke-opacity:0.1; fill:none\" points=\"\n",
       "  149.361,1040.31 2321.26,1040.31 \n",
       "  \"/>\n",
       "<polyline clip-path=\"url(#clip2903)\" style=\"stroke:#000000; stroke-width:2; stroke-opacity:0.1; fill:none\" points=\"\n",
       "  149.361,736.302 2321.26,736.302 \n",
       "  \"/>\n",
       "<polyline clip-path=\"url(#clip2903)\" style=\"stroke:#000000; stroke-width:2; stroke-opacity:0.1; fill:none\" points=\"\n",
       "  149.361,432.297 2321.26,432.297 \n",
       "  \"/>\n",
       "<polyline clip-path=\"url(#clip2903)\" style=\"stroke:#000000; stroke-width:2; stroke-opacity:0.1; fill:none\" points=\"\n",
       "  149.361,128.292 2321.26,128.292 \n",
       "  \"/>\n",
       "<polyline clip-path=\"url(#clip2901)\" style=\"stroke:#000000; stroke-width:4; stroke-opacity:1; fill:none\" points=\"\n",
       "  149.361,1503.47 2321.26,1503.47 \n",
       "  \"/>\n",
       "<polyline clip-path=\"url(#clip2901)\" style=\"stroke:#000000; stroke-width:4; stroke-opacity:1; fill:none\" points=\"\n",
       "  149.361,1503.47 149.361,47.2441 \n",
       "  \"/>\n",
       "<polyline clip-path=\"url(#clip2901)\" style=\"stroke:#000000; stroke-width:4; stroke-opacity:1; fill:none\" points=\"\n",
       "  200.585,1503.47 200.585,1481.63 \n",
       "  \"/>\n",
       "<polyline clip-path=\"url(#clip2901)\" style=\"stroke:#000000; stroke-width:4; stroke-opacity:1; fill:none\" points=\"\n",
       "  712.825,1503.47 712.825,1481.63 \n",
       "  \"/>\n",
       "<polyline clip-path=\"url(#clip2901)\" style=\"stroke:#000000; stroke-width:4; stroke-opacity:1; fill:none\" points=\"\n",
       "  1225.07,1503.47 1225.07,1481.63 \n",
       "  \"/>\n",
       "<polyline clip-path=\"url(#clip2901)\" style=\"stroke:#000000; stroke-width:4; stroke-opacity:1; fill:none\" points=\"\n",
       "  1737.31,1503.47 1737.31,1481.63 \n",
       "  \"/>\n",
       "<polyline clip-path=\"url(#clip2901)\" style=\"stroke:#000000; stroke-width:4; stroke-opacity:1; fill:none\" points=\"\n",
       "  2249.55,1503.47 2249.55,1481.63 \n",
       "  \"/>\n",
       "<polyline clip-path=\"url(#clip2901)\" style=\"stroke:#000000; stroke-width:4; stroke-opacity:1; fill:none\" points=\"\n",
       "  149.361,1344.31 181.939,1344.31 \n",
       "  \"/>\n",
       "<polyline clip-path=\"url(#clip2901)\" style=\"stroke:#000000; stroke-width:4; stroke-opacity:1; fill:none\" points=\"\n",
       "  149.361,1040.31 181.939,1040.31 \n",
       "  \"/>\n",
       "<polyline clip-path=\"url(#clip2901)\" style=\"stroke:#000000; stroke-width:4; stroke-opacity:1; fill:none\" points=\"\n",
       "  149.361,736.302 181.939,736.302 \n",
       "  \"/>\n",
       "<polyline clip-path=\"url(#clip2901)\" style=\"stroke:#000000; stroke-width:4; stroke-opacity:1; fill:none\" points=\"\n",
       "  149.361,432.297 181.939,432.297 \n",
       "  \"/>\n",
       "<polyline clip-path=\"url(#clip2901)\" style=\"stroke:#000000; stroke-width:4; stroke-opacity:1; fill:none\" points=\"\n",
       "  149.361,128.292 181.939,128.292 \n",
       "  \"/>\n",
       "<g clip-path=\"url(#clip2901)\">\n",
       "<text style=\"fill:#000000; fill-opacity:1; font-family:Arial,Helvetica Neue,Helvetica,sans-serif; font-size:48; text-anchor:middle;\" transform=\"rotate(0, 200.585, 1557.47)\" x=\"200.585\" y=\"1557.47\">0</text>\n",
       "</g>\n",
       "<g clip-path=\"url(#clip2901)\">\n",
       "<text style=\"fill:#000000; fill-opacity:1; font-family:Arial,Helvetica Neue,Helvetica,sans-serif; font-size:48; text-anchor:middle;\" transform=\"rotate(0, 712.825, 1557.47)\" x=\"712.825\" y=\"1557.47\">50</text>\n",
       "</g>\n",
       "<g clip-path=\"url(#clip2901)\">\n",
       "<text style=\"fill:#000000; fill-opacity:1; font-family:Arial,Helvetica Neue,Helvetica,sans-serif; font-size:48; text-anchor:middle;\" transform=\"rotate(0, 1225.07, 1557.47)\" x=\"1225.07\" y=\"1557.47\">100</text>\n",
       "</g>\n",
       "<g clip-path=\"url(#clip2901)\">\n",
       "<text style=\"fill:#000000; fill-opacity:1; font-family:Arial,Helvetica Neue,Helvetica,sans-serif; font-size:48; text-anchor:middle;\" transform=\"rotate(0, 1737.31, 1557.47)\" x=\"1737.31\" y=\"1557.47\">150</text>\n",
       "</g>\n",
       "<g clip-path=\"url(#clip2901)\">\n",
       "<text style=\"fill:#000000; fill-opacity:1; font-family:Arial,Helvetica Neue,Helvetica,sans-serif; font-size:48; text-anchor:middle;\" transform=\"rotate(0, 2249.55, 1557.47)\" x=\"2249.55\" y=\"1557.47\">200</text>\n",
       "</g>\n",
       "<g clip-path=\"url(#clip2901)\">\n",
       "<text style=\"fill:#000000; fill-opacity:1; font-family:Arial,Helvetica Neue,Helvetica,sans-serif; font-size:48; text-anchor:end;\" transform=\"rotate(0, 125.361, 1361.81)\" x=\"125.361\" y=\"1361.81\">-4</text>\n",
       "</g>\n",
       "<g clip-path=\"url(#clip2901)\">\n",
       "<text style=\"fill:#000000; fill-opacity:1; font-family:Arial,Helvetica Neue,Helvetica,sans-serif; font-size:48; text-anchor:end;\" transform=\"rotate(0, 125.361, 1057.81)\" x=\"125.361\" y=\"1057.81\">-2</text>\n",
       "</g>\n",
       "<g clip-path=\"url(#clip2901)\">\n",
       "<text style=\"fill:#000000; fill-opacity:1; font-family:Arial,Helvetica Neue,Helvetica,sans-serif; font-size:48; text-anchor:end;\" transform=\"rotate(0, 125.361, 753.802)\" x=\"125.361\" y=\"753.802\">0</text>\n",
       "</g>\n",
       "<g clip-path=\"url(#clip2901)\">\n",
       "<text style=\"fill:#000000; fill-opacity:1; font-family:Arial,Helvetica Neue,Helvetica,sans-serif; font-size:48; text-anchor:end;\" transform=\"rotate(0, 125.361, 449.797)\" x=\"125.361\" y=\"449.797\">2</text>\n",
       "</g>\n",
       "<g clip-path=\"url(#clip2901)\">\n",
       "<text style=\"fill:#000000; fill-opacity:1; font-family:Arial,Helvetica Neue,Helvetica,sans-serif; font-size:48; text-anchor:end;\" transform=\"rotate(0, 125.361, 145.792)\" x=\"125.361\" y=\"145.792\">4</text>\n",
       "</g>\n",
       "<polyline clip-path=\"url(#clip2903)\" style=\"stroke:#009af9; stroke-width:4; stroke-opacity:1; fill:none\" points=\"\n",
       "  210.829,736.302 221.074,848.169 231.319,808.684 241.564,744.129 251.809,935.285 262.053,739.602 272.298,1022.1 282.543,1213.32 292.788,1230.59 303.033,884.472 \n",
       "  313.278,810.015 323.522,872.007 333.767,867.364 344.012,1024.78 354.257,1028.31 364.502,770.534 374.746,642.684 384.991,629.488 395.236,635.114 405.481,755.591 \n",
       "  415.726,792.375 425.97,1032.83 436.215,961.071 446.46,847.343 456.705,890.927 466.95,1034.34 477.194,1104.24 487.439,970.144 497.684,1046.14 507.929,960.965 \n",
       "  518.174,826.048 528.418,924.729 538.663,840.503 548.908,728.603 559.153,791.996 569.398,678.544 579.643,402.126 589.887,598.848 600.132,501.985 610.377,689.349 \n",
       "  620.622,652.732 630.867,828.078 641.111,717.95 651.356,719.086 661.601,364.638 671.846,383.172 682.091,360.084 692.335,186.197 702.58,364.984 712.825,172.794 \n",
       "  723.07,342.105 733.315,320.374 743.559,377.01 753.804,329.194 764.049,415.779 774.294,742.96 784.539,805.66 794.783,978.327 805.028,914.827 815.273,1015.82 \n",
       "  825.518,727.609 835.763,857.53 846.008,721.072 856.252,533.709 866.497,870.492 876.742,822.189 886.987,766.94 897.232,686.677 907.476,946.548 917.721,1155.76 \n",
       "  927.966,1140.68 938.211,1053.2 948.456,819.842 958.7,938.344 968.945,740.317 979.19,947.304 989.435,999.756 999.68,1128.62 1009.92,1010.58 1020.17,790.849 \n",
       "  1030.41,911.114 1040.66,958.697 1050.9,1080.36 1061.15,1154.35 1071.39,893.301 1081.64,670.545 1091.88,934.149 1102.13,1077.67 1112.37,804.942 1122.62,753.934 \n",
       "  1132.86,703.419 1143.11,711.871 1153.35,613.025 1163.6,687.18 1173.84,759.525 1184.09,594.45 1194.33,841.077 1204.58,1264.5 1214.82,1426.37 1225.07,1227.7 \n",
       "  1235.31,1140.5 1245.56,1097.19 1255.8,1086.41 1266.04,853.665 1276.29,952.68 1286.53,857.02 1296.78,863.785 1307.02,970.522 1317.27,997.861 1327.51,701.1 \n",
       "  1337.76,930.904 1348,884.48 1358.25,812.45 1368.49,665.017 1378.74,603.392 1388.98,655.118 1399.23,712.532 1409.47,668.747 1419.72,667.278 1429.96,872.47 \n",
       "  1440.21,624.597 1450.45,637.001 1460.7,485.849 1470.94,353.543 1481.19,508.59 1491.43,619.85 1501.68,946.817 1511.92,673.259 1522.16,821.091 1532.41,853.191 \n",
       "  1542.65,707.774 1552.9,946.034 1563.14,741.598 1573.39,588.838 1583.63,580.936 1593.88,442.99 1604.12,465.547 1614.37,318.633 1624.61,505.797 1634.86,581.86 \n",
       "  1645.1,594.607 1655.35,631.647 1665.59,464.648 1675.84,458.693 1686.08,315.959 1696.33,135.116 1706.57,142.035 1716.82,111.183 1727.06,88.4582 1737.31,349.596 \n",
       "  1747.55,560.714 1757.8,786.073 1768.04,895.311 1778.29,774.32 1788.53,1055.16 1798.77,1124.39 1809.02,1024.3 1819.26,1226.22 1829.51,1224.97 1839.75,1103.15 \n",
       "  1850,955.878 1860.24,1112.84 1870.49,763.928 1880.73,830.849 1890.98,876.423 1901.22,1000.69 1911.47,1070.05 1921.71,882.423 1931.96,1107.86 1942.2,1001.98 \n",
       "  1952.45,1060.74 1962.69,1005.25 1972.94,993.918 1983.18,1041.41 1993.43,1141.03 2003.67,1314.63 2013.92,1462.26 2024.16,1323.32 2034.41,1238.85 2044.65,1213.17 \n",
       "  2054.89,1294.16 2065.14,1202.81 2075.38,1151.47 2085.63,1087.9 2095.87,1040.07 2106.12,1095.37 2116.36,1061.76 2126.61,1037.97 2136.85,856.816 2147.1,1099.6 \n",
       "  2157.34,1036.79 2167.59,1434.2 2177.83,1085.34 2188.08,968.467 2198.32,1039.15 2208.57,1127.54 2218.81,1175.99 2229.06,1195.22 2239.3,1165.12 2249.55,600.569 \n",
       "  2259.79,612.58 \n",
       "  \"/>\n",
       "<polygon clip-path=\"url(#clip2901)\" points=\"\n",
       "1958.43,251.724 2249.26,251.724 2249.26,130.764 1958.43,130.764 \n",
       "  \" fill=\"#ffffff\" fill-opacity=\"1\"/>\n",
       "<polyline clip-path=\"url(#clip2901)\" style=\"stroke:#000000; stroke-width:4; stroke-opacity:1; fill:none\" points=\"\n",
       "  1958.43,251.724 2249.26,251.724 2249.26,130.764 1958.43,130.764 1958.43,251.724 \n",
       "  \"/>\n",
       "<polyline clip-path=\"url(#clip2901)\" style=\"stroke:#009af9; stroke-width:4; stroke-opacity:1; fill:none\" points=\"\n",
       "  1982.43,191.244 2126.43,191.244 \n",
       "  \"/>\n",
       "<g clip-path=\"url(#clip2901)\">\n",
       "<text style=\"fill:#000000; fill-opacity:1; font-family:Arial,Helvetica Neue,Helvetica,sans-serif; font-size:48; text-anchor:start;\" transform=\"rotate(0, 2150.43, 208.744)\" x=\"2150.43\" y=\"208.744\">y1</text>\n",
       "</g>\n",
       "</svg>\n"
      ]
     },
     "execution_count": 42,
     "metadata": {},
     "output_type": "execute_result"
    }
   ],
   "source": [
    "α = 0.9\n",
    "n = 200\n",
    "x = zeros(n + 1)\n",
    "\n",
    "for t in 1:n\n",
    "    x[t+1] = α * x[t] + randn()\n",
    "end\n",
    "plot(x)"
   ]
  },
  {
   "cell_type": "markdown",
   "metadata": {},
   "source": [
    "### Exercise 6"
   ]
  },
  {
   "cell_type": "code",
   "execution_count": 43,
   "metadata": {},
   "outputs": [
    {
     "data": {
      "image/svg+xml": [
       "<?xml version=\"1.0\" encoding=\"utf-8\"?>\n",
       "<svg xmlns=\"http://www.w3.org/2000/svg\" xmlns:xlink=\"http://www.w3.org/1999/xlink\" width=\"600\" height=\"400\" viewBox=\"0 0 2400 1600\">\n",
       "<defs>\n",
       "  <clipPath id=\"clip3100\">\n",
       "    <rect x=\"0\" y=\"0\" width=\"2000\" height=\"2000\"/>\n",
       "  </clipPath>\n",
       "</defs>\n",
       "<defs>\n",
       "  <clipPath id=\"clip3101\">\n",
       "    <rect x=\"0\" y=\"0\" width=\"2400\" height=\"1600\"/>\n",
       "  </clipPath>\n",
       "</defs>\n",
       "<polygon clip-path=\"url(#clip3101)\" points=\"\n",
       "0,1600 2400,1600 2400,0 0,0 \n",
       "  \" fill=\"#ffffff\" fill-opacity=\"1\"/>\n",
       "<defs>\n",
       "  <clipPath id=\"clip3102\">\n",
       "    <rect x=\"480\" y=\"0\" width=\"1681\" height=\"1600\"/>\n",
       "  </clipPath>\n",
       "</defs>\n",
       "<polygon clip-path=\"url(#clip3101)\" points=\"\n",
       "149.361,1503.47 2321.26,1503.47 2321.26,47.2441 149.361,47.2441 \n",
       "  \" fill=\"#ffffff\" fill-opacity=\"1\"/>\n",
       "<defs>\n",
       "  <clipPath id=\"clip3103\">\n",
       "    <rect x=\"149\" y=\"47\" width=\"2173\" height=\"1457\"/>\n",
       "  </clipPath>\n",
       "</defs>\n",
       "<polyline clip-path=\"url(#clip3103)\" style=\"stroke:#000000; stroke-width:2; stroke-opacity:0.1; fill:none\" points=\"\n",
       "  200.585,1503.47 200.585,47.2441 \n",
       "  \"/>\n",
       "<polyline clip-path=\"url(#clip3103)\" style=\"stroke:#000000; stroke-width:2; stroke-opacity:0.1; fill:none\" points=\"\n",
       "  712.825,1503.47 712.825,47.2441 \n",
       "  \"/>\n",
       "<polyline clip-path=\"url(#clip3103)\" style=\"stroke:#000000; stroke-width:2; stroke-opacity:0.1; fill:none\" points=\"\n",
       "  1225.07,1503.47 1225.07,47.2441 \n",
       "  \"/>\n",
       "<polyline clip-path=\"url(#clip3103)\" style=\"stroke:#000000; stroke-width:2; stroke-opacity:0.1; fill:none\" points=\"\n",
       "  1737.31,1503.47 1737.31,47.2441 \n",
       "  \"/>\n",
       "<polyline clip-path=\"url(#clip3103)\" style=\"stroke:#000000; stroke-width:2; stroke-opacity:0.1; fill:none\" points=\"\n",
       "  2249.55,1503.47 2249.55,47.2441 \n",
       "  \"/>\n",
       "<polyline clip-path=\"url(#clip3103)\" style=\"stroke:#000000; stroke-width:2; stroke-opacity:0.1; fill:none\" points=\"\n",
       "  149.361,1303.23 2321.26,1303.23 \n",
       "  \"/>\n",
       "<polyline clip-path=\"url(#clip3103)\" style=\"stroke:#000000; stroke-width:2; stroke-opacity:0.1; fill:none\" points=\"\n",
       "  149.361,1033.98 2321.26,1033.98 \n",
       "  \"/>\n",
       "<polyline clip-path=\"url(#clip3103)\" style=\"stroke:#000000; stroke-width:2; stroke-opacity:0.1; fill:none\" points=\"\n",
       "  149.361,764.734 2321.26,764.734 \n",
       "  \"/>\n",
       "<polyline clip-path=\"url(#clip3103)\" style=\"stroke:#000000; stroke-width:2; stroke-opacity:0.1; fill:none\" points=\"\n",
       "  149.361,495.485 2321.26,495.485 \n",
       "  \"/>\n",
       "<polyline clip-path=\"url(#clip3103)\" style=\"stroke:#000000; stroke-width:2; stroke-opacity:0.1; fill:none\" points=\"\n",
       "  149.361,226.237 2321.26,226.237 \n",
       "  \"/>\n",
       "<polyline clip-path=\"url(#clip3101)\" style=\"stroke:#000000; stroke-width:4; stroke-opacity:1; fill:none\" points=\"\n",
       "  149.361,1503.47 2321.26,1503.47 \n",
       "  \"/>\n",
       "<polyline clip-path=\"url(#clip3101)\" style=\"stroke:#000000; stroke-width:4; stroke-opacity:1; fill:none\" points=\"\n",
       "  149.361,1503.47 149.361,47.2441 \n",
       "  \"/>\n",
       "<polyline clip-path=\"url(#clip3101)\" style=\"stroke:#000000; stroke-width:4; stroke-opacity:1; fill:none\" points=\"\n",
       "  200.585,1503.47 200.585,1481.63 \n",
       "  \"/>\n",
       "<polyline clip-path=\"url(#clip3101)\" style=\"stroke:#000000; stroke-width:4; stroke-opacity:1; fill:none\" points=\"\n",
       "  712.825,1503.47 712.825,1481.63 \n",
       "  \"/>\n",
       "<polyline clip-path=\"url(#clip3101)\" style=\"stroke:#000000; stroke-width:4; stroke-opacity:1; fill:none\" points=\"\n",
       "  1225.07,1503.47 1225.07,1481.63 \n",
       "  \"/>\n",
       "<polyline clip-path=\"url(#clip3101)\" style=\"stroke:#000000; stroke-width:4; stroke-opacity:1; fill:none\" points=\"\n",
       "  1737.31,1503.47 1737.31,1481.63 \n",
       "  \"/>\n",
       "<polyline clip-path=\"url(#clip3101)\" style=\"stroke:#000000; stroke-width:4; stroke-opacity:1; fill:none\" points=\"\n",
       "  2249.55,1503.47 2249.55,1481.63 \n",
       "  \"/>\n",
       "<polyline clip-path=\"url(#clip3101)\" style=\"stroke:#000000; stroke-width:4; stroke-opacity:1; fill:none\" points=\"\n",
       "  149.361,1303.23 181.939,1303.23 \n",
       "  \"/>\n",
       "<polyline clip-path=\"url(#clip3101)\" style=\"stroke:#000000; stroke-width:4; stroke-opacity:1; fill:none\" points=\"\n",
       "  149.361,1033.98 181.939,1033.98 \n",
       "  \"/>\n",
       "<polyline clip-path=\"url(#clip3101)\" style=\"stroke:#000000; stroke-width:4; stroke-opacity:1; fill:none\" points=\"\n",
       "  149.361,764.734 181.939,764.734 \n",
       "  \"/>\n",
       "<polyline clip-path=\"url(#clip3101)\" style=\"stroke:#000000; stroke-width:4; stroke-opacity:1; fill:none\" points=\"\n",
       "  149.361,495.485 181.939,495.485 \n",
       "  \"/>\n",
       "<polyline clip-path=\"url(#clip3101)\" style=\"stroke:#000000; stroke-width:4; stroke-opacity:1; fill:none\" points=\"\n",
       "  149.361,226.237 181.939,226.237 \n",
       "  \"/>\n",
       "<g clip-path=\"url(#clip3101)\">\n",
       "<text style=\"fill:#000000; fill-opacity:1; font-family:Arial,Helvetica Neue,Helvetica,sans-serif; font-size:48; text-anchor:middle;\" transform=\"rotate(0, 200.585, 1557.47)\" x=\"200.585\" y=\"1557.47\">0</text>\n",
       "</g>\n",
       "<g clip-path=\"url(#clip3101)\">\n",
       "<text style=\"fill:#000000; fill-opacity:1; font-family:Arial,Helvetica Neue,Helvetica,sans-serif; font-size:48; text-anchor:middle;\" transform=\"rotate(0, 712.825, 1557.47)\" x=\"712.825\" y=\"1557.47\">50</text>\n",
       "</g>\n",
       "<g clip-path=\"url(#clip3101)\">\n",
       "<text style=\"fill:#000000; fill-opacity:1; font-family:Arial,Helvetica Neue,Helvetica,sans-serif; font-size:48; text-anchor:middle;\" transform=\"rotate(0, 1225.07, 1557.47)\" x=\"1225.07\" y=\"1557.47\">100</text>\n",
       "</g>\n",
       "<g clip-path=\"url(#clip3101)\">\n",
       "<text style=\"fill:#000000; fill-opacity:1; font-family:Arial,Helvetica Neue,Helvetica,sans-serif; font-size:48; text-anchor:middle;\" transform=\"rotate(0, 1737.31, 1557.47)\" x=\"1737.31\" y=\"1557.47\">150</text>\n",
       "</g>\n",
       "<g clip-path=\"url(#clip3101)\">\n",
       "<text style=\"fill:#000000; fill-opacity:1; font-family:Arial,Helvetica Neue,Helvetica,sans-serif; font-size:48; text-anchor:middle;\" transform=\"rotate(0, 2249.55, 1557.47)\" x=\"2249.55\" y=\"1557.47\">200</text>\n",
       "</g>\n",
       "<g clip-path=\"url(#clip3101)\">\n",
       "<text style=\"fill:#000000; fill-opacity:1; font-family:Arial,Helvetica Neue,Helvetica,sans-serif; font-size:48; text-anchor:end;\" transform=\"rotate(0, 125.361, 1320.73)\" x=\"125.361\" y=\"1320.73\">-5</text>\n",
       "</g>\n",
       "<g clip-path=\"url(#clip3101)\">\n",
       "<text style=\"fill:#000000; fill-opacity:1; font-family:Arial,Helvetica Neue,Helvetica,sans-serif; font-size:48; text-anchor:end;\" transform=\"rotate(0, 125.361, 1051.48)\" x=\"125.361\" y=\"1051.48\">0</text>\n",
       "</g>\n",
       "<g clip-path=\"url(#clip3101)\">\n",
       "<text style=\"fill:#000000; fill-opacity:1; font-family:Arial,Helvetica Neue,Helvetica,sans-serif; font-size:48; text-anchor:end;\" transform=\"rotate(0, 125.361, 782.234)\" x=\"125.361\" y=\"782.234\">5</text>\n",
       "</g>\n",
       "<g clip-path=\"url(#clip3101)\">\n",
       "<text style=\"fill:#000000; fill-opacity:1; font-family:Arial,Helvetica Neue,Helvetica,sans-serif; font-size:48; text-anchor:end;\" transform=\"rotate(0, 125.361, 512.985)\" x=\"125.361\" y=\"512.985\">10</text>\n",
       "</g>\n",
       "<g clip-path=\"url(#clip3101)\">\n",
       "<text style=\"fill:#000000; fill-opacity:1; font-family:Arial,Helvetica Neue,Helvetica,sans-serif; font-size:48; text-anchor:end;\" transform=\"rotate(0, 125.361, 243.737)\" x=\"125.361\" y=\"243.737\">15</text>\n",
       "</g>\n",
       "<polyline clip-path=\"url(#clip3103)\" style=\"stroke:#009af9; stroke-width:4; stroke-opacity:1; fill:none\" points=\"\n",
       "  210.829,1033.98 221.074,1059.84 231.319,977.75 241.564,1000.25 251.809,1061.45 262.053,981.707 272.298,883.298 282.543,961.645 292.788,967.327 303.033,1014.65 \n",
       "  313.278,983.203 323.522,991.52 333.767,936.589 344.012,1009.2 354.257,989.261 364.502,1038.72 374.746,1004.49 384.991,1030.92 395.236,1089.59 405.481,1027.27 \n",
       "  415.726,1070.58 425.97,1057.03 436.215,1067.18 446.46,1059.47 456.705,964.611 466.95,1093.47 477.194,1020.34 487.439,1112.17 497.684,1099.63 507.929,957.197 \n",
       "  518.174,1031.52 528.418,1033.1 538.663,989.086 548.908,956.411 559.153,1039.91 569.398,1134.38 579.643,1052.4 589.887,1110.96 600.132,997.566 610.377,1016.9 \n",
       "  620.622,1036.22 630.867,1043.63 641.111,965.837 651.356,1070.04 661.601,1003.33 671.846,996.417 682.091,1121.48 692.335,1049.37 702.58,1021.91 712.825,978.011 \n",
       "  723.07,1071.08 733.315,1068.47 743.559,1112.03 753.804,1117.54 764.049,1049.53 774.294,1095.43 784.539,1041.92 794.783,1058.69 805.028,1034.13 815.273,1020.9 \n",
       "  825.518,1058.39 835.763,1065.47 846.008,990.52 856.252,1060.54 866.497,1006.82 876.742,967.56 886.987,1073.35 897.232,1048.79 907.476,1110.04 917.721,1027.93 \n",
       "  927.966,1067.94 938.211,1056.63 948.456,956.928 958.7,1087.68 968.945,982.509 979.19,922.683 989.435,1011.62 999.68,1067.06 1009.92,991.866 1020.17,1059.43 \n",
       "  1030.41,1069.13 1040.66,1065.32 1050.9,1060.12 1061.15,1035.68 1071.39,965.987 1081.64,963.957 1091.88,1111.72 1102.13,1056.38 1112.37,950.967 1122.62,1045.48 \n",
       "  1132.86,992.137 1143.11,1064.17 1153.35,1053.07 1163.6,1087.33 1173.84,1004.53 1184.09,1006.9 1194.33,1078.77 1204.58,968.074 1214.82,1148.27 1225.07,1046.12 \n",
       "  1235.31,961.342 1245.56,1059.16 1255.8,1161.95 1266.04,982.873 1276.29,1044.72 1286.53,1006.63 1296.78,1068.23 1307.02,946.664 1317.27,1000.05 1327.51,1085.94 \n",
       "  1337.76,959.916 1348,1084.63 1358.25,1128.41 1368.49,1030.78 1378.74,1022.39 1388.98,1046.88 1399.23,1073.63 1409.47,1045.7 1419.72,1078.17 1429.96,1109 \n",
       "  1440.21,1069.37 1450.45,945.587 1460.7,1052.64 1470.94,990.985 1481.19,1038.72 1491.43,971.583 1501.68,926.74 1511.92,1099.64 1522.16,1095.9 1532.41,1011.26 \n",
       "  1542.65,949.225 1552.9,935.894 1563.14,995.977 1573.39,1065.19 1583.63,1076.9 1593.88,1152.47 1604.12,1028.58 1614.37,1104.2 1624.61,1050.83 1634.86,1071.01 \n",
       "  1645.1,1032.81 1655.35,1016.07 1665.59,1066.71 1675.84,1055.45 1686.08,1035.34 1696.33,1082.26 1706.57,1004.27 1716.82,1135.97 1727.06,969.784 1737.31,1053.44 \n",
       "  1747.55,1059.97 1757.8,1110.76 1768.04,963.827 1778.29,918.692 1788.53,1050.2 1798.77,959.542 1809.02,1154.72 1819.26,1031.65 1829.51,1103.36 1839.75,1019.55 \n",
       "  1850,889.013 1860.24,1069.63 1870.49,1058.33 1880.73,1005.66 1890.98,1082.82 1901.22,1088.74 1911.47,1023.21 1921.71,977.522 1931.96,1092.66 1942.2,1075.41 \n",
       "  1952.45,1054.56 1962.69,1021.4 1972.94,1044.87 1983.18,1028.22 1993.43,1082.8 2003.67,1110.81 2013.92,1003.41 2024.16,1036.13 2034.41,1012.87 2044.65,1081.22 \n",
       "  2054.89,1058.37 2065.14,966.057 2075.38,986.925 2085.63,974.531 2095.87,964.071 2106.12,1025.22 2116.36,1049.96 2126.61,993.649 2136.85,964.876 2147.1,1078.61 \n",
       "  2157.34,1090.73 2167.59,1057.81 2177.83,1088.77 2188.08,1017.3 2198.32,1056.72 2208.57,996.713 2218.81,1053.6 2229.06,1070.84 2239.3,997.59 2249.55,905.085 \n",
       "  2259.79,1061.76 \n",
       "  \"/>\n",
       "<polyline clip-path=\"url(#clip3103)\" style=\"stroke:#e26f46; stroke-width:4; stroke-opacity:1; fill:none\" points=\"\n",
       "  210.829,1033.98 221.074,947.454 231.319,1013.95 241.564,958.551 251.809,943.679 262.053,918.456 272.298,895.181 282.543,876.403 292.788,985.409 303.033,1060.3 \n",
       "  313.278,1057.86 323.522,1019.7 333.767,1144.99 344.012,1115.29 354.257,1077.64 364.502,1057.41 374.746,1093.36 384.991,1033.49 395.236,1048.99 405.481,1034.7 \n",
       "  415.726,1048.72 425.97,992.422 436.215,1026.23 446.46,985.891 456.705,1052.47 466.95,1031.4 477.194,1042.72 487.439,1047.85 497.684,1073.26 507.929,999.215 \n",
       "  518.174,1041.04 528.418,1119.11 538.663,1034.97 548.908,1134.32 559.153,1083.28 569.398,1049.95 579.643,1067.05 589.887,1008.46 600.132,1066.7 610.377,1127.28 \n",
       "  620.622,1157.67 630.867,1104.61 641.111,992.965 651.356,976.095 661.601,879.511 671.846,939.064 682.091,879.344 692.335,1025.25 702.58,1115.83 712.825,1080.7 \n",
       "  723.07,1028.48 733.315,938.543 743.559,936.273 753.804,967.371 764.049,889.75 774.294,915.782 784.539,929.261 794.783,957.897 805.028,1003.76 815.273,974.358 \n",
       "  825.518,980.53 835.763,916.471 846.008,1006.85 856.252,1055.48 866.497,1054.01 876.742,1089.81 886.987,1128.48 897.232,1068.44 907.476,1123.53 917.721,1067.29 \n",
       "  927.966,1057.92 938.211,1008.53 948.456,1015.4 958.7,1022.4 968.945,1016.91 979.19,1078.35 989.435,1072.82 999.68,1006.24 1009.92,949.595 1020.17,914.468 \n",
       "  1030.41,920.803 1040.66,972.241 1050.9,909.124 1061.15,874.917 1071.39,893.407 1081.64,1049.04 1091.88,994.605 1102.13,1004.32 1112.37,1050.3 1122.62,979.759 \n",
       "  1132.86,968.076 1143.11,1009.84 1153.35,986.962 1163.6,975.499 1173.84,983.899 1184.09,1027.89 1194.33,989.754 1204.58,972.287 1214.82,1060.8 1225.07,1102.3 \n",
       "  1235.31,1023.32 1245.56,1138.43 1255.8,1066.47 1266.04,1032.38 1276.29,959.989 1286.53,1035.17 1296.78,1024.38 1307.02,1002.58 1317.27,1045.75 1327.51,1062.36 \n",
       "  1337.76,1071.87 1348,1090.52 1358.25,978.935 1368.49,1050.3 1378.74,1001.53 1388.98,892.468 1399.23,945.588 1409.47,997.517 1419.72,962.966 1429.96,957.868 \n",
       "  1440.21,998.494 1450.45,987.4 1460.7,1008.18 1470.94,1027.99 1481.19,1039.95 1491.43,972.591 1501.68,1020.98 1511.92,1032.01 1522.16,957.1 1532.41,902.06 \n",
       "  1542.65,948.569 1552.9,991.01 1563.14,992.455 1573.39,1076.94 1583.63,1060.28 1593.88,965.195 1604.12,989.561 1614.37,1027.37 1624.61,976.934 1634.86,1051 \n",
       "  1645.1,1004.36 1655.35,1075.53 1665.59,1174.92 1675.84,1166.78 1686.08,1152.53 1696.33,1142.07 1706.57,1158.35 1716.82,1164.73 1727.06,1162.82 1737.31,1090.08 \n",
       "  1747.55,1118.69 1757.8,1071.82 1768.04,1109.4 1778.29,1074.23 1788.53,1077.4 1798.77,1093.46 1809.02,1085.42 1819.26,1104.58 1829.51,1115.49 1839.75,1132.42 \n",
       "  1850,1167.85 1860.24,1191.49 1870.49,1124.36 1880.73,1070.49 1890.98,1125.65 1901.22,1074.44 1911.47,1057.63 1921.71,1136.16 1931.96,1086.7 1942.2,1136.62 \n",
       "  1952.45,1095.16 1962.69,1042.72 1972.94,957.61 1983.18,972.835 1993.43,977.584 2003.67,930.21 2013.92,989.249 2024.16,1009.62 2034.41,911.065 2044.65,873.83 \n",
       "  2054.89,868.548 2065.14,935.333 2075.38,952.649 2085.63,881.57 2095.87,930.406 2106.12,874.401 2116.36,1038.75 2126.61,1027.42 2136.85,995.934 2147.1,942.87 \n",
       "  2157.34,915.997 2167.59,905.55 2177.83,904.098 2188.08,1009.44 2198.32,994.151 2208.57,1001.98 2218.81,1049.41 2229.06,1060.22 2239.3,1094.06 2249.55,1058.6 \n",
       "  2259.79,1117.03 \n",
       "  \"/>\n",
       "<polyline clip-path=\"url(#clip3103)\" style=\"stroke:#3da44d; stroke-width:4; stroke-opacity:1; fill:none\" points=\"\n",
       "  210.829,1033.98 221.074,1089.8 231.319,961.472 241.564,1007.42 251.809,1045.06 262.053,1023.83 272.298,1075.08 282.543,1105.8 292.788,1001.97 303.033,970.788 \n",
       "  313.278,1065.43 323.522,1100.77 333.767,1101.53 344.012,1065.88 354.257,1070.89 364.502,1029.19 374.746,1021.54 384.991,1048.72 395.236,1151.06 405.481,1140.03 \n",
       "  415.726,1181.53 425.97,1253.29 436.215,1331.15 446.46,1358.88 456.705,1435.7 466.95,1365.4 477.194,1291.49 487.439,1356.66 497.684,1424.98 507.929,1462.26 \n",
       "  518.174,1431.89 528.418,1446.81 538.663,1387.74 548.908,1430.04 559.153,1383.75 569.398,1389.22 579.643,1409.28 589.887,1369.91 600.132,1360.02 610.377,1346.5 \n",
       "  620.622,1313.82 630.867,1332.35 641.111,1380.42 651.356,1367.97 661.601,1354.67 671.846,1320.62 682.091,1294.66 692.335,1277.72 702.58,1279.96 712.825,1277.07 \n",
       "  723.07,1257.43 733.315,1296.6 743.559,1276.31 753.804,1200.52 764.049,1227.7 774.294,1141.77 784.539,1111.37 794.783,1099.46 805.028,1164.4 815.273,1180.42 \n",
       "  825.518,1208.16 835.763,1217.08 846.008,1309.3 856.252,1342.64 866.497,1332.83 876.742,1388.81 886.987,1386.27 897.232,1457.65 907.476,1418.16 917.721,1415.29 \n",
       "  927.966,1395.73 938.211,1413.99 948.456,1422.65 958.7,1390.47 968.945,1364.79 979.19,1336.97 989.435,1251.34 999.68,1190.61 1009.92,1113.88 1020.17,1121.92 \n",
       "  1030.41,1101.11 1040.66,1118.86 1050.9,1074.72 1061.15,1122.08 1071.39,1087.83 1081.64,1111.25 1091.88,1131.79 1102.13,1187.45 1112.37,1068 1122.62,1068.68 \n",
       "  1132.86,1095.3 1143.11,1077.4 1153.35,1048.13 1163.6,944.873 1173.84,928.979 1184.09,1005.45 1194.33,946.058 1204.58,874.933 1214.82,859.882 1225.07,870.855 \n",
       "  1235.31,858.96 1245.56,812.116 1255.8,812.19 1266.04,803.71 1276.29,771.295 1286.53,778.368 1296.78,770.806 1307.02,816.256 1317.27,856.811 1327.51,893.385 \n",
       "  1337.76,883.312 1348,871.488 1358.25,934.607 1368.49,876.478 1378.74,986.08 1388.98,977.899 1399.23,1030.13 1409.47,942.01 1419.72,973.209 1429.96,949.126 \n",
       "  1440.21,1022.72 1450.45,1089.59 1460.7,1099.88 1470.94,1073.24 1481.19,1070.99 1491.43,1116.42 1501.68,1056.28 1511.92,1015.32 1522.16,1010.28 1532.41,971.566 \n",
       "  1542.65,916.41 1552.9,944.735 1563.14,938.901 1573.39,1044.6 1583.63,1060.65 1593.88,1076.21 1604.12,1081.14 1614.37,1010.01 1624.61,969.07 1634.86,958.181 \n",
       "  1645.1,942.91 1655.35,918.751 1665.59,872.88 1675.84,952.509 1686.08,918.342 1696.33,960.131 1706.57,908.425 1716.82,965.777 1727.06,998.087 1737.31,956.731 \n",
       "  1747.55,999.476 1757.8,874.104 1768.04,847.027 1778.29,923.661 1788.53,863.819 1798.77,914.441 1809.02,1019.06 1819.26,955.551 1829.51,792.916 1839.75,826.745 \n",
       "  1850,767.067 1860.24,750.841 1870.49,784.797 1880.73,818.269 1890.98,816.22 1901.22,823.154 1911.47,829.123 1921.71,793.876 1931.96,776.005 1942.2,761.628 \n",
       "  1952.45,782.997 1962.69,812.29 1972.94,826.113 1983.18,768.975 1993.43,790.825 2003.67,909.818 2013.92,900.81 2024.16,803.063 2034.41,786.492 2044.65,765.252 \n",
       "  2054.89,645.781 2065.14,599.567 2075.38,511.94 2085.63,506.894 2095.87,412.539 2106.12,375.092 2116.36,372.672 2126.61,358.852 2136.85,251.319 2147.1,284.539 \n",
       "  2157.34,303.601 2167.59,331.85 2177.83,277.308 2188.08,210.192 2198.32,143.743 2208.57,88.4582 2218.81,129.978 2229.06,185.831 2239.3,153.874 2249.55,110.083 \n",
       "  2259.79,149.958 \n",
       "  \"/>\n",
       "<polygon clip-path=\"url(#clip3101)\" points=\"\n",
       "1742.98,372.684 2249.26,372.684 2249.26,130.764 1742.98,130.764 \n",
       "  \" fill=\"#ffffff\" fill-opacity=\"1\"/>\n",
       "<polyline clip-path=\"url(#clip3101)\" style=\"stroke:#000000; stroke-width:4; stroke-opacity:1; fill:none\" points=\"\n",
       "  1742.98,372.684 2249.26,372.684 2249.26,130.764 1742.98,130.764 1742.98,372.684 \n",
       "  \"/>\n",
       "<polyline clip-path=\"url(#clip3101)\" style=\"stroke:#009af9; stroke-width:4; stroke-opacity:1; fill:none\" points=\"\n",
       "  1766.98,191.244 1910.98,191.244 \n",
       "  \"/>\n",
       "<g clip-path=\"url(#clip3101)\">\n",
       "<text style=\"fill:#000000; fill-opacity:1; font-family:Arial,Helvetica Neue,Helvetica,sans-serif; font-size:48; text-anchor:start;\" transform=\"rotate(0, 1934.98, 208.744)\" x=\"1934.98\" y=\"208.744\">alpha = 0.0</text>\n",
       "</g>\n",
       "<polyline clip-path=\"url(#clip3101)\" style=\"stroke:#e26f46; stroke-width:4; stroke-opacity:1; fill:none\" points=\"\n",
       "  1766.98,251.724 1910.98,251.724 \n",
       "  \"/>\n",
       "<g clip-path=\"url(#clip3101)\">\n",
       "<text style=\"fill:#000000; fill-opacity:1; font-family:Arial,Helvetica Neue,Helvetica,sans-serif; font-size:48; text-anchor:start;\" transform=\"rotate(0, 1934.98, 269.224)\" x=\"1934.98\" y=\"269.224\">alpha = 0.8</text>\n",
       "</g>\n",
       "<polyline clip-path=\"url(#clip3101)\" style=\"stroke:#3da44d; stroke-width:4; stroke-opacity:1; fill:none\" points=\"\n",
       "  1766.98,312.204 1910.98,312.204 \n",
       "  \"/>\n",
       "<g clip-path=\"url(#clip3101)\">\n",
       "<text style=\"fill:#000000; fill-opacity:1; font-family:Arial,Helvetica Neue,Helvetica,sans-serif; font-size:48; text-anchor:start;\" transform=\"rotate(0, 1934.98, 329.704)\" x=\"1934.98\" y=\"329.704\">alpha = 0.98</text>\n",
       "</g>\n",
       "</svg>\n"
      ]
     },
     "execution_count": 43,
     "metadata": {},
     "output_type": "execute_result"
    }
   ],
   "source": [
    "αs = [0.0, 0.8, 0.98]\n",
    "n = 200\n",
    "p = plot() #Naming a plot to add to\n",
    "\n",
    "for α in αs\n",
    "    x = zeros(n + 1)\n",
    "    x[1] = 0.0\n",
    "    for t in 1:n\n",
    "        x[t+1] = α * x[t] + randn()\n",
    "    end\n",
    "    plot!(p, x, label = \"alpha = $α\") # add to plot p\n",
    "end\n",
    "p # display plot"
   ]
  },
  {
   "cell_type": "markdown",
   "metadata": {},
   "source": [
    "### Exercise 7: Hint\n",
    "\n",
    "As a hint, notice the following pattern for finding the number of draws of a uniform random number until below a given threshold"
   ]
  },
  {
   "cell_type": "code",
   "execution_count": 44,
   "metadata": {},
   "outputs": [
    {
     "data": {
      "text/plain": [
       "7"
      ]
     },
     "execution_count": 44,
     "metadata": {},
     "output_type": "execute_result"
    }
   ],
   "source": [
    "function drawsuntilthreshold(threshold; maxdraws=100)\n",
    "    for i in 1:maxdraws\n",
    "        val = rand()\n",
    "        if val < threshold # checks threshold\n",
    "            return i # leaves function, returning draw number\n",
    "        end\n",
    "    end\n",
    "    return Inf # if here, reached maxdraws\n",
    "end\n",
    "\n",
    "draws = drawsuntilthreshold(0.2, maxdraws=100)"
   ]
  },
  {
   "cell_type": "markdown",
   "metadata": {},
   "source": [
    "Additionally, it is sometimes convenient to add to just push numbers onto an array without indexing it directly"
   ]
  },
  {
   "cell_type": "code",
   "execution_count": 45,
   "metadata": {},
   "outputs": [
    {
     "name": "stdout",
     "output_type": "stream",
     "text": [
      "There were 43 below 0.5\n"
     ]
    }
   ],
   "source": [
    "vals = zeros(0) # empty vector\n",
    "\n",
    "for i in 1:100\n",
    "    val = rand()\n",
    "    if val < 0.5\n",
    "        push!(vals, val)\n",
    "    end\n",
    "end\n",
    "println(\"There were $(length(vals)) below 0.5\")"
   ]
  },
  {
   "cell_type": "code",
   "execution_count": null,
   "metadata": {},
   "outputs": [],
   "source": []
  }
 ],
 "metadata": {
  "filename": "julia_by_example.rst",
  "kernelspec": {
   "display_name": "Julia 1.0.0",
   "language": "julia",
   "name": "julia-1.0"
  },
  "language_info": {
   "file_extension": ".jl",
   "mimetype": "application/julia",
   "name": "julia",
   "version": "1.0.0"
  },
  "title": "Introductory Examples"
 },
 "nbformat": 4,
 "nbformat_minor": 2
}
