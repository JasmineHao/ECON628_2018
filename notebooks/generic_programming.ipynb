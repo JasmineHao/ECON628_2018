{
 "cells": [
  {
   "cell_type": "markdown",
   "metadata": {},
   "source": [
    "\n",
    "<a id='generic-programming'></a>\n",
    "How to read this lecture…\n",
    "\n",
    "- If using QuantEcon lectures for the first time on a computer, execute `] add InstantiateFromURL` inside of a notebook or the REPL  \n",
    "- For some notebooks, enable content with “Trust” on the command tab of Jupyter lab  \n",
    "- Code should execute sequentially if run in a Jupyter notebook  \n",
    "- Please direct feedback to [contact@quantecon.org](mailto:contact@quantecon.org\") or [discourse forum](http://discourse.quantecon.org/)  "
   ]
  },
  {
   "cell_type": "markdown",
   "metadata": {},
   "source": [
    "# Generic Programming and Design"
   ]
  },
  {
   "cell_type": "markdown",
   "metadata": {},
   "source": [
    "## Contents\n",
    "\n",
    "- [Generic Programming and Design](#Generic-Programming-and-Design)  \n",
    "  - [Overview](#Overview)  \n",
    "  - [Exploring Type Trees](#Exploring-Type-Trees)  \n",
    "  - [Number, Real, and Algebraic Structures](#Number,-Real,-and-Algebraic-Structures)  \n",
    "  - [Understanding Multiple Dispatch in Julia](#Understanding-Multiple-Dispatch-in-Julia)  "
   ]
  },
  {
   "cell_type": "markdown",
   "metadata": {},
   "source": [
    "> I find OOP methodologically wrong. It starts with classes. It is as if mathematicians would start with axioms. You do not start with axioms - you start with proofs. Only when you have found a bunch of related proofs, can you come up with axioms. You end with axioms. The same thing is true in programming: you have to start with interesting algorithms. Only when you understand them well, can you come up with an interface that will let them work. - Alexander Stepanov"
   ]
  },
  {
   "cell_type": "markdown",
   "metadata": {},
   "source": [
    "## Overview\n",
    "\n",
    "In this lecture we delve more deeply into the structure of Julia, and in particular into\n",
    "\n",
    "- abstract and concrete types  \n",
    "- the type tree  \n",
    "- designing and using generic interfaces  \n",
    "- the role of generic interfaces in Julia performance  \n",
    "\n",
    "\n",
    "Understanding them will help you\n",
    "\n",
    "- Design code that matches the “white-board” mathematics  \n",
    "- Create code that can use (and be used) by a variety of other packages  \n",
    "- Write “well organized” Julia code that’s easy to read, modify, maintain and debug  \n",
    "- Improve the speed at which your code runs  "
   ]
  },
  {
   "cell_type": "markdown",
   "metadata": {},
   "source": [
    "### Generic Programming as an Attitude\n",
    "\n",
    "From `Mathematics to Generic Programming` (Stefanov and Rose)\n",
    "\n",
    "> Generic programming is an approach to programming that focuses on designing algorithms and data structures so that they work in the most general setting without loss of efficiency.\n",
    "\n",
    "\n",
    "In that sense, it is important to think of generic programming not as a set of rules to apply about decomposing taxonomies of structure, but rather as an interactive approach in attempting to uncover generality without any performance overhead\n",
    "\n",
    "As we will see, the core approach is to treat data-structures and algorithms as loosely coupled as possible, is contradiction to the “isa” approach of object-oriented programming"
   ]
  },
  {
   "cell_type": "markdown",
   "metadata": {},
   "source": [
    "### Setup"
   ]
  },
  {
   "cell_type": "code",
   "execution_count": null,
   "metadata": {},
   "outputs": [],
   "source": [
    "using InstantiateFromURL\n",
    "activate_github(\"QuantEcon/QuantEconLecturePackages\", tag = \"v0.3.1\") # activate the QuantEcon environment\n",
    "\n",
    "using LinearAlgebra, Statistics, Compat # load common packages"
   ]
  },
  {
   "cell_type": "markdown",
   "metadata": {},
   "source": [
    "## Exploring Type Trees\n",
    "\n",
    "The connection between datastructures and the algorithms which operate on them is handled the through the type system\n",
    "\n",
    "In this sense, a concrete type (i.e. `Float64` or `Array{Float64, 2}`) is the sort of datastructure we have in mind, while the abstract types we have seen before (e.g. `Number` and `AbstractArray`) provide the mapping a particular set of data structures to a particular algorithm\n",
    "\n",
    "At the root of all types is `Any`\n",
    "\n",
    "There are a (very limited) set of operations which are available for `Any`, including a `show` function and `typeof`"
   ]
  },
  {
   "cell_type": "code",
   "execution_count": null,
   "metadata": {},
   "outputs": [],
   "source": [
    "using Distributions\n",
    "x = 1\n",
    "y = Normal()\n",
    "@show x #\n",
    "@show y\n",
    "@show typeof(x)\n",
    "@show typeof(y)\n",
    "@show supertype(typeof(x))\n",
    "@show typeof(x) |> supertype # pipe operator(|>), just applies a function to another function\n",
    "@show supertype(typeof(y));"
   ]
  },
  {
   "cell_type": "markdown",
   "metadata": {},
   "source": [
    "We will investigate some of the sub-types of `Any`\n",
    "\n",
    "Beyond the `typeof` and `supertype`, a few other useful tools for analyzing the tree of types were discussed in [this lecture](introduction_to_types)"
   ]
  },
  {
   "cell_type": "code",
   "execution_count": null,
   "metadata": {},
   "outputs": [],
   "source": [
    "using Base: show_supertypes # import the function from the `Base` package\n",
    "\n",
    "show_supertypes(Int64)"
   ]
  },
  {
   "cell_type": "code",
   "execution_count": null,
   "metadata": {},
   "outputs": [],
   "source": [
    "show_supertypes(typeof(ones(2,2))"
   ]
  },
  {
   "cell_type": "code",
   "execution_count": null,
   "metadata": {},
   "outputs": [],
   "source": [
    "show_supertypes(typeof(Normal()))"
   ]
  },
  {
   "cell_type": "code",
   "execution_count": null,
   "metadata": {},
   "outputs": [],
   "source": [
    "subtypes(Integer)"
   ]
  },
  {
   "cell_type": "markdown",
   "metadata": {},
   "source": [
    "Using the `subtypes` function, we can traverse the type tree below a particular type"
   ]
  },
  {
   "cell_type": "code",
   "execution_count": null,
   "metadata": {},
   "outputs": [],
   "source": [
    "# From https://github.com/JuliaLang/julia/issues/24741\n",
    "function subtypetree(t, level=1, indent=4)\n",
    "        if level == 1\n",
    "            println(t)\n",
    "        end\n",
    "        for s in subtypes(t)\n",
    "            println(join(fill(\" \", level * indent)) * string(s)) # print type\n",
    "            subtypetree(s, level+1, indent) #recursively print the next types, indenting\n",
    "        end\n",
    "    end"
   ]
  },
  {
   "cell_type": "markdown",
   "metadata": {},
   "source": [
    "Using this function, we can see all of the current types in memory below `Number` in the tree"
   ]
  },
  {
   "cell_type": "code",
   "execution_count": null,
   "metadata": {},
   "outputs": [],
   "source": [
    "subtypetree(Number) # warning: Don't use this function on ``Any``!"
   ]
  },
  {
   "cell_type": "markdown",
   "metadata": {},
   "source": [
    "For the most part, all of the “leaves” will be concrete types"
   ]
  },
  {
   "cell_type": "markdown",
   "metadata": {},
   "source": [
    "### Unlearning Object Oriented (OO) Programming (Advanced)\n",
    "\n",
    "(see [Types](https://docs.julialang.org/en/v1/manual/types/#man-types-1) for more on OO vs. generic types)\n",
    "\n",
    "> If you have never used programming languages such as C++, Java, Python, etc., then the type hiearchies above may seem unfamilar and abstract–but there is no need to read this section\n",
    "\n",
    "\n",
    "Otherwise, if you have used object-oriented programming (OOP) in those languages, then some of the concepts in these lecture notes will appear familiar\n",
    "\n",
    "**Don’t be fooled!**\n",
    "\n",
    "The superficial similarity can lead to misuse: types are *not* just classes with poor encapsulation, and methods are not simply the equivalent to member functions with the order of arguments swapped\n",
    "\n",
    "In particular, previous OO knowledge often leads people to write Julia code such as"
   ]
  },
  {
   "cell_type": "code",
   "execution_count": null,
   "metadata": {},
   "outputs": [],
   "source": [
    "#BAD Julia approaches\n",
    "mutable struct MyModel\n",
    "    a::Float64\n",
    "    b::Float64\n",
    "    algorithmcalculation::Float64\n",
    "\n",
    "    MyModel(a, b) = new(a, b, 0.0) # an inner constructor\n",
    "end\n",
    "\n",
    "function myalgorithm!(m::MyModel, x)\n",
    "    m.algorithmcalculation = m.a + m.b + x # some algorithm\n",
    "end\n",
    "\n",
    "function set_a!(m::MyModel, a)\n",
    "    m.a = a\n",
    "end\n",
    "\n",
    "m = MyModel(2.0, 3.0)\n",
    "x = 0.1\n",
    "set_a!(m, 4.1)\n",
    "myalgorithm!(m, x)\n",
    "@show m.algorithmcalculation;"
   ]
  },
  {
   "cell_type": "markdown",
   "metadata": {},
   "source": [
    "You may think to yourself that the code is pretty much the same as OO, except that\n",
    "* reverse the first argument, i.e. `myalgorithm!(m, x)` instead of the object-oriented `m.myalgorithm!(x)`\n",
    "* cannot control encapsulation of the fields `a, b`, but you can add getter/setters like `set_a`\n",
    "* do not have concrete inheritance\n",
    "\n",
    "While this sort of programming is possible, it is (verbosely) missing the point of Julia and the power of generic programming\n",
    "\n",
    "It may be helpful to review the traditional pillars of OOP\n",
    "* *`Abstraction <https://en.wikipedia.org/wiki/Abstraction_(computer_science)#Abstraction_in_object_oriented_programming>`_:* In OO one develops a taxonomy of hierarchical “is-a” relationships as “classes”, where the key abstraction involves describing interactions between the self-contained “classes”\n",
    "* *`Encapsulation <https://en.wikipedia.org/wiki/Encapsulation_(computer_programming)>`_:* Most OO code has fully mutable classes, where access to the internals is tightly controlled since the class manages its own state\n",
    "* *`Inheritance <https://en.wikipedia.org/wiki/Inheritance_(object-oriented_programming)>`_* Code reuse in OO is achieved through adding a new class to the tree and inheriting some of the behavior of the parent class.\n",
    "* *`Polymorphism <https://en.wikipedia.org/wiki/Polymorphism_(computer_science)>`_:*  The abstract isa relationships between types in a taxonomy provide a way to have the same function change its behavior given the particular type\n",
    "\n",
    "With Julia\n",
    "* You will realize you will do no “encapsulation” or “inheritance”, and polymorphism will be fundamentally different\n",
    "* Abstraction is primarily achieved through keeping the data and algorithms that operate on them as orthogonal as possible–in contrast to OOP\n",
    "* The supertypes in Julia are simply used for selecting which specialized algorithm to use (i.e. part of generic polymorphism, but nothing to do with inheritance)"
   ]
  },
  {
   "cell_type": "markdown",
   "metadata": {},
   "source": [
    "#### Iterative Design of Abstractions\n",
    "\n",
    "As its essence, the design of generic software is that you will start with creating algorithms which are largely orthogonal to concrete types, and in the process you will discover commonality which leads to abstract types\n",
    "\n",
    "This design is in direct contrast to object-oriented design and analysis ([OOAD](https://en.wikipedia.org/wiki/Object-oriented_analysis_and_design)), where you start by specifying a taxonomies of types, add operations to those types, and then move down to various levels of specialization (where algorithms are embedded at points within the taxonomy, and potentially specialized with inheritance)\n",
    "\n",
    "In the examples that follow, we will show for exposition the hierarchy of types and the algorithms operating on them, but the reality is that the algorithms are often designed first, and the types came later\n",
    ".. However,  we apologize in the example we confuse things somewhat by jumping to the axioms first for expositoin"
   ]
  },
  {
   "cell_type": "markdown",
   "metadata": {},
   "source": [
    "### Distributions\n",
    "\n",
    "First, lets consider working with “distributions”\n",
    "\n",
    "If we consider mathematical “distributions” that we will use in our algorithms, they may include (1) drawing random numbers for Monte-carlo methods; (2) using the pdf or cdf in various calculations\n",
    "\n",
    "In that sense, some code may be useful in distributions where a `pdf` is not necessarily defined or meaningful\n",
    "\n",
    "The process of using concrete distributions in these sorts of applications led to the creation of the `Distributions.jl` package\n",
    "\n",
    "Lets examine the tree of types for a `Normal` distribution"
   ]
  },
  {
   "cell_type": "code",
   "execution_count": null,
   "metadata": {},
   "outputs": [],
   "source": [
    "using Distributions\n",
    "d1 = Normal(1.0, 2.0) # an example type to explore\n",
    "@show d1\n",
    "show_supertypes(d1)"
   ]
  },
  {
   "cell_type": "markdown",
   "metadata": {},
   "source": [
    "The `Sampleable{Univariate,Continuous}` type has a limited number of functions, chiefly the ability to draw a random number"
   ]
  },
  {
   "cell_type": "code",
   "execution_count": null,
   "metadata": {},
   "outputs": [],
   "source": [
    "@show rand(d1);"
   ]
  },
  {
   "cell_type": "markdown",
   "metadata": {},
   "source": [
    "The purpose of that abstract type is to provide an interface for drawing from a variety of distributions, some of which may not have a well-defined predefined pdfs\n",
    "\n",
    "If you were writing a function to simulate a stochastic process with an arbitrary iid shocks, where you did not need to assume an existing of a `pdf` etc., this is a natural candidate\n",
    "\n",
    "For example, to simulate $ x_{t+1} = a x_t + b \\epsilon_{t+1} $ where $ \\epsilon \\sim D $ for some $ D $ which allows drawing random values"
   ]
  },
  {
   "cell_type": "code",
   "execution_count": null,
   "metadata": {},
   "outputs": [],
   "source": [
    "function simulateprocess(x₀; a = 1.0, b = 1.0, N = 5, d::Sampleable{Univariate,Continuous})\n",
    "    x = zeros(typeof(x₀), N+1) # preallocate vector, careful on the type\n",
    "    x[1] = x₀\n",
    "    for t in 2:N+1\n",
    "        x[t] = a * x[t-1] + b * rand(d) # draw\n",
    "    end\n",
    "    return x\n",
    "end\n",
    "@show simulateprocess(0.0, d=Normal(0.2, 2.0));"
   ]
  },
  {
   "cell_type": "markdown",
   "metadata": {},
   "source": [
    "The `Sampleable{Univariate,Continuous}` and, especially, the `Sampleable{Multivariate,Continuous}` abstract types are useful generic interfaces for monte-carlo and Bayesian methods, in particular, where you can often draw from a distribution, but can do little else\n",
    "\n",
    "Moving down the tree, the `Distributions{Univariate, Continuous}` abstract type has certain functions we would expect to operate with it\n",
    "\n",
    "These match the mathematics, such as `pdf, cdf, quantile, support, minimum, maximum` and a few others"
   ]
  },
  {
   "cell_type": "code",
   "execution_count": null,
   "metadata": {},
   "outputs": [],
   "source": [
    "d1 = Normal(1.0, 2.0)\n",
    "d2 = Exponential(0.1)\n",
    "@show d1\n",
    "@show d2\n",
    "@show supertype(typeof(d1))\n",
    "@show supertype(typeof(d2))\n",
    "\n",
    "@show pdf(d1, 0.1)\n",
    "@show pdf(d2, 0.1)\n",
    "@show cdf(d1, 0.1)\n",
    "@show cdf(d2, 0.1)\n",
    "@show support(d1)\n",
    "@show support(d2)\n",
    "@show minimum(d1)\n",
    "@show minimum(d2)\n",
    "@show maximum(d1)\n",
    "@show maximum(d2);"
   ]
  },
  {
   "cell_type": "markdown",
   "metadata": {},
   "source": [
    "You could create your own `Distributions{Univariate, Continuous}` type, if you implemented all of those functions, as is described in [the documentation](https://juliastats.github.io/Distributions.jl/latest/extends.html)\n",
    "\n",
    "If you fulfill all of the conditions of a particular interface, you (or anyone else) could use code written for the abstract `Distributions{Univariate, Continuous}` type without any modifications\n",
    "\n",
    "As an example, consider the [StatPlots](https://github.com/JuliaPlots/StatPlots.jl) package"
   ]
  },
  {
   "cell_type": "code",
   "execution_count": null,
   "metadata": {},
   "outputs": [],
   "source": [
    "using StatPlots\n",
    "d = Normal(2.0, 1.0)\n",
    "plot(d) # note no other arguments!"
   ]
  },
  {
   "cell_type": "markdown",
   "metadata": {},
   "source": [
    "The `plot` function when applied to anything which is a subtype of `Distributions{Univariate, Continuous}`, will display the `pdf` using the `minimum` and `maximum` applied to the value\n",
    "\n",
    "To demonstrate this, lets create our own distribution type"
   ]
  },
  {
   "cell_type": "code",
   "execution_count": null,
   "metadata": {},
   "outputs": [],
   "source": [
    "struct OurTruncatedExponential <: Distribution{Univariate,Continuous}\n",
    "    α::Float64\n",
    "    xmax::Float64\n",
    "end\n",
    "Distributions.pdf(d::OurTruncatedExponential, x) = d.α *exp(-d.α * x)/exp(-d.α * d.xmax)\n",
    "Distributions.minimum(d::OurTruncatedExponential) = 0\n",
    "Distributions.maximum(d::OurTruncatedExponential) = d.xmax\n",
    "# ... should do all of them, but this was enough"
   ]
  },
  {
   "cell_type": "markdown",
   "metadata": {},
   "source": [
    "To demonstrate this"
   ]
  },
  {
   "cell_type": "code",
   "execution_count": null,
   "metadata": {},
   "outputs": [],
   "source": [
    "d = OurTruncatedExponential(1.0,2.0)\n",
    "@show minimum(d), maximum(d)\n",
    "@show support(d) # why does this work?"
   ]
  },
  {
   "cell_type": "markdown",
   "metadata": {},
   "source": [
    "Curiously, you will note that the `support` function is operational, even though we did not provide one\n",
    "\n",
    "This is another example of the power of multiple dispatch and generic programming\n",
    "\n",
    "In the background, the `Distributions.jl` package  has something like the following implemented"
   ]
  },
  {
   "cell_type": "markdown",
   "metadata": {},
   "source": [
    "```julia\n",
    "    Distributions.support(d::Distribution) = RealInterval(minimum(d), maximum(d))\n",
    "```\n"
   ]
  },
  {
   "cell_type": "markdown",
   "metadata": {},
   "source": [
    "Hence, since `OurTruncatedExponential <: Distribution`, and we implemented `minimum` and `maximum`, calls to `support` gets this implementation\n",
    "\n",
    "Of course, while we should implement more of the func\n",
    "\n",
    "That turns out to be enough for us to use the `StatPlots` package\n",
    "\n",
    "> plot(d) # uses the generic code!\n",
    "\n",
    "\n",
    "A few things to point out\n",
    "\n",
    "- Even if it worked for `StatPlots`, our implementation is incomplete, as we haven’t fulfilled all of the requirements of a `Distribution`  \n",
    "- We also did not implement the `rand` function, which means we are breaking the implicit contract of the `Sampleable` abstract type  \n",
    "- It turns out that there is a better way to to this precise thing already built into `Distributions`  "
   ]
  },
  {
   "cell_type": "code",
   "execution_count": null,
   "metadata": {},
   "outputs": [],
   "source": [
    "d = Truncated(Exponential(0.1), 0.0, 2.0)\n",
    "@show typeof(d)\n",
    "plot(d)"
   ]
  },
  {
   "cell_type": "markdown",
   "metadata": {},
   "source": [
    "Crucially, the `StatPlots.jl`, `Distributions.jl`, and our code are **separate**, so this is a composition of different packages that have simply agreed on a set of appropriate functions and abstract types\n",
    "\n",
    "This is the power of generic programming in general, and Julia in particular: you can combine and compose completely separate packages and code, as long as there is an agreement on abstract types and functions"
   ]
  },
  {
   "cell_type": "markdown",
   "metadata": {},
   "source": [
    "## Number, Real, and Algebraic Structures\n",
    "\n",
    "(Special thank you to Jeffrey Sarnoff)\n",
    "\n",
    "In mathematics, a [Ring](https://en.wikipedia.org/wiki/Ring_(mathematics)) is a set with two binary operators ($ + $ and $ \\cdot $, called the additive and multiplicative operators) where there is an\n",
    "* additive operator is associative and commutative\n",
    "* multiplicative operator is associative and and distributive with respect to the additive operator\n",
    "* additive identity element, usually denoted `0` such that $ a + 0 = a $ for any $ a $ in the set\n",
    "* additive inverse of each element, i.e. $ -a $ such that $ a + (-a) = 0 $\n",
    "* multiplicative identity element, usually denoted `1` such that $ a \\cdot 1 = a $\n",
    "\n",
    "This is skipping over a few other key parts of the definition, but it is also useful to say what is not needed\n",
    "* A total or partial ordering is not required (i.e. there does not need to be any meaningful `<` operator defined)\n",
    "* A multiplicative inverse is not required\n",
    "\n",
    "This algebraic structure provides motivation for the abstract `Number` type in Julia\n",
    "**Remark** We use motivation here because they are not formally connected and the mapping is imperfect\n",
    "* The main difficulty when dealing with numbers that can be concretely created on a computer is that the closure requirements are difficult to ensure (e.g. floating points have finite numbers of bits of information)\n",
    "\n",
    "Let `typeof(a) = typeof(b) = T <: Number`, then under an implicit definition of the **generic interfac** for `Number` the following must be defined\n",
    "* the additive operator: `a + b`\n",
    "* the multiplicative operator: `a * b`\n",
    "* an additive inverse operator: `-a`\n",
    "* an inverse operation for addition `a - b = a + (-b)`\n",
    "* an additive identity: `zero(T)` or `zero(a)` for convenience\n",
    "* a multiplicative identity: `one(T)` or `one(a)` for convenience\n",
    "\n",
    "The core of generic programming is that, given the knowledge that a value is of type `Number`, we can write to that generic interface\n",
    "\n",
    "To demonstrate these for a complex number or a big integer (i.e., two types other than the standard `Float64` `Int64` you may associate with numbers)"
   ]
  },
  {
   "cell_type": "code",
   "execution_count": null,
   "metadata": {},
   "outputs": [],
   "source": [
    "a = 1.0 + 1.0im\n",
    "b = 0.0 + 2.0im\n",
    "@show typeof(a)\n",
    "@show typeof(a) <: Number\n",
    "@show a + b\n",
    "@show a * b\n",
    "@show -a\n",
    "@show a - b\n",
    "@show zero(a)\n",
    "@show one(a);"
   ]
  },
  {
   "cell_type": "code",
   "execution_count": null,
   "metadata": {},
   "outputs": [],
   "source": [
    "a = BigInt(10)\n",
    "b = BigInt(4)\n",
    "@show typeof(a)\n",
    "@show typeof(a) <: Number\n",
    "@show a + b\n",
    "@show a * b\n",
    "@show -a\n",
    "@show a - b\n",
    "@show zero(a)\n",
    "@show one(a);"
   ]
  },
  {
   "cell_type": "markdown",
   "metadata": {},
   "source": [
    "Thinking back to the mathematical motivation, a [Field](https://en.wikipedia.org/wiki/Field_(mathematics)) is an Ring with a few additional properties, among them\n",
    "* a multiplicative inverse: $ a^{-1} $\n",
    "* an inverse operation for multiplication: $ a / b = a \\cdot b^{-1} $\n",
    "* a (not strictly required) total ordering operation: $ a < b $\n",
    "\n",
    "where the  [total ordering](https://en.wikipedia.org/wiki/Total_order#Strict_total_order)  operation would fulfill the requirements for a Totally Ordered Field\n",
    "\n",
    "This type gives some motivation for the operations and properties of the `Real` type\n",
    "\n",
    "Of course, `Complex{Float64} <: Number` but not `Real`, which makes sense since those operations are not defined for the basic Complex number type in mathematics\n",
    "\n",
    "These operations are implemented in any subtype of `Real` through\n",
    "* the multiplicative inverse: `inv(a)`\n",
    "* the multiplicative inverse operation: `a / b = a * inv(b)`\n",
    "* an ordering `a < b`\n",
    "\n",
    "To demonstrate with the `Rational` type"
   ]
  },
  {
   "cell_type": "code",
   "execution_count": null,
   "metadata": {},
   "outputs": [],
   "source": [
    "a = 1 // 10\n",
    "b = 4 // 6\n",
    "@show typeof(a)\n",
    "@show typeof(a) <: Number\n",
    "@show typeof(a) <: Real\n",
    "@show inv(a)\n",
    "@show a / b\n",
    "@show a < b;"
   ]
  },
  {
   "cell_type": "markdown",
   "metadata": {},
   "source": [
    "**Remark** Here we see where and how the precise connection to the mathematics for number types breaks down for practical reasons, in particular\n",
    "* `Integer` types (i.e. `Int64 <: Integer`) do not have a a multiplicative inverse with closure in the set\n",
    "* However, it is necessary in practice for integer division to be defined, and return back a member of the `Reals`\n",
    "* This is called [type promotion](https://docs.julialang.org/en/v1/manual/conversion-and-promotion/#Promotion-1), where a type can be converted to another to ensure an operation is possible by direct conversion between types (i.e. it can be independent of the type hierarchy)\n",
    "\n",
    "We should not think of the breaks in the connection between the underlying algebraic structures and the code as a failure of the language or design, but rather that the underlying algorithms for use on a computer do not perfectly fit the algebraic structures\n",
    "\n",
    "Moving further down the tree of types provides more operations, which start to become more tied to the computational implementation than the mathematics\n",
    "\n",
    "For example, floating point numbers all have a machine precision below which there is no way to further differentiate numbers"
   ]
  },
  {
   "cell_type": "code",
   "execution_count": null,
   "metadata": {},
   "outputs": [],
   "source": [
    "@show Float64 <: AbstractFloat\n",
    "@show BigFloat <: AbstractFloat\n",
    "@show eps(Float64)\n",
    "@show eps(BigFloat);"
   ]
  },
  {
   "cell_type": "markdown",
   "metadata": {},
   "source": [
    "### Example: `isless`\n",
    "\n",
    "The `isless` function also has multiple methods\n",
    "\n",
    "First let’s try with integers"
   ]
  },
  {
   "cell_type": "code",
   "execution_count": null,
   "metadata": {},
   "outputs": [],
   "source": [
    "@which isless(1, 2)"
   ]
  },
  {
   "cell_type": "markdown",
   "metadata": {},
   "source": [
    "As we saw previously, the Real data type is an *abstract* type, and encompasses both floats and integers\n",
    "\n",
    "If we go to the provided link in the source, we see the entirety of the function is"
   ]
  },
  {
   "cell_type": "markdown",
   "metadata": {},
   "source": [
    "```julia\n",
    "isless(x::Real, y::Real) = x<y\n",
    "```\n"
   ]
  },
  {
   "cell_type": "markdown",
   "metadata": {},
   "source": [
    "That is, for any values where `typeof(x) <: Real` and `typeof(y) <: Real`, the definition relies on `<`\n",
    "\n",
    "We know that `<` is defined for the types because it is part of the informal interface for the `Real` abstract type\n",
    "\n",
    "Note that this is not defined for `Number` because not all `Number` types have the `<` operator defined (e.g. `Complex`)\n",
    "\n",
    "Of course, in order to generate fast code,"
   ]
  },
  {
   "cell_type": "code",
   "execution_count": null,
   "metadata": {},
   "outputs": [],
   "source": [
    "isless(1.0, 2.0)  # Applied to two floats"
   ]
  },
  {
   "cell_type": "code",
   "execution_count": null,
   "metadata": {},
   "outputs": [],
   "source": [
    "@which isless(1.0, 2.0)"
   ]
  },
  {
   "cell_type": "markdown",
   "metadata": {},
   "source": [
    "Note that the reason  `Float64 <: Real`"
   ]
  },
  {
   "cell_type": "markdown",
   "metadata": {},
   "source": [
    "### Functions, and Function-Like Types\n",
    "\n",
    "Syntactically, we should consider a univariate “function” any `f` that can call an argument `x` as `f(x)` for a general `x` and `f[x]` where `x <: Integer`\n",
    "\n",
    "This is a powerful tool in generic computing, and we have used it throughout\n",
    "\n",
    "For example, we can use a standard function"
   ]
  },
  {
   "cell_type": "code",
   "execution_count": null,
   "metadata": {},
   "outputs": [],
   "source": [
    "using QuadGK\n",
    "const integrate = quadgk # example of setting an alias\n",
    "f(x) = x^2\n",
    "@show integrate(f, 0.0, 1.0) #integral\n",
    "\n",
    "function plotfunctions(f)\n",
    "    intf(x) = integrate(f, 0.0, x)[1] #int_0^x f(x) dx\n",
    "\n",
    "    x = 0:0.1:1.0\n",
    "    f_x = f.(x)\n",
    "    plot(x, f_x, label=\"f\")\n",
    "    plot!(x, intf.(x), label=\"intf\")\n",
    "end\n",
    "plotfunctions(f) # call with our f"
   ]
  },
  {
   "cell_type": "markdown",
   "metadata": {},
   "source": [
    "Of course, polynomials are also functions in every important sense"
   ]
  },
  {
   "cell_type": "code",
   "execution_count": null,
   "metadata": {},
   "outputs": [],
   "source": [
    "using Polynomials\n",
    "p = Poly([2, -5, 2], :x) # :x just gives a symbol for display\n",
    "@show p(1.0) # call like a function\n",
    "\n",
    "plotfunctions(p) # same generic function"
   ]
  },
  {
   "cell_type": "markdown",
   "metadata": {},
   "source": [
    "Or Interpolations"
   ]
  },
  {
   "cell_type": "code",
   "execution_count": null,
   "metadata": {},
   "outputs": [],
   "source": [
    "using Interpolations\n",
    "x = 0.0:0.2:1.0\n",
    "f(x) = x^2\n",
    "f_int = LinearInterpolation(x, f.(x)) # interpolating those points\n",
    "@show f_int(1.0) # call like a function\n",
    "\n",
    "plotfunctions(f_int) # same generic function"
   ]
  },
  {
   "cell_type": "markdown",
   "metadata": {},
   "source": [
    "Note that the same generic `plotfunctions` could use any variable passed to it that “looks” like a function, i.e. can call `f(x)`\n",
    "\n",
    "This sort of typing and design–generic but without any declarations–is usually called [duck typing](https://en.wikipedia.org/wiki/Duck_typing)\n",
    "\n",
    "If you need to make an existing type callable, see [Function Like Objects](https://docs.julialang.org/en/v1/manual/methods/#Function-like-objects-1)"
   ]
  },
  {
   "cell_type": "markdown",
   "metadata": {},
   "source": [
    "### Limitations of these Structures in Julia\n",
    "\n",
    "You will notice that types in Julia represent a tree with `Any` at the root\n",
    "\n",
    "The tree structure has worked well for the above examples, but it doesn’t allow us to associate multiple categorizations of types\n",
    "\n",
    "For example, a semi-group type would be very useful for a writing generic code (e.g. continuous-time solutions for ODEs and matrix-free methods) but cannot be implemented rigorously since the `Matrix` type is a semi-group, but it is also an `AbstractArray`\n",
    "\n",
    "The main way to implement this in a generic language is with a feature called traits\n",
    "\n",
    "See the [original discussion](https://github.com/JuliaLang/julia/issues/2345#issuecomment-54537633) and an [example of a package to facilitate the pattern](https://github.com/mauro3/SimpleTraits.jl)\n",
    "\n",
    "A complete description of the Traits patterns as the natural evolution of Multiple Dispatch is given in this [blog post](https://white.ucc.asn.au/2018/10/03/Dispatch,-Traits-and-Metaprogramming-Over-Reflection.html)"
   ]
  },
  {
   "cell_type": "markdown",
   "metadata": {},
   "source": [
    "## Understanding Multiple Dispatch in Julia\n",
    "\n",
    "This section provides more background on how methods, functions, and types are connected"
   ]
  },
  {
   "cell_type": "markdown",
   "metadata": {},
   "source": [
    "### Methods and Functions\n",
    "\n",
    "The precise data type is important, for reasons of both efficiency and mathematical correctness\n",
    "\n",
    "For example consider 1 + 1 vs. 1.0 + 1.0 or [1 0] + [0 1]\n",
    "\n",
    "On a CPU, integer and floating point addition are different things, using a different set of instructions\n",
    "\n",
    "Julia handles this problem by storing multiple, specialized versions of functions like addition, one for each data type or set of data types\n",
    "\n",
    "These individual specialized versions are called **methods**\n",
    "\n",
    "When an operation like addition is requested, the Julia compiler inspects the type of data to be acted on and hands it out to the appropriate method\n",
    "\n",
    "This process is called **multiple dispatch**\n",
    "\n",
    "Like all “infix” operators, 1 + 1 has the alternative syntax +(1, 1)"
   ]
  },
  {
   "cell_type": "code",
   "execution_count": null,
   "metadata": {},
   "outputs": [],
   "source": [
    "+(1, 1)"
   ]
  },
  {
   "cell_type": "markdown",
   "metadata": {},
   "source": [
    "This operator + is itself a function with multiple methods\n",
    "\n",
    "We can investigate them using the @which macro, which shows the method to which a given call is dispatched"
   ]
  },
  {
   "cell_type": "code",
   "execution_count": null,
   "metadata": {},
   "outputs": [],
   "source": [
    "x, y = 1.0, 1.0\n",
    "@which +(x, y)"
   ]
  },
  {
   "cell_type": "markdown",
   "metadata": {},
   "source": [
    "We see that the operation is sent to the `+` method that specializes in adding\n",
    "floating point numbers\n",
    "\n",
    "Here’s the integer case"
   ]
  },
  {
   "cell_type": "code",
   "execution_count": null,
   "metadata": {},
   "outputs": [],
   "source": [
    "x, y = 1, 1\n",
    "@which +(x, y)"
   ]
  },
  {
   "cell_type": "markdown",
   "metadata": {},
   "source": [
    "This output says that the call has been dispatched to the + method\n",
    "responsible for handling integer values\n",
    "\n",
    "(We’ll learn more about the details of this syntax below)\n",
    "\n",
    "Here’s another example, with complex numbers"
   ]
  },
  {
   "cell_type": "code",
   "execution_count": null,
   "metadata": {},
   "outputs": [],
   "source": [
    "x, y = 1.0 + 1.0im, 1.0 + 1.0im\n",
    "@which +(x, y)"
   ]
  },
  {
   "cell_type": "markdown",
   "metadata": {},
   "source": [
    "Again, the call has been dispatched to a + method specifically designed for handling the given data type"
   ]
  },
  {
   "cell_type": "markdown",
   "metadata": {},
   "source": [
    "#### Adding Methods\n",
    "\n",
    "It’s straightforward to add methods to existing functions\n",
    "\n",
    "For example, we can’t at present add an integer and a string in Julia (i.e. `100 + \"100\"` is not valid syntax)\n",
    "\n",
    "This is sensible behavior, but if you want to change it there’s nothing to stop you:"
   ]
  },
  {
   "cell_type": "code",
   "execution_count": null,
   "metadata": {},
   "outputs": [],
   "source": [
    "import Base: +  #  Gives access to + so that we can add a method\n",
    "\n",
    "+(x::Integer, y::String) = x + parse(Int, y)\n",
    "\n",
    "@show +(100, \"100\")\n",
    "@show 100 + \"100\"; #equivalent"
   ]
  },
  {
   "cell_type": "markdown",
   "metadata": {},
   "source": [
    "### Understanding the Compilation Process\n",
    "\n",
    "We can now be a little bit clearer about what happens when you call a function on given types\n",
    "\n",
    "Suppose we execute the function call `f(a, b)` where `a` and `b`\n",
    "are of concrete types `S` and `T` respectively\n",
    "\n",
    "The Julia interpreter first queries the types of `a` and `b` to obtain the tuple `(S, T)`\n",
    "\n",
    "It then parses the list of methods belonging to `f`, searching for a match\n",
    "\n",
    "If it finds a method matching `(S, T)` it calls that method\n",
    "\n",
    "If not, it looks to see whether the pair `(S, T)` matches any method defined for *immediate parent types*\n",
    "\n",
    "For example, if `S` is `Float64` and `T` is `ComplexF32` then the\n",
    "immediate parents are `AbstractFloat` and `Number` respectively"
   ]
  },
  {
   "cell_type": "code",
   "execution_count": null,
   "metadata": {},
   "outputs": [],
   "source": [
    "supertype(Float64)"
   ]
  },
  {
   "cell_type": "code",
   "execution_count": null,
   "metadata": {},
   "outputs": [],
   "source": [
    "supertype(ComplexF32)"
   ]
  },
  {
   "cell_type": "markdown",
   "metadata": {},
   "source": [
    "Hence the interpreter looks next for a method of the form `f(x::AbstractFloat, y::Number)`\n",
    "\n",
    "If the interpreter can’t find a match in immediate parents (supertypes) it proceeds up the tree, looking at the parents of the last type it checked at each iteration\n",
    "\n",
    "- If it eventually finds a matching method it invokes that method  \n",
    "- If not, we get an error  \n",
    "\n",
    "\n",
    "This is the process that leads to the following error"
   ]
  },
  {
   "cell_type": "code",
   "execution_count": null,
   "metadata": {},
   "outputs": [],
   "source": [
    "+(100, \"100\")"
   ]
  },
  {
   "cell_type": "markdown",
   "metadata": {},
   "source": [
    "Because the dispatch procedure starts from concrete types and works upwards, dispatch always invokes the *most specific method* available\n",
    "\n",
    "For example, if you have methods for function `f` that handle\n",
    "\n",
    "1. `(Float64, Int64)` pairs  \n",
    "1. `(Number, Number)` pairs  \n",
    "\n",
    "\n",
    "and you call `f` with `f(0.5, 1)` then the first method will be invoked\n",
    "\n",
    "This makes sense because (hopefully) the first method is optimized for\n",
    "exactly this kind of data\n",
    "\n",
    "The second method is probably more of a “catch all” method that handles other\n",
    "data in a less optimal way\n",
    "\n",
    "Here’s another simple example, involving a user-defined function"
   ]
  },
  {
   "cell_type": "code",
   "execution_count": null,
   "metadata": {},
   "outputs": [],
   "source": [
    "function f(x)\n",
    "    println(\"Generic function invoked\")\n",
    "end\n",
    "\n",
    "function f(x::Number)\n",
    "    println(\"Number method invoked\")\n",
    "end\n",
    "\n",
    "function f(x::Integer)\n",
    "    println(\"Integer method invoked\")\n",
    "end"
   ]
  },
  {
   "cell_type": "markdown",
   "metadata": {},
   "source": [
    "Let’s now run this and see how it relates to our discussion of method dispatch\n",
    "above"
   ]
  },
  {
   "cell_type": "code",
   "execution_count": null,
   "metadata": {},
   "outputs": [],
   "source": [
    "f(3)"
   ]
  },
  {
   "cell_type": "code",
   "execution_count": null,
   "metadata": {},
   "outputs": [],
   "source": [
    "f(3.0)"
   ]
  },
  {
   "cell_type": "code",
   "execution_count": null,
   "metadata": {},
   "outputs": [],
   "source": [
    "f(\"foo\")"
   ]
  },
  {
   "cell_type": "markdown",
   "metadata": {},
   "source": [
    "Since\n",
    "\n",
    "- `3` is an `Int64` and `Int64 <: Integer <: Number`  \n",
    "\n",
    "\n",
    "the call `f(3)` proceeds up the tree to `Integer` and invokes `f(x::Integer)`\n",
    "\n",
    "On the other hand, `3.0` is a `Float64`, which is not a subtype of  `Integer`\n",
    "\n",
    "Hence the call `f(3.0)` continues up to `f(x::Number)`\n",
    "\n",
    "Finally, `f(\"foo\")` is handled by the generic function, since `String` is not a subtype of `Number`"
   ]
  },
  {
   "cell_type": "markdown",
   "metadata": {},
   "source": [
    "### Analyzing Function Return Types\n",
    "\n",
    "For the most part, time spent “optimizing” julia code to run faster is able ensuring the compiler can correctly deduce types for all functions\n",
    "\n",
    "We will discuss this in more detail in [this lecture](need_for_speed.html#), but the macro `@code_warntype` gives us a hint"
   ]
  },
  {
   "cell_type": "code",
   "execution_count": null,
   "metadata": {},
   "outputs": [],
   "source": [
    "x = [1, 2, 3]\n",
    "f(x) = 2x\n",
    "@code_warntype f(x)"
   ]
  },
  {
   "cell_type": "markdown",
   "metadata": {},
   "source": [
    "The `@code_warntype` macro compiles the `f(x)` using the type of `x` as an example–i.e., the `[1, 2, 3]` is used as a prototype for analyzing the compilation, rather than simply calculating the value\n",
    "\n",
    "Here, the `Body::Array{Int64,1}` tells us the type of the return value of the function when called with types like `[1, 2, 3]` is always a vector of integers\n",
    "\n",
    "In contrast, consider a function potentially returning `nothing`, as in [this lecture](fundamental_types.html#)"
   ]
  },
  {
   "cell_type": "code",
   "execution_count": null,
   "metadata": {},
   "outputs": [],
   "source": [
    "f(x) = x > 0.0 ? x : nothing\n",
    "@code_warntype f(1)"
   ]
  },
  {
   "cell_type": "markdown",
   "metadata": {},
   "source": [
    "This states that the compiler determines the return type when called with an integer (like `1`) could be one of two different types, `Body::Union{Nothing, Int64}`\n",
    "\n",
    "A final example is a variation on the above, which returns the maximum of `x` and `0`"
   ]
  },
  {
   "cell_type": "code",
   "execution_count": null,
   "metadata": {},
   "outputs": [],
   "source": [
    "f(x) = x > 0.0 ? x : 0.0\n",
    "@code_warntype f(1)"
   ]
  },
  {
   "cell_type": "markdown",
   "metadata": {},
   "source": [
    "Which shows that, when called with an integer, the type could be that integer or the floating point `0.0`\n",
    "\n",
    "On the other hand, if we use change the function to return `0` if x <= 0, it is type-unstable with  floating point"
   ]
  },
  {
   "cell_type": "code",
   "execution_count": null,
   "metadata": {},
   "outputs": [],
   "source": [
    "f(x) = x > 0.0 ? x : 0\n",
    "@code_warntype f(1.0)"
   ]
  },
  {
   "cell_type": "markdown",
   "metadata": {},
   "source": [
    "The solution is to use the `zero(x)` function which returns the additive identity element of type `x`\n",
    "n the other hand, if we use change the function to return `0` if x <= 0, it is type-unstable with  floating point"
   ]
  },
  {
   "cell_type": "code",
   "execution_count": null,
   "metadata": {},
   "outputs": [],
   "source": [
    "@show zero(2.3)\n",
    "@show zero(4)\n",
    "@show zero(2.0 + 3im)\n",
    "\n",
    "f(x) = x > 0.0 ? x : zero(x)\n",
    "@code_warntype f(1.0)"
   ]
  },
  {
   "cell_type": "markdown",
   "metadata": {},
   "source": [
    "### Functions"
   ]
  }
 ],
 "metadata": {
  "filename": "generic_programming.rst",
  "kernelspec": {
   "display_name": "Julia 1.0",
   "language": "julia",
   "name": "julia-1.0"
  },
  "title": "Generic Programming and Design"
 },
 "nbformat": 4,
 "nbformat_minor": 2
}