{
 "cells": [
  {
   "cell_type": "markdown",
   "metadata": {},
   "source": [
    "\n",
    "<a id='version-control'></a>\n",
    "How to read this lecture…\n",
    "\n",
    "- If using QuantEcon lectures for the first time on a computer, execute `] add InstantiateFromURL` inside of a notebook or the REPL  \n",
    "- For some notebooks, enable content with “Trust” on the command tab of Jupyter lab  \n",
    "- Code should execute sequentially if run in a Jupyter notebook  \n",
    "- Please direct feedback to [contact@quantecon.org](mailto:contact@quantecon.org\") or [discourse forum](http://discourse.quantecon.org/)  "
   ]
  },
  {
   "cell_type": "markdown",
   "metadata": {},
   "source": [
    "# Introduction to Git and Version Control\n",
    "\n",
    "An essential part of modern software engineering is using version control\n",
    "\n",
    "We use version control because\n",
    "\n",
    "- Not all iterations on a file are perfect  \n",
    "- We want to be able to see who has changed what and how  \n",
    "- We want a uniform version scheme to do this between people and machines  \n",
    "\n",
    "\n",
    "In this lecture, we’ll discuss how it works on the GitHub platform"
   ]
  },
  {
   "cell_type": "markdown",
   "metadata": {},
   "source": [
    "## Contents\n",
    "\n",
    "- [Introduction to Git and Version Control](#Introduction-to-Git-and-Version-Control)  \n",
    "  - [Overview](#Overview)  \n",
    "  - [Setup](#Setup)  \n",
    "  - [Basic Objects](#Basic-Objects)  \n",
    "  - [Individual Workflow](#Individual-Workflow)  \n",
    "  - [Collaborative Work](#Collaborative-Work)  \n",
    "  - [Open-source Projects](#Open-source-Projects)  \n",
    "  - [Additional Resources and Troubleshooting](#Additional-Resources-and-Troubleshooting)  "
   ]
  },
  {
   "cell_type": "markdown",
   "metadata": {},
   "source": [
    "## Overview\n",
    "\n",
    "Topics:\n",
    "\n",
    "- Setup  \n",
    "- Basic Objects  \n",
    "- Individual Workflow  \n",
    "- Collaborative Work  \n",
    "- Open-Source Projects  \n",
    "- Additional Resources and Troubleshooting  "
   ]
  },
  {
   "cell_type": "markdown",
   "metadata": {},
   "source": [
    "## Setup\n",
    "\n",
    "First, make sure you create an account on [GitHub.com](http://github.com/)\n",
    "\n",
    "If you are a student, be sure to use the GitHub [Student Developer Pack](https://education.github.com/pack/)\n",
    "\n",
    "Otherwise, see if you qualify for a free [Non-Profit/Academic Plan](https://help.github.com/articles/about-github-education-for-educators-and-researchers/)\n",
    "\n",
    "These come with things like unlimited private repositories, testing support, etc.\n",
    "\n",
    "Next, install `git` and the GitHub Desktop application\n",
    "\n",
    "1. Follow the instructions for installing [git](https://git-scm.com/book/en/v2/Getting-Started-Installing-Git/)  \n",
    "1. Follow the instructions for installing GitHub Desktop <https://desktop.github.com/>  "
   ]
  },
  {
   "cell_type": "markdown",
   "metadata": {},
   "source": [
    "## Basic Objects"
   ]
  },
  {
   "cell_type": "markdown",
   "metadata": {},
   "source": [
    "### Repositories\n",
    "\n",
    "The fundamental object in GitHub is a *repository* (or “repo.”) This is the master directory for a project\n",
    "\n",
    "One example of a repo is the QuantEcon [Expectations.jl](https://github.com/quantecon/expectations.jl/) package\n",
    "\n",
    "On the machine, a repo is a normal directory, along with a subdirectory called `.git` which contains the history of changes"
   ]
  },
  {
   "cell_type": "markdown",
   "metadata": {},
   "source": [
    "### Commits\n",
    "\n",
    "GitHub stores history as a sequence of changes to text, called *commits*\n",
    "\n",
    "Here is an example of a commit, which revises the style guide in a QuantEcon repo ([link](https://github.com/QuantEcon/lecture-source-jl/commit/ba59c3ea9a0dec10def3f4f3928af5e2827f3b92/))\n",
    "\n",
    "In particular, commits have the following features\n",
    "\n",
    "- An ID (formally, an “SHA-1 hash”)  \n",
    "- Content (i.e., a before and after state)  \n",
    "- Metadata (author, timestamp, commit message, etc.) \n",
    "\n",
    "\n",
    "It is crucial to remember that commits represent differences in text, as opposed to repository states\n",
    "\n",
    "The ideal commit is small enough to be scanned by a human being in this window"
   ]
  },
  {
   "cell_type": "markdown",
   "metadata": {},
   "source": [
    "### Common Files\n",
    "\n",
    "In addition, each GitHub repository typically comes with a few standard text files \n",
    "\n",
    "- A `.gitignore` file, which lists files/extensions/directories that GitHub shouldn’t try to track (e.g., LaTeX compilation byproducts)  \n",
    "- A `README.md` file, which is a Markdown file which GitHub puts on the repository website\n",
    "- A `LICENSE.txt` file, which describes the terms under which the repository’s contents are made available  \n",
    "\n",
    "\n",
    "For an example of all three, see the [Expectations.jl](https://github.com/quantecon/expectations.jl/) repo linked above\n",
    "\n",
    "Of these, the README is the most important"
   ]
  },
  {
   "cell_type": "markdown",
   "metadata": {},
   "source": [
    "## Individual Workflow\n",
    "\n",
    "In this section, we’ll describe how to use GitHub to version your own projects\n",
    "\n",
    "Much of this will carry over to the collaborative section"
   ]
  },
  {
   "cell_type": "markdown",
   "metadata": {},
   "source": [
    "### Creating a Repository\n",
    "\n",
    "In general, we will always want to make new repos using the following dropdown\n",
    "\n",
    "<img src=\"_static/figures/git/git-makerepo.png\" style=\"width:120%;height:120%\">\n",
    "\n",
    "  \n",
    "We can then configure repository options as such\n",
    "\n",
    "<img src=\"_static/figures/git/git-makerepo-full.png\" style=\"width:120%;height:120%\">\n",
    "\n",
    "  \n",
    "In this case, we’re making a public repo `github.com/arnavs/git-setup`, which will come with a `README.md`, is licensed under the MIT License, and will ignore Julia compilation byproducts"
   ]
  },
  {
   "cell_type": "markdown",
   "metadata": {},
   "source": [
    "### Cloning a Repository\n",
    "\n",
    "The next step is to get this to our local machine\n",
    "\n",
    "<img src=\"_static/figures/git/git-clone.png\" style=\"width:120%;height:120%\">\n",
    "\n",
    "  \n",
    "This dropdown gives us a few options\n",
    "\n",
    "- “Open in Desktop” will call to the GitHub Desktop application that we’ve installed  \n",
    "- “Download Zip” will download the directory *without the .git* subfolder. This is generally not recommended, since it defeats the purpose of version control (tracking history)\n",
    "- The copy/paste button next to the link lets us use the command line, i.e. `git clone https://github.com/arnavs/git-setup.git`.  "
   ]
  },
  {
   "cell_type": "markdown",
   "metadata": {},
   "source": [
    "### Making and Managing Changes\n",
    "\n",
    "Now that we have the repository, we can start working with it\n",
    "\n",
    "For example, let’s say that we’ve amended the `README.md` (using our editor of choice), and also added a new file `economics.jl` which we’re still working on\n",
    "\n",
    "Returning to GitHub Desktop, we should see something like\n",
    "\n",
    "<img src=\"_static/figures/git/git-desktop-commit.png\" style=\"width:120%;height:120%\">\n",
    "\n",
    "  \n",
    "To select individual files for commit, we can use the check boxes to the left of each file\n",
    "\n",
    "Let’s say you select only the README to commit. Going to the history tab should show you our change\n",
    "\n",
    "<img src=\"_static/figures/git/git-desktop-commit2.png\" style=\"width:120%;height:120%\">\n",
    "\n",
    "  \n",
    "The Julia file is unchanged"
   ]
  },
  {
   "cell_type": "markdown",
   "metadata": {},
   "source": [
    "### Pushing to the Server\n",
    "\n",
    "As of now, this commit lives only on our local machine. To upload it to the server, simply click the “Push Origin” button atop the screen\n",
    "\n",
    "The small “1^” to the right of the text indicates we have one commit to upload"
   ]
  },
  {
   "cell_type": "markdown",
   "metadata": {},
   "source": [
    "### Reading and Reverting History\n",
    "\n",
    "As mentioned, one of the key features of GitHub is the ability to scan through history\n",
    "\n",
    "By clicking the “commits” tab on the repo front page, for example, we see [this page](https://github.com/arnavs/git-setup/commits/master/)\n",
    "\n",
    "Clicking an individual commit gives us the granular view, (e.g., [here](https://github.com/arnavs/git-setup/commit/5ed516c7949dee5c60ec12be10d26e1bdee23ca5/))\n",
    "\n",
    "Sometimes, however, we want to not only inspect what happened before, but go back to it\n",
    "\n",
    "- If you haven’t made the commit yet, just right-click the file and hit “discard changes” to reset the file to the last known commit  \n",
    "- If you have made the commit but haven’t pushed to the server yet, go to the “history” tab as above, right click the commit and click “revert this commit.” This will create the inverse commit, as below\n",
    "\n",
    "\n",
    "<img src=\"_static/figures/git/git-revert-commit.png\" style=\"width:120%;height:120%\">"
   ]
  },
  {
   "cell_type": "markdown",
   "metadata": {},
   "source": [
    "### Working across Machines\n",
    "\n",
    "Oftentimes, you will want to work on the same project across multiple machines (e.g., a home laptop and a lab workstation)\n",
    "\n",
    "The key is to push changes from one machine, and then to pull changes from the other machine\n",
    "\n",
    "Pushing can be done as above. To pull, simply click pull under the “repository” dropdown at the top of the screen\n",
    "\n",
    "<img src=\"_static/figures/git/git-pull.png\" style=\"width:120%;height:120%\">"
   ]
  },
  {
   "cell_type": "markdown",
   "metadata": {},
   "source": [
    "## Collaborative Work"
   ]
  },
  {
   "cell_type": "markdown",
   "metadata": {},
   "source": [
    "### Adding Collaborators\n",
    "\n",
    "First, let’s add a collaborator to the `arnavs/git-setup` lecture we created earlier\n",
    "\n",
    "We can do this by clicking “settings => collaborators,” as follows\n",
    "\n",
    "<img src=\"_static/figures/git/git-collab.png\" style=\"width:120%;height:120%\">"
   ]
  },
  {
   "cell_type": "markdown",
   "metadata": {},
   "source": [
    "### Project Management\n",
    "\n",
    "GitHub’s website also comes with project management tools to coordinate work between people\n",
    "\n",
    "The key issue is an *issue*, which we can create from the issues tab. You should see something like this\n",
    "\n",
    "<img src=\"_static/figures/git/git-issue.png\" style=\"width:120%;height:120%\">\n",
    "\n",
    "  \n",
    "Let’s unpack the different components\n",
    "\n",
    "- The *assignees* dropdown lets you select people tasked to work on the issue  \n",
    "- The *labels* dropdown lets you tag the issue with labels visible from the issues page, such as “high priority” or “feature request”  \n",
    "- It’s possible to tag other issues and collaborators (including in different repos) by linking to them in the comments. This is part of what’s called *GitHub-Flavored Markdown*  \n",
    "\n",
    "\n",
    "For an example of an issue, see ``here <[https://github.com/arnavs/git-setup/issues/1/](https://github.com/arnavs/git-setup/issues/1/)>`_\n",
    "\n",
    "The checkbox idiom is a common one to manage projects in GitHub"
   ]
  },
  {
   "cell_type": "markdown",
   "metadata": {},
   "source": [
    "### Reviewing Code\n",
    "\n",
    "There are a few different ways to review people’s code in GitHub\n",
    "\n",
    "- Whenever people push to a project you’re working on, you’ll receive an email notification  \n",
    "- You can also review individual line-items or commits by opening commits in the granular view as [above](https://github.com/arnavs/git-setup/commit/5ed516c7949dee5c60ec12be10d26e1bdee23ca5/)\n",
    "\n",
    "\n",
    "<img src=\"_static/figures/git/git-review.png\" style=\"width:120%;height:120%\">"
   ]
  },
  {
   "cell_type": "markdown",
   "metadata": {},
   "source": [
    "### Merge Conflicts\n",
    "\n",
    "Any project management tool needs to figure out how to reconcile conflicting changes between people\n",
    "\n",
    "In GitHub, this event is called a “merge conflict,” and occurs whenever people make conflicting changes to the same *line* of code\n",
    "\n",
    "Note that this means that two people touching the same file is OK, so long as the differences are compatible\n",
    "\n",
    "A common use case is when we try to push changes to the server, but someone else has pushed conflicting changes. GitHub will give us the following window\n",
    "\n",
    "<img src=\"_static/figures/git/git-merge-conflict.png\" style=\"width:120%;height:120%\">\n",
    "\n",
    "  \n",
    "- The warning symbol next to the file indicates the existence of a merge conflict  \n",
    "- The viewer tries to show us the discrepancy (I changed the word repository to repo, but someone else tried to change it to “repo” with quotes)  \n",
    "\n",
    "\n",
    "To fix the conflict, we can go into a text editor (such as Atom or VS Code). Here’s an image of what we see in Atom\n",
    "\n",
    "<img src=\"_static/figures/git/atom-merge-conflict.png\" style=\"width:120%;height:120%\">\n",
    "\n",
    "  \n",
    "Let’s say we click the top “use me” (to indicate that my changes should win out), and then save the file. Returning to GitHub Desktop gives us a pre-formed commit to accept\n",
    "\n",
    "<img src=\"_static/figures/git/git-merge-commit.png\" style=\"width:120%;height:120%\">"
   ]
  },
  {
   "cell_type": "markdown",
   "metadata": {},
   "source": [
    "## Open-source Projects\n",
    "\n",
    "One of the defining features of GitHub is that it is the dominant platform for *open-source* code, which (generally) anyone has rights to modify or work with\n",
    "\n",
    "You can use GitHub to work on such projects"
   ]
  },
  {
   "cell_type": "markdown",
   "metadata": {},
   "source": [
    "### Quick Fixes\n",
    "\n",
    "GitHub’s website provides an online editor for quick-and-dirty changes, such as fixing typos\n",
    "\n",
    "To use it, open a file in GitHub and click the small pencil to the upper right\n",
    "\n",
    "<img src=\"_static/figures/git/git-quick-pr.png\" style=\"width:120%;height:120%\">\n",
    "\n",
    "  \n",
    "Here, we’re trying to add the QuantEcon link to the Julia project’s README\n",
    "\n",
    "After making our changes, we can then describe them and propose them for review by maintainers\n",
    "\n",
    "But what if we want to make more in-depth changes?"
   ]
  },
  {
   "cell_type": "markdown",
   "metadata": {},
   "source": [
    "### Forking and Pull Requests\n",
    "\n",
    "The first problem to solve is that we don’t have write access (usually) to open-source repos\n",
    "\n",
    "To work around this, we can click the “Fork” button that lives in the top-right of every repo’s main page\n",
    "\n",
    "This will create a repo under account with the same name, contents, and history as the original. For example, [this repo](https://github.com/ubcecon/git-setup/) is a fork of our original [git setup](https://github.com/arnavs/git-setup/)"
   ]
  },
  {
   "cell_type": "markdown",
   "metadata": {},
   "source": [
    "### Making Changes\n",
    "\n",
    "We can clone this fork and work with it in exactly the same way as we would a repo we own (because a fork *is* a repo we own)\n",
    "\n",
    "In particular, we can follow the same process of:\n",
    "\n",
    "- Updating the fork via sequences of commits, which we push and pull using GitHub Desktop  \n",
    "- Collaborating with other people using issues  \n",
    "- Looking at history using the GitHub website  "
   ]
  },
  {
   "cell_type": "markdown",
   "metadata": {},
   "source": [
    "### The Pull Request\n",
    "\n",
    "Eventually, you will want to upstream your changes into the main repository\n",
    "\n",
    "The first thing you want to do is go to the pull requests menu and click “New Pull Request.” You’ll see something like\n",
    "\n",
    "<img src=\"_static/figures/git/git-create-pr.png\" style=\"width:120%;height:120%\">\n",
    "\n",
    "  \n",
    "This gives us a quick overview of the commits we want to merge in, as well as the end-to-end differences\n",
    "\n",
    "Clicking through gives us a window like\n",
    "\n",
    "<img src=\"_static/figures/git/git-create-pr-2.png\" style=\"width:120%;height:120%\">\n",
    "\n",
    "  \n",
    "The key pieces are\n",
    "\n",
    "- A list of the commits we’re proposing  \n",
    "- A list of reviewers, who we can ask to approve or modify our changes  \n",
    "- Labels, Markdown space, assignees, and the ability to tag other git issues and PRs, just as with issues  \n",
    "\n",
    "\n",
    "For an example of a PR, see [here](https://github.com/arnavs/git-setup/pull/2#pullrequestreview-170918768/)\n",
    "\n",
    "To edit a PR, simply push changes to the fork that you opened the PR from. That is, a pull request is not like bundling up your changes and delivering them, but rather like opening an *ongoing connection* between two repositories, that is only severed when the PR is closed or merged"
   ]
  },
  {
   "cell_type": "markdown",
   "metadata": {},
   "source": [
    "## Additional Resources and Troubleshooting\n",
    "\n",
    "You may want to go beyond the scope of this tutorial when working with GitHub. For example, perhaps you run into a bug, or you’re working with a setup (like the QuantEcon Docker image) that doesn’t have GitHub Desktop installed\n",
    "\n",
    "Here are some resources to help\n",
    "\n",
    "- Kate Hudson’s excellent [git flight rules](https://github.com/k88hudson/git-flight-rules/), which is a near-exhaustive list of situations you could encounter, and command-line fixes  \n",
    "- The GitHub [Learning Lab](https://lab.github.com/), an interactive sandbox environment for git  "
   ]
  }
 ],
 "metadata": {
  "filename": "version_control.rst",
  "kernelspec": {
   "display_name": "Julia 1.0.1",
   "language": "julia",
   "name": "julia-1.0"
  },
  "language_info": {
   "file_extension": ".jl",
   "mimetype": "application/julia",
   "name": "julia",
   "version": "1.0.1"
  },
  "title": "Introduction to Git and Version Control"
 },
 "nbformat": 4,
 "nbformat_minor": 2
}
