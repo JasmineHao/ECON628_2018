{
 "cells": [
  {
   "cell_type": "markdown",
   "metadata": {},
   "source": [
    "\n",
    "<a id='tools-editors'></a>\n",
    "How to read this lecture…\n",
    "\n",
    "- If using QuantEcon lectures for the first time on a computer, execute ] add InstantiateFromURL inside of a notebook or the REPL  \n",
    "- For some notebooks, enable content with “Trust” on the command tab of Jupyter lab  \n",
    "- Code should execute sequentially if run in a Jupyter notebook  \n",
    "- Please direct feedback to [contact@quantecon.org](mailto:contact@quantecon.org\") or [discourse forum](http://discourse.quantecon.org/)  "
   ]
  },
  {
   "cell_type": "markdown",
   "metadata": {},
   "source": [
    "# Julia Tools and Editors"
   ]
  },
  {
   "cell_type": "markdown",
   "metadata": {},
   "source": [
    "## Contents\n",
    "\n",
    "- [Julia Tools and Editors](#Julia-Tools-and-Editors)  \n",
    "  - [The REPL](#The-REPL)  \n",
    "  - [Atom](#Atom)  \n",
    "  - [Package Environments](#Package-Environments)  "
   ]
  },
  {
   "cell_type": "markdown",
   "metadata": {},
   "source": [
    "Co-authored with Arnav Sood\n",
    "\n",
    "While Jupyter notebooks are a great way to get started with the language, eventually you’ll want to use more powerful Tools\n",
    "\n",
    "We assume you’ve already completed the [getting started](getting_started.ipynb#getting-started) lecture"
   ]
  },
  {
   "cell_type": "markdown",
   "metadata": {},
   "source": [
    "## The REPL\n",
    "\n",
    "Previously, we discussed basic use of the Julia REPL (“Read-Evaluate-Print Loop”)\n",
    "\n",
    "Here, we’ll consider some more advanced features"
   ]
  },
  {
   "cell_type": "markdown",
   "metadata": {},
   "source": [
    "### Shell Mode\n",
    "\n",
    "Hitting ; brings you into shell mode, which lets you run bash commands (PowerShell on Windows)"
   ]
  },
  {
   "cell_type": "code",
   "execution_count": null,
   "metadata": {},
   "outputs": [],
   "source": [
    "; pwd"
   ]
  },
  {
   "cell_type": "markdown",
   "metadata": {},
   "source": [
    "You can also use Julia variables from shell mode"
   ]
  },
  {
   "cell_type": "code",
   "execution_count": null,
   "metadata": {},
   "outputs": [],
   "source": [
    "x = 2\n",
    "; echo $x"
   ]
  },
  {
   "cell_type": "markdown",
   "metadata": {},
   "source": [
    "### Package Mode\n",
    "\n",
    "Hitting ] brings you into package mode\n",
    "\n",
    "- ] add Expectations will add a package (here, Expectations.jl)  \n",
    "- Likewise, ] rm Expectations will remove that package  \n",
    "- ] st will show you a snapshot of what you have installed  \n",
    "- ] up will (intelligently) upgrade versions of your packages  \n",
    "- ] precompile will precompile everytihng possible  \n",
    "\n",
    "\n",
    "You can get a full list of package-mode commands by running"
   ]
  },
  {
   "cell_type": "code",
   "execution_count": null,
   "metadata": {},
   "outputs": [],
   "source": [
    "] ?"
   ]
  },
  {
   "cell_type": "markdown",
   "metadata": {},
   "source": [
    "### Help Mode\n",
    "\n",
    "Hitting ? will bring you into help mode\n",
    "\n",
    "The key use case is to find docstrings for functions and macros, e.g."
   ]
  },
  {
   "cell_type": "code",
   "execution_count": null,
   "metadata": {},
   "outputs": [],
   "source": [
    "? print"
   ]
  },
  {
   "cell_type": "markdown",
   "metadata": {},
   "source": [
    "Note that objects must be loaded for Julia to return their documentation, e.g."
   ]
  },
  {
   "cell_type": "code",
   "execution_count": null,
   "metadata": {},
   "outputs": [],
   "source": [
    "? @test"
   ]
  },
  {
   "cell_type": "markdown",
   "metadata": {},
   "source": [
    "will fail, but"
   ]
  },
  {
   "cell_type": "code",
   "execution_count": null,
   "metadata": {},
   "outputs": [],
   "source": [
    "using Test"
   ]
  },
  {
   "cell_type": "code",
   "execution_count": null,
   "metadata": {},
   "outputs": [],
   "source": [
    "? @test"
   ]
  },
  {
   "cell_type": "markdown",
   "metadata": {},
   "source": [
    "will succeed"
   ]
  },
  {
   "cell_type": "markdown",
   "metadata": {},
   "source": [
    "## Atom\n",
    "\n",
    "As discussed [previously](getting_started), eventually you’ll want to use a full-fledged text editor\n",
    "\n",
    "The most feature-rich one for Julia development is [Atom](https://atom.io/)"
   ]
  },
  {
   "cell_type": "markdown",
   "metadata": {},
   "source": [
    "### Installation and Configuration\n",
    "\n",
    "Instructions for basic setup and configuration can be found [here](https://github.com/econtoolkit/tutorials/blob/master/julia.md#installation-and-setup/)\n",
    "\n",
    "The key package to install is called [Juno](http://junolab.org.)"
   ]
  },
  {
   "cell_type": "markdown",
   "metadata": {},
   "source": [
    "### Standard Layout\n",
    "\n",
    "If you follow the instructions, you should see something like this when you open a new file\n",
    "\n",
    "If you don’t, simply go to the command palette and type “Julia standard layout”\n",
    "\n",
    "<img src=\"_static/figures/juno-standard-layout.png\" style=\"width:60%;height:60%\">\n",
    "\n",
    "  \n",
    "The bottom pane is a standard REPL, which supports the different modes above\n",
    "\n",
    "The “workspace” pane is a snapshot of currently-defined objects. For example, if we define an object in the REPL"
   ]
  },
  {
   "cell_type": "code",
   "execution_count": null,
   "metadata": {},
   "outputs": [],
   "source": [
    "x = 2"
   ]
  },
  {
   "cell_type": "markdown",
   "metadata": {},
   "source": [
    "Our workspace should read\n",
    "\n",
    "<img src=\"_static/figures/juno-workspace-1.png\" style=\"width:60%;height:60%\">\n",
    "\n",
    "  \n",
    "The ans variable simply captures the result of the last computation\n",
    "\n",
    "The Documentation pane simply lets us query Julia documentation\n",
    "\n",
    "<img src=\"_static/figures/juno-docs.png\" style=\"width:60%;height:60%\">\n",
    "\n",
    "  \n",
    "The Plots pane captures Julia plots output\n",
    "\n",
    "<img src=\"_static/figures/juno-docs.png\" style=\"width:60%;height:60%\">\n",
    "\n",
    "  \n",
    "May be buggy, see for ex: [here](https://github.com/MTG/sms-tools/issues/36/)"
   ]
  },
  {
   "cell_type": "markdown",
   "metadata": {},
   "source": [
    "### Other Features\n",
    "\n",
    "- `` Shift + Enter `` will evaluate a highlighted selection or line (as above)  \n",
    "- The run symbol in the left sidebar (or Ctrl+Shift+Enter) will run the whole file  "
   ]
  },
  {
   "cell_type": "markdown",
   "metadata": {},
   "source": [
    "### Docker Integration\n",
    "\n",
    "You can plug Juno/Atom into a Julia session running in a docker container, such as the QuantEcon base container\n",
    "\n",
    "For instructions on this, see the Juno FAQ <https://docs.junolab.org/latest/man/faq.html/>_"
   ]
  },
  {
   "cell_type": "markdown",
   "metadata": {},
   "source": [
    "## Package Environments\n",
    "\n",
    "Julia’s package manager lets you set up Python-style “virtualenvs,” that draw from an underlying pool of assets on the machine\n",
    "\n",
    "- An environment is a set of packages specified by a Project.toml (and optionally, a Manifest.toml)  \n",
    "- A registry is a git repository corresponding to a list of (typically) registered packages, from which Julia can pull  \n",
    "- A depot is a directory, like ~/.julia, which contains assets (compile caches, registries, package source directories, etc.)  \n",
    "\n",
    "\n",
    "Essentially, an environment is a dependency tree for a project, or a “frame of mind” for Julia’s package manager\n",
    "\n",
    "We can see the base (v1.0) environment as such"
   ]
  },
  {
   "cell_type": "code",
   "execution_count": null,
   "metadata": {},
   "outputs": [],
   "source": [
    "] st"
   ]
  },
  {
   "cell_type": "markdown",
   "metadata": {},
   "source": [
    "And we can switch environments as such"
   ]
  },
  {
   "cell_type": "code",
   "execution_count": null,
   "metadata": {},
   "outputs": [],
   "source": [
    "using InstantiateFromURL\n",
    "activate_github(\"arnavs/InstantiationTest\")"
   ]
  },
  {
   "cell_type": "code",
   "execution_count": null,
   "metadata": {},
   "outputs": [],
   "source": [
    "] st"
   ]
  },
  {
   "cell_type": "markdown",
   "metadata": {},
   "source": [
    "We can edit environments, as before"
   ]
  },
  {
   "cell_type": "code",
   "execution_count": null,
   "metadata": {},
   "outputs": [],
   "source": [
    "] add Distributions"
   ]
  },
  {
   "cell_type": "markdown",
   "metadata": {},
   "source": [
    "And this will propagate changes to the TOML"
   ]
  },
  {
   "cell_type": "code",
   "execution_count": null,
   "metadata": {},
   "outputs": [],
   "source": [
    "Base.active_project()"
   ]
  },
  {
   "cell_type": "markdown",
   "metadata": {},
   "source": [
    "Lastly, we can return to the default environment by calling activate without args"
   ]
  },
  {
   "cell_type": "code",
   "execution_count": null,
   "metadata": {},
   "outputs": [],
   "source": [
    "] activate"
   ]
  }
 ],
 "metadata": {
  "kernelspec": {
   "display_name": "Julia 1.0",
   "language": "julia",
   "name": "julia-1.0"
  }
 },
 "nbformat": 4,
 "nbformat_minor": 2
}