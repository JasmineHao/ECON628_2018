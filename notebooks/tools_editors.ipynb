{
 "cells": [
  {
   "cell_type": "markdown",
   "metadata": {},
   "source": [
    "\n",
    "<a id='tools-editors'></a>\n",
    "How to read this lecture…\n",
    "\n",
    "- If using QuantEcon lectures for the first time on a computer, execute ] add InstantiateFromURL inside of a notebook or the REPL  \n",
    "- For some notebooks, enable content with “Trust” on the command tab of Jupyter lab  \n",
    "- Code should execute sequentially if run in a Jupyter notebook  \n",
    "- Please direct feedback to [contact@quantecon.org](mailto:contact@quantecon.org\") or [discourse forum](http://discourse.quantecon.org/)  "
   ]
  },
  {
   "cell_type": "markdown",
   "metadata": {},
   "source": [
    "# Julia Tools and Editors"
   ]
  },
  {
   "cell_type": "markdown",
   "metadata": {},
   "source": [
    "## Contents\n",
    "\n",
    "- [Julia Tools and Editors](#Julia-Tools-and-Editors)  \n",
    "  - [The REPL](#The-REPL)  \n",
    "  - [Atom](#Atom)  \n",
    "  - [Package Environments](#Package-Environments)  "
   ]
  },
  {
   "cell_type": "markdown",
   "metadata": {},
   "source": [
    "Co-authored with Arnav Sood\n",
    "\n",
    "While Jupyter notebooks are a great way to get started with the language, eventually you’ll want to use more powerful Tools\n",
    "\n",
    "We assume you’ve already completed the [getting started](getting_started.ipynb#getting-started) lecture"
   ]
  },
  {
   "cell_type": "markdown",
   "metadata": {},
   "source": [
    "## The REPL\n",
    "\n",
    "Previously, we discussed basic use of the Julia REPL (“Read-Evaluate-Print Loop”)\n",
    "\n",
    "Here, we’ll consider some more advanced features"
   ]
  },
  {
   "cell_type": "markdown",
   "metadata": {},
   "source": [
    "### Shell Mode\n",
    "\n",
    "Hitting ; brings you into shell mode, which lets you run bash commands (PowerShell on Windows)"
   ]
  },
  {
   "cell_type": "code",
   "execution_count": 1,
   "metadata": {},
   "outputs": [
    {
     "name": "stdout",
     "output_type": "stream",
     "text": [
      "/c/Users/Arnav Sood/Desktop/econ628_2018/notebooks\n"
     ]
    }
   ],
   "source": [
    "; pwd"
   ]
  },
  {
   "cell_type": "markdown",
   "metadata": {},
   "source": [
    "You can also use Julia variables from shell mode"
   ]
  },
  {
   "cell_type": "code",
   "execution_count": 3,
   "metadata": {},
   "outputs": [
    {
     "data": {
      "text/plain": [
       "2"
      ]
     },
     "execution_count": 3,
     "metadata": {},
     "output_type": "execute_result"
    }
   ],
   "source": [
    "x = 2"
   ]
  },
  {
   "cell_type": "code",
   "execution_count": 4,
   "metadata": {},
   "outputs": [
    {
     "name": "stdout",
     "output_type": "stream",
     "text": [
      "2\n"
     ]
    }
   ],
   "source": [
    "; echo $x"
   ]
  },
  {
   "cell_type": "markdown",
   "metadata": {},
   "source": [
    "### Package Mode\n",
    "\n",
    "Hitting ] brings you into package mode\n",
    "\n",
    "- ] add Expectations will add a package (here, Expectations.jl)  \n",
    "- Likewise, ] rm Expectations will remove that package  \n",
    "- ] st will show you a snapshot of what you have installed  \n",
    "- ] up will (intelligently) upgrade versions of your packages  \n",
    "- ] precompile will precompile everytihng possible  \n",
    "\n",
    "\n",
    "You can get a full list of package-mode commands by running"
   ]
  },
  {
   "cell_type": "code",
   "execution_count": 5,
   "metadata": {},
   "outputs": [
    {
     "name": "stdout",
     "output_type": "stream",
     "text": [
      "  \u001b[1mWelcome to the Pkg REPL-mode\u001b[22m. To return to the \u001b[36mjulia>\u001b[39m prompt, either press\n",
      "  backspace when the input line is empty or press Ctrl+C.\n",
      "\n",
      "  \u001b[1mSynopsis\u001b[22m\n",
      "\n",
      "\u001b[36m  pkg> [--env=...] cmd [opts] [args]\u001b[39m\n",
      "\n",
      "  Multiple commands can be given on the same line by interleaving a \u001b[36m;\u001b[39m between\n",
      "  the commands.\n",
      "\n",
      "  \u001b[1mEnvironment\u001b[22m\n",
      "\n",
      "  The \u001b[36m--env\u001b[39m meta option determines which project environment to manipulate. By\n",
      "  default, this looks for a git repo in the parents directories of the current\n",
      "  working directory, and if it finds one, it uses that as an environment.\n",
      "  Otherwise, it uses a named environment (typically found in\n",
      "  \u001b[36m~/.julia/environments\u001b[39m) looking for environments named\n",
      "  \u001b[36mv$(VERSION.major).$(VERSION.minor).$(VERSION.patch)\u001b[39m,\n",
      "  \u001b[36mv$(VERSION.major).$(VERSION.minor)\u001b[39m, \u001b[36mv$(VERSION.major)\u001b[39m or \u001b[36mdefault\u001b[39m in order.\n",
      "\n",
      "  \u001b[1mCommands\u001b[22m\n",
      "\n",
      "  What action you want the package manager to take:\n",
      "\n",
      "  \u001b[36mhelp\u001b[39m: show this message\n",
      "\n",
      "  \u001b[36mstatus\u001b[39m: summarize contents of and changes to environment\n",
      "\n",
      "  \u001b[36madd\u001b[39m: add packages to project\n",
      "\n",
      "  \u001b[36mdevelop\u001b[39m: clone the full package repo locally for development\n",
      "\n",
      "  \u001b[36mrm\u001b[39m: remove packages from project or manifest\n",
      "\n",
      "  \u001b[36mup\u001b[39m: update packages in manifest\n",
      "\n",
      "  \u001b[36mtest\u001b[39m: run tests for packages\n",
      "\n",
      "  \u001b[36mbuild\u001b[39m: run the build script for packages\n",
      "\n",
      "  \u001b[36mpin\u001b[39m: pins the version of packages\n",
      "\n",
      "  \u001b[36mfree\u001b[39m: undoes a \u001b[36mpin\u001b[39m, \u001b[36mdevelop\u001b[39m, or stops tracking a repo.\n",
      "\n",
      "  \u001b[36minstantiate\u001b[39m: downloads all the dependencies for the project\n",
      "\n",
      "  \u001b[36mresolve\u001b[39m: resolves to update the manifest from changes in dependencies of\n",
      "  developed packages\n",
      "\n",
      "  \u001b[36mgenerate\u001b[39m: generate files for a new project\n",
      "\n",
      "  \u001b[36mpreview\u001b[39m: previews a subsequent command without affecting the current state\n",
      "\n",
      "  \u001b[36mprecompile\u001b[39m: precompile all the project dependencies\n",
      "\n",
      "  \u001b[36mgc\u001b[39m: garbage collect packages not used for a significant time\n",
      "\n",
      "  \u001b[36mactivate\u001b[39m: set the primary environment the package manager manipulates"
     ]
    }
   ],
   "source": [
    "] ?"
   ]
  },
  {
   "cell_type": "markdown",
   "metadata": {},
   "source": [
    "### Help Mode\n",
    "\n",
    "Hitting ? will bring you into help mode\n",
    "\n",
    "The key use case is to find docstrings for functions and macros, e.g."
   ]
  },
  {
   "cell_type": "code",
   "execution_count": 6,
   "metadata": {},
   "outputs": [
    {
     "name": "stdout",
     "output_type": "stream",
     "text": [
      "search: \u001b[0m\u001b[1mp\u001b[22m\u001b[0m\u001b[1mr\u001b[22m\u001b[0m\u001b[1mi\u001b[22m\u001b[0m\u001b[1mn\u001b[22m\u001b[0m\u001b[1mt\u001b[22m \u001b[0m\u001b[1mp\u001b[22m\u001b[0m\u001b[1mr\u001b[22m\u001b[0m\u001b[1mi\u001b[22m\u001b[0m\u001b[1mn\u001b[22m\u001b[0m\u001b[1mt\u001b[22mln \u001b[0m\u001b[1mp\u001b[22m\u001b[0m\u001b[1mr\u001b[22m\u001b[0m\u001b[1mi\u001b[22m\u001b[0m\u001b[1mn\u001b[22m\u001b[0m\u001b[1mt\u001b[22mstyled s\u001b[0m\u001b[1mp\u001b[22m\u001b[0m\u001b[1mr\u001b[22m\u001b[0m\u001b[1mi\u001b[22m\u001b[0m\u001b[1mn\u001b[22m\u001b[0m\u001b[1mt\u001b[22m is\u001b[0m\u001b[1mp\u001b[22m\u001b[0m\u001b[1mr\u001b[22m\u001b[0m\u001b[1mi\u001b[22m\u001b[0m\u001b[1mn\u001b[22m\u001b[0m\u001b[1mt\u001b[22m \u001b[0m\u001b[1mp\u001b[22m\u001b[0m\u001b[1mr\u001b[22mev\u001b[0m\u001b[1mi\u001b[22m\u001b[0m\u001b[1mn\u001b[22md \u001b[0m\u001b[1mp\u001b[22ma\u001b[0m\u001b[1mr\u001b[22ment\u001b[0m\u001b[1mi\u001b[22m\u001b[0m\u001b[1mn\u001b[22mdices \u001b[0m\u001b[1mp\u001b[22m\u001b[0m\u001b[1mr\u001b[22mec\u001b[0m\u001b[1mi\u001b[22msio\u001b[0m\u001b[1mn\u001b[22m\n",
      "\n"
     ]
    },
    {
     "data": {
      "text/markdown": [
       "```\n",
       "print([io::IO], xs...)\n",
       "```\n",
       "\n",
       "Write to `io` (or to the default output stream [`stdout`](@ref) if `io` is not given) a canonical (un-decorated) text representation of values `xs` if there is one, otherwise call [`show`](@ref). The representation used by `print` includes minimal formatting and tries to avoid Julia-specific details.\n",
       "\n",
       "Printing `nothing` is deprecated and will throw an error in the future.\n",
       "\n",
       "# Examples\n",
       "\n",
       "```jldoctest\n",
       "julia> print(\"Hello World!\")\n",
       "Hello World!\n",
       "julia> io = IOBuffer();\n",
       "\n",
       "julia> print(io, \"Hello\", ' ', :World!)\n",
       "\n",
       "julia> String(take!(io))\n",
       "\"Hello World!\"\n",
       "```\n"
      ],
      "text/plain": [
       "\u001b[36m  print([io::IO], xs...)\u001b[39m\n",
       "\n",
       "  Write to \u001b[36mio\u001b[39m (or to the default output stream \u001b[36mstdout\u001b[39m if \u001b[36mio\u001b[39m is not given) a\n",
       "  canonical (un-decorated) text representation of values \u001b[36mxs\u001b[39m if there is one,\n",
       "  otherwise call \u001b[36mshow\u001b[39m. The representation used by \u001b[36mprint\u001b[39m includes minimal\n",
       "  formatting and tries to avoid Julia-specific details.\n",
       "\n",
       "  Printing \u001b[36mnothing\u001b[39m is deprecated and will throw an error in the future.\n",
       "\n",
       "\u001b[1m  Examples\u001b[22m\n",
       "\u001b[1m  ≡≡≡≡≡≡≡≡≡≡\u001b[22m\n",
       "\n",
       "\u001b[36m  julia> print(\"Hello World!\")\u001b[39m\n",
       "\u001b[36m  Hello World!\u001b[39m\n",
       "\u001b[36m  julia> io = IOBuffer();\u001b[39m\n",
       "\u001b[36m  \u001b[39m\n",
       "\u001b[36m  julia> print(io, \"Hello\", ' ', :World!)\u001b[39m\n",
       "\u001b[36m  \u001b[39m\n",
       "\u001b[36m  julia> String(take!(io))\u001b[39m\n",
       "\u001b[36m  \"Hello World!\"\u001b[39m"
      ]
     },
     "execution_count": 6,
     "metadata": {},
     "output_type": "execute_result"
    }
   ],
   "source": [
    "? print"
   ]
  },
  {
   "cell_type": "markdown",
   "metadata": {},
   "source": [
    "Note that objects must be loaded for Julia to return their documentation, e.g."
   ]
  },
  {
   "cell_type": "code",
   "execution_count": 7,
   "metadata": {},
   "outputs": [
    {
     "data": {
      "text/markdown": [
       "No documentation found.\n",
       "\n",
       "Binding `@test` does not exist.\n"
      ],
      "text/plain": [
       "  No documentation found.\n",
       "\n",
       "  Binding \u001b[36m@test\u001b[39m does not exist."
      ]
     },
     "execution_count": 7,
     "metadata": {},
     "output_type": "execute_result"
    }
   ],
   "source": [
    "? @test"
   ]
  },
  {
   "cell_type": "markdown",
   "metadata": {},
   "source": [
    "will fail, but"
   ]
  },
  {
   "cell_type": "code",
   "execution_count": 8,
   "metadata": {},
   "outputs": [],
   "source": [
    "using Test"
   ]
  },
  {
   "cell_type": "code",
   "execution_count": 9,
   "metadata": {},
   "outputs": [
    {
     "data": {
      "text/markdown": [
       "```\n",
       "@test ex\n",
       "@test f(args...) key=val ...\n",
       "```\n",
       "\n",
       "Tests that the expression `ex` evaluates to `true`. Returns a `Pass` `Result` if it does, a `Fail` `Result` if it is `false`, and an `Error` `Result` if it could not be evaluated.\n",
       "\n",
       "# Examples\n",
       "\n",
       "```jldoctest\n",
       "julia> @test true\n",
       "Test Passed\n",
       "\n",
       "julia> @test [1, 2] + [2, 1] == [3, 3]\n",
       "Test Passed\n",
       "```\n",
       "\n",
       "The `@test f(args...) key=val...` form is equivalent to writing `@test f(args..., key=val...)` which can be useful when the expression is a call using infix syntax such as approximate comparisons:\n",
       "\n",
       "```jldoctest\n",
       "julia> @test π ≈ 3.14 atol=0.01\n",
       "Test Passed\n",
       "```\n",
       "\n",
       "This is equivalent to the uglier test `@test ≈(π, 3.14, atol=0.01)`. It is an error to supply more than one expression unless the first is a call expression and the rest are assignments (`k=v`).\n"
      ],
      "text/plain": [
       "\u001b[36m  @test ex\u001b[39m\n",
       "\u001b[36m  @test f(args...) key=val ...\u001b[39m\n",
       "\n",
       "  Tests that the expression \u001b[36mex\u001b[39m evaluates to \u001b[36mtrue\u001b[39m. Returns a \u001b[36mPass\u001b[39m \u001b[36mResult\u001b[39m if it\n",
       "  does, a \u001b[36mFail\u001b[39m \u001b[36mResult\u001b[39m if it is \u001b[36mfalse\u001b[39m, and an \u001b[36mError\u001b[39m \u001b[36mResult\u001b[39m if it could not be\n",
       "  evaluated.\n",
       "\n",
       "\u001b[1m  Examples\u001b[22m\n",
       "\u001b[1m  ≡≡≡≡≡≡≡≡≡≡\u001b[22m\n",
       "\n",
       "\u001b[36m  julia> @test true\u001b[39m\n",
       "\u001b[36m  Test Passed\u001b[39m\n",
       "\u001b[36m  \u001b[39m\n",
       "\u001b[36m  julia> @test [1, 2] + [2, 1] == [3, 3]\u001b[39m\n",
       "\u001b[36m  Test Passed\u001b[39m\n",
       "\n",
       "  The \u001b[36m@test f(args...) key=val...\u001b[39m form is equivalent to writing \u001b[36m@test\n",
       "  f(args..., key=val...)\u001b[39m which can be useful when the expression is a call\n",
       "  using infix syntax such as approximate comparisons:\n",
       "\n",
       "\u001b[36m  julia> @test π ≈ 3.14 atol=0.01\u001b[39m\n",
       "\u001b[36m  Test Passed\u001b[39m\n",
       "\n",
       "  This is equivalent to the uglier test \u001b[36m@test ≈(π, 3.14, atol=0.01)\u001b[39m. It is an\n",
       "  error to supply more than one expression unless the first is a call\n",
       "  expression and the rest are assignments (\u001b[36mk=v\u001b[39m)."
      ]
     },
     "execution_count": 9,
     "metadata": {},
     "output_type": "execute_result"
    }
   ],
   "source": [
    "? @test"
   ]
  },
  {
   "cell_type": "markdown",
   "metadata": {},
   "source": [
    "will succeed"
   ]
  },
  {
   "cell_type": "markdown",
   "metadata": {},
   "source": [
    "## Atom\n",
    "\n",
    "As discussed [previously](getting_started), eventually you’ll want to use a full-fledged text editor\n",
    "\n",
    "The most feature-rich one for Julia development is [Atom](https://atom.io/)"
   ]
  },
  {
   "cell_type": "markdown",
   "metadata": {},
   "source": [
    "### Installation and Configuration\n",
    "\n",
    "Instructions for basic setup and configuration can be found [here](https://github.com/econtoolkit/tutorials/blob/master/julia.md#installation-and-setup/)\n",
    "\n",
    "The key package to install is called [Juno](http://junolab.org.)"
   ]
  },
  {
   "cell_type": "markdown",
   "metadata": {},
   "source": [
    "### Standard Layout\n",
    "\n",
    "If you follow the instructions, you should see something like this when you open a new file\n",
    "\n",
    "If you don’t, simply go to the command palette and type “Julia standard layout”\n",
    "\n",
    "<img src=\"_static/figures/juno-standard-layout.png\" style=\"width:60%;height:60%\">\n",
    "\n",
    "  \n",
    "The bottom pane is a standard REPL, which supports the different modes above\n",
    "\n",
    "The “workspace” pane is a snapshot of currently-defined objects. For example, if we define an object in the REPL"
   ]
  },
  {
   "cell_type": "code",
   "execution_count": 10,
   "metadata": {},
   "outputs": [
    {
     "data": {
      "text/plain": [
       "2"
      ]
     },
     "execution_count": 10,
     "metadata": {},
     "output_type": "execute_result"
    }
   ],
   "source": [
    "x = 2"
   ]
  },
  {
   "cell_type": "markdown",
   "metadata": {},
   "source": [
    "Our workspace should read\n",
    "\n",
    "<img src=\"_static/figures/juno-workspace-1.png\" style=\"width:60%;height:60%\">\n",
    "\n",
    "  \n",
    "The ans variable simply captures the result of the last computation\n",
    "\n",
    "The Documentation pane simply lets us query Julia documentation\n",
    "\n",
    "<img src=\"_static/figures/juno-docs.png\" style=\"width:60%;height:60%\">\n",
    "\n",
    "  \n",
    "The Plots pane captures Julia plots output\n",
    "\n",
    "<img src=\"_static/figures/juno-plots.png\" style=\"width:60%;height:60%\">\n",
    "\n",
    "  \n",
    "May be buggy, see for ex: [here](https://github.com/MTG/sms-tools/issues/36/)"
   ]
  },
  {
   "cell_type": "markdown",
   "metadata": {},
   "source": [
    "### Other Features\n",
    "\n",
    "- `` Shift + Enter `` will evaluate a highlighted selection or line (as above)  \n",
    "- The run symbol in the left sidebar (or Ctrl+Shift+Enter) will run the whole file  "
   ]
  },
  {
   "cell_type": "markdown",
   "metadata": {},
   "source": [
    "### Docker Integration\n",
    "\n",
    "You can plug Juno/Atom into a Julia session running in a docker container, such as the QuantEcon base container\n",
    "\n",
    "For instructions on this, see the Juno FAQ <https://docs.junolab.org/latest/man/faq.html/>_"
   ]
  },
  {
   "cell_type": "markdown",
   "metadata": {},
   "source": [
    "## Package Environments\n",
    "\n",
    "Julia’s package manager lets you set up Python-style “virtualenvs,” that draw from an underlying pool of assets on the machine\n",
    "\n",
    "- An environment is a set of packages specified by a Project.toml (and optionally, a Manifest.toml)  \n",
    "- A registry is a git repository corresponding to a list of (typically) registered packages, from which Julia can pull  \n",
    "- A depot is a directory, like ~/.julia, which contains assets (compile caches, registries, package source directories, etc.)  \n",
    "\n",
    "\n",
    "Essentially, an environment is a dependency tree for a project, or a “frame of mind” for Julia’s package manager\n",
    "\n",
    "We can see the base (v1.0) environment as such"
   ]
  },
  {
   "cell_type": "code",
   "execution_count": 11,
   "metadata": {},
   "outputs": [
    {
     "name": "stdout",
     "output_type": "stream",
     "text": [
      "\u001b[32m\u001b[1m    Status\u001b[22m\u001b[39m `C:\\Users\\Arnav Sood\\.julia\\environments\\v1.0\\Project.toml`\n",
      " \u001b[90m [c52e3926]\u001b[39m\u001b[37m Atom v0.7.10\u001b[39m\n",
      " \u001b[90m [31c24e10]\u001b[39m\u001b[37m Distributions v0.16.4\u001b[39m\n",
      " \u001b[90m [55b976a0]\u001b[39m\u001b[37m ExamplePackage v0.1.0 [`C:\\Users\\Arnav Sood\\.julia\\environments\\v1.0\\..\\..\\dev\\ExamplePackage`]\u001b[39m\n",
      " \u001b[90m [2fe49d83]\u001b[39m\u001b[37m Expectations v1.0.2\u001b[39m\n",
      " \u001b[90m [7073ff75]\u001b[39m\u001b[37m IJulia v1.13.0\u001b[39m\n",
      " \u001b[90m [43edad99]\u001b[39m\u001b[37m InstantiateFromURL v0.1.0\u001b[39m\n",
      " \u001b[90m [e5e0dc1b]\u001b[39m\u001b[37m Juno v0.5.3\u001b[39m\n",
      " \u001b[90m [429524aa]\u001b[39m\u001b[37m Optim v0.17.1\u001b[39m\n",
      " \u001b[90m [d96e819e]\u001b[39m\u001b[37m Parameters v0.10.1\u001b[39m\n",
      " \u001b[90m [14b8a8f1]\u001b[39m\u001b[37m PkgTemplates v0.3.0\u001b[39m\n",
      " \u001b[90m [91a5bcdd]\u001b[39m\u001b[37m Plots v0.21.0\u001b[39m\n"
     ]
    }
   ],
   "source": [
    "] st"
   ]
  },
  {
   "cell_type": "markdown",
   "metadata": {},
   "source": [
    "And we can switch environments as such"
   ]
  },
  {
   "cell_type": "code",
   "execution_count": 12,
   "metadata": {},
   "outputs": [
    {
     "name": "stderr",
     "output_type": "stream",
     "text": [
      "┌ Warning: On Windows, creating file symlinks requires Administrator privileges\n",
      "└ @ Base.Filesystem file.jl:789\n"
     ]
    },
    {
     "name": "stdout",
     "output_type": "stream",
     "text": [
      "\u001b[92m\u001b[1mDownloading \u001b[22m\u001b[39marnavs/InstantiationTest-master → C:\\Users\\Arnav Sood\\Desktop\\econ628_2018\\notebooks\\.projects\n",
      "\u001b[92m\u001b[1mInstantiating \u001b[22m\u001b[39mC:\\Users\\Arnav Sood\\Desktop\\econ628_2018\\notebooks\\.projects\\InstantiationTest-master\n",
      "\u001b[32m\u001b[1m  Updating\u001b[22m\u001b[39m registry at `C:\\Users\\Arnav Sood\\.julia\\registries\\General`\n",
      "\u001b[32m\u001b[1m  Updating\u001b[22m\u001b[39m git-repo `https://github.com/JuliaRegistries/General.git`\n",
      "\u001b[?25l\u001b[2K\u001b[?25h\u001b[32m\u001b[1m Installed\u001b[22m\u001b[39m Arpack ─ v0.2.3\n",
      "\u001b[32m\u001b[1m  Building\u001b[22m\u001b[39m Arpack → `C:\\Users\\Arnav Sood\\.julia\\packages\\Arpack\\WP3ru\\deps\\build.log`\n",
      "\u001b[32m\u001b[1mPrecompiling\u001b[22m\u001b[39m project...\n"
     ]
    },
    {
     "data": {
      "text/plain": [
       "(\"master\", \"C:\\\\Users\\\\Arnav Sood\\\\Desktop\\\\econ628_2018\\\\notebooks\\\\.projects\\\\InstantiationTest-master\")"
      ]
     },
     "execution_count": 12,
     "metadata": {},
     "output_type": "execute_result"
    }
   ],
   "source": [
    "using InstantiateFromURL\n",
    "activate_github(\"arnavs/InstantiationTest\")"
   ]
  },
  {
   "cell_type": "code",
   "execution_count": 13,
   "metadata": {},
   "outputs": [
    {
     "name": "stdout",
     "output_type": "stream",
     "text": [
      "\u001b[32m\u001b[1m    Status\u001b[22m\u001b[39m `C:\\Users\\Arnav Sood\\Desktop\\econ628_2018\\notebooks\\.projects\\InstantiationTest-master\\Project.toml`\n",
      " \u001b[90m [b4f34e82]\u001b[39m\u001b[37m Distances v0.7.3\u001b[39m\n",
      " \u001b[90m [2fe49d83]\u001b[39m\u001b[37m Expectations v1.0.2\u001b[39m\n",
      " \u001b[90m [4c63d2b9]\u001b[39m\u001b[37m StatsFuns v0.7.0\u001b[39m\n",
      " \u001b[90m [fd094767]\u001b[39m\u001b[37m Suppressor v0.1.1\u001b[39m\n"
     ]
    }
   ],
   "source": [
    "] st"
   ]
  },
  {
   "cell_type": "markdown",
   "metadata": {},
   "source": [
    "We can edit environments, as before"
   ]
  },
  {
   "cell_type": "code",
   "execution_count": 14,
   "metadata": {},
   "outputs": [
    {
     "name": "stdout",
     "output_type": "stream",
     "text": [
      "\u001b[32m\u001b[1m Resolving\u001b[22m\u001b[39m package versions...\n",
      "\u001b[32m\u001b[1m  Updating\u001b[22m\u001b[39m `C:\\Users\\Arnav Sood\\Desktop\\econ628_2018\\notebooks\\.projects\\InstantiationTest-master\\Project.toml`\n",
      " \u001b[90m [31c24e10]\u001b[39m\u001b[92m + Distributions v0.16.4\u001b[39m\n",
      "\u001b[32m\u001b[1m  Updating\u001b[22m\u001b[39m `C:\\Users\\Arnav Sood\\Desktop\\econ628_2018\\notebooks\\.projects\\InstantiationTest-master\\Manifest.toml`\n",
      " \u001b[90m [7d9fca2a]\u001b[39m\u001b[93m ↑ Arpack v0.2.3 ⇒ v0.3.0\u001b[39m\n",
      " \u001b[90m [276daf66]\u001b[39m\u001b[93m ↑ SpecialFunctions v0.7.1 ⇒ v0.7.2\u001b[39m\n"
     ]
    }
   ],
   "source": [
    "] add Distributions"
   ]
  },
  {
   "cell_type": "markdown",
   "metadata": {},
   "source": [
    "And this will propagate changes to the TOML"
   ]
  },
  {
   "cell_type": "code",
   "execution_count": 15,
   "metadata": {},
   "outputs": [
    {
     "data": {
      "text/plain": [
       "\"C:\\\\Users\\\\Arnav Sood\\\\Desktop\\\\econ628_2018\\\\notebooks\\\\.projects\\\\InstantiationTest-master\\\\Project.toml\""
      ]
     },
     "execution_count": 15,
     "metadata": {},
     "output_type": "execute_result"
    }
   ],
   "source": [
    "Base.active_project()"
   ]
  },
  {
   "cell_type": "markdown",
   "metadata": {},
   "source": [
    "Lastly, we can return to the default environment by calling activate without args"
   ]
  },
  {
   "cell_type": "code",
   "execution_count": 16,
   "metadata": {},
   "outputs": [],
   "source": [
    "] activate"
   ]
  },
  {
   "cell_type": "code",
   "execution_count": null,
   "metadata": {},
   "outputs": [],
   "source": []
  }
 ],
 "metadata": {
  "kernelspec": {
   "display_name": "Julia 1.0.1",
   "language": "julia",
   "name": "julia-1.0"
  },
  "language_info": {
   "file_extension": ".jl",
   "mimetype": "application/julia",
   "name": "julia",
   "version": "1.0.1"
  }
 },
 "nbformat": 4,
 "nbformat_minor": 2
}
