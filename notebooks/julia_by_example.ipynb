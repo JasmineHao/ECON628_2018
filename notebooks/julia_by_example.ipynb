{
 "cells": [
  {
   "cell_type": "markdown",
   "metadata": {},
   "source": [
    "\n",
    "<a id='julia-by-example'></a>\n",
    "How to read this lecture…\n",
    "\n",
    "- For some notebooks, enable content with “Trust” on the command tab of Jupyter lab  \n",
    "- Code should execute sequentially if run in a Jupyter notebook  \n",
    "- Please direct feedback to [contact@quantecon.org](mailto:contact@quantecon.org\") or [discourse forum](http://discourse.quantecon.org/)  "
   ]
  },
  {
   "cell_type": "markdown",
   "metadata": {},
   "source": [
    "# Introductory Examples"
   ]
  },
  {
   "cell_type": "markdown",
   "metadata": {},
   "source": [
    "## Contents\n",
    "\n",
    "- [Introductory Examples](#Introductory-Examples)  \n",
    "  - [Overview](#Overview)  \n",
    "  - [Example: Plotting a White Noise Process](#Example:-Plotting-a-White-Noise-Process)  \n",
    "  - [Example: Variations on Fixed-Points](#Example:-Variations-on-Fixed-Points)  \n",
    "  - [Exercises](#Exercises)  \n",
    "  - [Solutions](#Solutions)  "
   ]
  },
  {
   "cell_type": "markdown",
   "metadata": {},
   "source": [
    "## Overview\n",
    "\n",
    "We’re now ready to start learning the Julia language itself"
   ]
  },
  {
   "cell_type": "markdown",
   "metadata": {},
   "source": [
    "### Level\n",
    "\n",
    "Our approach is aimed at those who already have at least some knowledge of programming — perhaps experience with Python, MATLAB, Fortran, C or similar\n",
    "\n",
    "In particular, we assume you have some familiarity with fundamental programming concepts such as\n",
    "\n",
    "- variables  \n",
    "- arrays or vectors  \n",
    "- loops  \n",
    "- conditionals (if/else)  "
   ]
  },
  {
   "cell_type": "markdown",
   "metadata": {},
   "source": [
    "### Approach\n",
    "\n",
    "In this lecture we will write and then pick apart small Julia programs\n",
    "\n",
    "At this stage the objective is to introduce you to basic syntax and data structures\n",
    "\n",
    "Deeper concepts—how things work—will be covered in later lectures\n",
    "\n",
    "Since we are looking for simplicity the examples are a little contrived\n",
    "\n",
    "In this lecture, we will often start with a direct MATLAB/FORTRAN approach which often is **poor coding style** in Julia, but then move towards more **elegant code** which is tightly connected to the mathematics"
   ]
  },
  {
   "cell_type": "markdown",
   "metadata": {},
   "source": [
    "### Set Up\n",
    "\n",
    "We assume that you’ve worked your way through [our getting started lecture](getting_started.ipynb#) already\n",
    "\n",
    "For this lecture, we recommend that you work in a Jupyter notebook, as described [here](getting_started.ipynb#jl-jupyter)"
   ]
  },
  {
   "cell_type": "markdown",
   "metadata": {},
   "source": [
    "### Other References\n",
    "\n",
    "The definitive reference is [Julia’s own documentation](https://docs.julialang.org/en/stable/)\n",
    "\n",
    "The manual is thoughtfully written but also quite dense (and somewhat evangelical)\n",
    "\n",
    "The presentation in this and our remaining lectures is more of a tutorial style based around examples"
   ]
  },
  {
   "cell_type": "markdown",
   "metadata": {},
   "source": [
    "## Example: Plotting a White Noise Process\n",
    "\n",
    "To begin, let’s suppose that we want to simulate and plot the white noise\n",
    "process $ \\epsilon_0, \\epsilon_1, \\ldots, \\epsilon_T $, where each draw $ \\epsilon_t $ is independent standard normal\n",
    "\n",
    "Fire up a [Jupyter notebook](getting_started.ipynb#jl-jupyter)"
   ]
  },
  {
   "cell_type": "markdown",
   "metadata": {},
   "source": [
    "### Introduction to Packages\n",
    "\n",
    "The first step is to activate a project environment\n",
    "\n",
    "Activate the project environment, ensuring that `Project.toml` and `Manifest.toml` are **in the same location** as your notebook"
   ]
  },
  {
   "cell_type": "code",
   "execution_count": 1,
   "metadata": {},
   "outputs": [],
   "source": [
    "using Pkg; Pkg.activate(@__DIR__); # activate environment in the notebook's location"
   ]
  },
  {
   "cell_type": "markdown",
   "metadata": {},
   "source": [
    "Julia code will often be created from a variety of packages, such as `Plots.jl` in this case\n",
    "\n",
    "A project is defined by a `Project.toml` and `Manifest.toml` file in the same directory as the notebook (i.e. from the `@__DIR__` argument)\n",
    "\n",
    "We will discuss it more in [Julia Packages](packages.ipynb#packages), but these files provide a listing of packages and versions used by the code\n",
    "\n",
    "This ensures that an environment for running code is **reproducible**, so that anyone can replicate the precise set of package and versions used in construction\n",
    "\n",
    "\n",
    "<a id='import'></a>"
   ]
  },
  {
   "cell_type": "markdown",
   "metadata": {},
   "source": [
    "### Using Functions from a Package\n",
    "\n",
    "Some functions are built into the base Julia, such as `randn`, which returns a single draw from a normal distibution mean 0 and variance 1 if given no parameters"
   ]
  },
  {
   "cell_type": "code",
   "execution_count": 2,
   "metadata": {},
   "outputs": [
    {
     "data": {
      "text/plain": [
       "1.2760063317543875"
      ]
     },
     "execution_count": 2,
     "metadata": {},
     "output_type": "execute_result"
    }
   ],
   "source": [
    "randn()"
   ]
  },
  {
   "cell_type": "markdown",
   "metadata": {},
   "source": [
    "Other functions require importing all of the names from an external library"
   ]
  },
  {
   "cell_type": "code",
   "execution_count": 46,
   "metadata": {},
   "outputs": [
    {
     "data": {
      "image/svg+xml": [
       "<?xml version=\"1.0\" encoding=\"utf-8\"?>\n",
       "<svg xmlns=\"http://www.w3.org/2000/svg\" xmlns:xlink=\"http://www.w3.org/1999/xlink\" width=\"600\" height=\"400\" viewBox=\"0 0 2400 1600\">\n",
       "<defs>\n",
       "  <clipPath id=\"clip1400\">\n",
       "    <rect x=\"0\" y=\"0\" width=\"2000\" height=\"2000\"/>\n",
       "  </clipPath>\n",
       "</defs>\n",
       "<defs>\n",
       "  <clipPath id=\"clip1401\">\n",
       "    <rect x=\"0\" y=\"0\" width=\"2400\" height=\"1600\"/>\n",
       "  </clipPath>\n",
       "</defs>\n",
       "<polygon clip-path=\"url(#clip1401)\" points=\"\n",
       "0,1600 2400,1600 2400,0 0,0 \n",
       "  \" fill=\"#ffffff\" fill-opacity=\"1\"/>\n",
       "<defs>\n",
       "  <clipPath id=\"clip1402\">\n",
       "    <rect x=\"480\" y=\"0\" width=\"1681\" height=\"1600\"/>\n",
       "  </clipPath>\n",
       "</defs>\n",
       "<polygon clip-path=\"url(#clip1401)\" points=\"\n",
       "149.361,1503.47 2321.26,1503.47 2321.26,47.2441 149.361,47.2441 \n",
       "  \" fill=\"#ffffff\" fill-opacity=\"1\"/>\n",
       "<defs>\n",
       "  <clipPath id=\"clip1403\">\n",
       "    <rect x=\"149\" y=\"47\" width=\"2173\" height=\"1457\"/>\n",
       "  </clipPath>\n",
       "</defs>\n",
       "<polyline clip-path=\"url(#clip1403)\" style=\"stroke:#000000; stroke-width:2; stroke-opacity:0.1; fill:none\" points=\"\n",
       "  190.133,1503.47 190.133,47.2441 \n",
       "  \"/>\n",
       "<polyline clip-path=\"url(#clip1403)\" style=\"stroke:#000000; stroke-width:2; stroke-opacity:0.1; fill:none\" points=\"\n",
       "  707.547,1503.47 707.547,47.2441 \n",
       "  \"/>\n",
       "<polyline clip-path=\"url(#clip1403)\" style=\"stroke:#000000; stroke-width:2; stroke-opacity:0.1; fill:none\" points=\"\n",
       "  1224.96,1503.47 1224.96,47.2441 \n",
       "  \"/>\n",
       "<polyline clip-path=\"url(#clip1403)\" style=\"stroke:#000000; stroke-width:2; stroke-opacity:0.1; fill:none\" points=\"\n",
       "  1742.38,1503.47 1742.38,47.2441 \n",
       "  \"/>\n",
       "<polyline clip-path=\"url(#clip1403)\" style=\"stroke:#000000; stroke-width:2; stroke-opacity:0.1; fill:none\" points=\"\n",
       "  2259.79,1503.47 2259.79,47.2441 \n",
       "  \"/>\n",
       "<polyline clip-path=\"url(#clip1403)\" style=\"stroke:#000000; stroke-width:2; stroke-opacity:0.1; fill:none\" points=\"\n",
       "  149.361,1392.75 2321.26,1392.75 \n",
       "  \"/>\n",
       "<polyline clip-path=\"url(#clip1403)\" style=\"stroke:#000000; stroke-width:2; stroke-opacity:0.1; fill:none\" points=\"\n",
       "  149.361,1130.72 2321.26,1130.72 \n",
       "  \"/>\n",
       "<polyline clip-path=\"url(#clip1403)\" style=\"stroke:#000000; stroke-width:2; stroke-opacity:0.1; fill:none\" points=\"\n",
       "  149.361,868.69 2321.26,868.69 \n",
       "  \"/>\n",
       "<polyline clip-path=\"url(#clip1403)\" style=\"stroke:#000000; stroke-width:2; stroke-opacity:0.1; fill:none\" points=\"\n",
       "  149.361,606.66 2321.26,606.66 \n",
       "  \"/>\n",
       "<polyline clip-path=\"url(#clip1403)\" style=\"stroke:#000000; stroke-width:2; stroke-opacity:0.1; fill:none\" points=\"\n",
       "  149.361,344.63 2321.26,344.63 \n",
       "  \"/>\n",
       "<polyline clip-path=\"url(#clip1403)\" style=\"stroke:#000000; stroke-width:2; stroke-opacity:0.1; fill:none\" points=\"\n",
       "  149.361,82.6004 2321.26,82.6004 \n",
       "  \"/>\n",
       "<polyline clip-path=\"url(#clip1401)\" style=\"stroke:#000000; stroke-width:4; stroke-opacity:1; fill:none\" points=\"\n",
       "  149.361,1503.47 2321.26,1503.47 \n",
       "  \"/>\n",
       "<polyline clip-path=\"url(#clip1401)\" style=\"stroke:#000000; stroke-width:4; stroke-opacity:1; fill:none\" points=\"\n",
       "  149.361,1503.47 149.361,47.2441 \n",
       "  \"/>\n",
       "<polyline clip-path=\"url(#clip1401)\" style=\"stroke:#000000; stroke-width:4; stroke-opacity:1; fill:none\" points=\"\n",
       "  190.133,1503.47 190.133,1481.63 \n",
       "  \"/>\n",
       "<polyline clip-path=\"url(#clip1401)\" style=\"stroke:#000000; stroke-width:4; stroke-opacity:1; fill:none\" points=\"\n",
       "  707.547,1503.47 707.547,1481.63 \n",
       "  \"/>\n",
       "<polyline clip-path=\"url(#clip1401)\" style=\"stroke:#000000; stroke-width:4; stroke-opacity:1; fill:none\" points=\"\n",
       "  1224.96,1503.47 1224.96,1481.63 \n",
       "  \"/>\n",
       "<polyline clip-path=\"url(#clip1401)\" style=\"stroke:#000000; stroke-width:4; stroke-opacity:1; fill:none\" points=\"\n",
       "  1742.38,1503.47 1742.38,1481.63 \n",
       "  \"/>\n",
       "<polyline clip-path=\"url(#clip1401)\" style=\"stroke:#000000; stroke-width:4; stroke-opacity:1; fill:none\" points=\"\n",
       "  2259.79,1503.47 2259.79,1481.63 \n",
       "  \"/>\n",
       "<polyline clip-path=\"url(#clip1401)\" style=\"stroke:#000000; stroke-width:4; stroke-opacity:1; fill:none\" points=\"\n",
       "  149.361,1392.75 181.939,1392.75 \n",
       "  \"/>\n",
       "<polyline clip-path=\"url(#clip1401)\" style=\"stroke:#000000; stroke-width:4; stroke-opacity:1; fill:none\" points=\"\n",
       "  149.361,1130.72 181.939,1130.72 \n",
       "  \"/>\n",
       "<polyline clip-path=\"url(#clip1401)\" style=\"stroke:#000000; stroke-width:4; stroke-opacity:1; fill:none\" points=\"\n",
       "  149.361,868.69 181.939,868.69 \n",
       "  \"/>\n",
       "<polyline clip-path=\"url(#clip1401)\" style=\"stroke:#000000; stroke-width:4; stroke-opacity:1; fill:none\" points=\"\n",
       "  149.361,606.66 181.939,606.66 \n",
       "  \"/>\n",
       "<polyline clip-path=\"url(#clip1401)\" style=\"stroke:#000000; stroke-width:4; stroke-opacity:1; fill:none\" points=\"\n",
       "  149.361,344.63 181.939,344.63 \n",
       "  \"/>\n",
       "<polyline clip-path=\"url(#clip1401)\" style=\"stroke:#000000; stroke-width:4; stroke-opacity:1; fill:none\" points=\"\n",
       "  149.361,82.6004 181.939,82.6004 \n",
       "  \"/>\n",
       "<g clip-path=\"url(#clip1401)\">\n",
       "<text style=\"fill:#000000; fill-opacity:1; font-family:Arial,Helvetica Neue,Helvetica,sans-serif; font-size:48; text-anchor:middle;\" transform=\"rotate(0, 190.133, 1557.47)\" x=\"190.133\" y=\"1557.47\">0</text>\n",
       "</g>\n",
       "<g clip-path=\"url(#clip1401)\">\n",
       "<text style=\"fill:#000000; fill-opacity:1; font-family:Arial,Helvetica Neue,Helvetica,sans-serif; font-size:48; text-anchor:middle;\" transform=\"rotate(0, 707.547, 1557.47)\" x=\"707.547\" y=\"1557.47\">25</text>\n",
       "</g>\n",
       "<g clip-path=\"url(#clip1401)\">\n",
       "<text style=\"fill:#000000; fill-opacity:1; font-family:Arial,Helvetica Neue,Helvetica,sans-serif; font-size:48; text-anchor:middle;\" transform=\"rotate(0, 1224.96, 1557.47)\" x=\"1224.96\" y=\"1557.47\">50</text>\n",
       "</g>\n",
       "<g clip-path=\"url(#clip1401)\">\n",
       "<text style=\"fill:#000000; fill-opacity:1; font-family:Arial,Helvetica Neue,Helvetica,sans-serif; font-size:48; text-anchor:middle;\" transform=\"rotate(0, 1742.38, 1557.47)\" x=\"1742.38\" y=\"1557.47\">75</text>\n",
       "</g>\n",
       "<g clip-path=\"url(#clip1401)\">\n",
       "<text style=\"fill:#000000; fill-opacity:1; font-family:Arial,Helvetica Neue,Helvetica,sans-serif; font-size:48; text-anchor:middle;\" transform=\"rotate(0, 2259.79, 1557.47)\" x=\"2259.79\" y=\"1557.47\">100</text>\n",
       "</g>\n",
       "<g clip-path=\"url(#clip1401)\">\n",
       "<text style=\"fill:#000000; fill-opacity:1; font-family:Arial,Helvetica Neue,Helvetica,sans-serif; font-size:48; text-anchor:end;\" transform=\"rotate(0, 125.361, 1410.25)\" x=\"125.361\" y=\"1410.25\">-2</text>\n",
       "</g>\n",
       "<g clip-path=\"url(#clip1401)\">\n",
       "<text style=\"fill:#000000; fill-opacity:1; font-family:Arial,Helvetica Neue,Helvetica,sans-serif; font-size:48; text-anchor:end;\" transform=\"rotate(0, 125.361, 1148.22)\" x=\"125.361\" y=\"1148.22\">-1</text>\n",
       "</g>\n",
       "<g clip-path=\"url(#clip1401)\">\n",
       "<text style=\"fill:#000000; fill-opacity:1; font-family:Arial,Helvetica Neue,Helvetica,sans-serif; font-size:48; text-anchor:end;\" transform=\"rotate(0, 125.361, 886.19)\" x=\"125.361\" y=\"886.19\">0</text>\n",
       "</g>\n",
       "<g clip-path=\"url(#clip1401)\">\n",
       "<text style=\"fill:#000000; fill-opacity:1; font-family:Arial,Helvetica Neue,Helvetica,sans-serif; font-size:48; text-anchor:end;\" transform=\"rotate(0, 125.361, 624.16)\" x=\"125.361\" y=\"624.16\">1</text>\n",
       "</g>\n",
       "<g clip-path=\"url(#clip1401)\">\n",
       "<text style=\"fill:#000000; fill-opacity:1; font-family:Arial,Helvetica Neue,Helvetica,sans-serif; font-size:48; text-anchor:end;\" transform=\"rotate(0, 125.361, 362.13)\" x=\"125.361\" y=\"362.13\">2</text>\n",
       "</g>\n",
       "<g clip-path=\"url(#clip1401)\">\n",
       "<text style=\"fill:#000000; fill-opacity:1; font-family:Arial,Helvetica Neue,Helvetica,sans-serif; font-size:48; text-anchor:end;\" transform=\"rotate(0, 125.361, 100.1)\" x=\"125.361\" y=\"100.1\">3</text>\n",
       "</g>\n",
       "<polyline clip-path=\"url(#clip1403)\" style=\"stroke:#009af9; stroke-width:4; stroke-opacity:1; fill:none\" points=\"\n",
       "  210.829,1244.11 231.526,431.597 252.223,816.624 272.919,1056.94 293.616,305.302 314.312,816.498 335.009,1100.49 355.706,550.096 376.402,846.504 397.099,472.116 \n",
       "  417.795,419.207 438.492,880.339 459.188,991.806 479.885,1036.43 500.582,453.656 521.278,841.878 541.975,689.072 562.671,1242.53 583.368,1321.43 604.065,569.015 \n",
       "  624.761,517.783 645.458,686.236 666.154,984.889 686.851,909.035 707.547,1115.53 728.244,1003.12 748.941,700.216 769.637,778.192 790.334,523.878 811.03,953.593 \n",
       "  831.727,663.803 852.423,1120.25 873.12,313.285 893.817,981.762 914.513,733.217 935.21,954.668 955.906,868.522 976.603,756.599 997.3,743.28 1018,656.608 \n",
       "  1038.69,735.204 1059.39,889.286 1080.09,1062.56 1100.78,1202.91 1121.48,1261.2 1142.18,1157.98 1162.87,580.548 1183.57,1153 1204.27,502.052 1224.96,986.779 \n",
       "  1245.66,531.561 1266.36,984.991 1287.05,901.704 1307.75,1229.08 1328.44,818.247 1349.14,1204.31 1369.84,625.951 1390.53,909.71 1411.23,1462.26 1431.93,959.22 \n",
       "  1452.62,767.509 1473.32,443.178 1494.02,1000.55 1514.71,852.39 1535.41,1075.1 1556.11,435.267 1576.8,985.654 1597.5,650.874 1618.2,1151.34 1638.89,1253.84 \n",
       "  1659.59,1069.19 1680.29,958.159 1700.98,669.241 1721.68,860.974 1742.38,1176.55 1763.07,1343.11 1783.77,968.458 1804.47,1119.46 1825.16,736.24 1845.86,703.901 \n",
       "  1866.56,903.23 1887.25,1136.61 1907.95,960.408 1928.65,1245.11 1949.34,1098.65 1970.04,554.851 1990.74,884.046 2011.43,874.39 2032.13,585.239 2052.83,945.092 \n",
       "  2073.52,761.348 2094.22,821.584 2114.91,718.699 2135.61,763.059 2156.31,798.324 2177,1213.01 2197.7,991.953 2218.4,601.946 2239.09,803.035 2259.79,88.4582 \n",
       "  \n",
       "  \"/>\n",
       "<polygon clip-path=\"url(#clip1401)\" points=\"\n",
       "1958.43,251.724 2249.26,251.724 2249.26,130.764 1958.43,130.764 \n",
       "  \" fill=\"#ffffff\" fill-opacity=\"1\"/>\n",
       "<polyline clip-path=\"url(#clip1401)\" style=\"stroke:#000000; stroke-width:4; stroke-opacity:1; fill:none\" points=\"\n",
       "  1958.43,251.724 2249.26,251.724 2249.26,130.764 1958.43,130.764 1958.43,251.724 \n",
       "  \"/>\n",
       "<polyline clip-path=\"url(#clip1401)\" style=\"stroke:#009af9; stroke-width:4; stroke-opacity:1; fill:none\" points=\"\n",
       "  1982.43,191.244 2126.43,191.244 \n",
       "  \"/>\n",
       "<g clip-path=\"url(#clip1401)\">\n",
       "<text style=\"fill:#000000; fill-opacity:1; font-family:Arial,Helvetica Neue,Helvetica,sans-serif; font-size:48; text-anchor:start;\" transform=\"rotate(0, 2150.43, 208.744)\" x=\"2150.43\" y=\"208.744\">y1</text>\n",
       "</g>\n",
       "</svg>\n"
      ]
     },
     "execution_count": 46,
     "metadata": {},
     "output_type": "execute_result"
    }
   ],
   "source": [
    "using Plots, LinearAlgebra, Statistics\n",
    "\n",
    "n = 100\n",
    "ϵ = randn(n)\n",
    "plot(1:n, ϵ)"
   ]
  },
  {
   "cell_type": "markdown",
   "metadata": {},
   "source": [
    "Let’s break this down and see how it works\n",
    "\n",
    "The effect of the statement `using Plots` is to make all the names exported by the `Plots` module available\n",
    "\n",
    "Because we used `Pkg.activate` previously, it will use whatever version of `Plots.jl` that was specified in the `Project.toml` and `Manifest.toml` files\n",
    "\n",
    "The other packages `LinearAlgebra` and `Statistics` are base Julia libraries, but require an explicit using\n",
    "\n",
    "The arguments to `plot` are the numbers `1,2, ..., n` for the x-axis, a vector `ϵ` for the y-axis, and (optional) settings\n",
    "\n",
    "The function `randn(n)` returns a column vector `n` random draws from a normal distribution mean 0 and variance 1"
   ]
  },
  {
   "cell_type": "markdown",
   "metadata": {},
   "source": [
    "### Arrays\n",
    "\n",
    "As a language intended for mathematical and scientific computing, Julia has strong support for using symbols in the source code\n",
    "\n",
    "In the above case, the `ϵ` and many other symbols can be typed in most Julia editor by providing the LaTeX and `<TAB>`, i.e. `\\epsilon<TAB>`\n",
    "\n",
    "The return type is one of the most fundamental Julia data types: an array"
   ]
  },
  {
   "cell_type": "code",
   "execution_count": 4,
   "metadata": {},
   "outputs": [
    {
     "data": {
      "text/plain": [
       "Array{Float64,1}"
      ]
     },
     "execution_count": 4,
     "metadata": {},
     "output_type": "execute_result"
    }
   ],
   "source": [
    "typeof(ϵ)"
   ]
  },
  {
   "cell_type": "code",
   "execution_count": 5,
   "metadata": {},
   "outputs": [
    {
     "data": {
      "text/plain": [
       "5-element Array{Float64,1}:\n",
       " 0.17120859371158728  \n",
       " 0.23568012816814454  \n",
       " 0.0019648078795854625\n",
       " 0.3463106954694127   \n",
       " 0.09946971180188399  "
      ]
     },
     "execution_count": 5,
     "metadata": {},
     "output_type": "execute_result"
    }
   ],
   "source": [
    "ϵ[1:5]"
   ]
  },
  {
   "cell_type": "markdown",
   "metadata": {},
   "source": [
    "The information from `typeof()` tells us that `ϵ` is an array of 64 bit floating point values, of dimension 1\n",
    "\n",
    "In Julia, one-dimensional arrays are interpreted as column vectors for purposes of linear algebra\n",
    "\n",
    "The `ϵ[1:5]` returns an array of the first 5 elements of `ϵ`\n",
    "\n",
    "Notice from the above that\n",
    "\n",
    "- array indices start at 1 (like MATLAB and Fortran, but unlike Python and C)  \n",
    "- array elements are referenced using square brackets (unlike MATLAB and Fortran)  \n",
    "\n",
    "\n",
    "To get **help and examples** in Jupyter or other julia editor, use the `?` before a function name or syntax"
   ]
  },
  {
   "cell_type": "code",
   "execution_count": 6,
   "metadata": {},
   "outputs": [
    {
     "name": "stdout",
     "output_type": "stream",
     "text": [
      "search: \u001b[0m\u001b[1mt\u001b[22m\u001b[0m\u001b[1my\u001b[22m\u001b[0m\u001b[1mp\u001b[22m\u001b[0m\u001b[1me\u001b[22m\u001b[0m\u001b[1mo\u001b[22m\u001b[0m\u001b[1mf\u001b[22m \u001b[0m\u001b[1mt\u001b[22m\u001b[0m\u001b[1my\u001b[22m\u001b[0m\u001b[1mp\u001b[22m\u001b[0m\u001b[1me\u001b[22mj\u001b[0m\u001b[1mo\u001b[22min \u001b[0m\u001b[1mT\u001b[22m\u001b[0m\u001b[1my\u001b[22m\u001b[0m\u001b[1mp\u001b[22m\u001b[0m\u001b[1me\u001b[22mErr\u001b[0m\u001b[1mo\u001b[22mr\n",
      "\n"
     ]
    },
    {
     "data": {
      "text/markdown": [
       "```\n",
       "typeof(x)\n",
       "```\n",
       "\n",
       "Get the concrete type of `x`.\n",
       "\n",
       "# Examples\n",
       "\n",
       "```jldoctest\n",
       "julia> a = 1//2;\n",
       "\n",
       "julia> typeof(a)\n",
       "Rational{Int64}\n",
       "\n",
       "julia> M = [1 2; 3.5 4];\n",
       "\n",
       "julia> typeof(M)\n",
       "Array{Float64,2}\n",
       "```\n"
      ],
      "text/plain": [
       "\u001b[36m  typeof(x)\u001b[39m\n",
       "\n",
       "  Get the concrete type of \u001b[36mx\u001b[39m.\n",
       "\n",
       "\u001b[1m  Examples\u001b[22m\n",
       "\u001b[1m  ≡≡≡≡≡≡≡≡≡≡\u001b[22m\n",
       "\n",
       "\u001b[36m  julia> a = 1//2;\u001b[39m\n",
       "\u001b[36m  \u001b[39m\n",
       "\u001b[36m  julia> typeof(a)\u001b[39m\n",
       "\u001b[36m  Rational{Int64}\u001b[39m\n",
       "\u001b[36m  \u001b[39m\n",
       "\u001b[36m  julia> M = [1 2; 3.5 4];\u001b[39m\n",
       "\u001b[36m  \u001b[39m\n",
       "\u001b[36m  julia> typeof(M)\u001b[39m\n",
       "\u001b[36m  Array{Float64,2}\u001b[39m"
      ]
     },
     "execution_count": 6,
     "metadata": {},
     "output_type": "execute_result"
    }
   ],
   "source": [
    "?typeof"
   ]
  },
  {
   "cell_type": "markdown",
   "metadata": {},
   "source": [
    "### For Loops\n",
    "\n",
    "Although there’s no need in terms of what we wanted to achieve with our\n",
    "program, for the sake of learning syntax let’s rewrite our program to use a\n",
    "`for` loop for generating the data\n",
    "\n",
    ">**Note**\n",
    ">\n",
    ">In the current version of Julia v1.0, the rules for variables accessed in `for` and `while` loops can be sensitive to how they are used (and variables can sometimes require a `global` as part of the declaration).  We strongly advise you to avoid top level (i.e. in the REPL or outside of functions) `for` and `while` loops outside of Jupyter notebooks.  This issue does not apply when used within functions\n",
    "\n",
    "Starting with the most direct version, and pretending we are in a world where randn can only return a single value"
   ]
  },
  {
   "cell_type": "code",
   "execution_count": 7,
   "metadata": {},
   "outputs": [],
   "source": [
    "# poor style\n",
    "n = 100\n",
    "ϵ = zeros(n)\n",
    "for i in 1:n\n",
    "    ϵ[i] = randn()\n",
    "end"
   ]
  },
  {
   "cell_type": "markdown",
   "metadata": {},
   "source": [
    "Here we first declared `ϵ` to be a vector of `n` numbers, initialized by the floating point `0.0`\n",
    "\n",
    "The `for` loop then populates this array by successive calls to `randn()`\n",
    "\n",
    "Like all code blocks in Julia, the end of the `for` loop code block (which is just one line here) is indicated by the keyword `end`\n",
    "\n",
    "The word `in` from the `for` loop can be replaced by etiher `∈` or `=`\n",
    "\n",
    "The index variable is looped over for all integers from `1:n`–but this does not actually create a vector of those indices\n",
    "\n",
    "Instead, it creates an **iterator** that is looped over — in this case the **range** of integers from `1` to `n`\n",
    "\n",
    "While this example successfully fills in `ϵ` with the correct values, it is very indirect as the connection between the index `i` and the `ϵ` vector is unclear.\n",
    "\n",
    "To fix this, use `eachindex`"
   ]
  },
  {
   "cell_type": "code",
   "execution_count": 8,
   "metadata": {},
   "outputs": [],
   "source": [
    "# better style\n",
    "n = 100\n",
    "ϵ = zeros(n)\n",
    "for i in eachindex(ϵ)\n",
    "    ϵ[i] = randn()\n",
    "end"
   ]
  },
  {
   "cell_type": "markdown",
   "metadata": {},
   "source": [
    "Here, `eachindex(ϵ)` returns an interator of indices which can be used to access `ϵ`\n",
    "\n",
    "While iterators are memory efficient because the elements are generated on the fly rather than stored in memory, the main benefit is (1) it can lead to code which is clearer and less prone to typos; and (2) it allows the compiler flexibility to creatively generate fast code\n",
    "\n",
    "In Julia you can also loop directly over arrays themselves, like so"
   ]
  },
  {
   "cell_type": "code",
   "execution_count": 9,
   "metadata": {},
   "outputs": [
    {
     "data": {
      "text/plain": [
       "0.24954642224566076"
      ]
     },
     "execution_count": 9,
     "metadata": {},
     "output_type": "execute_result"
    }
   ],
   "source": [
    "ϵ_sum = 0.0 # careful to use 0.0 here, instead of 0!\n",
    "m = 5\n",
    "for ϵ_val in ϵ[1:m]\n",
    "    ϵ_sum = ϵ_sum + ϵ_val\n",
    "end\n",
    "ϵ_mean = ϵ_sum / m"
   ]
  },
  {
   "cell_type": "markdown",
   "metadata": {},
   "source": [
    "where `ϵ[1:m]` returns the elements of the vector at indices `1` to `m`\n",
    "\n",
    "Of course, in Julia there are built in functions to perform this calculation which we can compare against"
   ]
  },
  {
   "cell_type": "code",
   "execution_count": 10,
   "metadata": {},
   "outputs": [
    {
     "data": {
      "text/plain": [
       "true"
      ]
     },
     "execution_count": 10,
     "metadata": {},
     "output_type": "execute_result"
    }
   ],
   "source": [
    "ϵ_mean ≈ mean(ϵ[1:m])\n",
    "ϵ_mean ≈ sum(ϵ[1:m])/m"
   ]
  },
  {
   "cell_type": "markdown",
   "metadata": {},
   "source": [
    "In these examples, note the use of `≈` to test equality, rather than `==`, which is appropriate for integers and other types\n",
    "\n",
    "Approximately equal, typed with `\\approx<TAB>`, is the appropriate way to compare any floating point numbers due to the standard issues of [floating point math](https://floating-point-gui.de/)\n",
    "\n",
    "\n",
    "<a id='user-defined-functions'></a>"
   ]
  },
  {
   "cell_type": "markdown",
   "metadata": {},
   "source": [
    "### User-Defined Functions\n",
    "\n",
    "For the sake of the exercise, let’s define  go back to the `for` loop but restructure our program so that generation of random variables takes place within a user-defined function\n",
    "\n",
    "To make things more interesting, instead of directly plotting the draws from the distribution, lets plot the square of the draws"
   ]
  },
  {
   "cell_type": "code",
   "execution_count": 11,
   "metadata": {},
   "outputs": [
    {
     "data": {
      "image/svg+xml": [
       "<?xml version=\"1.0\" encoding=\"utf-8\"?>\n",
       "<svg xmlns=\"http://www.w3.org/2000/svg\" xmlns:xlink=\"http://www.w3.org/1999/xlink\" width=\"600\" height=\"400\" viewBox=\"0 0 2400 1600\">\n",
       "<defs>\n",
       "  <clipPath id=\"clip0400\">\n",
       "    <rect x=\"0\" y=\"0\" width=\"2000\" height=\"2000\"/>\n",
       "  </clipPath>\n",
       "</defs>\n",
       "<defs>\n",
       "  <clipPath id=\"clip0401\">\n",
       "    <rect x=\"0\" y=\"0\" width=\"2400\" height=\"1600\"/>\n",
       "  </clipPath>\n",
       "</defs>\n",
       "<polygon clip-path=\"url(#clip0401)\" points=\"\n",
       "0,1600 2400,1600 2400,0 0,0 \n",
       "  \" fill=\"#ffffff\" fill-opacity=\"1\"/>\n",
       "<defs>\n",
       "  <clipPath id=\"clip0402\">\n",
       "    <rect x=\"480\" y=\"0\" width=\"1681\" height=\"1600\"/>\n",
       "  </clipPath>\n",
       "</defs>\n",
       "<polygon clip-path=\"url(#clip0401)\" points=\"\n",
       "161.394,1503.47 2321.26,1503.47 2321.26,47.2441 161.394,47.2441 \n",
       "  \" fill=\"#ffffff\" fill-opacity=\"1\"/>\n",
       "<defs>\n",
       "  <clipPath id=\"clip0403\">\n",
       "    <rect x=\"161\" y=\"47\" width=\"2161\" height=\"1457\"/>\n",
       "  </clipPath>\n",
       "</defs>\n",
       "<polyline clip-path=\"url(#clip0403)\" style=\"stroke:#000000; stroke-width:2; stroke-opacity:0.1; fill:none\" points=\"\n",
       "  448.923,1503.47 448.923,47.2441 \n",
       "  \"/>\n",
       "<polyline clip-path=\"url(#clip0403)\" style=\"stroke:#000000; stroke-width:2; stroke-opacity:0.1; fill:none\" points=\"\n",
       "  901.725,1503.47 901.725,47.2441 \n",
       "  \"/>\n",
       "<polyline clip-path=\"url(#clip0403)\" style=\"stroke:#000000; stroke-width:2; stroke-opacity:0.1; fill:none\" points=\"\n",
       "  1354.53,1503.47 1354.53,47.2441 \n",
       "  \"/>\n",
       "<polyline clip-path=\"url(#clip0403)\" style=\"stroke:#000000; stroke-width:2; stroke-opacity:0.1; fill:none\" points=\"\n",
       "  1807.33,1503.47 1807.33,47.2441 \n",
       "  \"/>\n",
       "<polyline clip-path=\"url(#clip0403)\" style=\"stroke:#000000; stroke-width:2; stroke-opacity:0.1; fill:none\" points=\"\n",
       "  2260.13,1503.47 2260.13,47.2441 \n",
       "  \"/>\n",
       "<polyline clip-path=\"url(#clip0403)\" style=\"stroke:#000000; stroke-width:2; stroke-opacity:0.1; fill:none\" points=\"\n",
       "  161.394,1462.87 2321.26,1462.87 \n",
       "  \"/>\n",
       "<polyline clip-path=\"url(#clip0403)\" style=\"stroke:#000000; stroke-width:2; stroke-opacity:0.1; fill:none\" points=\"\n",
       "  161.394,1197.76 2321.26,1197.76 \n",
       "  \"/>\n",
       "<polyline clip-path=\"url(#clip0403)\" style=\"stroke:#000000; stroke-width:2; stroke-opacity:0.1; fill:none\" points=\"\n",
       "  161.394,932.65 2321.26,932.65 \n",
       "  \"/>\n",
       "<polyline clip-path=\"url(#clip0403)\" style=\"stroke:#000000; stroke-width:2; stroke-opacity:0.1; fill:none\" points=\"\n",
       "  161.394,667.54 2321.26,667.54 \n",
       "  \"/>\n",
       "<polyline clip-path=\"url(#clip0403)\" style=\"stroke:#000000; stroke-width:2; stroke-opacity:0.1; fill:none\" points=\"\n",
       "  161.394,402.43 2321.26,402.43 \n",
       "  \"/>\n",
       "<polyline clip-path=\"url(#clip0403)\" style=\"stroke:#000000; stroke-width:2; stroke-opacity:0.1; fill:none\" points=\"\n",
       "  161.394,137.32 2321.26,137.32 \n",
       "  \"/>\n",
       "<polyline clip-path=\"url(#clip0401)\" style=\"stroke:#000000; stroke-width:4; stroke-opacity:1; fill:none\" points=\"\n",
       "  161.394,1503.47 2321.26,1503.47 \n",
       "  \"/>\n",
       "<polyline clip-path=\"url(#clip0401)\" style=\"stroke:#000000; stroke-width:4; stroke-opacity:1; fill:none\" points=\"\n",
       "  161.394,1503.47 161.394,47.2441 \n",
       "  \"/>\n",
       "<polyline clip-path=\"url(#clip0401)\" style=\"stroke:#000000; stroke-width:4; stroke-opacity:1; fill:none\" points=\"\n",
       "  448.923,1503.47 448.923,1481.63 \n",
       "  \"/>\n",
       "<polyline clip-path=\"url(#clip0401)\" style=\"stroke:#000000; stroke-width:4; stroke-opacity:1; fill:none\" points=\"\n",
       "  901.725,1503.47 901.725,1481.63 \n",
       "  \"/>\n",
       "<polyline clip-path=\"url(#clip0401)\" style=\"stroke:#000000; stroke-width:4; stroke-opacity:1; fill:none\" points=\"\n",
       "  1354.53,1503.47 1354.53,1481.63 \n",
       "  \"/>\n",
       "<polyline clip-path=\"url(#clip0401)\" style=\"stroke:#000000; stroke-width:4; stroke-opacity:1; fill:none\" points=\"\n",
       "  1807.33,1503.47 1807.33,1481.63 \n",
       "  \"/>\n",
       "<polyline clip-path=\"url(#clip0401)\" style=\"stroke:#000000; stroke-width:4; stroke-opacity:1; fill:none\" points=\"\n",
       "  2260.13,1503.47 2260.13,1481.63 \n",
       "  \"/>\n",
       "<polyline clip-path=\"url(#clip0401)\" style=\"stroke:#000000; stroke-width:4; stroke-opacity:1; fill:none\" points=\"\n",
       "  161.394,1462.87 193.792,1462.87 \n",
       "  \"/>\n",
       "<polyline clip-path=\"url(#clip0401)\" style=\"stroke:#000000; stroke-width:4; stroke-opacity:1; fill:none\" points=\"\n",
       "  161.394,1197.76 193.792,1197.76 \n",
       "  \"/>\n",
       "<polyline clip-path=\"url(#clip0401)\" style=\"stroke:#000000; stroke-width:4; stroke-opacity:1; fill:none\" points=\"\n",
       "  161.394,932.65 193.792,932.65 \n",
       "  \"/>\n",
       "<polyline clip-path=\"url(#clip0401)\" style=\"stroke:#000000; stroke-width:4; stroke-opacity:1; fill:none\" points=\"\n",
       "  161.394,667.54 193.792,667.54 \n",
       "  \"/>\n",
       "<polyline clip-path=\"url(#clip0401)\" style=\"stroke:#000000; stroke-width:4; stroke-opacity:1; fill:none\" points=\"\n",
       "  161.394,402.43 193.792,402.43 \n",
       "  \"/>\n",
       "<polyline clip-path=\"url(#clip0401)\" style=\"stroke:#000000; stroke-width:4; stroke-opacity:1; fill:none\" points=\"\n",
       "  161.394,137.32 193.792,137.32 \n",
       "  \"/>\n",
       "<g clip-path=\"url(#clip0401)\">\n",
       "<text style=\"fill:#000000; fill-opacity:1; font-family:Arial,Helvetica Neue,Helvetica,sans-serif; font-size:48; text-anchor:middle;\" transform=\"rotate(0, 448.923, 1557.47)\" x=\"448.923\" y=\"1557.47\">2</text>\n",
       "</g>\n",
       "<g clip-path=\"url(#clip0401)\">\n",
       "<text style=\"fill:#000000; fill-opacity:1; font-family:Arial,Helvetica Neue,Helvetica,sans-serif; font-size:48; text-anchor:middle;\" transform=\"rotate(0, 901.725, 1557.47)\" x=\"901.725\" y=\"1557.47\">4</text>\n",
       "</g>\n",
       "<g clip-path=\"url(#clip0401)\">\n",
       "<text style=\"fill:#000000; fill-opacity:1; font-family:Arial,Helvetica Neue,Helvetica,sans-serif; font-size:48; text-anchor:middle;\" transform=\"rotate(0, 1354.53, 1557.47)\" x=\"1354.53\" y=\"1557.47\">6</text>\n",
       "</g>\n",
       "<g clip-path=\"url(#clip0401)\">\n",
       "<text style=\"fill:#000000; fill-opacity:1; font-family:Arial,Helvetica Neue,Helvetica,sans-serif; font-size:48; text-anchor:middle;\" transform=\"rotate(0, 1807.33, 1557.47)\" x=\"1807.33\" y=\"1557.47\">8</text>\n",
       "</g>\n",
       "<g clip-path=\"url(#clip0401)\">\n",
       "<text style=\"fill:#000000; fill-opacity:1; font-family:Arial,Helvetica Neue,Helvetica,sans-serif; font-size:48; text-anchor:middle;\" transform=\"rotate(0, 2260.13, 1557.47)\" x=\"2260.13\" y=\"1557.47\">10</text>\n",
       "</g>\n",
       "<g clip-path=\"url(#clip0401)\">\n",
       "<text style=\"fill:#000000; fill-opacity:1; font-family:Arial,Helvetica Neue,Helvetica,sans-serif; font-size:48; text-anchor:end;\" transform=\"rotate(0, 137.394, 1480.37)\" x=\"137.394\" y=\"1480.37\">0.0</text>\n",
       "</g>\n",
       "<g clip-path=\"url(#clip0401)\">\n",
       "<text style=\"fill:#000000; fill-opacity:1; font-family:Arial,Helvetica Neue,Helvetica,sans-serif; font-size:48; text-anchor:end;\" transform=\"rotate(0, 137.394, 1215.26)\" x=\"137.394\" y=\"1215.26\">0.5</text>\n",
       "</g>\n",
       "<g clip-path=\"url(#clip0401)\">\n",
       "<text style=\"fill:#000000; fill-opacity:1; font-family:Arial,Helvetica Neue,Helvetica,sans-serif; font-size:48; text-anchor:end;\" transform=\"rotate(0, 137.394, 950.15)\" x=\"137.394\" y=\"950.15\">1.0</text>\n",
       "</g>\n",
       "<g clip-path=\"url(#clip0401)\">\n",
       "<text style=\"fill:#000000; fill-opacity:1; font-family:Arial,Helvetica Neue,Helvetica,sans-serif; font-size:48; text-anchor:end;\" transform=\"rotate(0, 137.394, 685.04)\" x=\"137.394\" y=\"685.04\">1.5</text>\n",
       "</g>\n",
       "<g clip-path=\"url(#clip0401)\">\n",
       "<text style=\"fill:#000000; fill-opacity:1; font-family:Arial,Helvetica Neue,Helvetica,sans-serif; font-size:48; text-anchor:end;\" transform=\"rotate(0, 137.394, 419.93)\" x=\"137.394\" y=\"419.93\">2.0</text>\n",
       "</g>\n",
       "<g clip-path=\"url(#clip0401)\">\n",
       "<text style=\"fill:#000000; fill-opacity:1; font-family:Arial,Helvetica Neue,Helvetica,sans-serif; font-size:48; text-anchor:end;\" transform=\"rotate(0, 137.394, 154.82)\" x=\"137.394\" y=\"154.82\">2.5</text>\n",
       "</g>\n",
       "<polyline clip-path=\"url(#clip0403)\" style=\"stroke:#009af9; stroke-width:4; stroke-opacity:1; fill:none\" points=\"\n",
       "  222.522,529.235 448.923,1002.26 675.324,1286.47 901.725,885.608 1128.13,88.4582 1354.53,1402.64 1580.93,1184.11 1807.33,1447.47 2033.73,1462.26 2260.13,991.103 \n",
       "  \n",
       "  \"/>\n",
       "<polygon clip-path=\"url(#clip0401)\" points=\"\n",
       "1958.43,251.724 2249.26,251.724 2249.26,130.764 1958.43,130.764 \n",
       "  \" fill=\"#ffffff\" fill-opacity=\"1\"/>\n",
       "<polyline clip-path=\"url(#clip0401)\" style=\"stroke:#000000; stroke-width:4; stroke-opacity:1; fill:none\" points=\"\n",
       "  1958.43,251.724 2249.26,251.724 2249.26,130.764 1958.43,130.764 1958.43,251.724 \n",
       "  \"/>\n",
       "<polyline clip-path=\"url(#clip0401)\" style=\"stroke:#009af9; stroke-width:4; stroke-opacity:1; fill:none\" points=\"\n",
       "  1982.43,191.244 2126.43,191.244 \n",
       "  \"/>\n",
       "<g clip-path=\"url(#clip0401)\">\n",
       "<text style=\"fill:#000000; fill-opacity:1; font-family:Arial,Helvetica Neue,Helvetica,sans-serif; font-size:48; text-anchor:start;\" transform=\"rotate(0, 2150.43, 208.744)\" x=\"2150.43\" y=\"208.744\">y1</text>\n",
       "</g>\n",
       "</svg>\n"
      ]
     },
     "execution_count": 11,
     "metadata": {},
     "output_type": "execute_result"
    }
   ],
   "source": [
    "# poor style\n",
    "function generatedata(n)\n",
    "    ϵ = zeros(n)\n",
    "    for i in eachindex(ϵ)\n",
    "        ϵ[i] = (randn())^2 # squaring the result\n",
    "    end\n",
    "    return ϵ\n",
    "end\n",
    "\n",
    "data = generatedata(10)\n",
    "plot(data)"
   ]
  },
  {
   "cell_type": "markdown",
   "metadata": {},
   "source": [
    "Here\n",
    "\n",
    "- `function` is a Julia keyword that indicates the start of a function definition  \n",
    "- `generatedata` is an arbitrary name for the function  \n",
    "- `return` is a keyword indicating the return value, as is often unnecessary  \n",
    "\n",
    "\n",
    "Let us make this example slightly better by “remembering” that `randn` can return a vectors"
   ]
  },
  {
   "cell_type": "code",
   "execution_count": 12,
   "metadata": {},
   "outputs": [
    {
     "data": {
      "text/plain": [
       "5-element Array{Float64,1}:\n",
       " 0.2283598000266085  \n",
       " 0.045764114159272756\n",
       " 6.751219033173633   \n",
       " 1.66427298734453    \n",
       " 0.5615065443854591  "
      ]
     },
     "execution_count": 12,
     "metadata": {},
     "output_type": "execute_result"
    }
   ],
   "source": [
    "# still poor style\n",
    "function generatedata(n)\n",
    "    ϵ = randn(n) # use built in function\n",
    "\n",
    "    for i in eachindex(ϵ)\n",
    "        ϵ[i] = ϵ[i]^2 # squaring the result\n",
    "    end\n",
    "\n",
    "    return ϵ\n",
    "end\n",
    "data = generatedata(5)"
   ]
  },
  {
   "cell_type": "markdown",
   "metadata": {},
   "source": [
    "While better, the looping over the i index to square the results is difficult to read\n",
    "\n",
    "Instead of looping, we can instead **broadcast** the `^2` square function over a vector using a `.`\n",
    "\n",
    "To be clear, unlike Python, R, and Matlab (to a lesser extent), the reason to drop the `for` is **not** for performance reasons, but rather because of code clarity\n",
    "\n",
    "Loops of this sort are at least as efficient than vectorized approach in compiled languages like Julia, so use a for loop if you think it makes the code more clear\n",
    "\n",
    "Furthermore, we can just drop the `return` because functions return the last calculation by default, which leads to"
   ]
  },
  {
   "cell_type": "code",
   "execution_count": 13,
   "metadata": {},
   "outputs": [
    {
     "data": {
      "text/plain": [
       "5-element Array{Float64,1}:\n",
       " 0.037685978264809225 \n",
       " 3.5757424879892206   \n",
       " 0.2222695036278529   \n",
       " 0.0007659036235474458\n",
       " 0.0013103815452503375"
      ]
     },
     "execution_count": 13,
     "metadata": {},
     "output_type": "execute_result"
    }
   ],
   "source": [
    "# better style\n",
    "function generatedata(n)\n",
    "    ϵ = randn(n) # use built in function\n",
    "    return ϵ.^2\n",
    " end\n",
    "data = generatedata(5)"
   ]
  },
  {
   "cell_type": "markdown",
   "metadata": {},
   "source": [
    "We can even drop the `function` if we define it on a single line"
   ]
  },
  {
   "cell_type": "code",
   "execution_count": 14,
   "metadata": {},
   "outputs": [
    {
     "data": {
      "text/plain": [
       "5-element Array{Float64,1}:\n",
       " 0.5416390469534204 \n",
       " 1.11942492889892   \n",
       " 3.7887734906364607 \n",
       " 0.02204458006193796\n",
       " 1.02321900330879   "
      ]
     },
     "execution_count": 14,
     "metadata": {},
     "output_type": "execute_result"
    }
   ],
   "source": [
    "# good style\n",
    "generatedata(n) = randn(n).^2\n",
    "data = generatedata(5)"
   ]
  },
  {
   "cell_type": "markdown",
   "metadata": {},
   "source": [
    "Finally, we can broadcast any function, where squaring is only a special case"
   ]
  },
  {
   "cell_type": "code",
   "execution_count": 15,
   "metadata": {},
   "outputs": [
    {
     "data": {
      "text/plain": [
       "5-element Array{Float64,1}:\n",
       " 4.602577700627185   \n",
       " 0.154470641112086   \n",
       " 0.022751008996158086\n",
       " 2.259437981112736   \n",
       " 1.376969763246029   "
      ]
     },
     "execution_count": 15,
     "metadata": {},
     "output_type": "execute_result"
    }
   ],
   "source": [
    "# good style\n",
    "f(x) = x^2 # simple square function\n",
    "generatedata(n) = f.(randn(n)) # uses broadcast for some function `f`\n",
    "data = generatedata(5)"
   ]
  },
  {
   "cell_type": "markdown",
   "metadata": {},
   "source": [
    "As a final–abstract–approach, we can make the `generatedata` function able to generically apply a function"
   ]
  },
  {
   "cell_type": "code",
   "execution_count": 16,
   "metadata": {},
   "outputs": [
    {
     "data": {
      "text/plain": [
       "5-element Array{Float64,1}:\n",
       " 0.05381382879268174\n",
       " 0.19181807182117444\n",
       " 2.2921674324629047 \n",
       " 0.1780471728751521 \n",
       " 0.2501403381547216 "
      ]
     },
     "execution_count": 16,
     "metadata": {},
     "output_type": "execute_result"
    }
   ],
   "source": [
    "# too abstract?\n",
    "generatedata(n, gen) = gen.(randn(n)) # Uses broadcast for some function `gen`\n",
    "\n",
    "f(x) = x^2 # simple square function\n",
    "data = generatedata(5, f) # applies f"
   ]
  },
  {
   "cell_type": "markdown",
   "metadata": {},
   "source": [
    "Whether this example is better or worse than the previous version depends on how it is used\n",
    "\n",
    "High degrees of abstraction and generality, e.g. passing in a function `f` in this case, can make code either clearer or confusing, but Julia enables you to use these techniques **with no performance overhead**\n",
    "\n",
    "For this particular case, the clearest and most general solution is probably the simplest"
   ]
  },
  {
   "cell_type": "code",
   "execution_count": 17,
   "metadata": {},
   "outputs": [
    {
     "data": {
      "image/svg+xml": [
       "<?xml version=\"1.0\" encoding=\"utf-8\"?>\n",
       "<svg xmlns=\"http://www.w3.org/2000/svg\" xmlns:xlink=\"http://www.w3.org/1999/xlink\" width=\"600\" height=\"400\" viewBox=\"0 0 2400 1600\">\n",
       "<defs>\n",
       "  <clipPath id=\"clip0600\">\n",
       "    <rect x=\"0\" y=\"0\" width=\"2000\" height=\"2000\"/>\n",
       "  </clipPath>\n",
       "</defs>\n",
       "<defs>\n",
       "  <clipPath id=\"clip0601\">\n",
       "    <rect x=\"0\" y=\"0\" width=\"2400\" height=\"1600\"/>\n",
       "  </clipPath>\n",
       "</defs>\n",
       "<polygon clip-path=\"url(#clip0601)\" points=\"\n",
       "0,1600 2400,1600 2400,0 0,0 \n",
       "  \" fill=\"#ffffff\" fill-opacity=\"1\"/>\n",
       "<defs>\n",
       "  <clipPath id=\"clip0602\">\n",
       "    <rect x=\"480\" y=\"0\" width=\"1681\" height=\"1600\"/>\n",
       "  </clipPath>\n",
       "</defs>\n",
       "<polygon clip-path=\"url(#clip0601)\" points=\"\n",
       "149.361,1503.47 2321.26,1503.47 2321.26,47.2441 149.361,47.2441 \n",
       "  \" fill=\"#ffffff\" fill-opacity=\"1\"/>\n",
       "<defs>\n",
       "  <clipPath id=\"clip0603\">\n",
       "    <rect x=\"149\" y=\"47\" width=\"2173\" height=\"1457\"/>\n",
       "  </clipPath>\n",
       "</defs>\n",
       "<polyline clip-path=\"url(#clip0603)\" style=\"stroke:#000000; stroke-width:2; stroke-opacity:0.1; fill:none\" points=\"\n",
       "  190.133,1503.47 190.133,47.2441 \n",
       "  \"/>\n",
       "<polyline clip-path=\"url(#clip0603)\" style=\"stroke:#000000; stroke-width:2; stroke-opacity:0.1; fill:none\" points=\"\n",
       "  707.547,1503.47 707.547,47.2441 \n",
       "  \"/>\n",
       "<polyline clip-path=\"url(#clip0603)\" style=\"stroke:#000000; stroke-width:2; stroke-opacity:0.1; fill:none\" points=\"\n",
       "  1224.96,1503.47 1224.96,47.2441 \n",
       "  \"/>\n",
       "<polyline clip-path=\"url(#clip0603)\" style=\"stroke:#000000; stroke-width:2; stroke-opacity:0.1; fill:none\" points=\"\n",
       "  1742.38,1503.47 1742.38,47.2441 \n",
       "  \"/>\n",
       "<polyline clip-path=\"url(#clip0603)\" style=\"stroke:#000000; stroke-width:2; stroke-opacity:0.1; fill:none\" points=\"\n",
       "  2259.79,1503.47 2259.79,47.2441 \n",
       "  \"/>\n",
       "<polyline clip-path=\"url(#clip0603)\" style=\"stroke:#000000; stroke-width:2; stroke-opacity:0.1; fill:none\" points=\"\n",
       "  149.361,1375.92 2321.26,1375.92 \n",
       "  \"/>\n",
       "<polyline clip-path=\"url(#clip0603)\" style=\"stroke:#000000; stroke-width:2; stroke-opacity:0.1; fill:none\" points=\"\n",
       "  149.361,1078.6 2321.26,1078.6 \n",
       "  \"/>\n",
       "<polyline clip-path=\"url(#clip0603)\" style=\"stroke:#000000; stroke-width:2; stroke-opacity:0.1; fill:none\" points=\"\n",
       "  149.361,781.274 2321.26,781.274 \n",
       "  \"/>\n",
       "<polyline clip-path=\"url(#clip0603)\" style=\"stroke:#000000; stroke-width:2; stroke-opacity:0.1; fill:none\" points=\"\n",
       "  149.361,483.949 2321.26,483.949 \n",
       "  \"/>\n",
       "<polyline clip-path=\"url(#clip0603)\" style=\"stroke:#000000; stroke-width:2; stroke-opacity:0.1; fill:none\" points=\"\n",
       "  149.361,186.624 2321.26,186.624 \n",
       "  \"/>\n",
       "<polyline clip-path=\"url(#clip0601)\" style=\"stroke:#000000; stroke-width:4; stroke-opacity:1; fill:none\" points=\"\n",
       "  149.361,1503.47 2321.26,1503.47 \n",
       "  \"/>\n",
       "<polyline clip-path=\"url(#clip0601)\" style=\"stroke:#000000; stroke-width:4; stroke-opacity:1; fill:none\" points=\"\n",
       "  149.361,1503.47 149.361,47.2441 \n",
       "  \"/>\n",
       "<polyline clip-path=\"url(#clip0601)\" style=\"stroke:#000000; stroke-width:4; stroke-opacity:1; fill:none\" points=\"\n",
       "  190.133,1503.47 190.133,1481.63 \n",
       "  \"/>\n",
       "<polyline clip-path=\"url(#clip0601)\" style=\"stroke:#000000; stroke-width:4; stroke-opacity:1; fill:none\" points=\"\n",
       "  707.547,1503.47 707.547,1481.63 \n",
       "  \"/>\n",
       "<polyline clip-path=\"url(#clip0601)\" style=\"stroke:#000000; stroke-width:4; stroke-opacity:1; fill:none\" points=\"\n",
       "  1224.96,1503.47 1224.96,1481.63 \n",
       "  \"/>\n",
       "<polyline clip-path=\"url(#clip0601)\" style=\"stroke:#000000; stroke-width:4; stroke-opacity:1; fill:none\" points=\"\n",
       "  1742.38,1503.47 1742.38,1481.63 \n",
       "  \"/>\n",
       "<polyline clip-path=\"url(#clip0601)\" style=\"stroke:#000000; stroke-width:4; stroke-opacity:1; fill:none\" points=\"\n",
       "  2259.79,1503.47 2259.79,1481.63 \n",
       "  \"/>\n",
       "<polyline clip-path=\"url(#clip0601)\" style=\"stroke:#000000; stroke-width:4; stroke-opacity:1; fill:none\" points=\"\n",
       "  149.361,1375.92 181.939,1375.92 \n",
       "  \"/>\n",
       "<polyline clip-path=\"url(#clip0601)\" style=\"stroke:#000000; stroke-width:4; stroke-opacity:1; fill:none\" points=\"\n",
       "  149.361,1078.6 181.939,1078.6 \n",
       "  \"/>\n",
       "<polyline clip-path=\"url(#clip0601)\" style=\"stroke:#000000; stroke-width:4; stroke-opacity:1; fill:none\" points=\"\n",
       "  149.361,781.274 181.939,781.274 \n",
       "  \"/>\n",
       "<polyline clip-path=\"url(#clip0601)\" style=\"stroke:#000000; stroke-width:4; stroke-opacity:1; fill:none\" points=\"\n",
       "  149.361,483.949 181.939,483.949 \n",
       "  \"/>\n",
       "<polyline clip-path=\"url(#clip0601)\" style=\"stroke:#000000; stroke-width:4; stroke-opacity:1; fill:none\" points=\"\n",
       "  149.361,186.624 181.939,186.624 \n",
       "  \"/>\n",
       "<g clip-path=\"url(#clip0601)\">\n",
       "<text style=\"fill:#000000; fill-opacity:1; font-family:Arial,Helvetica Neue,Helvetica,sans-serif; font-size:48; text-anchor:middle;\" transform=\"rotate(0, 190.133, 1557.47)\" x=\"190.133\" y=\"1557.47\">0</text>\n",
       "</g>\n",
       "<g clip-path=\"url(#clip0601)\">\n",
       "<text style=\"fill:#000000; fill-opacity:1; font-family:Arial,Helvetica Neue,Helvetica,sans-serif; font-size:48; text-anchor:middle;\" transform=\"rotate(0, 707.547, 1557.47)\" x=\"707.547\" y=\"1557.47\">25</text>\n",
       "</g>\n",
       "<g clip-path=\"url(#clip0601)\">\n",
       "<text style=\"fill:#000000; fill-opacity:1; font-family:Arial,Helvetica Neue,Helvetica,sans-serif; font-size:48; text-anchor:middle;\" transform=\"rotate(0, 1224.96, 1557.47)\" x=\"1224.96\" y=\"1557.47\">50</text>\n",
       "</g>\n",
       "<g clip-path=\"url(#clip0601)\">\n",
       "<text style=\"fill:#000000; fill-opacity:1; font-family:Arial,Helvetica Neue,Helvetica,sans-serif; font-size:48; text-anchor:middle;\" transform=\"rotate(0, 1742.38, 1557.47)\" x=\"1742.38\" y=\"1557.47\">75</text>\n",
       "</g>\n",
       "<g clip-path=\"url(#clip0601)\">\n",
       "<text style=\"fill:#000000; fill-opacity:1; font-family:Arial,Helvetica Neue,Helvetica,sans-serif; font-size:48; text-anchor:middle;\" transform=\"rotate(0, 2259.79, 1557.47)\" x=\"2259.79\" y=\"1557.47\">100</text>\n",
       "</g>\n",
       "<g clip-path=\"url(#clip0601)\">\n",
       "<text style=\"fill:#000000; fill-opacity:1; font-family:Arial,Helvetica Neue,Helvetica,sans-serif; font-size:48; text-anchor:end;\" transform=\"rotate(0, 125.361, 1393.42)\" x=\"125.361\" y=\"1393.42\">-2</text>\n",
       "</g>\n",
       "<g clip-path=\"url(#clip0601)\">\n",
       "<text style=\"fill:#000000; fill-opacity:1; font-family:Arial,Helvetica Neue,Helvetica,sans-serif; font-size:48; text-anchor:end;\" transform=\"rotate(0, 125.361, 1096.1)\" x=\"125.361\" y=\"1096.1\">0</text>\n",
       "</g>\n",
       "<g clip-path=\"url(#clip0601)\">\n",
       "<text style=\"fill:#000000; fill-opacity:1; font-family:Arial,Helvetica Neue,Helvetica,sans-serif; font-size:48; text-anchor:end;\" transform=\"rotate(0, 125.361, 798.774)\" x=\"125.361\" y=\"798.774\">2</text>\n",
       "</g>\n",
       "<g clip-path=\"url(#clip0601)\">\n",
       "<text style=\"fill:#000000; fill-opacity:1; font-family:Arial,Helvetica Neue,Helvetica,sans-serif; font-size:48; text-anchor:end;\" transform=\"rotate(0, 125.361, 501.449)\" x=\"125.361\" y=\"501.449\">4</text>\n",
       "</g>\n",
       "<g clip-path=\"url(#clip0601)\">\n",
       "<text style=\"fill:#000000; fill-opacity:1; font-family:Arial,Helvetica Neue,Helvetica,sans-serif; font-size:48; text-anchor:end;\" transform=\"rotate(0, 125.361, 204.124)\" x=\"125.361\" y=\"204.124\">6</text>\n",
       "</g>\n",
       "<polyline clip-path=\"url(#clip0603)\" style=\"stroke:#009af9; stroke-width:4; stroke-opacity:1; fill:none\" points=\"\n",
       "  210.829,916.751 231.526,929.199 252.223,907.428 272.919,1005.85 293.616,999.489 314.312,1074.31 335.009,403.366 355.706,1015.58 376.402,1051.97 397.099,548.082 \n",
       "  417.795,1070.99 438.492,1078.2 459.188,1057.21 479.885,897.266 500.582,356.308 521.278,1012.95 541.975,1070.34 562.671,901.222 583.368,976.702 604.065,971.313 \n",
       "  624.761,912.186 645.458,863.586 666.154,1072.57 686.851,919.677 707.547,810.271 728.244,749.201 748.941,1042.61 769.637,845.11 790.334,664.097 811.03,1073.73 \n",
       "  831.727,1049.63 852.423,959.183 873.12,1031.19 893.817,1078.36 914.513,1075.61 935.21,1003.35 955.906,1076.89 976.603,1052.43 997.3,904.669 1018,1049.79 \n",
       "  1038.69,1048.39 1059.39,1070.06 1080.09,744.02 1100.78,1071.42 1121.48,1054.52 1142.18,996.426 1162.87,1078.1 1183.57,1012.1 1204.27,874.598 1224.96,88.4582 \n",
       "  1245.66,980.334 1266.36,719.728 1287.05,1077.11 1307.75,1008.88 1328.44,534.903 1349.14,985.586 1369.84,1078.25 1390.53,976.149 1411.23,1052.98 1431.93,1076.29 \n",
       "  1452.62,908.228 1473.32,980.978 1494.02,599.407 1514.71,152.44 1535.41,1045.49 1556.11,462.383 1576.8,1017.71 1597.5,1076.64 1618.2,1044.09 1638.89,1068.6 \n",
       "  1659.59,914.446 1680.29,795.281 1700.98,954.357 1721.68,1024.81 1742.38,1040.28 1763.07,372.85 1783.77,1077.72 1804.47,817.335 1825.16,701.98 1845.86,927.137 \n",
       "  1866.56,956.034 1887.25,1074.06 1907.95,1008.88 1928.65,1076.78 1949.34,890.479 1970.04,602.727 1990.74,973.138 2011.43,974.452 2032.13,615.766 2052.83,1046.88 \n",
       "  2073.52,932.896 2094.22,867.914 2114.91,1016.18 2135.61,745.469 2156.31,1018.78 2177,588.813 2197.7,833.532 2218.4,1047.43 2239.09,546.905 2259.79,1021.47 \n",
       "  \n",
       "  \"/>\n",
       "<polyline clip-path=\"url(#clip0603)\" style=\"stroke:#e26f46; stroke-width:4; stroke-opacity:1; fill:none\" points=\"\n",
       "  210.829,1233.71 231.526,1227.63 252.223,1238.12 272.919,974.601 293.616,970.152 314.312,1053.36 335.009,761.768 355.706,1175.39 376.402,1015.69 397.099,1359.43 \n",
       "  417.795,1112.22 438.492,1070.87 459.188,1022.21 479.885,1242.79 500.582,750.914 521.278,979.806 541.975,1113.63 562.671,1240.98 583.368,955.521 604.065,1204.89 \n",
       "  624.761,921.311 645.458,899.813 666.154,1108.54 686.851,924.892 707.547,878.873 728.244,1299.89 748.941,1151.74 769.637,892.29 790.334,1326.83 811.03,1105.5 \n",
       "  831.727,1012.98 852.423,1211.84 873.12,1162.55 893.817,1084.51 914.513,1099.67 935.21,972.833 955.906,1094.53 976.603,1016.23 997.3,917.798 1018,1013.16 \n",
       "  1038.69,1145.61 1059.39,1114.23 1080.09,1301.62 1100.78,1111.26 1121.48,1138.43 1142.18,968.073 1162.87,1087.18 1183.57,1178.03 1204.27,904.451 1224.96,1462.26 \n",
       "  1245.66,1199.46 1266.36,847.621 1287.05,1093.47 1307.75,976.794 1328.44,794.297 1349.14,1196.19 1369.84,1085.76 1390.53,955.187 1411.23,1140.31 1431.93,1060.08 \n",
       "  1452.62,1237.75 1473.32,1199.07 1494.02,1345.5 1514.71,1449.66 1535.41,1148.76 1556.11,775.93 1576.8,1173.74 1597.5,1061.54 1618.2,1150.22 1638.89,1117.15 \n",
       "  1659.59,922.383 1680.29,873.37 1700.98,942.694 1721.68,989.179 1742.38,1154.07 1763.07,1402.51 1783.77,1090 1804.47,881.52 1825.16,1315.22 1845.86,1228.65 \n",
       "  1866.56,1213.58 1887.25,1052.64 1907.95,1180.41 1928.65,1062.15 1949.34,911.367 1970.04,1344.58 1990.74,953.386 2011.43,1203.03 2032.13,816.29 2052.83,1009.93 \n",
       "  2073.52,931.424 2094.22,901.621 2114.91,982.271 2135.61,856.059 2156.31,1172.9 2177,808.76 2197.7,887.726 2218.4,1010.52 2239.09,797.453 2259.79,986.44 \n",
       "  \n",
       "  \"/>\n",
       "<polygon clip-path=\"url(#clip0601)\" points=\"\n",
       "1935.86,312.204 2249.26,312.204 2249.26,130.764 1935.86,130.764 \n",
       "  \" fill=\"#ffffff\" fill-opacity=\"1\"/>\n",
       "<polyline clip-path=\"url(#clip0601)\" style=\"stroke:#000000; stroke-width:4; stroke-opacity:1; fill:none\" points=\"\n",
       "  1935.86,312.204 2249.26,312.204 2249.26,130.764 1935.86,130.764 1935.86,312.204 \n",
       "  \"/>\n",
       "<polyline clip-path=\"url(#clip0601)\" style=\"stroke:#009af9; stroke-width:4; stroke-opacity:1; fill:none\" points=\"\n",
       "  1959.86,191.244 2103.86,191.244 \n",
       "  \"/>\n",
       "<g clip-path=\"url(#clip0601)\">\n",
       "<text style=\"fill:#000000; fill-opacity:1; font-family:Arial,Helvetica Neue,Helvetica,sans-serif; font-size:48; text-anchor:start;\" transform=\"rotate(0, 2127.86, 208.744)\" x=\"2127.86\" y=\"208.744\">x^2</text>\n",
       "</g>\n",
       "<polyline clip-path=\"url(#clip0601)\" style=\"stroke:#e26f46; stroke-width:4; stroke-opacity:1; fill:none\" points=\"\n",
       "  1959.86,251.724 2103.86,251.724 \n",
       "  \"/>\n",
       "<g clip-path=\"url(#clip0601)\">\n",
       "<text style=\"fill:#000000; fill-opacity:1; font-family:Arial,Helvetica Neue,Helvetica,sans-serif; font-size:48; text-anchor:start;\" transform=\"rotate(0, 2127.86, 269.224)\" x=\"2127.86\" y=\"269.224\">x</text>\n",
       "</g>\n",
       "</svg>\n"
      ]
     },
     "execution_count": 17,
     "metadata": {},
     "output_type": "execute_result"
    }
   ],
   "source": [
    "# direct solution with broadcasting, and small user-defined function\n",
    "n = 100\n",
    "f(x) = x^2\n",
    "\n",
    "x = randn(n)\n",
    "plot(f.(x), label = \"x^2\")\n",
    "plot!(x, label = \"x\") # layer on the same plot"
   ]
  },
  {
   "cell_type": "markdown",
   "metadata": {},
   "source": [
    "While broadcasting above superficially looks like vectorizing functions in Matlab, or Python ufuncs, it is much richer and built on core foundations of the language\n",
    "\n",
    "The other additional function `plot!` adds a graph to the existing plot\n",
    "\n",
    "This follows a general convention in Julia, where an function which modifies the arguments or a global state has a `!` at the end of it the name"
   ]
  },
  {
   "cell_type": "markdown",
   "metadata": {},
   "source": [
    "#### A Slightly More Useful Function\n",
    "\n",
    "Let’s make a slightly more useful function\n",
    "\n",
    "This function will be passed a choice of probability distribution and respond by plotting a histogram of observations\n",
    "\n",
    "In doing so we’ll make use of the Distributions package, which we assume was instantiated above with the project\n",
    "\n",
    "Here’s the code"
   ]
  },
  {
   "cell_type": "code",
   "execution_count": 18,
   "metadata": {},
   "outputs": [
    {
     "name": "stderr",
     "output_type": "stream",
     "text": [
      "WARNING: using Distributions.mode in module Main conflicts with an existing identifier.\n"
     ]
    },
    {
     "data": {
      "image/svg+xml": [
       "<?xml version=\"1.0\" encoding=\"utf-8\"?>\n",
       "<svg xmlns=\"http://www.w3.org/2000/svg\" xmlns:xlink=\"http://www.w3.org/1999/xlink\" width=\"600\" height=\"400\" viewBox=\"0 0 2400 1600\">\n",
       "<defs>\n",
       "  <clipPath id=\"clip0800\">\n",
       "    <rect x=\"0\" y=\"0\" width=\"2000\" height=\"2000\"/>\n",
       "  </clipPath>\n",
       "</defs>\n",
       "<defs>\n",
       "  <clipPath id=\"clip0801\">\n",
       "    <rect x=\"0\" y=\"0\" width=\"2400\" height=\"1600\"/>\n",
       "  </clipPath>\n",
       "</defs>\n",
       "<polygon clip-path=\"url(#clip0801)\" points=\"\n",
       "0,1600 2400,1600 2400,0 0,0 \n",
       "  \" fill=\"#ffffff\" fill-opacity=\"1\"/>\n",
       "<defs>\n",
       "  <clipPath id=\"clip0802\">\n",
       "    <rect x=\"480\" y=\"0\" width=\"1681\" height=\"1600\"/>\n",
       "  </clipPath>\n",
       "</defs>\n",
       "<polygon clip-path=\"url(#clip0801)\" points=\"\n",
       "174.775,1503.47 2321.26,1503.47 2321.26,47.2441 174.775,47.2441 \n",
       "  \" fill=\"#ffffff\" fill-opacity=\"1\"/>\n",
       "<defs>\n",
       "  <clipPath id=\"clip0803\">\n",
       "    <rect x=\"174\" y=\"47\" width=\"2147\" height=\"1457\"/>\n",
       "  </clipPath>\n",
       "</defs>\n",
       "<polyline clip-path=\"url(#clip0803)\" style=\"stroke:#000000; stroke-width:2; stroke-opacity:0.1; fill:none\" points=\"\n",
       "  452.033,1503.47 452.033,47.2441 \n",
       "  \"/>\n",
       "<polyline clip-path=\"url(#clip0803)\" style=\"stroke:#000000; stroke-width:2; stroke-opacity:0.1; fill:none\" points=\"\n",
       "  850.025,1503.47 850.025,47.2441 \n",
       "  \"/>\n",
       "<polyline clip-path=\"url(#clip0803)\" style=\"stroke:#000000; stroke-width:2; stroke-opacity:0.1; fill:none\" points=\"\n",
       "  1248.02,1503.47 1248.02,47.2441 \n",
       "  \"/>\n",
       "<polyline clip-path=\"url(#clip0803)\" style=\"stroke:#000000; stroke-width:2; stroke-opacity:0.1; fill:none\" points=\"\n",
       "  1646.01,1503.47 1646.01,47.2441 \n",
       "  \"/>\n",
       "<polyline clip-path=\"url(#clip0803)\" style=\"stroke:#000000; stroke-width:2; stroke-opacity:0.1; fill:none\" points=\"\n",
       "  2044,1503.47 2044,47.2441 \n",
       "  \"/>\n",
       "<polyline clip-path=\"url(#clip0803)\" style=\"stroke:#000000; stroke-width:2; stroke-opacity:0.1; fill:none\" points=\"\n",
       "  174.775,1462.26 2321.26,1462.26 \n",
       "  \"/>\n",
       "<polyline clip-path=\"url(#clip0803)\" style=\"stroke:#000000; stroke-width:2; stroke-opacity:0.1; fill:none\" points=\"\n",
       "  174.775,1128.81 2321.26,1128.81 \n",
       "  \"/>\n",
       "<polyline clip-path=\"url(#clip0803)\" style=\"stroke:#000000; stroke-width:2; stroke-opacity:0.1; fill:none\" points=\"\n",
       "  174.775,795.366 2321.26,795.366 \n",
       "  \"/>\n",
       "<polyline clip-path=\"url(#clip0803)\" style=\"stroke:#000000; stroke-width:2; stroke-opacity:0.1; fill:none\" points=\"\n",
       "  174.775,461.919 2321.26,461.919 \n",
       "  \"/>\n",
       "<polyline clip-path=\"url(#clip0803)\" style=\"stroke:#000000; stroke-width:2; stroke-opacity:0.1; fill:none\" points=\"\n",
       "  174.775,128.472 2321.26,128.472 \n",
       "  \"/>\n",
       "<polyline clip-path=\"url(#clip0801)\" style=\"stroke:#000000; stroke-width:4; stroke-opacity:1; fill:none\" points=\"\n",
       "  174.775,1503.47 2321.26,1503.47 \n",
       "  \"/>\n",
       "<polyline clip-path=\"url(#clip0801)\" style=\"stroke:#000000; stroke-width:4; stroke-opacity:1; fill:none\" points=\"\n",
       "  174.775,1503.47 174.775,47.2441 \n",
       "  \"/>\n",
       "<polyline clip-path=\"url(#clip0801)\" style=\"stroke:#000000; stroke-width:4; stroke-opacity:1; fill:none\" points=\"\n",
       "  452.033,1503.47 452.033,1481.63 \n",
       "  \"/>\n",
       "<polyline clip-path=\"url(#clip0801)\" style=\"stroke:#000000; stroke-width:4; stroke-opacity:1; fill:none\" points=\"\n",
       "  850.025,1503.47 850.025,1481.63 \n",
       "  \"/>\n",
       "<polyline clip-path=\"url(#clip0801)\" style=\"stroke:#000000; stroke-width:4; stroke-opacity:1; fill:none\" points=\"\n",
       "  1248.02,1503.47 1248.02,1481.63 \n",
       "  \"/>\n",
       "<polyline clip-path=\"url(#clip0801)\" style=\"stroke:#000000; stroke-width:4; stroke-opacity:1; fill:none\" points=\"\n",
       "  1646.01,1503.47 1646.01,1481.63 \n",
       "  \"/>\n",
       "<polyline clip-path=\"url(#clip0801)\" style=\"stroke:#000000; stroke-width:4; stroke-opacity:1; fill:none\" points=\"\n",
       "  2044,1503.47 2044,1481.63 \n",
       "  \"/>\n",
       "<polyline clip-path=\"url(#clip0801)\" style=\"stroke:#000000; stroke-width:4; stroke-opacity:1; fill:none\" points=\"\n",
       "  174.775,1462.26 206.972,1462.26 \n",
       "  \"/>\n",
       "<polyline clip-path=\"url(#clip0801)\" style=\"stroke:#000000; stroke-width:4; stroke-opacity:1; fill:none\" points=\"\n",
       "  174.775,1128.81 206.972,1128.81 \n",
       "  \"/>\n",
       "<polyline clip-path=\"url(#clip0801)\" style=\"stroke:#000000; stroke-width:4; stroke-opacity:1; fill:none\" points=\"\n",
       "  174.775,795.366 206.972,795.366 \n",
       "  \"/>\n",
       "<polyline clip-path=\"url(#clip0801)\" style=\"stroke:#000000; stroke-width:4; stroke-opacity:1; fill:none\" points=\"\n",
       "  174.775,461.919 206.972,461.919 \n",
       "  \"/>\n",
       "<polyline clip-path=\"url(#clip0801)\" style=\"stroke:#000000; stroke-width:4; stroke-opacity:1; fill:none\" points=\"\n",
       "  174.775,128.472 206.972,128.472 \n",
       "  \"/>\n",
       "<g clip-path=\"url(#clip0801)\">\n",
       "<text style=\"fill:#000000; fill-opacity:1; font-family:Arial,Helvetica Neue,Helvetica,sans-serif; font-size:48; text-anchor:middle;\" transform=\"rotate(0, 452.033, 1557.47)\" x=\"452.033\" y=\"1557.47\">-5.0</text>\n",
       "</g>\n",
       "<g clip-path=\"url(#clip0801)\">\n",
       "<text style=\"fill:#000000; fill-opacity:1; font-family:Arial,Helvetica Neue,Helvetica,sans-serif; font-size:48; text-anchor:middle;\" transform=\"rotate(0, 850.025, 1557.47)\" x=\"850.025\" y=\"1557.47\">-2.5</text>\n",
       "</g>\n",
       "<g clip-path=\"url(#clip0801)\">\n",
       "<text style=\"fill:#000000; fill-opacity:1; font-family:Arial,Helvetica Neue,Helvetica,sans-serif; font-size:48; text-anchor:middle;\" transform=\"rotate(0, 1248.02, 1557.47)\" x=\"1248.02\" y=\"1557.47\">0.0</text>\n",
       "</g>\n",
       "<g clip-path=\"url(#clip0801)\">\n",
       "<text style=\"fill:#000000; fill-opacity:1; font-family:Arial,Helvetica Neue,Helvetica,sans-serif; font-size:48; text-anchor:middle;\" transform=\"rotate(0, 1646.01, 1557.47)\" x=\"1646.01\" y=\"1557.47\">2.5</text>\n",
       "</g>\n",
       "<g clip-path=\"url(#clip0801)\">\n",
       "<text style=\"fill:#000000; fill-opacity:1; font-family:Arial,Helvetica Neue,Helvetica,sans-serif; font-size:48; text-anchor:middle;\" transform=\"rotate(0, 2044, 1557.47)\" x=\"2044\" y=\"1557.47\">5.0</text>\n",
       "</g>\n",
       "<g clip-path=\"url(#clip0801)\">\n",
       "<text style=\"fill:#000000; fill-opacity:1; font-family:Arial,Helvetica Neue,Helvetica,sans-serif; font-size:48; text-anchor:end;\" transform=\"rotate(0, 150.775, 1479.76)\" x=\"150.775\" y=\"1479.76\">0</text>\n",
       "</g>\n",
       "<g clip-path=\"url(#clip0801)\">\n",
       "<text style=\"fill:#000000; fill-opacity:1; font-family:Arial,Helvetica Neue,Helvetica,sans-serif; font-size:48; text-anchor:end;\" transform=\"rotate(0, 150.775, 1146.31)\" x=\"150.775\" y=\"1146.31\">25</text>\n",
       "</g>\n",
       "<g clip-path=\"url(#clip0801)\">\n",
       "<text style=\"fill:#000000; fill-opacity:1; font-family:Arial,Helvetica Neue,Helvetica,sans-serif; font-size:48; text-anchor:end;\" transform=\"rotate(0, 150.775, 812.866)\" x=\"150.775\" y=\"812.866\">50</text>\n",
       "</g>\n",
       "<g clip-path=\"url(#clip0801)\">\n",
       "<text style=\"fill:#000000; fill-opacity:1; font-family:Arial,Helvetica Neue,Helvetica,sans-serif; font-size:48; text-anchor:end;\" transform=\"rotate(0, 150.775, 479.419)\" x=\"150.775\" y=\"479.419\">75</text>\n",
       "</g>\n",
       "<g clip-path=\"url(#clip0801)\">\n",
       "<text style=\"fill:#000000; fill-opacity:1; font-family:Arial,Helvetica Neue,Helvetica,sans-serif; font-size:48; text-anchor:end;\" transform=\"rotate(0, 150.775, 145.972)\" x=\"150.775\" y=\"145.972\">100</text>\n",
       "</g>\n",
       "<polygon clip-path=\"url(#clip0803)\" points=\"\n",
       "292.836,1448.92 292.836,1462.26 372.434,1462.26 372.434,1448.92 292.836,1448.92 292.836,1448.92 \n",
       "  \" fill=\"#009af9\" fill-opacity=\"1\"/>\n",
       "<polyline clip-path=\"url(#clip0803)\" style=\"stroke:#000000; stroke-width:4; stroke-opacity:1; fill:none\" points=\"\n",
       "  292.836,1448.92 292.836,1462.26 372.434,1462.26 372.434,1448.92 292.836,1448.92 \n",
       "  \"/>\n",
       "<polygon clip-path=\"url(#clip0803)\" points=\"\n",
       "372.434,1462.26 372.434,1462.26 452.033,1462.26 452.033,1462.26 372.434,1462.26 372.434,1462.26 \n",
       "  \" fill=\"#009af9\" fill-opacity=\"1\"/>\n",
       "<polyline clip-path=\"url(#clip0803)\" style=\"stroke:#000000; stroke-width:4; stroke-opacity:1; fill:none\" points=\"\n",
       "  372.434,1462.26 372.434,1462.26 452.033,1462.26 372.434,1462.26 \n",
       "  \"/>\n",
       "<polygon clip-path=\"url(#clip0803)\" points=\"\n",
       "452.033,1462.26 452.033,1462.26 531.631,1462.26 531.631,1462.26 452.033,1462.26 452.033,1462.26 \n",
       "  \" fill=\"#009af9\" fill-opacity=\"1\"/>\n",
       "<polyline clip-path=\"url(#clip0803)\" style=\"stroke:#000000; stroke-width:4; stroke-opacity:1; fill:none\" points=\"\n",
       "  452.033,1462.26 452.033,1462.26 531.631,1462.26 452.033,1462.26 \n",
       "  \"/>\n",
       "<polygon clip-path=\"url(#clip0803)\" points=\"\n",
       "531.631,1408.91 531.631,1462.26 611.23,1462.26 611.23,1408.91 531.631,1408.91 531.631,1408.91 \n",
       "  \" fill=\"#009af9\" fill-opacity=\"1\"/>\n",
       "<polyline clip-path=\"url(#clip0803)\" style=\"stroke:#000000; stroke-width:4; stroke-opacity:1; fill:none\" points=\"\n",
       "  531.631,1408.91 531.631,1462.26 611.23,1462.26 611.23,1408.91 531.631,1408.91 \n",
       "  \"/>\n",
       "<polygon clip-path=\"url(#clip0803)\" points=\"\n",
       "611.23,1435.58 611.23,1462.26 690.828,1462.26 690.828,1435.58 611.23,1435.58 611.23,1435.58 \n",
       "  \" fill=\"#009af9\" fill-opacity=\"1\"/>\n",
       "<polyline clip-path=\"url(#clip0803)\" style=\"stroke:#000000; stroke-width:4; stroke-opacity:1; fill:none\" points=\"\n",
       "  611.23,1435.58 611.23,1462.26 690.828,1462.26 690.828,1435.58 611.23,1435.58 \n",
       "  \"/>\n",
       "<polygon clip-path=\"url(#clip0803)\" points=\"\n",
       "690.828,1395.57 690.828,1462.26 770.427,1462.26 770.427,1395.57 690.828,1395.57 690.828,1395.57 \n",
       "  \" fill=\"#009af9\" fill-opacity=\"1\"/>\n",
       "<polyline clip-path=\"url(#clip0803)\" style=\"stroke:#000000; stroke-width:4; stroke-opacity:1; fill:none\" points=\"\n",
       "  690.828,1395.57 690.828,1462.26 770.427,1462.26 770.427,1395.57 690.828,1395.57 \n",
       "  \"/>\n",
       "<polygon clip-path=\"url(#clip0803)\" points=\"\n",
       "770.427,1302.21 770.427,1462.26 850.025,1462.26 850.025,1302.21 770.427,1302.21 770.427,1302.21 \n",
       "  \" fill=\"#009af9\" fill-opacity=\"1\"/>\n",
       "<polyline clip-path=\"url(#clip0803)\" style=\"stroke:#000000; stroke-width:4; stroke-opacity:1; fill:none\" points=\"\n",
       "  770.427,1302.21 770.427,1462.26 850.025,1462.26 850.025,1302.21 770.427,1302.21 \n",
       "  \"/>\n",
       "<polygon clip-path=\"url(#clip0803)\" points=\"\n",
       "850.025,1302.21 850.025,1462.26 929.624,1462.26 929.624,1302.21 850.025,1302.21 850.025,1302.21 \n",
       "  \" fill=\"#009af9\" fill-opacity=\"1\"/>\n",
       "<polyline clip-path=\"url(#clip0803)\" style=\"stroke:#000000; stroke-width:4; stroke-opacity:1; fill:none\" points=\"\n",
       "  850.025,1302.21 850.025,1462.26 929.624,1462.26 929.624,1302.21 850.025,1302.21 \n",
       "  \"/>\n",
       "<polygon clip-path=\"url(#clip0803)\" points=\"\n",
       "929.624,1075.46 929.624,1462.26 1009.22,1462.26 1009.22,1075.46 929.624,1075.46 929.624,1075.46 \n",
       "  \" fill=\"#009af9\" fill-opacity=\"1\"/>\n",
       "<polyline clip-path=\"url(#clip0803)\" style=\"stroke:#000000; stroke-width:4; stroke-opacity:1; fill:none\" points=\"\n",
       "  929.624,1075.46 929.624,1462.26 1009.22,1462.26 1009.22,1075.46 929.624,1075.46 \n",
       "  \"/>\n",
       "<polygon clip-path=\"url(#clip0803)\" points=\"\n",
       "1009.22,915.407 1009.22,1462.26 1088.82,1462.26 1088.82,915.407 1009.22,915.407 1009.22,915.407 \n",
       "  \" fill=\"#009af9\" fill-opacity=\"1\"/>\n",
       "<polyline clip-path=\"url(#clip0803)\" style=\"stroke:#000000; stroke-width:4; stroke-opacity:1; fill:none\" points=\"\n",
       "  1009.22,915.407 1009.22,1462.26 1088.82,1462.26 1088.82,915.407 1009.22,915.407 \n",
       "  \"/>\n",
       "<polygon clip-path=\"url(#clip0803)\" points=\"\n",
       "1088.82,541.946 1088.82,1462.26 1168.42,1462.26 1168.42,541.946 1088.82,541.946 1088.82,541.946 \n",
       "  \" fill=\"#009af9\" fill-opacity=\"1\"/>\n",
       "<polyline clip-path=\"url(#clip0803)\" style=\"stroke:#000000; stroke-width:4; stroke-opacity:1; fill:none\" points=\"\n",
       "  1088.82,541.946 1088.82,1462.26 1168.42,1462.26 1168.42,541.946 1088.82,541.946 \n",
       "  \"/>\n",
       "<polygon clip-path=\"url(#clip0803)\" points=\"\n",
       "1168.42,395.23 1168.42,1462.26 1248.02,1462.26 1248.02,395.23 1168.42,395.23 1168.42,395.23 \n",
       "  \" fill=\"#009af9\" fill-opacity=\"1\"/>\n",
       "<polyline clip-path=\"url(#clip0803)\" style=\"stroke:#000000; stroke-width:4; stroke-opacity:1; fill:none\" points=\"\n",
       "  1168.42,395.23 1168.42,1462.26 1248.02,1462.26 1248.02,395.23 1168.42,395.23 \n",
       "  \"/>\n",
       "<polygon clip-path=\"url(#clip0803)\" points=\"\n",
       "1248.02,88.4582 1248.02,1462.26 1327.62,1462.26 1327.62,88.4582 1248.02,88.4582 1248.02,88.4582 \n",
       "  \" fill=\"#009af9\" fill-opacity=\"1\"/>\n",
       "<polyline clip-path=\"url(#clip0803)\" style=\"stroke:#000000; stroke-width:4; stroke-opacity:1; fill:none\" points=\"\n",
       "  1248.02,88.4582 1248.02,1462.26 1327.62,1462.26 1327.62,88.4582 1248.02,88.4582 \n",
       "  \"/>\n",
       "<polygon clip-path=\"url(#clip0803)\" points=\"\n",
       "1327.62,715.339 1327.62,1462.26 1407.21,1462.26 1407.21,715.339 1327.62,715.339 1327.62,715.339 \n",
       "  \" fill=\"#009af9\" fill-opacity=\"1\"/>\n",
       "<polyline clip-path=\"url(#clip0803)\" style=\"stroke:#000000; stroke-width:4; stroke-opacity:1; fill:none\" points=\"\n",
       "  1327.62,715.339 1327.62,1462.26 1407.21,1462.26 1407.21,715.339 1327.62,715.339 \n",
       "  \"/>\n",
       "<polygon clip-path=\"url(#clip0803)\" points=\"\n",
       "1407.21,1022.11 1407.21,1462.26 1486.81,1462.26 1486.81,1022.11 1407.21,1022.11 1407.21,1022.11 \n",
       "  \" fill=\"#009af9\" fill-opacity=\"1\"/>\n",
       "<polyline clip-path=\"url(#clip0803)\" style=\"stroke:#000000; stroke-width:4; stroke-opacity:1; fill:none\" points=\"\n",
       "  1407.21,1022.11 1407.21,1462.26 1486.81,1462.26 1486.81,1022.11 1407.21,1022.11 \n",
       "  \"/>\n",
       "<polygon clip-path=\"url(#clip0803)\" points=\"\n",
       "1486.81,1222.18 1486.81,1462.26 1566.41,1462.26 1566.41,1222.18 1486.81,1222.18 1486.81,1222.18 \n",
       "  \" fill=\"#009af9\" fill-opacity=\"1\"/>\n",
       "<polyline clip-path=\"url(#clip0803)\" style=\"stroke:#000000; stroke-width:4; stroke-opacity:1; fill:none\" points=\"\n",
       "  1486.81,1222.18 1486.81,1462.26 1566.41,1462.26 1566.41,1222.18 1486.81,1222.18 \n",
       "  \"/>\n",
       "<polygon clip-path=\"url(#clip0803)\" points=\"\n",
       "1566.41,1288.87 1566.41,1462.26 1646.01,1462.26 1646.01,1288.87 1566.41,1288.87 1566.41,1288.87 \n",
       "  \" fill=\"#009af9\" fill-opacity=\"1\"/>\n",
       "<polyline clip-path=\"url(#clip0803)\" style=\"stroke:#000000; stroke-width:4; stroke-opacity:1; fill:none\" points=\"\n",
       "  1566.41,1288.87 1566.41,1462.26 1646.01,1462.26 1646.01,1288.87 1566.41,1288.87 \n",
       "  \"/>\n",
       "<polygon clip-path=\"url(#clip0803)\" points=\"\n",
       "1646.01,1355.56 1646.01,1462.26 1725.61,1462.26 1725.61,1355.56 1646.01,1355.56 1646.01,1355.56 \n",
       "  \" fill=\"#009af9\" fill-opacity=\"1\"/>\n",
       "<polyline clip-path=\"url(#clip0803)\" style=\"stroke:#000000; stroke-width:4; stroke-opacity:1; fill:none\" points=\"\n",
       "  1646.01,1355.56 1646.01,1462.26 1725.61,1462.26 1725.61,1355.56 1646.01,1355.56 \n",
       "  \"/>\n",
       "<polygon clip-path=\"url(#clip0803)\" points=\"\n",
       "1725.61,1395.57 1725.61,1462.26 1805.21,1462.26 1805.21,1395.57 1725.61,1395.57 1725.61,1395.57 \n",
       "  \" fill=\"#009af9\" fill-opacity=\"1\"/>\n",
       "<polyline clip-path=\"url(#clip0803)\" style=\"stroke:#000000; stroke-width:4; stroke-opacity:1; fill:none\" points=\"\n",
       "  1725.61,1395.57 1725.61,1462.26 1805.21,1462.26 1805.21,1395.57 1725.61,1395.57 \n",
       "  \"/>\n",
       "<polygon clip-path=\"url(#clip0803)\" points=\"\n",
       "1805.21,1395.57 1805.21,1462.26 1884.81,1462.26 1884.81,1395.57 1805.21,1395.57 1805.21,1395.57 \n",
       "  \" fill=\"#009af9\" fill-opacity=\"1\"/>\n",
       "<polyline clip-path=\"url(#clip0803)\" style=\"stroke:#000000; stroke-width:4; stroke-opacity:1; fill:none\" points=\"\n",
       "  1805.21,1395.57 1805.21,1462.26 1884.81,1462.26 1884.81,1395.57 1805.21,1395.57 \n",
       "  \"/>\n",
       "<polygon clip-path=\"url(#clip0803)\" points=\"\n",
       "1884.81,1435.58 1884.81,1462.26 1964.4,1462.26 1964.4,1435.58 1884.81,1435.58 1884.81,1435.58 \n",
       "  \" fill=\"#009af9\" fill-opacity=\"1\"/>\n",
       "<polyline clip-path=\"url(#clip0803)\" style=\"stroke:#000000; stroke-width:4; stroke-opacity:1; fill:none\" points=\"\n",
       "  1884.81,1435.58 1884.81,1462.26 1964.4,1462.26 1964.4,1435.58 1884.81,1435.58 \n",
       "  \"/>\n",
       "<polygon clip-path=\"url(#clip0803)\" points=\"\n",
       "1964.4,1448.92 1964.4,1462.26 2044,1462.26 2044,1448.92 1964.4,1448.92 1964.4,1448.92 \n",
       "  \" fill=\"#009af9\" fill-opacity=\"1\"/>\n",
       "<polyline clip-path=\"url(#clip0803)\" style=\"stroke:#000000; stroke-width:4; stroke-opacity:1; fill:none\" points=\"\n",
       "  1964.4,1448.92 1964.4,1462.26 2044,1462.26 2044,1448.92 1964.4,1448.92 \n",
       "  \"/>\n",
       "<polygon clip-path=\"url(#clip0803)\" points=\"\n",
       "2044,1462.26 2044,1462.26 2123.6,1462.26 2123.6,1462.26 2044,1462.26 2044,1462.26 \n",
       "  \" fill=\"#009af9\" fill-opacity=\"1\"/>\n",
       "<polyline clip-path=\"url(#clip0803)\" style=\"stroke:#000000; stroke-width:4; stroke-opacity:1; fill:none\" points=\"\n",
       "  2044,1462.26 2044,1462.26 2123.6,1462.26 2044,1462.26 \n",
       "  \"/>\n",
       "<polygon clip-path=\"url(#clip0803)\" points=\"\n",
       "2123.6,1448.92 2123.6,1462.26 2203.2,1462.26 2203.2,1448.92 2123.6,1448.92 2123.6,1448.92 \n",
       "  \" fill=\"#009af9\" fill-opacity=\"1\"/>\n",
       "<polyline clip-path=\"url(#clip0803)\" style=\"stroke:#000000; stroke-width:4; stroke-opacity:1; fill:none\" points=\"\n",
       "  2123.6,1448.92 2123.6,1462.26 2203.2,1462.26 2203.2,1448.92 2123.6,1448.92 \n",
       "  \"/>\n",
       "<polygon clip-path=\"url(#clip0801)\" points=\"\n",
       "1958.43,251.724 2249.26,251.724 2249.26,130.764 1958.43,130.764 \n",
       "  \" fill=\"#ffffff\" fill-opacity=\"1\"/>\n",
       "<polyline clip-path=\"url(#clip0801)\" style=\"stroke:#000000; stroke-width:4; stroke-opacity:1; fill:none\" points=\"\n",
       "  1958.43,251.724 2249.26,251.724 2249.26,130.764 1958.43,130.764 1958.43,251.724 \n",
       "  \"/>\n",
       "<polygon clip-path=\"url(#clip0801)\" points=\"\n",
       "1982.43,215.436 2126.43,215.436 2126.43,167.052 1982.43,167.052 1982.43,215.436 \n",
       "  \" fill=\"#009af9\" fill-opacity=\"1\"/>\n",
       "<polyline clip-path=\"url(#clip0801)\" style=\"stroke:#000000; stroke-width:4; stroke-opacity:1; fill:none\" points=\"\n",
       "  1982.43,215.436 2126.43,215.436 2126.43,167.052 1982.43,167.052 1982.43,215.436 \n",
       "  \"/>\n",
       "<g clip-path=\"url(#clip0801)\">\n",
       "<text style=\"fill:#000000; fill-opacity:1; font-family:Arial,Helvetica Neue,Helvetica,sans-serif; font-size:48; text-anchor:start;\" transform=\"rotate(0, 2150.43, 208.744)\" x=\"2150.43\" y=\"208.744\">y1</text>\n",
       "</g>\n",
       "</svg>\n"
      ]
     },
     "execution_count": 18,
     "metadata": {},
     "output_type": "execute_result"
    }
   ],
   "source": [
    "using Distributions\n",
    "\n",
    "function plothistogram(distribution, n)\n",
    "    ϵ = rand(distribution, n)  # n draws from distribution\n",
    "    histogram(ϵ)\n",
    "end\n",
    "\n",
    "lp = Laplace()\n",
    "plothistogram(lp, 500)"
   ]
  },
  {
   "cell_type": "markdown",
   "metadata": {},
   "source": [
    "Let’s have a casual discussion of how all this works while leaving technical details for later in the lectures\n",
    "\n",
    "First, `lp = Laplace()` creates an instance of a data type defined\n",
    "in the Distributions module that represents the Laplace distribution\n",
    "\n",
    "The name `lp` is bound to this object\n",
    "\n",
    "When we make the function call `plothistogram(lp, 500)` the code in the body\n",
    "of the function `plothistogram` is run with\n",
    "\n",
    "- the name `distribution` bound to the same object as `lp`  \n",
    "- the name `n` bound to the integer `500`  "
   ]
  },
  {
   "cell_type": "markdown",
   "metadata": {},
   "source": [
    "#### A Mystery\n",
    "\n",
    "Now consider the function call `rand(distribution, n)`\n",
    "\n",
    "This looks like something of a mystery\n",
    "\n",
    "The function `rand()` is defined in the base library such that `rand(n)` returns `n` uniform random variables on $ [0, 1) $"
   ]
  },
  {
   "cell_type": "code",
   "execution_count": 19,
   "metadata": {},
   "outputs": [
    {
     "data": {
      "text/plain": [
       "3-element Array{Float64,1}:\n",
       " 0.5184567123284307 \n",
       " 0.45138408716780165\n",
       " 0.9264381557482697 "
      ]
     },
     "execution_count": 19,
     "metadata": {},
     "output_type": "execute_result"
    }
   ],
   "source": [
    "rand(3)"
   ]
  },
  {
   "cell_type": "markdown",
   "metadata": {},
   "source": [
    "On the other hand, `distribution` points to a data type representing the Laplace distribution that has been defined in a third party package\n",
    "\n",
    "So how can it be that `rand()` is able to take this kind of object as an\n",
    "argument and return the output that we want?\n",
    "\n",
    "The answer in a nutshell is **multiple dispatch**, which Julia uses to implement **generic programming**\n",
    "\n",
    "This refers to the idea that functions in Julia can have different behavior\n",
    "depending on the particular arguments that they’re passed\n",
    "\n",
    "Hence in Julia we can take an existing function and give it a new behavior by defining how it acts on a new type of object\n",
    "\n",
    "The compiler knows which function definition to apply in a given setting by looking at the types of the objects the function is called on\n",
    "\n",
    "In Julia these alternative versions of a function are called **methods**"
   ]
  },
  {
   "cell_type": "markdown",
   "metadata": {},
   "source": [
    "## Example: Variations on Fixed-Points\n",
    "\n",
    "For our second example, we will start with a simple example of solving a fixed-points\n",
    "\n",
    "The goal is to start with code in a matlab style, and move towards a more **Julian** style with high mathematical clarity"
   ]
  },
  {
   "cell_type": "markdown",
   "metadata": {},
   "source": [
    "### Fixed-Point Maps\n",
    "\n",
    "Consider the simple equation, where the scalars $ p,\\beta $ are given, and  $ v $ is the scalar we wish to solve for\n",
    "\n",
    "$$\n",
    "v = p + \\beta v\n",
    "$$\n",
    "\n",
    "Of course, in this simple example, with parameter restrictions this can be solved as $ v = p/(1 - \\beta) $\n",
    "\n",
    "Rearrange the equation in terms of a map $ f(x) : \\mathbb R \\to \\mathbb R $\n",
    "\n",
    "\n",
    "<a id='equation-fixed-point-map'></a>\n",
    "<table width=100%><tr style='background-color: #FFFFFF !important;'>\n",
    "<td width=10%></td>\n",
    "<td width=80%>\n",
    "$$\n",
    "v = f(v)\\quad\n",
    "$$\n",
    "</td><td width=10% style='text-align:center !important;'>\n",
    "(1)\n",
    "</td></tr></table>\n",
    "\n",
    "where\n",
    "\n",
    "$$\n",
    "f(v) := p + \\beta v\\quad\n",
    "$$\n",
    "\n",
    "Therefore, a fixed point $ v^* $ of $ f(\\cdot) $ is a solution to the above problem"
   ]
  },
  {
   "cell_type": "markdown",
   "metadata": {},
   "source": [
    "### While Loops\n",
    "\n",
    "One approach to finding a fixed point of [(1)](#equation-fixed-point-map) is to start with an initial value, and iterate the map\n",
    "\n",
    "\n",
    "<a id='equation-fixed-point-naive'></a>\n",
    "<table width=100%><tr style='background-color: #FFFFFF !important;'>\n",
    "<td width=10%></td>\n",
    "<td width=80%>\n",
    "$$\n",
    "v^{n+1} = f(v^n)\\quad\n",
    "$$\n",
    "</td><td width=10% style='text-align:center !important;'>\n",
    "(2)\n",
    "</td></tr></table>\n",
    "\n",
    "For this exact `f` function,  we can see the convergence to $ v = p/(1-\\beta) $ when $ |\\beta| < 1 $ by iterating backwards and taking $ n\\to\\infty $\n",
    "\n",
    "$$\n",
    "v^{n+1} = p + \\beta v^n = p + \\beta p + \\beta^2 v^{n-1} = p \\sum_{i=0}^{n-1} \\beta^i + \\beta^n v_0\n",
    "$$\n",
    "\n",
    "To implement the iteration in [(2)](#equation-fixed-point-naive), we start by solving this problem with a `while` loop\n",
    "\n",
    "The syntax for the while loop contains no surprises, and looks nearly identical to a Matlab implementation"
   ]
  },
  {
   "cell_type": "code",
   "execution_count": 20,
   "metadata": {},
   "outputs": [
    {
     "name": "stdout",
     "output_type": "stream",
     "text": [
      "Fixed point = 9.999999173706609, and |f(x) - x| = 9.181037796679448e-8 in 155 iterations\n"
     ]
    }
   ],
   "source": [
    "# poor style\n",
    "p = 1.0 # note 1.0 rather than 1\n",
    "β = 0.9\n",
    "maxiter = 1000\n",
    "tolerance = 1.0E-7\n",
    "v_iv = 0.8 # initial condition\n",
    "\n",
    "# setup the algorithm\n",
    "v_old = v_iv\n",
    "normdiff = Inf\n",
    "iter = 1\n",
    "while normdiff > tolerance && iter <= maxiter\n",
    "    v_new = p + β * v_old # the f(v) map\n",
    "    normdiff = norm(v_new - v_old)\n",
    "\n",
    "    # replace and continue\n",
    "    v_old = v_new\n",
    "    iter = iter + 1\n",
    "end\n",
    "println(\"Fixed point = $v_old, and |f(x) - x| = $normdiff in $iter iterations\")"
   ]
  },
  {
   "cell_type": "markdown",
   "metadata": {},
   "source": [
    "The `while` loop, like the `for` loop should only be used directly in Jupyter or inside of a function\n",
    "\n",
    "Here, we have used the `norm` function (from the `LinearAlgebra` base library) to compare the values\n",
    "\n",
    "The other new function is the `println` with the string interpolation, which splices a value of an expression or variable prefixed by `$` into a string\n",
    "\n",
    "An alternative approach is to use a `for` loop, and checking for convergence in each iteration"
   ]
  },
  {
   "cell_type": "code",
   "execution_count": 21,
   "metadata": {},
   "outputs": [
    {
     "name": "stdout",
     "output_type": "stream",
     "text": [
      "Fixed point = 9.999999081896231, and |f(x) - x| = 9.181037796679448e-8 in 154 iterations\n"
     ]
    }
   ],
   "source": [
    "# setup the algorithm\n",
    "v_old = v_iv\n",
    "normdiff = Inf\n",
    "iter = 1\n",
    "for i in 1:maxiter\n",
    "    v_new = p + β * v_old # the f(v) map\n",
    "    normdiff = norm(v_new - v_old)\n",
    "    if normdiff < tolerance # check convergence\n",
    "        iter = i\n",
    "        break # converged, exit loop\n",
    "    end\n",
    "    # replace and continue\n",
    "    v_old = v_new\n",
    "end\n",
    "println(\"Fixed point = $v_old, and |f(x) - x| = $normdiff in $iter iterations\")"
   ]
  },
  {
   "cell_type": "markdown",
   "metadata": {},
   "source": [
    "The new feature there is `break` , which leaves a `for` or `while` loop"
   ]
  },
  {
   "cell_type": "markdown",
   "metadata": {},
   "source": [
    "### Using a Function\n",
    "\n",
    "The first problem with this setup is that it depends on being sequently run–which can be easily remedied with a function"
   ]
  },
  {
   "cell_type": "code",
   "execution_count": 22,
   "metadata": {},
   "outputs": [
    {
     "name": "stdout",
     "output_type": "stream",
     "text": [
      "Fixed point = 9.999999173706609, and |f(x) - x| = 9.181037796679448e-8 in 155 iterations\n"
     ]
    }
   ],
   "source": [
    "# better, but still poor style\n",
    "function v_fp(β, ρ, v_iv, tolerance, maxiter)\n",
    "    # setup the algorithm\n",
    "    v_old = v_iv\n",
    "    normdiff = Inf\n",
    "    iter = 1\n",
    "    while normdiff > tolerance && iter <= maxiter\n",
    "        v_new = p + β * v_old # the f(v) map\n",
    "        normdiff = norm(v_new - v_old)\n",
    "\n",
    "        #Replace and continue\n",
    "        v_old = v_new\n",
    "        iter = iter + 1\n",
    "    end\n",
    "    return (v_old, normdiff, iter) # returns a tuple\n",
    "end\n",
    "\n",
    "# some values\n",
    "p = 1.0 # note 1.0 rather than 1\n",
    "β = 0.9\n",
    "maxiter = 1000\n",
    "tolerance = 1.0E-7\n",
    "v_initial = 0.8 # initial condition\n",
    "\n",
    "v_star, normdiff, iter = v_fp(β, p, v_initial, tolerance, maxiter)\n",
    "println(\"Fixed point = $v_star, and |f(x) - x| = $normdiff in $iter iterations\")"
   ]
  },
  {
   "cell_type": "markdown",
   "metadata": {},
   "source": [
    "While better, there are still improvements"
   ]
  },
  {
   "cell_type": "markdown",
   "metadata": {},
   "source": [
    "### Passing a Function\n",
    "\n",
    "The chief issue is that the algorithm (finding a fixed point) is reusable and generic, while the function we calculate `p + β * v` is specific to our problem\n",
    "\n",
    "A key feature of languages like Julia, is the ability to efficiently handle functions passed to other functions"
   ]
  },
  {
   "cell_type": "code",
   "execution_count": 23,
   "metadata": {},
   "outputs": [
    {
     "name": "stdout",
     "output_type": "stream",
     "text": [
      "Fixed point = 9.999999173706609, and |f(x) - x| = 9.181037796679448e-8 in 155 iterations\n"
     ]
    }
   ],
   "source": [
    "# better style\n",
    "function fixedpointmap(f, iv, tolerance, maxiter)\n",
    "    # setup the algorithm\n",
    "    x_old = iv\n",
    "    normdiff = Inf\n",
    "    iter = 1\n",
    "    while normdiff > tolerance && iter <= maxiter\n",
    "        x_new = f(x_old) # use the passed in map\n",
    "        normdiff = norm(x_new - x_old)\n",
    "        x_old = x_new\n",
    "        iter = iter + 1\n",
    "    end\n",
    "    return (x_old, normdiff, iter)\n",
    "end\n",
    "\n",
    "# define a map and parameters\n",
    "p = 1.0\n",
    "β = 0.9\n",
    "f(v) = p + β * v # note that p and β are used in the function!\n",
    "\n",
    "maxiter = 1000\n",
    "tolerance = 1.0E-7\n",
    "v_initial = 0.8 # initial condition\n",
    "\n",
    "v_star, normdiff, iter = fixedpointmap(f, v_initial, tolerance, maxiter)\n",
    "println(\"Fixed point = $v_star, and |f(x) - x| = $normdiff in $iter iterations\")"
   ]
  },
  {
   "cell_type": "markdown",
   "metadata": {},
   "source": [
    "Much closer, but there are still hidden bugs if the user orders the settings or return types wrong"
   ]
  },
  {
   "cell_type": "markdown",
   "metadata": {},
   "source": [
    "### Named Arguments and Return Values\n",
    "\n",
    "To enable this, Julia has two features:  named function parameters, and named tuples"
   ]
  },
  {
   "cell_type": "code",
   "execution_count": 24,
   "metadata": {},
   "outputs": [
    {
     "name": "stdout",
     "output_type": "stream",
     "text": [
      "Fixed point = 9.999999918629035, and |f(x) - x| = 9.041219328764782e-9 in 177 iterations\n"
     ]
    }
   ],
   "source": [
    " # good style\n",
    "function fixedpointmap(f; iv, tolerance = 1E-7, maxiter = 1000)\n",
    "    # setup the algorithm\n",
    "    x_old = iv\n",
    "    normdiff = Inf\n",
    "    iter = 1\n",
    "    while normdiff > tolerance && iter <= maxiter\n",
    "        x_new = f(x_old) # use the passed in map\n",
    "        normdiff = norm(x_new - x_old)\n",
    "        x_old = x_new\n",
    "        iter = iter + 1\n",
    "    end\n",
    "    return (value = x_old, normdiff = normdiff, iter = iter) # A named tuple\n",
    "end\n",
    "\n",
    "# define a map and parameters\n",
    "p = 1.0\n",
    "β = 0.9\n",
    "f(v) = p + β * v # note that p and β are used in the function!\n",
    "\n",
    "sol = fixedpointmap(f, iv = 0.8, tolerance = 1.0E-8) # don't need to pass\n",
    "println(\"Fixed point = $(sol.value), and |f(x) - x| = $(sol.normdiff) in $(sol.iter) iterations\")"
   ]
  },
  {
   "cell_type": "markdown",
   "metadata": {},
   "source": [
    "In this example, all function parameters after the `;` in the list, must be called by name\n",
    "\n",
    "Furthermore, a default value may be enabled–so the named parameter `iv` is required while `tolerance` and `maxiter` have default values\n",
    "\n",
    "The return type of the function also has named fields, `value, normdiff,` and `iter`–all accessed intuitively using `.`\n",
    "\n",
    "To show the flexibilty of this code, we can use it to find a fixed-point of the non-linear logistic equation, :math:`x = f(x)` where $ f(x) := r x (1-x) $"
   ]
  },
  {
   "cell_type": "code",
   "execution_count": 25,
   "metadata": {},
   "outputs": [
    {
     "name": "stdout",
     "output_type": "stream",
     "text": [
      "Fixed point = 0.4999999999999968, and |f(x) - x| = 3.979330237546819e-8 in 7 iterations\n"
     ]
    }
   ],
   "source": [
    "r = 2.0\n",
    "f(x) = r * x * (1 - x)\n",
    "\n",
    "sol = fixedpointmap(f, iv = 0.8)\n",
    "println(\"Fixed point = $(sol.value), and |f(x) - x| = $(sol.normdiff) in $(sol.iter) iterations\")"
   ]
  },
  {
   "cell_type": "markdown",
   "metadata": {},
   "source": [
    "### Using a Package\n",
    "\n",
    "But best of all is to avoid writing code altogether"
   ]
  },
  {
   "cell_type": "code",
   "execution_count": 26,
   "metadata": {},
   "outputs": [
    {
     "name": "stdout",
     "output_type": "stream",
     "text": [
      "Fixed point = [10.0], and |f(x) - x| = 9.041219328764782e-9 in 176 iterations\n"
     ]
    }
   ],
   "source": [
    "# best style\n",
    "using NLsolve\n",
    "\n",
    "p = 1.0\n",
    "β = 0.9\n",
    "f(v) = p .+ β * v # broadcast the +\n",
    "sol = fixedpoint(f, [0.8], inplace = false)\n",
    "println(\"Fixed point = $(sol.zero), and |f(x) - x| = $(norm(f(sol.zero) - sol.zero)) in $(sol.iterations) iterations\")"
   ]
  },
  {
   "cell_type": "markdown",
   "metadata": {},
   "source": [
    "The `fixedpoint` function from the `NLsolve.jl` library implements the simple fixed-point iteration scheme above\n",
    "\n",
    "Since the `NLsolve` library only accepts vector based inputs, we needed to make the `f(v)` function broadcast on the `+` sign, and pass in the initial condition as a vector of length 1 with `[0.8]]`\n",
    "\n",
    "While a key benefit of using a package is that the code is clearer, and the implementation is tested, by using an orthogonal library we also enable performance improvements\n",
    "\n",
    "In particular, we can use the `Anderson acceleration` with a memory of 5 iterations, by changing a setting"
   ]
  },
  {
   "cell_type": "code",
   "execution_count": 27,
   "metadata": {},
   "outputs": [
    {
     "name": "stdout",
     "output_type": "stream",
     "text": [
      "Fixed point = [10.0], and |f(x) - x| = 3.552713678800501e-15 in 3 iterations\n"
     ]
    }
   ],
   "source": [
    "# best style\n",
    "using NLsolve\n",
    "\n",
    "p = 1.0\n",
    "β = 0.9\n",
    "iv = [0.8]\n",
    "sol = fixedpoint(v -> p .+ β * v, iv, inplace = false, method = :anderson, m = 3)\n",
    "println(\"Fixed point = $(sol.zero), and |f(x) - x| = $(norm(f(sol.zero) - sol.zero)) in $(sol.iterations) iterations\")"
   ]
  },
  {
   "cell_type": "markdown",
   "metadata": {},
   "source": [
    "Note that this completes in `3` iterations vs `177` for the naive fixed point iteration algorithm\n",
    "\n",
    "Since Anderson iteration is doing more calculations in an iteration,  whether it is faster or not would depend on the complexity of the f function\n",
    "\n",
    "But this demonstrates the value of keeping the math separate from the algorithm, since by decoupling the mathematical definition of the fixed point from the implementation in [(2)](#equation-fixed-point-naive), we were able to exploit new algorithms for finding a fixed point\n",
    "\n",
    "The only other change in this function as the move from directly defining `f(v)` and using an **anonymous** function\n",
    "\n",
    "Similar to anonymous functions in Matlab, and lambda functions in Python, Julia enables the creation of small functions without any names\n",
    "\n",
    "The code `v -> p .+ β * v` defines a function of a dummy argument, `v` with the same body as our `f(x)`"
   ]
  },
  {
   "cell_type": "markdown",
   "metadata": {},
   "source": [
    "### Composing Packages\n",
    "\n",
    "A key benefit of using Julia is that you can compose various packages, types, and techniques, without making changes to your underlying source\n",
    "\n",
    "As an example, consider if we want to solve the model with a higher-precision, as floating points cannot be distinguished beyond the machine epsilon for that type,\n",
    "\n",
    "In Julia, this number can be calculated as"
   ]
  },
  {
   "cell_type": "code",
   "execution_count": 28,
   "metadata": {},
   "outputs": [
    {
     "data": {
      "text/plain": [
       "2.220446049250313e-16"
      ]
     },
     "execution_count": 28,
     "metadata": {},
     "output_type": "execute_result"
    }
   ],
   "source": [
    "eps()"
   ]
  },
  {
   "cell_type": "markdown",
   "metadata": {},
   "source": [
    "For many cases, this is sufficient precision–but consider that in iterative algorithms applied millions of times, those small differences can add up\n",
    "\n",
    "The only change we will need to our model in order to use a different floating point type is to call the function with an arbitrary precision floating point, `BigFloat`, for the initial value"
   ]
  },
  {
   "cell_type": "code",
   "execution_count": 29,
   "metadata": {},
   "outputs": [
    {
     "name": "stdout",
     "output_type": "stream",
     "text": [
      "Fixed point = BigFloat[1.0e+01], and |f(x) - x| = 0.0 in 3 iterations\n"
     ]
    }
   ],
   "source": [
    "# use arbitrary precision floating points\n",
    "p = 1.0\n",
    "β = 0.9\n",
    "iv = [BigFloat(0.8)] # higher precision\n",
    "\n",
    "# otherwise identical\n",
    "sol = fixedpoint(v -> p .+ β * v, iv, inplace = false, m = 3)\n",
    "println(\"Fixed point = $(sol.zero), and |f(x) - x| = $(norm(f(sol.zero) - sol.zero)) in $(sol.iterations) iterations\")"
   ]
  },
  {
   "cell_type": "markdown",
   "metadata": {},
   "source": [
    "Here, the literal BigFloat(0.8) takes the number 0.8 and changes it to an arbitrary precision number\n",
    "\n",
    "The result is that the residual is now **exactly** `0.0` since it is able to use arbitrary precision in the calculations, and the solution has a finite-precision solution with those parameters"
   ]
  },
  {
   "cell_type": "markdown",
   "metadata": {},
   "source": [
    "### Multivariate Fixed Point Maps\n",
    "\n",
    "The above example can be extended to multivariate maps without any modifications to the fixed point iteration code\n",
    "\n",
    "Using our own, homegrown iteration and simple passing in a bivariate map,"
   ]
  },
  {
   "cell_type": "code",
   "execution_count": 30,
   "metadata": {},
   "outputs": [
    {
     "name": "stdout",
     "output_type": "stream",
     "text": [
      "Fixed point = [10.0, 20.0], and |f(x) - x| = 9.501826248250528e-9 in 184 iterations\n"
     ]
    }
   ],
   "source": [
    "p = [1.0, 2.0]\n",
    "β = 0.9\n",
    "iv = [0.8, 2.0]\n",
    "f(v) = p .+ β * v # note that p and β are used in the function!\n",
    "\n",
    "sol = fixedpointmap(f, iv = iv, tolerance = 1.0E-8)\n",
    "println(\"Fixed point = $(sol.value), and |f(x) - x| = $(sol.normdiff) in $(sol.iter) iterations\")"
   ]
  },
  {
   "cell_type": "markdown",
   "metadata": {},
   "source": [
    "This also works without any modifications with the `fixedpoint` library function"
   ]
  },
  {
   "cell_type": "code",
   "execution_count": 31,
   "metadata": {},
   "outputs": [
    {
     "name": "stdout",
     "output_type": "stream",
     "text": [
      "Fixed point = [10.0, 20.0, 1.0], and |f(x) - x| = 0.0 in 3 iterations\n"
     ]
    }
   ],
   "source": [
    "using NLsolve\n",
    "\n",
    "p = [1.0, 2.0, 0.1]\n",
    "β = 0.9\n",
    "iv =[0.8, 2.0, 51.0]\n",
    "f(v) = p .+ β * v\n",
    "\n",
    "sol = fixedpoint(v -> p .+ β * v, iv, inplace = false, method = :anderson, m = 3)\n",
    "println(\"Fixed point = $(sol.zero), and |f(x) - x| = $(norm(f(sol.zero) - sol.zero)) in $(sol.iterations) iterations\")"
   ]
  },
  {
   "cell_type": "markdown",
   "metadata": {},
   "source": [
    "Finally, to demonstrate the importance of composing different libraries, use a `StaticArrays.jl` type, which provides an efficient implementation for small arrays and matrices"
   ]
  },
  {
   "cell_type": "code",
   "execution_count": 32,
   "metadata": {},
   "outputs": [
    {
     "name": "stdout",
     "output_type": "stream",
     "text": [
      "Fixed point = [10.0, 20.0, 1.0], and |f(x) - x| = 0.0 in 3 iterations\n"
     ]
    }
   ],
   "source": [
    "using NLsolve, StaticArrays\n",
    "p = @SVector [1.0, 2.0, 0.1]\n",
    "β = 0.9\n",
    "iv = @SVector  [0.8, 2.0, 51.0]\n",
    "f(v) = p .+ β * v\n",
    "\n",
    "sol = fixedpoint(v -> p .+ β * v, iv, inplace = false, method = :anderson, m = 3)\n",
    "println(\"Fixed point = $(sol.zero), and |f(x) - x| = $(norm(f(sol.zero) - sol.zero)) in $(sol.iterations) iterations\")"
   ]
  },
  {
   "cell_type": "markdown",
   "metadata": {},
   "source": [
    "The `@SVector` in front of the `[1.0, 2.0, 0.1]` is a macro for turning a vector literal into a static vector\n",
    "\n",
    "All macros in Julia are prefixed by `@` in the name, and manipulate the code prior to compilation\n",
    "\n",
    "We will see a variety of macros, and discuss the “metaprogramming” behind them in a later lecture"
   ]
  },
  {
   "cell_type": "markdown",
   "metadata": {},
   "source": [
    "## Exercises\n",
    "\n",
    "\n",
    "<a id='jbe-ex1'></a>"
   ]
  },
  {
   "cell_type": "markdown",
   "metadata": {},
   "source": [
    "### Exercise 1\n",
    "\n",
    "Recall that $ n! $ is read as “$ n $ factorial” and defined as\n",
    "$ n! = n \\times (n - 1) \\times \\cdots \\times 2 \\times 1 $\n",
    "\n",
    "In Julia you can compute this value with `factorial(n)`\n",
    "\n",
    "Write your own version of this function, called `factorial2`, using a `for` loop\n",
    "\n",
    "\n",
    "<a id='jbe-ex2'></a>"
   ]
  },
  {
   "cell_type": "markdown",
   "metadata": {},
   "source": [
    "### Exercise 2\n",
    "\n",
    "The [binomial random variable](https://en.wikipedia.org/wiki/Binomial_distribution) $ Y \\sim Bin(n, p) $ represents\n",
    "\n",
    "- number of successes in $ n $ binary trials  \n",
    "- each trial succeeds with probability $ p $  \n",
    "\n",
    "\n",
    "Using only `rand()` from the set of Julia’s built-in random number\n",
    "generators (not the Distributions package), write a function `binomial_rv` such that `binomial_rv(n, p)` generates one draw of $ Y $\n",
    "\n",
    "Hint: If $ U $ is uniform on $ (0, 1) $ and $ p \\in (0,1) $, then the expression `U < p` evaluates to `true` with probability $ p $\n",
    "\n",
    "\n",
    "<a id='jbe-ex3'></a>"
   ]
  },
  {
   "cell_type": "markdown",
   "metadata": {},
   "source": [
    "### Exercise 3\n",
    "\n",
    "Compute an approximation to $ \\pi $ using Monte Carlo\n",
    "\n",
    "For random number generation use only `rand()`\n",
    "\n",
    "Your hints are as follows:\n",
    "\n",
    "- If $ U $ is a bivariate uniform random variable on the unit square $ (0, 1)^2 $, then the probability that $ U $ lies in a subset $ B $ of $ (0,1)^2 $ is equal to the area of $ B $  \n",
    "- If $ U_1,\\ldots,U_n $ are iid copies of $ U $, then, as $ n $ gets large, the fraction that falls in $ B $ converges to the probability of landing in $ B $  \n",
    "- For a circle, area = π * radius^2  \n",
    "\n",
    "\n",
    "\n",
    "<a id='jbe-ex4'></a>"
   ]
  },
  {
   "cell_type": "markdown",
   "metadata": {},
   "source": [
    "### Exercise 4\n",
    "\n",
    "Write a program that prints one realization of the following random device:\n",
    "\n",
    "- Flip an unbiased coin 10 times  \n",
    "- If 3 consecutive heads occur one or more times within this sequence, pay one dollar  \n",
    "- If not, pay nothing  \n",
    "\n",
    "\n",
    "Once again use only `rand()` as your random number generator\n",
    "\n",
    "\n",
    "<a id='jbe-ex5'></a>"
   ]
  },
  {
   "cell_type": "markdown",
   "metadata": {},
   "source": [
    "### Exercise 5\n",
    "\n",
    "Simulate and plot the correlated time series\n",
    "\n",
    "$$\n",
    "x_{t+1} = \\alpha \\, x_t + \\epsilon_{t+1}\n",
    "\\quad \\text{where} \\quad\n",
    "x_0 = 0\n",
    "\\quad \\text{and} \\quad t = 0,\\ldots,n\n",
    "$$\n",
    "\n",
    "The sequence of shocks $ \\{\\epsilon_t\\} $ is assumed to be iid and standard normal\n",
    "\n",
    "Set $ n = 200 $ and $ \\alpha = 0.9 $\n",
    "\n",
    "\n",
    "<a id='jbe-ex6'></a>"
   ]
  },
  {
   "cell_type": "markdown",
   "metadata": {},
   "source": [
    "### Exercise 6\n",
    "\n",
    "Plot three simulated time series, one for each of the cases $ \\alpha = 0 $, $ \\alpha = 0.8 $ and $ \\alpha = 0.98 $\n",
    "\n",
    "(The figure will illustrate how time series with the same one-step-ahead conditional volatilities, as these three processes have, can have very different unconditional volatilities)\n",
    "\n",
    "\n",
    "<a id='jbe-ex7'></a>"
   ]
  },
  {
   "cell_type": "markdown",
   "metadata": {},
   "source": [
    "### Exercise 7\n",
    "\n",
    "This exercise is more challenging\n",
    "\n",
    "Take a random walk, starting from $ x_0 = 1 $\n",
    "\n",
    "$$\n",
    "x_{t+1} = \\, \\alpha \\, x_t + \\sigma\\, \\epsilon_{t+1}\n",
    "\\quad \\text{where} \\quad\n",
    "x_0 = 1\n",
    "\\quad \\text{and} \\quad t = 0,\\ldots,t_{\\max}\n",
    "$$\n",
    "\n",
    "- Furthermore, assume that the $ x_{t_{\\max}} = 0 $  (i.e. at $ t_{\\max} $, the value drops to zero, regardless of its current state)  \n",
    "- The sequence of shocks $ \\{\\epsilon_t\\} $ is assumed to be iid and standard normal  \n",
    "- For a given path $ \\{x_t\\} $ define a **first-passage time** as $ T_a = \\min\\{t\\, |\\, x_t \\leq a\\} $, where by the assumption of the process $ T_a \\leq t_{\\max} $  \n",
    "\n",
    "\n",
    "Start $ \\sigma = 0.2, \\alpha = 1.0 $\n",
    "\n",
    "1. calculate the first-passage time, $ T_0 $, for 100 simulated random walks–to a $ t_{\\max} = 200 $ and plot a histogram  \n",
    "1. plot the sample mean of $ T_0 $ from the simulation for $ \\alpha \\in \\{0.8, 1.0, 1.2\\} $  "
   ]
  },
  {
   "cell_type": "markdown",
   "metadata": {},
   "source": [
    "### Exercise 8(a)\n",
    "\n",
    "This exercise is more challenging\n",
    "\n",
    "The root of a univariate function is $ f(\\cdot) $ is an $ x $ such that $ f(x) = 0 $\n",
    "\n",
    "One solution method to find local roots of smooth functions is called Newton’s method\n",
    "\n",
    "Starting with an $ x_0 $ guess, a function $ f(\\cdot) $ and the first-derivative $ f'(\\cdot) $, the algorithm is to repeat\n",
    "\n",
    "$$\n",
    "x^{n+1} = x^n - \\frac{f(x^n}{f'(x^n)}\n",
    "$$\n",
    "\n",
    "until $ | x^{n+1} - x^n| $ is below a tolerance\n",
    "\n",
    "1. Use a variation of the `fixedpointmap` code to implement Newton’s method, where the function would accept an `f, f_prime, x_0, tolerance, maxiter`  \n",
    "1. Test it with $ f(x) = (x-1)^3 $ and another function of your choice where you can analytically find the derivative  "
   ]
  },
  {
   "cell_type": "markdown",
   "metadata": {},
   "source": [
    "### Exercise 8(b)\n",
    "\n",
    "For those impatient to use more advanced features of Julia, implement a version where Exercise 8(a) where `f_prime` is calculated with auto-differentiation"
   ]
  },
  {
   "cell_type": "code",
   "execution_count": 33,
   "metadata": {},
   "outputs": [
    {
     "data": {
      "text/plain": [
       "(0.010000000000000002, 0.2)"
      ]
     },
     "execution_count": 33,
     "metadata": {},
     "output_type": "execute_result"
    }
   ],
   "source": [
    "using ForwardDiff\n",
    "\n",
    "# operator to get the derivative of this function using AD\n",
    "D(f) = x -> ForwardDiff.derivative(f, x)\n",
    "\n",
    "# example usage: create a function and get the derivative\n",
    "f(x) = x^2\n",
    "f_prime = D(f)\n",
    "\n",
    "f(0.1), f_prime(0.1)"
   ]
  },
  {
   "cell_type": "markdown",
   "metadata": {},
   "source": [
    "1. Using the `D(f)` operator definition above, implement a version of Newton’s method that does not require the user to provide an analytical derivative  \n",
    "1. Test the sorts of `f` functions which can be automatically integrated by `ForwardDff.jl`  "
   ]
  },
  {
   "cell_type": "markdown",
   "metadata": {},
   "source": [
    "## Solutions"
   ]
  },
  {
   "cell_type": "markdown",
   "metadata": {},
   "source": [
    "### Exercise 1"
   ]
  },
  {
   "cell_type": "code",
   "execution_count": 34,
   "metadata": {},
   "outputs": [
    {
     "data": {
      "text/plain": [
       "24"
      ]
     },
     "execution_count": 34,
     "metadata": {},
     "output_type": "execute_result"
    }
   ],
   "source": [
    "function factorial2(n)\n",
    "    k = 1\n",
    "    for i in 1:n\n",
    "        k *= i  # or k = k * i\n",
    "    end\n",
    "    return k\n",
    "end\n",
    "\n",
    "factorial2(4)"
   ]
  },
  {
   "cell_type": "code",
   "execution_count": 35,
   "metadata": {},
   "outputs": [
    {
     "data": {
      "text/plain": [
       "true"
      ]
     },
     "execution_count": 35,
     "metadata": {},
     "output_type": "execute_result"
    }
   ],
   "source": [
    "factorial2(4) == factorial(4) # built-in function"
   ]
  },
  {
   "cell_type": "markdown",
   "metadata": {},
   "source": [
    "### Exercise 2"
   ]
  },
  {
   "cell_type": "code",
   "execution_count": 36,
   "metadata": {},
   "outputs": [
    {
     "name": "stdout",
     "output_type": "stream",
     "text": [
      "4, 4, 4, 4, 4, 3, 4, 4, 5, 4, 6, 5, 7, 8, 4, 5, 5, 7, 5, 6, 4, 4, 3, 6, 6, "
     ]
    }
   ],
   "source": [
    "function binomial_rv(n, p)\n",
    "    count = 0\n",
    "    U = rand(n)\n",
    "    for i in 1:n\n",
    "        if U[i] < p\n",
    "            count += 1 # or count = count + 1\n",
    "        end\n",
    "    end\n",
    "    return count\n",
    "end\n",
    "\n",
    "for j in 1:25\n",
    "    b = binomial_rv(10, 0.5)\n",
    "    print(\"$b, \")\n",
    "end"
   ]
  },
  {
   "cell_type": "markdown",
   "metadata": {},
   "source": [
    "### Exercise 3\n",
    "\n",
    "Consider the circle of diameter 1 embedded in the unit square\n",
    "\n",
    "Let $ A $ be its area and let $ r = 1/2 $ be its radius\n",
    "\n",
    "If we know $ \\pi $ then we can compute $ A $ via\n",
    "$ A = \\pi r^2 $\n",
    "\n",
    "But here the point is to compute $ \\pi $, which we can do by\n",
    "$ \\pi = A / r^2 $\n",
    "\n",
    "Summary: If we can estimate the area of the unit circle, then dividing\n",
    "by $ r^2 = (1/2)^2 = 1/4 $ gives an estimate of $ \\pi $\n",
    "\n",
    "We estimate the area by sampling bivariate uniforms and looking at the\n",
    "fraction that fall into the unit circle"
   ]
  },
  {
   "cell_type": "code",
   "execution_count": 37,
   "metadata": {},
   "outputs": [
    {
     "name": "stdout",
     "output_type": "stream",
     "text": [
      "3.143564"
     ]
    }
   ],
   "source": [
    "n = 1000000\n",
    "count = 0\n",
    "for i in 1:n\n",
    "    u, v = rand(2)\n",
    "    d = sqrt((u - 0.5)^2 + (v - 0.5)^2)  # distance from middle of square\n",
    "    if d < 0.5\n",
    "        count += 1\n",
    "    end\n",
    "end\n",
    "\n",
    "area_estimate = count / n\n",
    "\n",
    "print(area_estimate * 4)  # dividing by radius**2"
   ]
  },
  {
   "cell_type": "markdown",
   "metadata": {},
   "source": [
    "### Exercise 4"
   ]
  },
  {
   "cell_type": "code",
   "execution_count": 38,
   "metadata": {},
   "outputs": [
    {
     "name": "stdout",
     "output_type": "stream",
     "text": [
      "Count = 0001010123\n",
      "payoff = 1\n"
     ]
    }
   ],
   "source": [
    "payoff = 0\n",
    "count = 0\n",
    "\n",
    "print(\"Count = \")\n",
    "\n",
    "for i in 1:10\n",
    "    U = rand()\n",
    "    if U < 0.5\n",
    "        count += 1\n",
    "    else\n",
    "        count = 0\n",
    "    end\n",
    "    print(count)\n",
    "    if count == 3\n",
    "        payoff = 1\n",
    "    end\n",
    "end\n",
    "println(\"\\npayoff = $payoff\")"
   ]
  },
  {
   "cell_type": "markdown",
   "metadata": {},
   "source": [
    "We can simplify this somewhat using the **ternary operator**. Here’s\n",
    "some examples"
   ]
  },
  {
   "cell_type": "code",
   "execution_count": 39,
   "metadata": {},
   "outputs": [
    {
     "data": {
      "text/plain": [
       "\"foo\""
      ]
     },
     "execution_count": 39,
     "metadata": {},
     "output_type": "execute_result"
    }
   ],
   "source": [
    "a = 1  < 2 ? \"foo\" : \"bar\""
   ]
  },
  {
   "cell_type": "code",
   "execution_count": 40,
   "metadata": {},
   "outputs": [
    {
     "data": {
      "text/plain": [
       "\"bar\""
      ]
     },
     "execution_count": 40,
     "metadata": {},
     "output_type": "execute_result"
    }
   ],
   "source": [
    "a = 1 > 2 ? \"foo\" : \"bar\""
   ]
  },
  {
   "cell_type": "markdown",
   "metadata": {},
   "source": [
    "Using this construction:"
   ]
  },
  {
   "cell_type": "code",
   "execution_count": 41,
   "metadata": {},
   "outputs": [
    {
     "name": "stdout",
     "output_type": "stream",
     "text": [
      "Count = 0001000012\n",
      "payoff = 0.0\n"
     ]
    }
   ],
   "source": [
    "payoff = 0.0\n",
    "count = 0.0\n",
    "\n",
    "print(\"Count = \")\n",
    "\n",
    "for i in 1:10\n",
    "    U = rand()\n",
    "    count = U < 0.5 ? count + 1 : 0\n",
    "    print(count)\n",
    "    if count == 3\n",
    "        payoff = 1\n",
    "    end\n",
    "end\n",
    "println(\"\\npayoff = $payoff\")"
   ]
  },
  {
   "cell_type": "markdown",
   "metadata": {},
   "source": [
    "### Exercise 5\n",
    "\n",
    "Here’s one solution"
   ]
  },
  {
   "cell_type": "code",
   "execution_count": 42,
   "metadata": {},
   "outputs": [
    {
     "data": {
      "image/svg+xml": [
       "<?xml version=\"1.0\" encoding=\"utf-8\"?>\n",
       "<svg xmlns=\"http://www.w3.org/2000/svg\" xmlns:xlink=\"http://www.w3.org/1999/xlink\" width=\"600\" height=\"400\" viewBox=\"0 0 2400 1600\">\n",
       "<defs>\n",
       "  <clipPath id=\"clip1000\">\n",
       "    <rect x=\"0\" y=\"0\" width=\"2000\" height=\"2000\"/>\n",
       "  </clipPath>\n",
       "</defs>\n",
       "<defs>\n",
       "  <clipPath id=\"clip1001\">\n",
       "    <rect x=\"0\" y=\"0\" width=\"2400\" height=\"1600\"/>\n",
       "  </clipPath>\n",
       "</defs>\n",
       "<polygon clip-path=\"url(#clip1001)\" points=\"\n",
       "0,1600 2400,1600 2400,0 0,0 \n",
       "  \" fill=\"#ffffff\" fill-opacity=\"1\"/>\n",
       "<defs>\n",
       "  <clipPath id=\"clip1002\">\n",
       "    <rect x=\"480\" y=\"0\" width=\"1681\" height=\"1600\"/>\n",
       "  </clipPath>\n",
       "</defs>\n",
       "<polygon clip-path=\"url(#clip1001)\" points=\"\n",
       "149.361,1503.47 2321.26,1503.47 2321.26,47.2441 149.361,47.2441 \n",
       "  \" fill=\"#ffffff\" fill-opacity=\"1\"/>\n",
       "<defs>\n",
       "  <clipPath id=\"clip1003\">\n",
       "    <rect x=\"149\" y=\"47\" width=\"2173\" height=\"1457\"/>\n",
       "  </clipPath>\n",
       "</defs>\n",
       "<polyline clip-path=\"url(#clip1003)\" style=\"stroke:#000000; stroke-width:2; stroke-opacity:0.1; fill:none\" points=\"\n",
       "  200.585,1503.47 200.585,47.2441 \n",
       "  \"/>\n",
       "<polyline clip-path=\"url(#clip1003)\" style=\"stroke:#000000; stroke-width:2; stroke-opacity:0.1; fill:none\" points=\"\n",
       "  712.825,1503.47 712.825,47.2441 \n",
       "  \"/>\n",
       "<polyline clip-path=\"url(#clip1003)\" style=\"stroke:#000000; stroke-width:2; stroke-opacity:0.1; fill:none\" points=\"\n",
       "  1225.07,1503.47 1225.07,47.2441 \n",
       "  \"/>\n",
       "<polyline clip-path=\"url(#clip1003)\" style=\"stroke:#000000; stroke-width:2; stroke-opacity:0.1; fill:none\" points=\"\n",
       "  1737.31,1503.47 1737.31,47.2441 \n",
       "  \"/>\n",
       "<polyline clip-path=\"url(#clip1003)\" style=\"stroke:#000000; stroke-width:2; stroke-opacity:0.1; fill:none\" points=\"\n",
       "  2249.55,1503.47 2249.55,47.2441 \n",
       "  \"/>\n",
       "<polyline clip-path=\"url(#clip1003)\" style=\"stroke:#000000; stroke-width:2; stroke-opacity:0.1; fill:none\" points=\"\n",
       "  149.361,1429.79 2321.26,1429.79 \n",
       "  \"/>\n",
       "<polyline clip-path=\"url(#clip1003)\" style=\"stroke:#000000; stroke-width:2; stroke-opacity:0.1; fill:none\" points=\"\n",
       "  149.361,1129.57 2321.26,1129.57 \n",
       "  \"/>\n",
       "<polyline clip-path=\"url(#clip1003)\" style=\"stroke:#000000; stroke-width:2; stroke-opacity:0.1; fill:none\" points=\"\n",
       "  149.361,829.354 2321.26,829.354 \n",
       "  \"/>\n",
       "<polyline clip-path=\"url(#clip1003)\" style=\"stroke:#000000; stroke-width:2; stroke-opacity:0.1; fill:none\" points=\"\n",
       "  149.361,529.137 2321.26,529.137 \n",
       "  \"/>\n",
       "<polyline clip-path=\"url(#clip1003)\" style=\"stroke:#000000; stroke-width:2; stroke-opacity:0.1; fill:none\" points=\"\n",
       "  149.361,228.919 2321.26,228.919 \n",
       "  \"/>\n",
       "<polyline clip-path=\"url(#clip1001)\" style=\"stroke:#000000; stroke-width:4; stroke-opacity:1; fill:none\" points=\"\n",
       "  149.361,1503.47 2321.26,1503.47 \n",
       "  \"/>\n",
       "<polyline clip-path=\"url(#clip1001)\" style=\"stroke:#000000; stroke-width:4; stroke-opacity:1; fill:none\" points=\"\n",
       "  149.361,1503.47 149.361,47.2441 \n",
       "  \"/>\n",
       "<polyline clip-path=\"url(#clip1001)\" style=\"stroke:#000000; stroke-width:4; stroke-opacity:1; fill:none\" points=\"\n",
       "  200.585,1503.47 200.585,1481.63 \n",
       "  \"/>\n",
       "<polyline clip-path=\"url(#clip1001)\" style=\"stroke:#000000; stroke-width:4; stroke-opacity:1; fill:none\" points=\"\n",
       "  712.825,1503.47 712.825,1481.63 \n",
       "  \"/>\n",
       "<polyline clip-path=\"url(#clip1001)\" style=\"stroke:#000000; stroke-width:4; stroke-opacity:1; fill:none\" points=\"\n",
       "  1225.07,1503.47 1225.07,1481.63 \n",
       "  \"/>\n",
       "<polyline clip-path=\"url(#clip1001)\" style=\"stroke:#000000; stroke-width:4; stroke-opacity:1; fill:none\" points=\"\n",
       "  1737.31,1503.47 1737.31,1481.63 \n",
       "  \"/>\n",
       "<polyline clip-path=\"url(#clip1001)\" style=\"stroke:#000000; stroke-width:4; stroke-opacity:1; fill:none\" points=\"\n",
       "  2249.55,1503.47 2249.55,1481.63 \n",
       "  \"/>\n",
       "<polyline clip-path=\"url(#clip1001)\" style=\"stroke:#000000; stroke-width:4; stroke-opacity:1; fill:none\" points=\"\n",
       "  149.361,1429.79 181.939,1429.79 \n",
       "  \"/>\n",
       "<polyline clip-path=\"url(#clip1001)\" style=\"stroke:#000000; stroke-width:4; stroke-opacity:1; fill:none\" points=\"\n",
       "  149.361,1129.57 181.939,1129.57 \n",
       "  \"/>\n",
       "<polyline clip-path=\"url(#clip1001)\" style=\"stroke:#000000; stroke-width:4; stroke-opacity:1; fill:none\" points=\"\n",
       "  149.361,829.354 181.939,829.354 \n",
       "  \"/>\n",
       "<polyline clip-path=\"url(#clip1001)\" style=\"stroke:#000000; stroke-width:4; stroke-opacity:1; fill:none\" points=\"\n",
       "  149.361,529.137 181.939,529.137 \n",
       "  \"/>\n",
       "<polyline clip-path=\"url(#clip1001)\" style=\"stroke:#000000; stroke-width:4; stroke-opacity:1; fill:none\" points=\"\n",
       "  149.361,228.919 181.939,228.919 \n",
       "  \"/>\n",
       "<g clip-path=\"url(#clip1001)\">\n",
       "<text style=\"fill:#000000; fill-opacity:1; font-family:Arial,Helvetica Neue,Helvetica,sans-serif; font-size:48; text-anchor:middle;\" transform=\"rotate(0, 200.585, 1557.47)\" x=\"200.585\" y=\"1557.47\">0</text>\n",
       "</g>\n",
       "<g clip-path=\"url(#clip1001)\">\n",
       "<text style=\"fill:#000000; fill-opacity:1; font-family:Arial,Helvetica Neue,Helvetica,sans-serif; font-size:48; text-anchor:middle;\" transform=\"rotate(0, 712.825, 1557.47)\" x=\"712.825\" y=\"1557.47\">50</text>\n",
       "</g>\n",
       "<g clip-path=\"url(#clip1001)\">\n",
       "<text style=\"fill:#000000; fill-opacity:1; font-family:Arial,Helvetica Neue,Helvetica,sans-serif; font-size:48; text-anchor:middle;\" transform=\"rotate(0, 1225.07, 1557.47)\" x=\"1225.07\" y=\"1557.47\">100</text>\n",
       "</g>\n",
       "<g clip-path=\"url(#clip1001)\">\n",
       "<text style=\"fill:#000000; fill-opacity:1; font-family:Arial,Helvetica Neue,Helvetica,sans-serif; font-size:48; text-anchor:middle;\" transform=\"rotate(0, 1737.31, 1557.47)\" x=\"1737.31\" y=\"1557.47\">150</text>\n",
       "</g>\n",
       "<g clip-path=\"url(#clip1001)\">\n",
       "<text style=\"fill:#000000; fill-opacity:1; font-family:Arial,Helvetica Neue,Helvetica,sans-serif; font-size:48; text-anchor:middle;\" transform=\"rotate(0, 2249.55, 1557.47)\" x=\"2249.55\" y=\"1557.47\">200</text>\n",
       "</g>\n",
       "<g clip-path=\"url(#clip1001)\">\n",
       "<text style=\"fill:#000000; fill-opacity:1; font-family:Arial,Helvetica Neue,Helvetica,sans-serif; font-size:48; text-anchor:end;\" transform=\"rotate(0, 125.361, 1447.29)\" x=\"125.361\" y=\"1447.29\">-4</text>\n",
       "</g>\n",
       "<g clip-path=\"url(#clip1001)\">\n",
       "<text style=\"fill:#000000; fill-opacity:1; font-family:Arial,Helvetica Neue,Helvetica,sans-serif; font-size:48; text-anchor:end;\" transform=\"rotate(0, 125.361, 1147.07)\" x=\"125.361\" y=\"1147.07\">-2</text>\n",
       "</g>\n",
       "<g clip-path=\"url(#clip1001)\">\n",
       "<text style=\"fill:#000000; fill-opacity:1; font-family:Arial,Helvetica Neue,Helvetica,sans-serif; font-size:48; text-anchor:end;\" transform=\"rotate(0, 125.361, 846.854)\" x=\"125.361\" y=\"846.854\">0</text>\n",
       "</g>\n",
       "<g clip-path=\"url(#clip1001)\">\n",
       "<text style=\"fill:#000000; fill-opacity:1; font-family:Arial,Helvetica Neue,Helvetica,sans-serif; font-size:48; text-anchor:end;\" transform=\"rotate(0, 125.361, 546.637)\" x=\"125.361\" y=\"546.637\">2</text>\n",
       "</g>\n",
       "<g clip-path=\"url(#clip1001)\">\n",
       "<text style=\"fill:#000000; fill-opacity:1; font-family:Arial,Helvetica Neue,Helvetica,sans-serif; font-size:48; text-anchor:end;\" transform=\"rotate(0, 125.361, 246.419)\" x=\"125.361\" y=\"246.419\">4</text>\n",
       "</g>\n",
       "<polyline clip-path=\"url(#clip1003)\" style=\"stroke:#009af9; stroke-width:4; stroke-opacity:1; fill:none\" points=\"\n",
       "  210.829,829.354 221.074,977.208 231.319,752.064 241.564,734.081 251.809,754.121 262.053,763.15 272.298,712.583 282.543,626.257 292.788,465.045 303.033,626.053 \n",
       "  313.278,541.547 323.522,763.352 333.767,897.291 344.012,1024.36 354.257,1005.04 364.502,1191.43 374.746,1132.94 384.991,921.133 395.236,950.706 405.481,860.659 \n",
       "  415.726,821.991 425.97,846.73 436.215,589.846 446.46,1011.05 456.705,1029.25 466.95,850.969 477.194,742.217 487.439,747.646 497.684,661.92 507.929,795.871 \n",
       "  518.174,866.552 528.418,1128.39 538.663,635.768 548.908,344.356 559.153,88.4582 569.398,216.181 579.643,440.079 589.887,596.069 600.132,606.292 610.377,609.281 \n",
       "  620.622,825.613 630.867,687.2 641.111,624.574 651.356,662.236 661.601,935.893 671.846,972.137 682.091,1050.5 692.335,1070.35 702.58,1044.68 712.825,852.681 \n",
       "  723.07,838.877 733.315,1003.33 743.559,968.718 753.804,897.537 764.049,1001.78 774.294,1108.96 784.539,1080.46 794.783,1024.39 805.028,758.475 815.273,800.269 \n",
       "  825.518,800.337 835.763,977.37 846.008,889.218 856.252,790.405 866.497,813.063 876.742,738.083 886.987,1096.74 897.232,1007.95 907.476,1237.04 917.721,1304.12 \n",
       "  927.966,1308.74 938.211,1251.27 948.456,1139.87 958.7,1098.19 968.945,1136.37 979.19,1155.9 989.435,1357.97 999.68,1025.99 1009.92,1122.11 1020.17,1049.52 \n",
       "  1030.41,957.735 1040.66,1109.8 1050.9,1375.29 1061.15,1462.26 1071.39,1414.35 1081.64,1339.47 1091.88,1397.6 1102.13,1192.49 1112.37,1106.99 1122.62,1075.59 \n",
       "  1132.86,899.826 1143.11,907.171 1153.35,619.017 1163.6,497.67 1173.84,727.774 1184.09,744.228 1194.33,595.874 1204.58,490.879 1214.82,747.347 1225.07,721.374 \n",
       "  1235.31,646.94 1245.56,779.011 1255.8,843.823 1266.04,632.517 1276.29,720.33 1286.53,590.694 1296.78,357.2 1307.02,668.446 1317.27,490.918 1327.51,430.155 \n",
       "  1337.76,450.941 1348,618.229 1358.25,661.695 1368.49,551.211 1378.74,673.016 1388.98,904.357 1399.23,819.302 1409.47,911.404 1419.72,699.515 1429.96,689.535 \n",
       "  1440.21,705.259 1450.45,680.215 1460.7,769.687 1470.94,462 1481.19,447.678 1491.43,487.661 1501.68,335.482 1511.92,540.985 1522.16,442.955 1532.41,507.648 \n",
       "  1542.65,531.354 1552.9,476.824 1563.14,507.135 1573.39,902.424 1583.63,832.173 1593.88,925.56 1604.12,979.797 1614.37,816.735 1624.61,732.522 1634.86,693.92 \n",
       "  1645.1,690.753 1655.35,627.322 1665.59,886.095 1675.84,755.379 1686.08,760.599 1696.33,837.817 1706.57,708.692 1716.82,710.315 1727.06,686.533 1737.31,712.298 \n",
       "  1747.55,887.901 1757.8,879.882 1768.04,1021.34 1778.29,871.387 1788.53,775.82 1798.77,472.789 1809.02,519.104 1819.26,740.372 1829.51,713.964 1839.75,909.216 \n",
       "  1850,1047.35 1860.24,899.994 1870.49,785.806 1880.73,979.82 1890.98,1106.59 1901.22,1180.82 1911.47,1105.06 1921.71,864.743 1931.96,730.751 1942.2,1016.81 \n",
       "  1952.45,1136.92 1962.69,984.954 1972.94,911.2 1983.18,909.612 1993.43,764.646 2003.67,714.805 2013.92,649.765 2024.16,503.655 2034.41,727.96 2044.65,807.535 \n",
       "  2054.89,1002.72 2065.14,923.656 2075.38,819.964 2085.63,978.825 2095.87,1071.93 2106.12,1097.72 2116.36,1045.25 2126.61,1000.82 2136.85,1178.8 2147.1,910.473 \n",
       "  2157.34,756.503 2167.59,764.965 2177.83,654.816 2188.08,385.207 2198.32,458.101 2208.57,391.589 2218.81,529.065 2229.06,506.682 2239.3,542.758 2249.55,506.694 \n",
       "  2259.79,471.762 \n",
       "  \"/>\n",
       "<polygon clip-path=\"url(#clip1001)\" points=\"\n",
       "1958.43,251.724 2249.26,251.724 2249.26,130.764 1958.43,130.764 \n",
       "  \" fill=\"#ffffff\" fill-opacity=\"1\"/>\n",
       "<polyline clip-path=\"url(#clip1001)\" style=\"stroke:#000000; stroke-width:4; stroke-opacity:1; fill:none\" points=\"\n",
       "  1958.43,251.724 2249.26,251.724 2249.26,130.764 1958.43,130.764 1958.43,251.724 \n",
       "  \"/>\n",
       "<polyline clip-path=\"url(#clip1001)\" style=\"stroke:#009af9; stroke-width:4; stroke-opacity:1; fill:none\" points=\"\n",
       "  1982.43,191.244 2126.43,191.244 \n",
       "  \"/>\n",
       "<g clip-path=\"url(#clip1001)\">\n",
       "<text style=\"fill:#000000; fill-opacity:1; font-family:Arial,Helvetica Neue,Helvetica,sans-serif; font-size:48; text-anchor:start;\" transform=\"rotate(0, 2150.43, 208.744)\" x=\"2150.43\" y=\"208.744\">y1</text>\n",
       "</g>\n",
       "</svg>\n"
      ]
     },
     "execution_count": 42,
     "metadata": {},
     "output_type": "execute_result"
    }
   ],
   "source": [
    "α = 0.9\n",
    "n = 200\n",
    "x = zeros(n + 1)\n",
    "\n",
    "for t in 1:n\n",
    "    x[t+1] = α * x[t] + randn()\n",
    "end\n",
    "plot(x)"
   ]
  },
  {
   "cell_type": "markdown",
   "metadata": {},
   "source": [
    "### Exercise 6"
   ]
  },
  {
   "cell_type": "code",
   "execution_count": 43,
   "metadata": {},
   "outputs": [
    {
     "data": {
      "image/svg+xml": [
       "<?xml version=\"1.0\" encoding=\"utf-8\"?>\n",
       "<svg xmlns=\"http://www.w3.org/2000/svg\" xmlns:xlink=\"http://www.w3.org/1999/xlink\" width=\"600\" height=\"400\" viewBox=\"0 0 2400 1600\">\n",
       "<defs>\n",
       "  <clipPath id=\"clip1200\">\n",
       "    <rect x=\"0\" y=\"0\" width=\"2000\" height=\"2000\"/>\n",
       "  </clipPath>\n",
       "</defs>\n",
       "<defs>\n",
       "  <clipPath id=\"clip1201\">\n",
       "    <rect x=\"0\" y=\"0\" width=\"2400\" height=\"1600\"/>\n",
       "  </clipPath>\n",
       "</defs>\n",
       "<polygon clip-path=\"url(#clip1201)\" points=\"\n",
       "0,1600 2400,1600 2400,0 0,0 \n",
       "  \" fill=\"#ffffff\" fill-opacity=\"1\"/>\n",
       "<defs>\n",
       "  <clipPath id=\"clip1202\">\n",
       "    <rect x=\"480\" y=\"0\" width=\"1681\" height=\"1600\"/>\n",
       "  </clipPath>\n",
       "</defs>\n",
       "<polygon clip-path=\"url(#clip1201)\" points=\"\n",
       "189.504,1503.47 2321.26,1503.47 2321.26,47.2441 189.504,47.2441 \n",
       "  \" fill=\"#ffffff\" fill-opacity=\"1\"/>\n",
       "<defs>\n",
       "  <clipPath id=\"clip1203\">\n",
       "    <rect x=\"189\" y=\"47\" width=\"2133\" height=\"1457\"/>\n",
       "  </clipPath>\n",
       "</defs>\n",
       "<polyline clip-path=\"url(#clip1203)\" style=\"stroke:#000000; stroke-width:2; stroke-opacity:0.1; fill:none\" points=\"\n",
       "  239.781,1503.47 239.781,47.2441 \n",
       "  \"/>\n",
       "<polyline clip-path=\"url(#clip1203)\" style=\"stroke:#000000; stroke-width:2; stroke-opacity:0.1; fill:none\" points=\"\n",
       "  742.554,1503.47 742.554,47.2441 \n",
       "  \"/>\n",
       "<polyline clip-path=\"url(#clip1203)\" style=\"stroke:#000000; stroke-width:2; stroke-opacity:0.1; fill:none\" points=\"\n",
       "  1245.33,1503.47 1245.33,47.2441 \n",
       "  \"/>\n",
       "<polyline clip-path=\"url(#clip1203)\" style=\"stroke:#000000; stroke-width:2; stroke-opacity:0.1; fill:none\" points=\"\n",
       "  1748.1,1503.47 1748.1,47.2441 \n",
       "  \"/>\n",
       "<polyline clip-path=\"url(#clip1203)\" style=\"stroke:#000000; stroke-width:2; stroke-opacity:0.1; fill:none\" points=\"\n",
       "  2250.87,1503.47 2250.87,47.2441 \n",
       "  \"/>\n",
       "<polyline clip-path=\"url(#clip1203)\" style=\"stroke:#000000; stroke-width:2; stroke-opacity:0.1; fill:none\" points=\"\n",
       "  189.504,1294.5 2321.26,1294.5 \n",
       "  \"/>\n",
       "<polyline clip-path=\"url(#clip1203)\" style=\"stroke:#000000; stroke-width:2; stroke-opacity:0.1; fill:none\" points=\"\n",
       "  189.504,1023.93 2321.26,1023.93 \n",
       "  \"/>\n",
       "<polyline clip-path=\"url(#clip1203)\" style=\"stroke:#000000; stroke-width:2; stroke-opacity:0.1; fill:none\" points=\"\n",
       "  189.504,753.356 2321.26,753.356 \n",
       "  \"/>\n",
       "<polyline clip-path=\"url(#clip1203)\" style=\"stroke:#000000; stroke-width:2; stroke-opacity:0.1; fill:none\" points=\"\n",
       "  189.504,482.785 2321.26,482.785 \n",
       "  \"/>\n",
       "<polyline clip-path=\"url(#clip1203)\" style=\"stroke:#000000; stroke-width:2; stroke-opacity:0.1; fill:none\" points=\"\n",
       "  189.504,212.215 2321.26,212.215 \n",
       "  \"/>\n",
       "<polyline clip-path=\"url(#clip1201)\" style=\"stroke:#000000; stroke-width:4; stroke-opacity:1; fill:none\" points=\"\n",
       "  189.504,1503.47 2321.26,1503.47 \n",
       "  \"/>\n",
       "<polyline clip-path=\"url(#clip1201)\" style=\"stroke:#000000; stroke-width:4; stroke-opacity:1; fill:none\" points=\"\n",
       "  189.504,1503.47 189.504,47.2441 \n",
       "  \"/>\n",
       "<polyline clip-path=\"url(#clip1201)\" style=\"stroke:#000000; stroke-width:4; stroke-opacity:1; fill:none\" points=\"\n",
       "  239.781,1503.47 239.781,1481.63 \n",
       "  \"/>\n",
       "<polyline clip-path=\"url(#clip1201)\" style=\"stroke:#000000; stroke-width:4; stroke-opacity:1; fill:none\" points=\"\n",
       "  742.554,1503.47 742.554,1481.63 \n",
       "  \"/>\n",
       "<polyline clip-path=\"url(#clip1201)\" style=\"stroke:#000000; stroke-width:4; stroke-opacity:1; fill:none\" points=\"\n",
       "  1245.33,1503.47 1245.33,1481.63 \n",
       "  \"/>\n",
       "<polyline clip-path=\"url(#clip1201)\" style=\"stroke:#000000; stroke-width:4; stroke-opacity:1; fill:none\" points=\"\n",
       "  1748.1,1503.47 1748.1,1481.63 \n",
       "  \"/>\n",
       "<polyline clip-path=\"url(#clip1201)\" style=\"stroke:#000000; stroke-width:4; stroke-opacity:1; fill:none\" points=\"\n",
       "  2250.87,1503.47 2250.87,1481.63 \n",
       "  \"/>\n",
       "<polyline clip-path=\"url(#clip1201)\" style=\"stroke:#000000; stroke-width:4; stroke-opacity:1; fill:none\" points=\"\n",
       "  189.504,1294.5 221.48,1294.5 \n",
       "  \"/>\n",
       "<polyline clip-path=\"url(#clip1201)\" style=\"stroke:#000000; stroke-width:4; stroke-opacity:1; fill:none\" points=\"\n",
       "  189.504,1023.93 221.48,1023.93 \n",
       "  \"/>\n",
       "<polyline clip-path=\"url(#clip1201)\" style=\"stroke:#000000; stroke-width:4; stroke-opacity:1; fill:none\" points=\"\n",
       "  189.504,753.356 221.48,753.356 \n",
       "  \"/>\n",
       "<polyline clip-path=\"url(#clip1201)\" style=\"stroke:#000000; stroke-width:4; stroke-opacity:1; fill:none\" points=\"\n",
       "  189.504,482.785 221.48,482.785 \n",
       "  \"/>\n",
       "<polyline clip-path=\"url(#clip1201)\" style=\"stroke:#000000; stroke-width:4; stroke-opacity:1; fill:none\" points=\"\n",
       "  189.504,212.215 221.48,212.215 \n",
       "  \"/>\n",
       "<g clip-path=\"url(#clip1201)\">\n",
       "<text style=\"fill:#000000; fill-opacity:1; font-family:Arial,Helvetica Neue,Helvetica,sans-serif; font-size:48; text-anchor:middle;\" transform=\"rotate(0, 239.781, 1557.47)\" x=\"239.781\" y=\"1557.47\">0</text>\n",
       "</g>\n",
       "<g clip-path=\"url(#clip1201)\">\n",
       "<text style=\"fill:#000000; fill-opacity:1; font-family:Arial,Helvetica Neue,Helvetica,sans-serif; font-size:48; text-anchor:middle;\" transform=\"rotate(0, 742.554, 1557.47)\" x=\"742.554\" y=\"1557.47\">50</text>\n",
       "</g>\n",
       "<g clip-path=\"url(#clip1201)\">\n",
       "<text style=\"fill:#000000; fill-opacity:1; font-family:Arial,Helvetica Neue,Helvetica,sans-serif; font-size:48; text-anchor:middle;\" transform=\"rotate(0, 1245.33, 1557.47)\" x=\"1245.33\" y=\"1557.47\">100</text>\n",
       "</g>\n",
       "<g clip-path=\"url(#clip1201)\">\n",
       "<text style=\"fill:#000000; fill-opacity:1; font-family:Arial,Helvetica Neue,Helvetica,sans-serif; font-size:48; text-anchor:middle;\" transform=\"rotate(0, 1748.1, 1557.47)\" x=\"1748.1\" y=\"1557.47\">150</text>\n",
       "</g>\n",
       "<g clip-path=\"url(#clip1201)\">\n",
       "<text style=\"fill:#000000; fill-opacity:1; font-family:Arial,Helvetica Neue,Helvetica,sans-serif; font-size:48; text-anchor:middle;\" transform=\"rotate(0, 2250.87, 1557.47)\" x=\"2250.87\" y=\"1557.47\">200</text>\n",
       "</g>\n",
       "<g clip-path=\"url(#clip1201)\">\n",
       "<text style=\"fill:#000000; fill-opacity:1; font-family:Arial,Helvetica Neue,Helvetica,sans-serif; font-size:48; text-anchor:end;\" transform=\"rotate(0, 165.504, 1312)\" x=\"165.504\" y=\"1312\">-5.0</text>\n",
       "</g>\n",
       "<g clip-path=\"url(#clip1201)\">\n",
       "<text style=\"fill:#000000; fill-opacity:1; font-family:Arial,Helvetica Neue,Helvetica,sans-serif; font-size:48; text-anchor:end;\" transform=\"rotate(0, 165.504, 1041.43)\" x=\"165.504\" y=\"1041.43\">-2.5</text>\n",
       "</g>\n",
       "<g clip-path=\"url(#clip1201)\">\n",
       "<text style=\"fill:#000000; fill-opacity:1; font-family:Arial,Helvetica Neue,Helvetica,sans-serif; font-size:48; text-anchor:end;\" transform=\"rotate(0, 165.504, 770.856)\" x=\"165.504\" y=\"770.856\">0.0</text>\n",
       "</g>\n",
       "<g clip-path=\"url(#clip1201)\">\n",
       "<text style=\"fill:#000000; fill-opacity:1; font-family:Arial,Helvetica Neue,Helvetica,sans-serif; font-size:48; text-anchor:end;\" transform=\"rotate(0, 165.504, 500.285)\" x=\"165.504\" y=\"500.285\">2.5</text>\n",
       "</g>\n",
       "<g clip-path=\"url(#clip1201)\">\n",
       "<text style=\"fill:#000000; fill-opacity:1; font-family:Arial,Helvetica Neue,Helvetica,sans-serif; font-size:48; text-anchor:end;\" transform=\"rotate(0, 165.504, 229.715)\" x=\"165.504\" y=\"229.715\">5.0</text>\n",
       "</g>\n",
       "<polyline clip-path=\"url(#clip1203)\" style=\"stroke:#009af9; stroke-width:4; stroke-opacity:1; fill:none\" points=\"\n",
       "  249.837,753.356 259.892,681.337 269.948,713.245 280.003,787.376 290.059,637.448 300.114,533.677 310.17,901.391 320.225,952.68 330.28,671.413 340.336,690.978 \n",
       "  350.391,972.728 360.447,871.965 370.502,805.381 380.558,760.886 390.613,737.791 400.669,806.105 410.724,798.19 420.78,846.062 430.835,707.493 440.89,693.974 \n",
       "  450.946,865.232 461.001,607.575 471.057,860.037 481.112,715.507 491.168,799.097 501.223,622.64 511.279,601.532 521.334,640.298 531.389,784.243 541.445,733.77 \n",
       "  551.5,478.53 561.556,804.235 571.611,768.932 581.667,659.81 591.722,645.466 601.778,789.438 611.833,825.381 621.889,680.498 631.944,883.784 641.999,731.256 \n",
       "  652.055,690.577 662.11,811.806 672.166,1044.75 682.221,699.018 692.277,639.909 702.332,608.808 712.388,1020.03 722.443,715.634 732.499,900.132 742.554,786.192 \n",
       "  752.609,672.054 762.665,770.79 772.72,735.097 782.776,746.701 792.831,695.914 802.887,745.889 812.942,829.996 822.998,848.822 833.053,695.437 843.108,782.779 \n",
       "  853.164,639.104 863.219,845.642 873.275,704.396 883.33,644.852 893.386,672.965 903.441,799.221 913.497,819.32 923.552,832.026 933.608,748.214 943.663,692.365 \n",
       "  953.718,666.353 963.774,896.872 973.829,810.235 983.885,820.758 993.94,747.883 1004,661.32 1014.05,608.584 1024.11,865.292 1034.16,765.31 1044.22,598.416 \n",
       "  1054.27,601.058 1064.33,615.793 1074.38,712.656 1084.44,704.893 1094.49,922.613 1104.55,690.179 1114.61,715.456 1124.66,907.512 1134.72,662.745 1144.77,1011.04 \n",
       "  1154.83,637.512 1164.88,905.944 1174.94,774.152 1184.99,932.344 1195.05,853.728 1205.1,791.552 1215.16,785.236 1225.22,816.135 1235.27,581.546 1245.33,866.216 \n",
       "  1255.38,928.797 1265.44,777.942 1275.49,605.417 1285.55,592.367 1295.6,703.816 1305.66,794.45 1315.71,735.388 1325.77,659.409 1335.83,764.859 1345.88,985.616 \n",
       "  1355.94,933.955 1365.99,783.573 1376.05,826.904 1386.1,646.398 1396.16,535.221 1406.21,696.495 1416.27,757.708 1426.32,872.489 1436.38,640.821 1446.44,551.083 \n",
       "  1456.49,729.994 1466.55,711.92 1476.6,723.379 1486.66,908.719 1496.71,497.631 1506.77,936.765 1516.82,681.838 1526.88,591.993 1536.93,683.442 1546.99,709.141 \n",
       "  1557.05,753.429 1567.1,884.284 1577.16,769.991 1587.21,771.953 1597.27,929.49 1607.32,708.12 1617.38,720.194 1627.43,719.725 1637.49,726.806 1647.54,756.72 \n",
       "  1657.6,732.282 1667.66,825.373 1677.71,663.62 1687.77,909.929 1697.82,750.83 1707.88,683.181 1717.93,895.21 1727.99,840.228 1738.04,644.446 1748.1,981.032 \n",
       "  1758.15,808.3 1768.21,916.483 1778.27,566.179 1788.32,736.884 1798.38,830.819 1808.43,753.277 1818.49,880.387 1828.54,919.708 1838.6,775.527 1848.65,665.095 \n",
       "  1858.71,864.796 1868.76,762.384 1878.82,734.264 1888.88,736.466 1898.93,701.07 1908.99,900.364 1919.04,951.172 1929.1,531.398 1939.15,750.836 1949.21,792.802 \n",
       "  1959.26,655.238 1969.32,844.418 1979.37,766.47 1989.43,671.498 1999.49,812.463 2009.54,789.145 2019.6,698.595 2029.65,767.114 2039.71,749.643 2049.76,687.459 \n",
       "  2059.82,664.67 2069.87,606.598 2079.93,877.035 2089.98,683.987 2100.04,743.087 2110.1,850.06 2120.15,618.369 2130.21,650.053 2140.26,902.024 2150.32,791.249 \n",
       "  2160.37,793.783 2170.43,695.891 2180.48,949.41 2190.54,627.123 2200.59,813.51 2210.65,687.47 2220.71,697.738 2230.76,758.421 2240.82,718.778 2250.87,954.568 \n",
       "  2260.93,770.742 \n",
       "  \"/>\n",
       "<polyline clip-path=\"url(#clip1203)\" style=\"stroke:#e26f46; stroke-width:4; stroke-opacity:1; fill:none\" points=\"\n",
       "  249.837,753.356 259.892,722.63 269.948,957.993 280.003,775.703 290.059,601.529 300.114,638.479 310.17,746.83 320.225,694.456 330.28,553.158 340.336,511.262 \n",
       "  350.391,419.215 360.447,707.735 370.502,783.832 380.558,708.891 390.613,639.082 400.669,527.829 410.724,514.029 420.78,371.841 430.835,630.888 440.89,426.429 \n",
       "  450.946,588.873 461.001,740.258 471.057,730.305 481.112,805.59 491.168,882.891 501.223,907.471 511.279,1056.02 521.334,891.123 531.389,854.695 541.445,718.628 \n",
       "  551.5,561.87 561.556,550.853 571.611,434.02 581.667,623.914 591.722,479.272 601.778,512.44 611.833,319.962 621.889,418.731 631.944,422.219 641.999,440.486 \n",
       "  652.055,340.259 662.11,506.574 672.166,698.48 682.221,708.78 692.277,845.779 702.332,865.61 712.388,740.264 722.443,743.44 732.499,624.06 742.554,652.06 \n",
       "  752.609,665.417 762.665,699.116 772.72,620.386 782.776,638.572 792.831,588.003 802.887,458.633 812.942,623.767 822.998,629.475 833.053,736.525 843.108,911.619 \n",
       "  853.164,786.009 863.219,767.173 873.275,648.26 883.33,684.313 893.386,801.243 903.441,744.115 913.497,687.224 923.552,708.647 933.608,668.22 943.663,660.742 \n",
       "  953.718,490.709 963.774,353.634 973.829,400.45 983.885,505.724 993.94,374.318 1004,533.84 1014.05,594.436 1024.11,674.192 1034.16,702.493 1044.22,864.754 \n",
       "  1054.27,797.315 1064.33,844.012 1074.38,860.205 1084.44,891.125 1094.49,937.11 1104.55,1120 1114.61,963.046 1124.66,972.843 1134.72,1194.05 1144.77,1112.34 \n",
       "  1154.83,806.914 1164.88,773.665 1174.94,948.06 1184.99,798.271 1195.05,814.356 1205.1,618.18 1215.16,722.122 1225.22,806.366 1235.27,756.826 1245.33,703.005 \n",
       "  1255.38,869.365 1265.44,894.434 1275.49,919.827 1285.55,849.84 1295.6,941.939 1305.66,1033.33 1315.71,917.414 1325.77,1039.02 1335.83,981.293 1345.88,876.447 \n",
       "  1355.94,887.226 1365.99,806.754 1376.05,903.821 1386.1,871.637 1396.16,887.715 1406.21,1009.68 1416.27,904.58 1426.32,946.66 1436.38,1006.25 1446.44,986.262 \n",
       "  1456.49,881.892 1466.55,868.453 1476.6,748.108 1486.66,828.946 1496.71,746.677 1506.77,786.64 1516.82,732.29 1526.88,683.146 1536.93,655.88 1546.99,810.084 \n",
       "  1557.05,768.583 1567.1,771.536 1577.16,737.068 1587.21,771.222 1597.27,604.024 1607.32,726.979 1617.38,705.283 1627.43,626.704 1637.49,634.336 1647.54,768.216 \n",
       "  1657.6,879.178 1667.66,1102.93 1677.71,961.815 1687.77,1039.41 1697.82,1115.45 1707.88,1045.01 1717.93,997.023 1727.99,956.617 1738.04,1101.85 1748.1,1262.48 \n",
       "  1758.15,1053.71 1768.21,1000.17 1778.27,1002.44 1788.32,866.806 1798.38,751.549 1808.43,613.284 1818.49,681.55 1828.54,588.387 1838.6,602.968 1848.65,745.311 \n",
       "  1858.71,656.099 1868.76,656.185 1878.82,678.171 1888.88,770.481 1898.93,741.487 1908.99,736.711 1919.04,751.314 1929.1,745.074 1939.15,631.285 1949.21,730.163 \n",
       "  1959.26,657.462 1969.32,747.898 1979.37,618.222 1989.43,723.696 1999.49,775.484 2009.54,698.333 2019.6,605.926 2029.65,758.809 2039.71,812.056 2049.76,802.04 \n",
       "  2059.82,686.562 2069.87,442.156 2079.93,635.202 2089.98,627.42 2100.04,610.572 2110.1,619.966 2120.15,497.096 2130.21,656.092 2140.26,740.607 2150.32,521.193 \n",
       "  2160.37,448.144 2170.43,619.072 2180.48,804.844 2190.54,688.616 2200.59,560.317 2210.65,551.362 2220.71,639.411 2230.76,826.764 2240.82,843.135 2250.87,809.163 \n",
       "  2260.93,524.933 \n",
       "  \"/>\n",
       "<polyline clip-path=\"url(#clip1203)\" style=\"stroke:#3da44d; stroke-width:4; stroke-opacity:1; fill:none\" points=\"\n",
       "  249.837,753.356 259.892,824.409 269.948,854.4 280.003,878.311 290.059,942.871 300.114,1134.83 310.17,1079.63 320.225,1187.88 330.28,1319.48 340.336,1437.28 \n",
       "  350.391,1462.26 360.447,1395.86 370.502,1260.59 380.558,1190.16 390.613,1127.4 400.669,1038.12 410.724,787.683 420.78,895.6 430.835,682.427 440.89,844.439 \n",
       "  450.946,799.807 461.001,739.426 471.057,743.79 481.112,676.038 491.168,795.075 501.223,771.171 511.279,789.366 521.334,862.416 531.389,772.168 541.445,673.542 \n",
       "  551.5,633.991 561.556,585.539 571.611,518.515 581.667,548.394 591.722,457.462 601.778,605.499 611.833,805.039 621.889,853.757 631.944,1018.42 641.999,1048.8 \n",
       "  652.055,1117.45 662.11,1026.58 672.166,1112.71 682.221,1270.38 692.277,1047.98 702.332,1105.63 712.388,1018.53 722.443,1071.44 732.499,981.125 742.554,949.246 \n",
       "  752.609,708.009 762.665,649.099 772.72,517.971 782.776,390.146 792.831,269.132 802.887,471.35 812.942,586.817 822.998,561.467 833.053,582.632 843.108,650.957 \n",
       "  853.164,713.722 863.219,704.451 873.275,726.85 883.33,765.283 893.386,774.916 903.441,513.301 913.497,482.614 923.552,514.826 933.608,683.705 943.663,732.123 \n",
       "  953.718,736.298 963.774,871.373 973.829,866.708 983.885,814.618 993.94,884.72 1004,735.669 1014.05,633.975 1024.11,765.183 1034.16,758.41 1044.22,820.676 \n",
       "  1054.27,867.532 1064.33,710.696 1074.38,884.227 1084.44,601.171 1094.49,729.022 1104.55,675.507 1114.61,532.495 1124.66,690.214 1134.72,641.32 1144.77,725.397 \n",
       "  1154.83,593.524 1164.88,577.248 1174.94,366.934 1184.99,408.494 1195.05,426.606 1205.1,547.897 1215.16,441.764 1225.22,562.376 1235.27,557.915 1245.33,648.818 \n",
       "  1255.38,646.311 1265.44,673.947 1275.49,739.695 1285.55,697.152 1295.6,689.73 1305.66,781.352 1315.71,933.669 1325.77,996.355 1335.83,1056.2 1345.88,1076.53 \n",
       "  1355.94,890.547 1365.99,799.118 1376.05,905.784 1386.1,950.39 1396.16,997.057 1406.21,867.37 1416.27,924.682 1426.32,837.326 1436.38,832.482 1446.44,832.08 \n",
       "  1456.49,898.028 1466.55,795.347 1476.6,782.239 1486.66,708.728 1496.71,842.037 1506.77,774.022 1516.82,745.872 1526.88,607.064 1536.93,461.238 1546.99,439.879 \n",
       "  1557.05,318.425 1567.1,512.045 1577.16,552.06 1587.21,662.805 1597.27,816.714 1607.32,906.701 1617.38,970.771 1627.43,887.063 1637.49,877.12 1647.54,986.128 \n",
       "  1657.6,1115.54 1667.66,1244.68 1677.71,1269.5 1687.77,1223.73 1697.82,1392.21 1707.88,1455.7 1717.93,1446.82 1727.99,1299.16 1738.04,1204.26 1748.1,1195.07 \n",
       "  1758.15,1306.24 1768.21,1157.65 1778.27,1059.63 1788.32,1100.57 1798.38,1118.45 1808.43,1112.71 1818.49,1205.26 1828.54,1152.39 1838.6,1160.14 1848.65,1223.02 \n",
       "  1858.71,1183.62 1868.76,1030.81 1878.82,1001.64 1888.88,1021.94 1898.93,869.494 1908.99,823.019 1919.04,650.875 1929.1,697.529 1939.15,771.151 1949.21,754.125 \n",
       "  1959.26,537.734 1969.32,365.94 1979.37,295.161 1989.43,149.282 1999.49,263.487 2009.54,384.43 2019.6,88.4582 2029.65,325.384 2039.71,311.793 2049.76,162.447 \n",
       "  2059.82,175.317 2069.87,114.283 2079.93,251.237 2089.98,320.713 2100.04,305.57 2110.1,450.658 2120.15,379.575 2130.21,348.069 2140.26,256.262 2150.32,177.365 \n",
       "  2160.37,172.269 2170.43,199.608 2180.48,327.055 2190.54,649.165 2200.59,737.915 2210.65,878.194 2220.71,665.918 2230.76,718.719 2240.82,599.512 2250.87,463.457 \n",
       "  2260.93,489.855 \n",
       "  \"/>\n",
       "<polygon clip-path=\"url(#clip1201)\" points=\"\n",
       "1742.98,372.684 2249.26,372.684 2249.26,130.764 1742.98,130.764 \n",
       "  \" fill=\"#ffffff\" fill-opacity=\"1\"/>\n",
       "<polyline clip-path=\"url(#clip1201)\" style=\"stroke:#000000; stroke-width:4; stroke-opacity:1; fill:none\" points=\"\n",
       "  1742.98,372.684 2249.26,372.684 2249.26,130.764 1742.98,130.764 1742.98,372.684 \n",
       "  \"/>\n",
       "<polyline clip-path=\"url(#clip1201)\" style=\"stroke:#009af9; stroke-width:4; stroke-opacity:1; fill:none\" points=\"\n",
       "  1766.98,191.244 1910.98,191.244 \n",
       "  \"/>\n",
       "<g clip-path=\"url(#clip1201)\">\n",
       "<text style=\"fill:#000000; fill-opacity:1; font-family:Arial,Helvetica Neue,Helvetica,sans-serif; font-size:48; text-anchor:start;\" transform=\"rotate(0, 1934.98, 208.744)\" x=\"1934.98\" y=\"208.744\">alpha = 0.0</text>\n",
       "</g>\n",
       "<polyline clip-path=\"url(#clip1201)\" style=\"stroke:#e26f46; stroke-width:4; stroke-opacity:1; fill:none\" points=\"\n",
       "  1766.98,251.724 1910.98,251.724 \n",
       "  \"/>\n",
       "<g clip-path=\"url(#clip1201)\">\n",
       "<text style=\"fill:#000000; fill-opacity:1; font-family:Arial,Helvetica Neue,Helvetica,sans-serif; font-size:48; text-anchor:start;\" transform=\"rotate(0, 1934.98, 269.224)\" x=\"1934.98\" y=\"269.224\">alpha = 0.8</text>\n",
       "</g>\n",
       "<polyline clip-path=\"url(#clip1201)\" style=\"stroke:#3da44d; stroke-width:4; stroke-opacity:1; fill:none\" points=\"\n",
       "  1766.98,312.204 1910.98,312.204 \n",
       "  \"/>\n",
       "<g clip-path=\"url(#clip1201)\">\n",
       "<text style=\"fill:#000000; fill-opacity:1; font-family:Arial,Helvetica Neue,Helvetica,sans-serif; font-size:48; text-anchor:start;\" transform=\"rotate(0, 1934.98, 329.704)\" x=\"1934.98\" y=\"329.704\">alpha = 0.98</text>\n",
       "</g>\n",
       "</svg>\n"
      ]
     },
     "execution_count": 43,
     "metadata": {},
     "output_type": "execute_result"
    }
   ],
   "source": [
    "αs = [0.0, 0.8, 0.98]\n",
    "n = 200\n",
    "p = plot() #Naming a plot to add to\n",
    "\n",
    "for α in αs\n",
    "    x = zeros(n + 1)\n",
    "    x[1] = 0.0\n",
    "    for t in 1:n\n",
    "        x[t+1] = α * x[t] + randn()\n",
    "    end\n",
    "    plot!(p, x, label = \"alpha = $α\") # add to plot p\n",
    "end\n",
    "p # display plot"
   ]
  },
  {
   "cell_type": "markdown",
   "metadata": {},
   "source": [
    "### Exercise 7: Hint\n",
    "\n",
    "As a hint, notice the following pattern for finding the number of draws of a uniform random number until below a given threshold"
   ]
  },
  {
   "cell_type": "code",
   "execution_count": 44,
   "metadata": {},
   "outputs": [
    {
     "data": {
      "text/plain": [
       "3"
      ]
     },
     "execution_count": 44,
     "metadata": {},
     "output_type": "execute_result"
    }
   ],
   "source": [
    "function drawsuntilthreshold(threshold; maxdraws=100)\n",
    "    for i in 1:maxdraws\n",
    "        val = rand()\n",
    "        if val < threshold # checks threshold\n",
    "            return i # leaves function, returning draw number\n",
    "        end\n",
    "    end\n",
    "    return Inf # if here, reached maxdraws\n",
    "end\n",
    "\n",
    "draws = drawsuntilthreshold(0.2, maxdraws=100)"
   ]
  },
  {
   "cell_type": "markdown",
   "metadata": {},
   "source": [
    "Additionally, it is sometimes convenient to add to just push numbers onto an array without indexing it directly"
   ]
  },
  {
   "cell_type": "code",
   "execution_count": 45,
   "metadata": {},
   "outputs": [
    {
     "name": "stdout",
     "output_type": "stream",
     "text": [
      "There were 45 below 0.5\n"
     ]
    }
   ],
   "source": [
    "vals = zeros(0) # empty vector\n",
    "\n",
    "for i in 1:100\n",
    "    val = rand()\n",
    "    if val < 0.5\n",
    "        push!(vals, val)\n",
    "    end\n",
    "end\n",
    "println(\"There were $(length(vals)) below 0.5\")"
   ]
  },
  {
   "cell_type": "code",
   "execution_count": null,
   "metadata": {},
   "outputs": [],
   "source": []
  }
 ],
 "metadata": {
  "filename": "julia_by_example.rst",
  "kernelspec": {
   "display_name": "Julia 1.0.0",
   "language": "julia",
   "name": "julia-1.0"
  },
  "language_info": {
   "file_extension": ".jl",
   "mimetype": "application/julia",
   "name": "julia",
   "version": "1.0.0"
  },
  "title": "Introductory Examples"
 },
 "nbformat": 4,
 "nbformat_minor": 2
}
