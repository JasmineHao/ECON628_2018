{
 "cells": [
  {
   "cell_type": "markdown",
   "metadata": {},
   "source": [
    "\n",
    "<a id='testing'></a>\n",
    "How to read this lecture…\n",
    "\n",
    "- If using QuantEcon lectures for the first time on a computer, execute ] add InstantiateFromURL inside of a notebook or the REPL  \n",
    "- For some notebooks, enable content with “Trust” on the command tab of Jupyter lab  \n",
    "- Code should execute sequentially if run in a Jupyter notebook  \n",
    "- Please direct feedback to [contact@quantecon.org](mailto:contact@quantecon.org\") or [discourse forum](http://discourse.quantecon.org/)  "
   ]
  },
  {
   "cell_type": "markdown",
   "metadata": {},
   "source": [
    "# Packages, Testing, and Continuous Integration\n",
    "\n",
    "Co-authored with Arnav Sood"
   ]
  },
  {
   "cell_type": "markdown",
   "metadata": {},
   "source": [
    "## Contents\n",
    "\n",
    "- [Packages, Testing, and Continuous Integration](#Packages,-Testing,-and-Continuous-Integration)  \n",
    "  - [Project Setup](#Project-Setup)  \n",
    "  - [Project Structure](#Project-Structure)  \n",
    "  - [Project Workflow](#Project-Workflow)  \n",
    "  - [Unit Testing](#Unit-Testing)  \n",
    "  - [Continuous Integration with Travis](#Continuous-Integration-with-Travis)  \n",
    "  - [CodeCoverage](#CodeCoverage)  \n",
    "  - [Benchmarking](#Benchmarking)  \n",
    "  - [Additional Notes](#Additional-Notes)  "
   ]
  },
  {
   "cell_type": "markdown",
   "metadata": {},
   "source": [
    "This lecture is about structuring your project as a Julia module, and testing it with tools from GitHub\n",
    "\n",
    "Benefits include\n",
    "\n",
    "- Specifying dependencies (and their versions), so that your project works across Julia setups and over time  \n",
    "- Being able to load your project’s functions from outside without copy/pasting  \n",
    "- Writing tests that run locally, *and automatically on the GitHub server*  \n",
    "- Having GitHub test your project across operating systems, Julia versions, etc.  "
   ]
  },
  {
   "cell_type": "markdown",
   "metadata": {},
   "source": [
    "## Project Setup"
   ]
  },
  {
   "cell_type": "markdown",
   "metadata": {},
   "source": [
    "### Account Setup"
   ]
  },
  {
   "cell_type": "markdown",
   "metadata": {},
   "source": [
    "#### Travis CI\n",
    "\n",
    "As we’ll see later, Travis is a service that automatically tests your project on the GitHub server\n",
    "\n",
    "First, we need to make sure that your GitHub account is set up with Travis CI and CodeCov\n",
    "\n",
    "As a reminder, make sure you signed up for the GitHub [Student Developer Pack](https://education.github.com/pack/) or Academic Plan <https://help.github.com/articles/applying-for-an-academic-research-discount/>_ if eligible\n",
    "\n",
    "Navigate to the [Travis website](https://travis-ci.com/) and click “sign up with GitHub.” Supply your credentials\n",
    "\n",
    "If you get stuck, see the [Travis tutorial](https://docs.travis-ci.com/user/tutorial/)\n",
    "\n",
    "**NOTE** As of May 2018, Travis is deprecating the travis-ci.org website. All users should use travis-ci.com"
   ]
  },
  {
   "cell_type": "markdown",
   "metadata": {},
   "source": [
    "#### CodeCov\n",
    "\n",
    "CodeCov is a service that tells you how expansive your tests are (i.e., how much of your code is untested)\n",
    "\n",
    "To sign up, visit the [CodeCov website](http://codecov.io/), and click “sign up.” You should see something like this\n",
    "\n",
    "<img src=\"_static/figures/codecov-1.png\" style=\"width:45%;height:45%\">\n",
    "\n",
    "  \n",
    "Next, click “add a repository” and *enable private scope* (this allows CodeCov to service your private projects)\n",
    "\n",
    "The result should be\n",
    "\n",
    "<img src=\"_static/figures/codecov-2.png\" style=\"width:45%;height:45%\">\n",
    "\n",
    "  \n",
    "This is all we need for now"
   ]
  },
  {
   "cell_type": "markdown",
   "metadata": {},
   "source": [
    "### Julia Setup"
   ]
  },
  {
   "cell_type": "code",
   "execution_count": 1,
   "metadata": {},
   "outputs": [
    {
     "name": "stderr",
     "output_type": "stream",
     "text": [
      "┌ Warning: On Windows, creating file symlinks requires Administrator privileges\n",
      "└ @ Base.Filesystem file.jl:789\n"
     ]
    }
   ],
   "source": [
    "using InstantiateFromURL\r\n",
    "activate_github(\"QuantEcon/QuantEconLectureAllPackages\", tag = \"v0.9.0\") # activate the QuantEcon environment\r\n",
    "\r\n",
    "using LinearAlgebra, Statistics, Compat # load common packaes\r"
   ]
  },
  {
   "cell_type": "markdown",
   "metadata": {},
   "source": [
    "To recall, you can get into the pkg> mode by hitting ] in the REPL\n",
    "\n",
    "Next, let’s create a *template* for our project\n",
    "\n",
    "This specifies metadata like the license we’ll be using (MIT by default), the location (~/.julia/dev by default), etc."
   ]
  },
  {
   "cell_type": "code",
   "execution_count": 2,
   "metadata": {},
   "outputs": [
    {
     "data": {
      "text/plain": [
       "Template:\n",
       "  → User: quanteconuser\n",
       "  → Host: github.com\n",
       "  → License: MIT (Arnav Sood 2018)\n",
       "  → Package directory: ~\\.julia\\dev\n",
       "  → Minimum Julia version: v1.0\n",
       "  → SSH remote: No\n",
       "  → Plugins:\n",
       "    • CodeCov:\n",
       "      → Config file: None\n",
       "      → 3 gitignore entries: \"*.jl.cov\", \"*.jl.*.cov\", \"*.jl.mem\"\n",
       "    • TravisCI:\n",
       "      → Config file: Default\n",
       "      → 0 gitignore entries"
      ]
     },
     "execution_count": 2,
     "metadata": {},
     "output_type": "execute_result"
    }
   ],
   "source": [
    "using PkgTemplates\n",
    "ourTemplate = Template(;user=\"quanteconuser\", plugins = [TravisCI(), CodeCov()])"
   ]
  },
  {
   "cell_type": "markdown",
   "metadata": {},
   "source": [
    "Let’s create a specific project based off this template"
   ]
  },
  {
   "cell_type": "code",
   "execution_count": 3,
   "metadata": {},
   "outputs": [
    {
     "name": "stdout",
     "output_type": "stream",
     "text": [
      "\u001b[32m\u001b[1mGenerating\u001b[22m\u001b[39m project ExamplePackage:\n",
      "    C:\\Users\\Arnav Sood\\.julia\\dev\\ExamplePackage\\Project.toml\n",
      "    C:\\Users\\Arnav Sood\\.julia\\dev\\ExamplePackage\\src/ExamplePackage.jl\n"
     ]
    },
    {
     "name": "stderr",
     "output_type": "stream",
     "text": [
      "┌ Info: Initialized git repo at C:\\Users\\Arnav Sood\\.julia\\dev\\ExamplePackage\n",
      "└ @ PkgTemplates C:\\Users\\Arnav Sood\\.julia\\packages\\PkgTemplates\\DyEmW\\src\\generate.jl:22\n",
      "┌ Info: Set remote origin to https://github.com/quanteconuser/ExamplePackage.jl\n",
      "└ @ PkgTemplates C:\\Users\\Arnav Sood\\.julia\\packages\\PkgTemplates\\DyEmW\\src\\generate.jl:41\n"
     ]
    },
    {
     "name": "stdout",
     "output_type": "stream",
     "text": [
      "\u001b[32m\u001b[1m  Updating\u001b[22m\u001b[39m registry at `C:\\Users\\Arnav Sood\\.julia\\registries\\General`\n",
      "\u001b[32m\u001b[1m  Updating\u001b[22m\u001b[39m git-repo `https://github.com/JuliaRegistries/General.git`\n",
      "\u001b[?25l\u001b[2K\u001b[?25h\u001b[32m\u001b[1m Resolving\u001b[22m\u001b[39m package versions...\n",
      "\u001b[32m\u001b[1m  Updating\u001b[22m\u001b[39m `C:\\Users\\Arnav Sood\\.julia\\dev\\ExamplePackage\\Project.toml`\n",
      " \u001b[90m [8dfed614]\u001b[39m\u001b[92m + Test \u001b[39m\n",
      "\u001b[32m\u001b[1m  Updating\u001b[22m\u001b[39m `C:\\Users\\Arnav Sood\\.julia\\dev\\ExamplePackage\\Manifest.toml`\n",
      " \u001b[90m [2a0f44e3]\u001b[39m\u001b[92m + Base64 \u001b[39m\n",
      " \u001b[90m [8ba89e20]\u001b[39m\u001b[92m + Distributed \u001b[39m\n",
      " \u001b[90m [b77e0a4c]\u001b[39m\u001b[92m + InteractiveUtils \u001b[39m\n",
      " \u001b[90m [8f399da3]\u001b[39m\u001b[92m + Libdl \u001b[39m\n",
      " \u001b[90m [37e2e46d]\u001b[39m\u001b[92m + LinearAlgebra \u001b[39m\n",
      " \u001b[90m [56ddb016]\u001b[39m\u001b[92m + Logging \u001b[39m\n",
      " \u001b[90m [d6f4376e]\u001b[39m\u001b[92m + Markdown \u001b[39m\n",
      " \u001b[90m [9a3f8284]\u001b[39m\u001b[92m + Random \u001b[39m\n",
      " \u001b[90m [9e88b42a]\u001b[39m\u001b[92m + Serialization \u001b[39m\n",
      " \u001b[90m [6462fe0b]\u001b[39m\u001b[92m + Sockets \u001b[39m\n",
      " \u001b[90m [8dfed614]\u001b[39m\u001b[92m + Test \u001b[39m\n",
      "\u001b[32m\u001b[1m  Updating\u001b[22m\u001b[39m registry at `C:\\Users\\Arnav Sood\\.julia\\registries\\General`\n",
      "\u001b[32m\u001b[1m  Updating\u001b[22m\u001b[39m git-repo `https://github.com/JuliaRegistries/General.git`\n",
      "\u001b[?25l\u001b[2K\u001b[?25h\u001b[32m\u001b[1m Resolving\u001b[22m\u001b[39m package versions...\n",
      "\u001b[32m\u001b[1m  Updating\u001b[22m\u001b[39m `C:\\Users\\Arnav Sood\\.julia\\dev\\ExamplePackage\\Project.toml`\n",
      "\u001b[90m [no changes]\u001b[39m\n",
      "\u001b[32m\u001b[1m  Updating\u001b[22m\u001b[39m `C:\\Users\\Arnav Sood\\.julia\\dev\\ExamplePackage\\Manifest.toml`\n",
      " \u001b[90m [2a0f44e3]\u001b[39m\u001b[91m - Base64 \u001b[39m\n",
      " \u001b[90m [8ba89e20]\u001b[39m\u001b[91m - Distributed \u001b[39m\n",
      " \u001b[90m [b77e0a4c]\u001b[39m\u001b[91m - InteractiveUtils \u001b[39m\n",
      " \u001b[90m [8f399da3]\u001b[39m\u001b[91m - Libdl \u001b[39m\n",
      " \u001b[90m [37e2e46d]\u001b[39m\u001b[91m - LinearAlgebra \u001b[39m\n",
      " \u001b[90m [56ddb016]\u001b[39m\u001b[91m - Logging \u001b[39m\n",
      " \u001b[90m [d6f4376e]\u001b[39m\u001b[91m - Markdown \u001b[39m\n",
      " \u001b[90m [9a3f8284]\u001b[39m\u001b[91m - Random \u001b[39m\n",
      " \u001b[90m [9e88b42a]\u001b[39m\u001b[91m - Serialization \u001b[39m\n",
      " \u001b[90m [6462fe0b]\u001b[39m\u001b[91m - Sockets \u001b[39m\n",
      " \u001b[90m [8dfed614]\u001b[39m\u001b[91m - Test \u001b[39m\n"
     ]
    },
    {
     "name": "stderr",
     "output_type": "stream",
     "text": [
      "┌ Info: Committed 9 files/directories: src/, Project.toml, Manifest.toml, test/, REQUIRE, README.md, .gitignore, LICENSE, .travis.yml\n",
      "└ @ PkgTemplates C:\\Users\\Arnav Sood\\.julia\\packages\\PkgTemplates\\DyEmW\\src\\generate.jl:64\n"
     ]
    }
   ],
   "source": [
    "generate(\"ExamplePackage.jl\", ourTemplate)"
   ]
  },
  {
   "cell_type": "markdown",
   "metadata": {},
   "source": [
    "If we navigate to the package directory (shown in the output), we should see something like\n",
    "\n",
    "<img src=\"_static/figures/testing-dir.png\" style=\"width:45%;height:45%\">"
   ]
  },
  {
   "cell_type": "markdown",
   "metadata": {},
   "source": [
    "### Adding Project to Git\n",
    "\n",
    "The next step is to add this project to Git version control\n",
    "\n",
    "First, open the repository screen in your account as discussed previously. We’ll want the following settings\n",
    "\n",
    "<img src=\"_static/figures/testing-git1.png\" style=\"width:45%;height:45%\">\n",
    "\n",
    "  \n",
    "In particular\n",
    "\n",
    "- The repo you create should have the same name as the project we added  \n",
    "- We should leave the boxes unchecked for the README.md, LICENSE, and .gitignore, since these are handled by PkgTemplates  \n",
    "\n",
    "\n",
    "Then, drag and drop your folder from your ~/.julia/dev directory to GitHub Desktop\n",
    "\n",
    "Click the “publish branch” button to upload your files to GitHub\n",
    "\n",
    "If you navigate to your git repo (ours is [here](https:https://github.com/quanteconuser/ExamplePackage.jl/)), you should see something like\n",
    "\n",
    "<img src=\"_static/figures/testing-git2.png\" style=\"width:45%;height:45%\">"
   ]
  },
  {
   "cell_type": "markdown",
   "metadata": {},
   "source": [
    "### Adding Project to Julia Package Manager\n",
    "\n",
    "We also want Julia’s package manager to be aware of the project\n",
    "\n",
    "First, open a REPL in the newly created project directory, either by noting the path printed above, or by running"
   ]
  },
  {
   "cell_type": "code",
   "execution_count": 4,
   "metadata": {},
   "outputs": [
    {
     "data": {
      "text/plain": [
       "3-element Array{String,1}:\n",
       " \"C:\\\\Users\\\\Arnav Sood\\\\.julia\"                                          \n",
       " \"C:\\\\Users\\\\Arnav Sood\\\\AppData\\\\Local\\\\Julia-1.0.0\\\\local\\\\share\\\\julia\"\n",
       " \"C:\\\\Users\\\\Arnav Sood\\\\AppData\\\\Local\\\\Julia-1.0.0\\\\share\\\\julia\"       "
      ]
     },
     "execution_count": 4,
     "metadata": {},
     "output_type": "execute_result"
    }
   ],
   "source": [
    "DEPOT_PATH"
   ]
  },
  {
   "cell_type": "markdown",
   "metadata": {},
   "source": [
    "And navigating to the first element, then the subdirectory /dev/ExamplePackage\n",
    "\n",
    "Note the lack of .jl!\n",
    "\n",
    "You can change the path of a Julia REPL by running"
   ]
  },
  {
   "cell_type": "code",
   "execution_count": 5,
   "metadata": {},
   "outputs": [],
   "source": [
    "cd(joinpath(DEPOT_PATH[1], \"dev\", \"ExamplePackage\"))"
   ]
  },
  {
   "cell_type": "markdown",
   "metadata": {},
   "source": [
    "Then, run"
   ]
  },
  {
   "cell_type": "code",
   "execution_count": 6,
   "metadata": {},
   "outputs": [],
   "source": [
    "] activate "
   ]
  },
  {
   "cell_type": "markdown",
   "metadata": {},
   "source": [
    "To get into the main Julia environment, and "
   ]
  },
  {
   "cell_type": "code",
   "execution_count": 7,
   "metadata": {},
   "outputs": [
    {
     "name": "stdout",
     "output_type": "stream",
     "text": [
      "\u001b[32m\u001b[1m Resolving\u001b[22m\u001b[39m package versions...\n",
      "\u001b[32m\u001b[1m  Updating\u001b[22m\u001b[39m `C:\\Users\\Arnav Sood\\.julia\\environments\\v1.0\\Project.toml`\n",
      " \u001b[90m [55b976a0]\u001b[39m\u001b[92m + ExamplePackage v0.1.0 [`C:\\Users\\Arnav Sood\\.julia\\environments\\v1.0\\..\\..\\dev\\ExamplePackage`]\u001b[39m\n",
      "\u001b[32m\u001b[1m  Updating\u001b[22m\u001b[39m `C:\\Users\\Arnav Sood\\.julia\\environments\\v1.0\\Manifest.toml`\n",
      " \u001b[90m [55b976a0]\u001b[39m\u001b[92m + ExamplePackage v0.1.0 [`C:\\Users\\Arnav Sood\\.julia\\environments\\v1.0\\..\\..\\dev\\ExamplePackage`]\u001b[39m\n"
     ]
    }
   ],
   "source": [
    "] dev ."
   ]
  },
  {
   "cell_type": "markdown",
   "metadata": {},
   "source": [
    "We see the change reflected in our default package list"
   ]
  },
  {
   "cell_type": "code",
   "execution_count": 8,
   "metadata": {},
   "outputs": [
    {
     "name": "stdout",
     "output_type": "stream",
     "text": [
      "\u001b[32m\u001b[1m    Status\u001b[22m\u001b[39m `C:\\Users\\Arnav Sood\\.julia\\environments\\v1.0\\Project.toml`\n",
      " \u001b[90m [c52e3926]\u001b[39m\u001b[37m Atom v0.7.10\u001b[39m\n",
      " \u001b[90m [31c24e10]\u001b[39m\u001b[37m Distributions v0.16.4\u001b[39m\n",
      " \u001b[90m [55b976a0]\u001b[39m\u001b[37m ExamplePackage v0.1.0 [`C:\\Users\\Arnav Sood\\.julia\\environments\\v1.0\\..\\..\\dev\\ExamplePackage`]\u001b[39m\n",
      " \u001b[90m [2fe49d83]\u001b[39m\u001b[37m Expectations v1.0.2\u001b[39m\n",
      " \u001b[90m [7073ff75]\u001b[39m\u001b[37m IJulia v1.13.0\u001b[39m\n",
      " \u001b[90m [43edad99]\u001b[39m\u001b[37m InstantiateFromURL v0.1.0\u001b[39m\n",
      " \u001b[90m [e5e0dc1b]\u001b[39m\u001b[37m Juno v0.5.3\u001b[39m\n",
      " \u001b[90m [429524aa]\u001b[39m\u001b[37m Optim v0.17.1\u001b[39m\n",
      " \u001b[90m [d96e819e]\u001b[39m\u001b[37m Parameters v0.10.1\u001b[39m\n",
      " \u001b[90m [14b8a8f1]\u001b[39m\u001b[37m PkgTemplates v0.3.0\u001b[39m\n",
      " \u001b[90m [91a5bcdd]\u001b[39m\u001b[37m Plots v0.21.0\u001b[39m\n"
     ]
    }
   ],
   "source": [
    "] st"
   ]
  },
  {
   "cell_type": "markdown",
   "metadata": {},
   "source": [
    "### Using the Package Manager\n",
    "\n",
    "Now, from any Julia terminal in the future, we can run"
   ]
  },
  {
   "cell_type": "code",
   "execution_count": 9,
   "metadata": {},
   "outputs": [],
   "source": [
    "] activate "
   ]
  },
  {
   "cell_type": "markdown",
   "metadata": {},
   "source": [
    "^ To simulate a fresh terminal "
   ]
  },
  {
   "cell_type": "code",
   "execution_count": 10,
   "metadata": {},
   "outputs": [
    {
     "name": "stderr",
     "output_type": "stream",
     "text": [
      "┌ Info: Precompiling ExamplePackage [55b976a0-e2c6-11e8-0547-a77fa1cb3ad1]\n",
      "└ @ Base loading.jl:1186\n",
      "┌ Warning: Package ExamplePackage does not have Expectations in its dependencies:\n",
      "│ - If you have ExamplePackage checked out for development and have\n",
      "│   added Expectations as a dependency but haven't updated your primary\n",
      "│   environment's manifest file, try `Pkg.resolve()`.\n",
      "│ - Otherwise you may need to report an issue with ExamplePackage\n",
      "└ Loading Expectations into ExamplePackage from project dependency, future warnings for ExamplePackage are suppressed.\n"
     ]
    }
   ],
   "source": [
    "using ExamplePackage"
   ]
  },
  {
   "cell_type": "markdown",
   "metadata": {},
   "source": [
    "To use its exported functions\n",
    "\n",
    "We can also get the path to this by running"
   ]
  },
  {
   "cell_type": "code",
   "execution_count": 11,
   "metadata": {},
   "outputs": [
    {
     "data": {
      "text/plain": [
       "\"C:\\\\Users\\\\Arnav Sood\\\\.julia\\\\dev\\\\ExamplePackage\\\\src\\\\ExamplePackage.jl\""
      ]
     },
     "execution_count": 11,
     "metadata": {},
     "output_type": "execute_result"
    }
   ],
   "source": [
    "using ExamplePackage\n",
    "pathof(ExamplePackage) # returns path to src/ExamplePackage.jl"
   ]
  },
  {
   "cell_type": "markdown",
   "metadata": {},
   "source": [
    "## Project Structure\n",
    "\n",
    "Let’s unpack the structure of the generated project\n",
    "\n",
    "- The first directory, .git, holds the version control information  \n",
    "- The src directory contains the project’s source code. Currently, it should contain only one file (ExamplePackage.jl), which reads  "
   ]
  },
  {
   "cell_type": "markdown",
   "metadata": {},
   "source": [
    "```none\n",
    "module ExamplePackage\n",
    "\n",
    "greet() = print(\"Hello World!\")\n",
    "\n",
    "end # module\n",
    "```\n"
   ]
  },
  {
   "cell_type": "markdown",
   "metadata": {},
   "source": [
    "- Likewise, the test directory should have only one file (runtests.jl), which reads:  "
   ]
  },
  {
   "cell_type": "markdown",
   "metadata": {},
   "source": [
    "```none\n",
    "using ExamplePackage\n",
    "using Test\n",
    "\n",
    "@testset \"ExamplePackage.jl\" begin\n",
    "    # Write your own tests here.\n",
    "end\n",
    "```\n"
   ]
  },
  {
   "cell_type": "markdown",
   "metadata": {},
   "source": [
    "In particular, the workflow is to export objects we want to test (using ExamplePackage), and test them using Julia’s Test module\n",
    "\n",
    "The other important text files for now are\n",
    "\n",
    "- Project.toml and Manifest.toml, which contain dependency information  \n",
    "- The .gitignore file (which may display as an untitled file), which contains files and paths for git to ignore  "
   ]
  },
  {
   "cell_type": "markdown",
   "metadata": {},
   "source": [
    "## Project Workflow"
   ]
  },
  {
   "cell_type": "markdown",
   "metadata": {},
   "source": [
    "### Dependency Management"
   ]
  },
  {
   "cell_type": "markdown",
   "metadata": {},
   "source": [
    "#### Environments\n",
    "\n",
    "For the following, make sure that you have an activated REPL (that is, a REPL where you’ve run pkg> activate ExamplePackage, or the original REPL where we generated the package)\n",
    "\n",
    "This means that the ExamplePackage is our *active environment*\n",
    "\n",
    "Any package operations we execute will be reflected in our ExamplePackage.jl directory’s TOML\n",
    "\n",
    "Likewise, the only packages Julia knows about are those in the ExamplePackage.jl TOML. For example"
   ]
  },
  {
   "cell_type": "code",
   "execution_count": 12,
   "metadata": {},
   "outputs": [],
   "source": [
    "] activate ExamplePackage"
   ]
  },
  {
   "cell_type": "code",
   "execution_count": 13,
   "metadata": {},
   "outputs": [
    {
     "ename": "ArgumentError",
     "evalue": "ArgumentError: Package QuantEcon not found in current path:\n- Run `Pkg.add(\"QuantEcon\")` to install the QuantEcon package.\n",
     "output_type": "error",
     "traceback": [
      "ArgumentError: Package QuantEcon not found in current path:\n- Run `Pkg.add(\"QuantEcon\")` to install the QuantEcon package.\n",
      "",
      "Stacktrace:",
      " [1] require(::Module, ::Symbol) at .\\loading.jl:817",
      " [2] top-level scope at In[13]:1"
     ]
    }
   ],
   "source": [
    "using QuantEcon # fails, even though QuantEcon is on the machine"
   ]
  },
  {
   "cell_type": "markdown",
   "metadata": {},
   "source": [
    "This allows us to share the project with others, who can exactly reproduce the state used to build and test it\n",
    "\n",
    "See the [Pkg3 docs](https://docs.julialang.org/en/v1/stdlib/Pkg/) for more information"
   ]
  },
  {
   "cell_type": "markdown",
   "metadata": {},
   "source": [
    "#### Pkg Operations\n",
    "\n",
    "For now, let’s just try adding a dependency"
   ]
  },
  {
   "cell_type": "code",
   "execution_count": 14,
   "metadata": {},
   "outputs": [
    {
     "name": "stdout",
     "output_type": "stream",
     "text": [
      "\u001b[32m\u001b[1m Resolving\u001b[22m\u001b[39m package versions...\n",
      "\u001b[32m\u001b[1m  Updating\u001b[22m\u001b[39m `Project.toml`\n",
      " \u001b[90m [2fe49d83]\u001b[39m\u001b[92m + Expectations v1.0.2\u001b[39m\n",
      "\u001b[32m\u001b[1m  Updating\u001b[22m\u001b[39m `Manifest.toml`\n",
      " \u001b[90m [7d9fca2a]\u001b[39m\u001b[92m + Arpack v0.3.0\u001b[39m\n",
      " \u001b[90m [9e28174c]\u001b[39m\u001b[92m + BinDeps v0.8.10\u001b[39m\n",
      " \u001b[90m [b99e7846]\u001b[39m\u001b[92m + BinaryProvider v0.5.2\u001b[39m\n",
      " \u001b[90m [34da2185]\u001b[39m\u001b[92m + Compat v1.3.0\u001b[39m\n",
      " \u001b[90m [864edb3b]\u001b[39m\u001b[92m + DataStructures v0.14.0\u001b[39m\n",
      " \u001b[90m [31c24e10]\u001b[39m\u001b[92m + Distributions v0.16.4\u001b[39m\n",
      " \u001b[90m [2fe49d83]\u001b[39m\u001b[92m + Expectations v1.0.2\u001b[39m\n",
      " \u001b[90m [442a2c76]\u001b[39m\u001b[92m + FastGaussQuadrature v0.3.2\u001b[39m\n",
      " \u001b[90m [e1d29d7a]\u001b[39m\u001b[92m + Missings v0.3.1\u001b[39m\n",
      " \u001b[90m [bac558e1]\u001b[39m\u001b[92m + OrderedCollections v1.0.2\u001b[39m\n",
      " \u001b[90m [90014a1f]\u001b[39m\u001b[92m + PDMats v0.9.5\u001b[39m\n",
      " \u001b[90m [1fd47b50]\u001b[39m\u001b[92m + QuadGK v2.0.2\u001b[39m\n",
      " \u001b[90m [79098fc4]\u001b[39m\u001b[92m + Rmath v0.5.0\u001b[39m\n",
      " \u001b[90m [a2af1166]\u001b[39m\u001b[92m + SortingAlgorithms v0.3.1\u001b[39m\n",
      " \u001b[90m [276daf66]\u001b[39m\u001b[92m + SpecialFunctions v0.7.2\u001b[39m\n",
      " \u001b[90m [2913bbd2]\u001b[39m\u001b[92m + StatsBase v0.25.0\u001b[39m\n",
      " \u001b[90m [4c63d2b9]\u001b[39m\u001b[92m + StatsFuns v0.7.0\u001b[39m\n",
      " \u001b[90m [30578b45]\u001b[39m\u001b[92m + URIParser v0.4.0\u001b[39m\n",
      " \u001b[90m [2a0f44e3]\u001b[39m\u001b[92m + Base64 \u001b[39m\n",
      " \u001b[90m [ade2ca70]\u001b[39m\u001b[92m + Dates \u001b[39m\n",
      " \u001b[90m [8bb1440f]\u001b[39m\u001b[92m + DelimitedFiles \u001b[39m\n",
      " \u001b[90m [8ba89e20]\u001b[39m\u001b[92m + Distributed \u001b[39m\n",
      " \u001b[90m [b77e0a4c]\u001b[39m\u001b[92m + InteractiveUtils \u001b[39m\n",
      " \u001b[90m [76f85450]\u001b[39m\u001b[92m + LibGit2 \u001b[39m\n",
      " \u001b[90m [8f399da3]\u001b[39m\u001b[92m + Libdl \u001b[39m\n",
      " \u001b[90m [37e2e46d]\u001b[39m\u001b[92m + LinearAlgebra \u001b[39m\n",
      " \u001b[90m [56ddb016]\u001b[39m\u001b[92m + Logging \u001b[39m\n",
      " \u001b[90m [d6f4376e]\u001b[39m\u001b[92m + Markdown \u001b[39m\n",
      " \u001b[90m [a63ad114]\u001b[39m\u001b[92m + Mmap \u001b[39m\n",
      " \u001b[90m [44cfe95a]\u001b[39m\u001b[92m + Pkg \u001b[39m\n",
      " \u001b[90m [de0858da]\u001b[39m\u001b[92m + Printf \u001b[39m\n",
      " \u001b[90m [3fa0cd96]\u001b[39m\u001b[92m + REPL \u001b[39m\n",
      " \u001b[90m [9a3f8284]\u001b[39m\u001b[92m + Random \u001b[39m\n",
      " \u001b[90m [ea8e919c]\u001b[39m\u001b[92m + SHA \u001b[39m\n",
      " \u001b[90m [9e88b42a]\u001b[39m\u001b[92m + Serialization \u001b[39m\n",
      " \u001b[90m [1a1011a3]\u001b[39m\u001b[92m + SharedArrays \u001b[39m\n",
      " \u001b[90m [6462fe0b]\u001b[39m\u001b[92m + Sockets \u001b[39m\n",
      " \u001b[90m [2f01184e]\u001b[39m\u001b[92m + SparseArrays \u001b[39m\n",
      " \u001b[90m [10745b16]\u001b[39m\u001b[92m + Statistics \u001b[39m\n",
      " \u001b[90m [4607b0f0]\u001b[39m\u001b[92m + SuiteSparse \u001b[39m\n",
      " \u001b[90m [8dfed614]\u001b[39m\u001b[92m + Test \u001b[39m\n",
      " \u001b[90m [cf7118a7]\u001b[39m\u001b[92m + UUIDs \u001b[39m\n",
      " \u001b[90m [4ec0a83e]\u001b[39m\u001b[92m + Unicode \u001b[39m\n"
     ]
    }
   ],
   "source": [
    "] add Expectations"
   ]
  },
  {
   "cell_type": "markdown",
   "metadata": {},
   "source": [
    "Our Project.toml should now read something like:"
   ]
  },
  {
   "cell_type": "code",
   "execution_count": null,
   "metadata": {},
   "outputs": [],
   "source": [
    "name = \"ExamplePackage\"\n",
    "uuid = \"f85830d0-e1f0-11e8-2fad-8762162ab251\"\n",
    "authors = [\"QuantEcon User <quanteconuser@gmail.com>\"]\n",
    "version = \"0.1.0\"\n",
    "\n",
    "[deps]\n",
    "Expectations = \"2fe49d83-0758-5602-8f54-1f90ad0d522b\"\n",
    "\n",
    "[extras]\n",
    "Test = \"8dfed614-e22c-5e08-85e1-65c5234f0b40\"\n",
    "\n",
    "[targets]\n",
    "test = [\"Test\"]"
   ]
  },
  {
   "cell_type": "markdown",
   "metadata": {},
   "source": [
    "The Manifest.toml (which tracks exact versions) has changed as well, to include a list of sub-dependencies and versions\n",
    "\n",
    "<img src=\"_static/figures/testing-atom-manifest.png\" style=\"width:45%;height:45%\">\n",
    "\n",
    "  \n",
    "There are also other commands you can run from the activated environment\n",
    "\n",
    "- pkg> up will update all dependencies to their latest versions  \n",
    "- pkg> instantiate will make sure the dependencies exist on the local machine  \n",
    "- pkg> rm PackageName will remove PackageName as a dependency  \n",
    "\n",
    "\n",
    "To quit the active environment and return to the base (v1.0), simply run"
   ]
  },
  {
   "cell_type": "code",
   "execution_count": 15,
   "metadata": {},
   "outputs": [],
   "source": [
    "] activate"
   ]
  },
  {
   "cell_type": "markdown",
   "metadata": {},
   "source": [
    "Without any arguments"
   ]
  },
  {
   "cell_type": "markdown",
   "metadata": {},
   "source": [
    "### Writing Code\n",
    "\n",
    "The basic idea is to work in tests/runtests.jl, while reproducible functions should go in the src/ExamplePackage.jl\n",
    "\n",
    "For example, let’s say we add Distributions.jl and edit the source to read as follows:"
   ]
  },
  {
   "cell_type": "code",
   "execution_count": 16,
   "metadata": {},
   "outputs": [],
   "source": [
    "] activate ExamplePackage"
   ]
  },
  {
   "cell_type": "code",
   "execution_count": 17,
   "metadata": {},
   "outputs": [
    {
     "name": "stdout",
     "output_type": "stream",
     "text": [
      "\u001b[32m\u001b[1m Resolving\u001b[22m\u001b[39m package versions...\n",
      "\u001b[32m\u001b[1m  Updating\u001b[22m\u001b[39m `Project.toml`\n",
      " \u001b[90m [31c24e10]\u001b[39m\u001b[92m + Distributions v0.16.4\u001b[39m\n",
      "\u001b[32m\u001b[1m  Updating\u001b[22m\u001b[39m `Manifest.toml`\n",
      "\u001b[90m [no changes]\u001b[39m\n"
     ]
    }
   ],
   "source": [
    "] add Distributions"
   ]
  },
  {
   "cell_type": "code",
   "execution_count": null,
   "metadata": {},
   "outputs": [],
   "source": [
    "module ExamplePackage\n",
    "\n",
    "greet() = print(\"Hello World!\")\n",
    "\n",
    "using Expectations, Distributions\n",
    "\n",
    "function foo(μ = 1., σ = 2.)\n",
    "    d = Normal(μ, σ)\n",
    "    E = expectation(d)\n",
    "    return E(x -> sin(x))\n",
    "end\n",
    "\n",
    "export foo\n",
    "\n",
    "end # module"
   ]
  },
  {
   "cell_type": "markdown",
   "metadata": {},
   "source": [
    "Let’s try calling this from a fresh Julia REPL"
   ]
  },
  {
   "cell_type": "code",
   "execution_count": 18,
   "metadata": {},
   "outputs": [],
   "source": [
    "] activate"
   ]
  },
  {
   "cell_type": "code",
   "execution_count": 19,
   "metadata": {},
   "outputs": [],
   "source": [
    "using ExamplePackage"
   ]
  },
  {
   "cell_type": "code",
   "execution_count": 20,
   "metadata": {},
   "outputs": [
    {
     "name": "stdout",
     "output_type": "stream",
     "text": [
      "Hello World!"
     ]
    }
   ],
   "source": [
    "ExamplePackage.greet()"
   ]
  },
  {
   "cell_type": "code",
   "execution_count": 21,
   "metadata": {},
   "outputs": [
    {
     "data": {
      "text/plain": [
       "0.11388071406436832"
      ]
     },
     "execution_count": 21,
     "metadata": {},
     "output_type": "execute_result"
    }
   ],
   "source": [
    "foo() # exported, so don't need to qualify the namespace"
   ]
  },
  {
   "cell_type": "markdown",
   "metadata": {},
   "source": [
    "### Jupyter Workflow\n",
    "\n",
    "We can also call this function from a Jupyter notebook\n",
    "\n",
    "Let’s create a new output directory in our project, and run jupyter lab from it. Call a new notebook output.ipynb\n",
    "\n",
    "<img src=\"_static/figures/testing-output.png\" style=\"width:45%;height:45%\">\n",
    "\n",
    "  \n",
    "From here, we can use our package’s functions in the usual way. This lets us produce neat output examples, without re-defining everything\n",
    "\n",
    "We can also edit it interactively inside the notebook\n",
    "\n",
    "<img src=\"_static/figures/testing-notebook.png\" style=\"width:45%;height:45%\">\n",
    "\n",
    "  \n",
    "The change will be reflected in the Project.toml file:"
   ]
  },
  {
   "cell_type": "code",
   "execution_count": null,
   "metadata": {},
   "outputs": [],
   "source": [
    "name = \"ExamplePackage\"\n",
    "uuid = \"f85830d0-e1f0-11e8-2fad-8762162ab251\"\n",
    "authors = [\"QuantEcon User <quanteconuser@gmail.com>\"]\n",
    "version = \"0.1.0\"\n",
    "\n",
    "[deps]\n",
    "Distributions = \"31c24e10-a181-5473-b8eb-7969acd0382f\"\n",
    "Expectations = \"2fe49d83-0758-5602-8f54-1f90ad0d522b\"\n",
    "Parameters = \"d96e819e-fc66-5662-9728-84c9c7592b0a\"\n",
    "\n",
    "[extras]\n",
    "Test = \"8dfed614-e22c-5e08-85e1-65c5234f0b40\"\n",
    "\n",
    "[targets]\n",
    "test = [\"Test\"]"
   ]
  },
  {
   "cell_type": "markdown",
   "metadata": {},
   "source": [
    "And the Manifest as well\n",
    "\n",
    "Be sure to add output/.ipynb_checkpoints to your .gitignore file, so that’s not checked in\n",
    "\n",
    "Make sure you’ve activated the project environment (] activate ExamplePackage) before you try to propagate changes"
   ]
  },
  {
   "cell_type": "markdown",
   "metadata": {},
   "source": [
    "### Collaborative Work\n",
    "\n",
    "For someone else to get the package, they simply need to run"
   ]
  },
  {
   "cell_type": "code",
   "execution_count": null,
   "metadata": {},
   "outputs": [],
   "source": [
    "] dev https://github.com/quanteconuser/ExamplePackage.jl.git"
   ]
  },
  {
   "cell_type": "markdown",
   "metadata": {},
   "source": [
    "This will place the repository inside their ~/.julia/dev folder, and they can drag-and-drop it to GitHub desktop in the usual way\n",
    "\n",
    "They can then collaborate as they would on other git repositories\n",
    "\n",
    "In particular, they can run"
   ]
  },
  {
   "cell_type": "code",
   "execution_count": null,
   "metadata": {},
   "outputs": [],
   "source": [
    "] activate ExamplePackage"
   ]
  },
  {
   "cell_type": "code",
   "execution_count": null,
   "metadata": {},
   "outputs": [],
   "source": [
    "] instantiate"
   ]
  },
  {
   "cell_type": "markdown",
   "metadata": {},
   "source": [
    "To make sure the right dependencies are installed on their machine"
   ]
  },
  {
   "cell_type": "markdown",
   "metadata": {},
   "source": [
    "## Unit Testing\n",
    "\n",
    "It’s important to make sure that your code is well-tested\n",
    "\n",
    "There are a few different kinds of test, each with different purposes\n",
    "\n",
    "- *Unit testing* makes sure that individual pieces of a project function as expected  \n",
    "- *Integration testing* makes sure that they work together as expected  \n",
    "- *Regression testing* makes sure that behavior is unchanged over time  \n",
    "\n",
    "\n",
    "In this lecture, we’ll focus on unit testing"
   ]
  },
  {
   "cell_type": "markdown",
   "metadata": {},
   "source": [
    "### The Test Module\n",
    "\n",
    "Julia provides testing features through a built-in package called Test, which we get by using Test\n",
    "\n",
    "The basic object is the macro @test"
   ]
  },
  {
   "cell_type": "code",
   "execution_count": 22,
   "metadata": {},
   "outputs": [
    {
     "data": {
      "text/plain": [
       "\u001b[32m\u001b[1mTest Passed\u001b[22m\u001b[39m"
      ]
     },
     "execution_count": 22,
     "metadata": {},
     "output_type": "execute_result"
    }
   ],
   "source": [
    "using Test\n",
    "@test 1 == 1\n",
    "@test 1 ≈ 1"
   ]
  },
  {
   "cell_type": "markdown",
   "metadata": {},
   "source": [
    "Tests will pass if the condition is true, or fail otherwise\n",
    "\n",
    "If a test is failing, we should *flag it and move on*"
   ]
  },
  {
   "cell_type": "code",
   "execution_count": 23,
   "metadata": {},
   "outputs": [
    {
     "data": {
      "text/plain": [
       "\u001b[33m\u001b[1mTest Broken\u001b[22m\u001b[39m\n",
       "  Expression: 1 == 2"
      ]
     },
     "execution_count": 23,
     "metadata": {},
     "output_type": "execute_result"
    }
   ],
   "source": [
    "@test_broken 1 == 2"
   ]
  },
  {
   "cell_type": "markdown",
   "metadata": {},
   "source": [
    "This way, we still have access to information about the test, instead of just deleting it or commenting it out\n",
    "\n",
    "There are other test macros, that check for things like error handling and type-stability. Advanced users can check the [Julia docs](https://docs.julialang.org/en/v1/stdlib/Test/)"
   ]
  },
  {
   "cell_type": "markdown",
   "metadata": {},
   "source": [
    "### Example\n",
    "\n",
    "Let’s add some unit tests for the foo() function we defined earlier. Our tests/runtests.jl file should look like this"
   ]
  },
  {
   "cell_type": "code",
   "execution_count": 24,
   "metadata": {},
   "outputs": [
    {
     "data": {
      "text/plain": [
       "\u001b[33m\u001b[1mTest Broken\u001b[22m\u001b[39m\n",
       "  Expression: foo(1, 0)"
      ]
     },
     "execution_count": 24,
     "metadata": {},
     "output_type": "execute_result"
    }
   ],
   "source": [
    "using ExamplePackage\n",
    "using Test\n",
    "\n",
    "@test foo() == 0.11388071406436832\n",
    "@test foo(1, 1.5) == 0.2731856314283442\n",
    "@test_broken foo(1, 0) # tells us this is broken"
   ]
  },
  {
   "cell_type": "markdown",
   "metadata": {},
   "source": [
    "And run it by running"
   ]
  },
  {
   "cell_type": "code",
   "execution_count": null,
   "metadata": {},
   "outputs": [],
   "source": [
    "] test"
   ]
  },
  {
   "cell_type": "markdown",
   "metadata": {},
   "source": [
    "from an activated REPL"
   ]
  },
  {
   "cell_type": "markdown",
   "metadata": {},
   "source": [
    "### Test Sets\n",
    "\n",
    "By default, the runtests.jl folder starts off with a @testset\n",
    "\n",
    "This is useful for organizing different batches of tests, but for now we can simply ignore it\n",
    "\n",
    "To learn more about test sets, see [the docs](https://docs.julialang.org/en/v1/stdlib/Test/index.html#Working-with-Test-Sets-1/)"
   ]
  },
  {
   "cell_type": "markdown",
   "metadata": {},
   "source": [
    "### Running Tests Locally\n",
    "\n",
    "There are a few different ways to run the tests for your package\n",
    "\n",
    "- From a fresh REPL, run pkg> test ExamplePackage  \n",
    "- From an activated REPL, simply run pkg> test (recall that you can activate with pkg> activate ExamplePackage)  \n",
    "- Hit shift-enter in Atom on the actual runtests.jl file (as below). Recall that we can get the path of the package by running using ExamplePackage; pathof(ExamplePackage) from an unactivated REPL  "
   ]
  },
  {
   "cell_type": "markdown",
   "metadata": {},
   "source": [
    "## Continuous Integration with Travis"
   ]
  },
  {
   "cell_type": "markdown",
   "metadata": {},
   "source": [
    "### Setup\n",
    "\n",
    "By default, Travis should have access to all your repositories and deploy automatically\n",
    "\n",
    "This includes private repos if you’re on a student developer pack or an academic plan (Travis detects this automatically)\n",
    "\n",
    "To change this, go to “settings” under your GitHub profile\n",
    "\n",
    "<img src=\"_static/figures/git-settings.png\" style=\"width:45%;height:45%\">\n",
    "  \n",
    "Click “Applications,” then “Travis CI,” then “Configure,” and choose the repos you want to be tracked"
   ]
  },
  {
   "cell_type": "markdown",
   "metadata": {},
   "source": [
    "### Build Options\n",
    "\n",
    "By default, Travis will run builds for new commits and PRs for every tracked repo with a .travis.yml file\n",
    "\n",
    "We can see ours by opening it in Atom"
   ]
  },
  {
   "cell_type": "code",
   "execution_count": null,
   "metadata": {},
   "outputs": [],
   "source": [
    "# Documentation: http://docs.travis-ci.com/user/languages/julia/\n",
    "language: julia\n",
    "os:\n",
    "- linux\n",
    "- osx\n",
    "julia:\n",
    "- 1.0\n",
    "- nightly\n",
    "matrix:\n",
    "allow_failures:\n",
    "    - julia: nightly\n",
    "fast_finish: true\n",
    "notifications:\n",
    "email: false\n",
    "after_success:\n",
    "- julia -e 'using Pkg; Pkg.add(\"Coverage\"); using Coverage; Codecov.submit(process_folder())'"
   ]
  },
  {
   "cell_type": "markdown",
   "metadata": {},
   "source": [
    "This is telling Travis to build the project in Julia, on OSX and Linux, using Julia v1.0 and the latest (“nightly”)\n",
    "\n",
    "It also says that if the nightly version doesn’t work, that shouldn’t register as a failure\n",
    "\n",
    "**Note** You won’t need OSX unless you’re building something Mac-specific, like iOS or Swift. You can delete those lines to speed up the build. Likewise for nightly Julia"
   ]
  },
  {
   "cell_type": "markdown",
   "metadata": {},
   "source": [
    "### Working with Builds\n",
    "\n",
    "As above, builds are triggered whenever we push changes or open a pull request\n",
    "\n",
    "For example, if we push our changes to the server and then click the Travis badge on the README, we should see something like\n",
    "\n",
    "<img src=\"_static/figures/travis-progress.png\" style=\"width:45%;height:45%\">\n",
    "\n",
    "  \n",
    "This gives us an overview of all the builds running for that commit\n",
    "\n",
    "To inspect a build more closely (say, if it fails), we can click on it and expand the log options\n",
    "\n",
    "<img src=\"_static/figures/travis-log.png\" style=\"width:45%;height:45%\">\n",
    "\n",
    "  \n",
    "Note that the build times here aren’t informative, because we can’t generally control the hardware to which our job is allocated\n",
    "\n",
    "We can also cancel specific jobs, either from their specific pages or by clicking the grey “x” button on the dashboard\n",
    "\n",
    "Lastly, we can trigger builds manually (without a new commit or PR) from the Travis overview\n",
    "\n",
    "<img src=\"_static/figures/travis-trigger.png\" style=\"width:45%;height:45%\">\n",
    "\n",
    "  \n",
    "To commit *without* triggering a build, simply add [ci skip] somewhere inside the commit message"
   ]
  },
  {
   "cell_type": "markdown",
   "metadata": {},
   "source": [
    "### Travis and Pull Requests\n",
    "\n",
    "One key feature of Travis is the ability to see at-a-glance whether PRs pass tests before merging them\n",
    "\n",
    "This happens automatically when Travis is enabled on a repository\n",
    "\n",
    "For an example of this feature, see [this PR](https://github.com/QuantEcon/Games.jl/pull/65/) in the Games.jl repository"
   ]
  },
  {
   "cell_type": "markdown",
   "metadata": {},
   "source": [
    "## CodeCoverage\n",
    "\n",
    "Beyond the success or failure of our test suite, we also want to know how much of our code the tests cover\n",
    "\n",
    "The tool we use to do this is called [CodeCov](http://codecov.io)"
   ]
  },
  {
   "cell_type": "markdown",
   "metadata": {},
   "source": [
    "### Setup\n",
    "\n",
    "You’ll find that codecov is automatically enabled for public repos with Travis\n",
    "\n",
    "For private ones, you’ll need to first get an access token\n",
    "\n",
    "Add private scope in the CodeCov website, just like we did for Travis\n",
    "\n",
    "Navigate to the repo settings page (i.e., https://codecov.io/gh/quanteconuser/ExamplePackage.jl/settings for our repo) and copy the token\n",
    "\n",
    "Next, go to your travis settings and add an environment variable as below\n",
    "\n",
    "<img src=\"_static/figures/travis-settings.png\" style=\"width:45%;height:45%\">"
   ]
  },
  {
   "cell_type": "markdown",
   "metadata": {},
   "source": [
    "### Interpreting Results\n",
    "\n",
    "Click the CodeCov badge to see the build page for your project\n",
    "\n",
    "This shows us that our tests cover 50 % of our functions in src//\n",
    "\n",
    "To get a more granular view, we can click the src// and the resultant filename\n",
    "\n",
    "<img src=\"_static/figures/codecov.png\" style=\"width:45%;height:45%\">\n",
    "\n",
    "  \n",
    "This shows us precisely which methods (and parts of methods) are untested"
   ]
  },
  {
   "cell_type": "markdown",
   "metadata": {},
   "source": [
    "## Benchmarking\n",
    "\n",
    "Another goal of testing is to make sure that code doesn’t slow down significantly from one version to the next\n",
    "\n",
    "We can do this using tools provided by the BenchmarkTools.jl package\n",
    "\n",
    "See the need for speed lecture for more details"
   ]
  },
  {
   "cell_type": "markdown",
   "metadata": {},
   "source": [
    "## Additional Notes\n",
    "\n",
    "- The [JuliaCI](https://github.com/JuliaCI/) organization provides more Julia utilities for continuous integration and testing  \n",
    "- This [Salesforce document](https://developer.salesforce.com/page/How_to_Write_Good_Unit_Tests/) has some good lessons about writing and testing code  "
   ]
  }
 ],
 "metadata": {
  "kernelspec": {
   "display_name": "Julia 1.0.1",
   "language": "julia",
   "name": "julia-1.0"
  },
  "language_info": {
   "file_extension": ".jl",
   "mimetype": "application/julia",
   "name": "julia",
   "version": "1.0.1"
  }
 },
 "nbformat": 4,
 "nbformat_minor": 2
}
